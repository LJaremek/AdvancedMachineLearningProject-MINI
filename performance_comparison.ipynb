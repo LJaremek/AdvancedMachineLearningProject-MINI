{
 "cells": [
  {
   "cell_type": "code",
   "execution_count": 1,
   "metadata": {},
   "outputs": [],
   "source": [
    "import pandas as pd\n",
    "import numpy as np\n",
    "from sklearn.preprocessing import StandardScaler\n",
    "from sklearn.model_selection import train_test_split\n",
    "from sklearn.metrics import balanced_accuracy_score\n",
    "from tqdm import tqdm\n",
    "from statistics import mean\n",
    "from sklearn.discriminant_analysis import LinearDiscriminantAnalysis, QuadraticDiscriminantAnalysis\n",
    "from sklearn.tree import DecisionTreeClassifier\n",
    "from sklearn.ensemble import RandomForestClassifier\n",
    "import matplotlib.pyplot as plt\n",
    "import seaborn as sns\n",
    "\n",
    "from data_readers import (\n",
    "    japanese_vowels,\n",
    "    water_quality,\n",
    "    ionosphere,\n",
    "    heart_attack,\n",
    "    banana_quality,\n",
    "    climate,\n",
    "    diabetes,\n",
    "    biodegradable,\n",
    "    plates\n",
    ")\n",
    "\n",
    "from classes import (\n",
    "    ADAMLogisticRegression,\n",
    "    IWLSLogisticRegression,\n",
    "    SGDLogisticRegression,\n",
    ")"
   ]
  },
  {
   "cell_type": "code",
   "execution_count": 2,
   "metadata": {},
   "outputs": [],
   "source": [
    "models = {\n",
    "    \"ADAM Logistic Regression\": ADAMLogisticRegression(\n",
    "        learning_rate=0.001,\n",
    "        iterations=500,\n",
    "        beta1=0.9,\n",
    "        beta2=0.999,\n",
    "        epsilon=1e-8,\n",
    "        include_interactions=False,\n",
    "    ),\n",
    "    \"SGD Logistic Regression\": SGDLogisticRegression(\n",
    "        learning_rate=0.01, iterations=500, include_interactions=False\n",
    "    ),\n",
    "    \"IWLS Logistic Regression\": IWLSLogisticRegression(\n",
    "        iterations=500, include_interactions=False\n",
    "    ),\n",
    "    \"LDA\": LinearDiscriminantAnalysis(),\n",
    "    \"QDA\": QuadraticDiscriminantAnalysis(),\n",
    "    \"Decision Tree\": DecisionTreeClassifier(),\n",
    "    \"Random Forest\": RandomForestClassifier()\n",
    "}\n",
    "\n",
    "datasets = {\n",
    "    \"Water Quality\": water_quality(),\n",
    "    \"Ionosphere\": ionosphere(),\n",
    "    \"Heart Attack\": heart_attack(),\n",
    "    \"Japanese Vowels\": japanese_vowels(),\n",
    "    \"Banana quality\": banana_quality(),\n",
    "    \"Climate\": climate(),\n",
    "    \"Diabetes\": diabetes(),\n",
    "    \"Biodegradable\": biodegradable(),\n",
    "    \"Plates\": plates()\n",
    "}"
   ]
  },
  {
   "cell_type": "code",
   "execution_count": 3,
   "metadata": {},
   "outputs": [
    {
     "name": "stdout",
     "output_type": "stream",
     "text": [
      "***Water Quality***\n",
      "\n",
      "\tADAM Logistic Regression\n"
     ]
    },
    {
     "name": "stderr",
     "output_type": "stream",
     "text": [
      "100%|████████████████████████████████████████████████████████████████████████████████████| 5/5 [00:00<00:00,  7.26it/s]\n"
     ]
    },
    {
     "name": "stdout",
     "output_type": "stream",
     "text": [
      "Balanced accuracy: 51.89%\n",
      "\n",
      "\n",
      "\tSGD Logistic Regression\n"
     ]
    },
    {
     "name": "stderr",
     "output_type": "stream",
     "text": [
      "\r",
      "  0%|                                                                                            | 0/5 [00:00<?, ?it/s]"
     ]
    },
    {
     "name": "stdout",
     "output_type": "stream",
     "text": [
      "Optimization converged after 4 iterations.\n"
     ]
    },
    {
     "name": "stderr",
     "output_type": "stream",
     "text": [
      "\r",
      " 40%|█████████████████████████████████▌                                                  | 2/5 [00:00<00:00, 10.31it/s]"
     ]
    },
    {
     "name": "stdout",
     "output_type": "stream",
     "text": [
      "Optimization converged after 4 iterations.\n",
      "Optimization converged after 4 iterations.\n"
     ]
    },
    {
     "name": "stderr",
     "output_type": "stream",
     "text": [
      "\r",
      " 80%|███████████████████████████████████████████████████████████████████▏                | 4/5 [00:00<00:00, 10.65it/s]"
     ]
    },
    {
     "name": "stdout",
     "output_type": "stream",
     "text": [
      "Optimization converged after 4 iterations.\n"
     ]
    },
    {
     "name": "stderr",
     "output_type": "stream",
     "text": [
      "100%|████████████████████████████████████████████████████████████████████████████████████| 5/5 [00:00<00:00, 10.47it/s]\n"
     ]
    },
    {
     "name": "stdout",
     "output_type": "stream",
     "text": [
      "Optimization converged after 4 iterations.\n",
      "Balanced accuracy: 50.66%\n",
      "\n",
      "\n",
      "\tIWLS Logistic Regression\n"
     ]
    },
    {
     "name": "stderr",
     "output_type": "stream",
     "text": [
      "\r",
      "  0%|                                                                                            | 0/5 [00:00<?, ?it/s]"
     ]
    },
    {
     "name": "stdout",
     "output_type": "stream",
     "text": [
      "Optimization converged after 4 iterations.\n"
     ]
    },
    {
     "name": "stderr",
     "output_type": "stream",
     "text": [
      "\r",
      " 20%|████████████████▊                                                                   | 1/5 [00:00<00:00,  9.95it/s]"
     ]
    },
    {
     "name": "stdout",
     "output_type": "stream",
     "text": [
      "Optimization converged after 4 iterations.\n"
     ]
    },
    {
     "name": "stderr",
     "output_type": "stream",
     "text": [
      "\r",
      " 60%|██████████████████████████████████████████████████▍                                 | 3/5 [00:00<00:00, 11.27it/s]"
     ]
    },
    {
     "name": "stdout",
     "output_type": "stream",
     "text": [
      "Optimization converged after 4 iterations.\n",
      "Optimization converged after 4 iterations.\n",
      "Optimization converged after 4 iterations.\n"
     ]
    },
    {
     "name": "stderr",
     "output_type": "stream",
     "text": [
      "100%|████████████████████████████████████████████████████████████████████████████████████| 5/5 [00:00<00:00, 11.16it/s]\n"
     ]
    },
    {
     "name": "stdout",
     "output_type": "stream",
     "text": [
      "Balanced accuracy: 50.46%\n",
      "\n",
      "\n",
      "\tLDA\n"
     ]
    },
    {
     "name": "stderr",
     "output_type": "stream",
     "text": [
      "100%|███████████████████████████████████████████████████████████████████████████████████| 5/5 [00:00<00:00, 225.60it/s]\n"
     ]
    },
    {
     "name": "stdout",
     "output_type": "stream",
     "text": [
      "Balanced accuracy: 50.98%\n",
      "\n",
      "\n",
      "\tQDA\n"
     ]
    },
    {
     "name": "stderr",
     "output_type": "stream",
     "text": [
      "100%|███████████████████████████████████████████████████████████████████████████████████| 5/5 [00:00<00:00, 319.72it/s]\n"
     ]
    },
    {
     "name": "stdout",
     "output_type": "stream",
     "text": [
      "Balanced accuracy: 59.86%\n",
      "\n",
      "\n",
      "\tDecision Tree\n"
     ]
    },
    {
     "name": "stderr",
     "output_type": "stream",
     "text": [
      "100%|████████████████████████████████████████████████████████████████████████████████████| 5/5 [00:00<00:00, 43.12it/s]\n"
     ]
    },
    {
     "name": "stdout",
     "output_type": "stream",
     "text": [
      "Balanced accuracy: 99.51%\n",
      "\n",
      "\n",
      "\tRandom Forest\n"
     ]
    },
    {
     "name": "stderr",
     "output_type": "stream",
     "text": [
      "100%|████████████████████████████████████████████████████████████████████████████████████| 5/5 [00:03<00:00,  1.57it/s]\n"
     ]
    },
    {
     "name": "stdout",
     "output_type": "stream",
     "text": [
      "Balanced accuracy: 84.74%\n",
      "\n",
      "\n",
      "{'Water Quality': {'ADAM Logistic Regression': [0.5226540504455345, 0.5163507773875521, 0.5188948498906423, 0.5269217711819196, 0.5099218750000001], 'SGD Logistic Regression': [0.5021093750000001, 0.5102440553139813, 0.5150166852057843, 0.5057065741276268, 0.4997294372294372], 'IWLS Logistic Regression': [0.502472231453229, 0.5108239924702661, 0.5136001769128704, 0.5029968268891761, 0.49307358468632545], 'LDA': [0.5134528929327209, 0.5156093481030508, 0.5081300813008129, 0.5097375507262867, 0.5020131682600196], 'QDA': [0.602542662950467, 0.5902831204800739, 0.5702660098522168, 0.6191623867864077, 0.6108239586500456], 'Decision Tree': [0.9911123963755543, 0.9967583807716636, 0.9948912198912199, 0.9937260302795551, 0.9987654320987654], 'Random Forest': [0.8612389023405973, 0.8170480549199084, 0.8403824543728446, 0.8594126189475293, 0.8588485060963733]}}\n",
      "***Ionosphere***\n",
      "\n",
      "\tADAM Logistic Regression\n"
     ]
    },
    {
     "name": "stderr",
     "output_type": "stream",
     "text": [
      "100%|████████████████████████████████████████████████████████████████████████████████████| 5/5 [00:00<00:00, 36.76it/s]\n"
     ]
    },
    {
     "name": "stdout",
     "output_type": "stream",
     "text": [
      "Balanced accuracy: 78.76%\n",
      "\n",
      "\n",
      "\tSGD Logistic Regression\n"
     ]
    },
    {
     "name": "stderr",
     "output_type": "stream",
     "text": [
      "100%|████████████████████████████████████████████████████████████████████████████████████| 5/5 [00:06<00:00,  1.23s/it]\n"
     ]
    },
    {
     "name": "stdout",
     "output_type": "stream",
     "text": [
      "Balanced accuracy: 68.15%\n",
      "\n",
      "\n",
      "\tIWLS Logistic Regression\n"
     ]
    },
    {
     "name": "stderr",
     "output_type": "stream",
     "text": [
      "100%|████████████████████████████████████████████████████████████████████████████████████| 5/5 [00:00<00:00, 62.50it/s]\n"
     ]
    },
    {
     "name": "stdout",
     "output_type": "stream",
     "text": [
      "Optimization converged after 10 iterations.\n",
      "Optimization converged after 23 iterations.\n",
      "Optimization converged after 24 iterations.\n",
      "Optimization converged after 9 iterations.\n",
      "Optimization converged after 22 iterations.\n",
      "Balanced accuracy: 72.21%\n",
      "\n",
      "\n",
      "\tLDA\n"
     ]
    },
    {
     "name": "stderr",
     "output_type": "stream",
     "text": [
      "100%|███████████████████████████████████████████████████████████████████████████████████| 5/5 [00:00<00:00, 294.04it/s]\n"
     ]
    },
    {
     "name": "stdout",
     "output_type": "stream",
     "text": [
      "Balanced accuracy: 69.28%\n",
      "\n",
      "\n",
      "\tQDA\n"
     ]
    },
    {
     "name": "stderr",
     "output_type": "stream",
     "text": [
      "  0%|                                                                                            | 0/5 [00:00<?, ?it/s]C:\\Users\\szymc\\AppData\\Local\\Packages\\PythonSoftwareFoundation.Python.3.9_qbz5n2kfra8p0\\LocalCache\\local-packages\\Python39\\site-packages\\sklearn\\discriminant_analysis.py:887: UserWarning: Variables are collinear\n",
      "  warnings.warn(\"Variables are collinear\")\n",
      "C:\\Users\\szymc\\AppData\\Local\\Packages\\PythonSoftwareFoundation.Python.3.9_qbz5n2kfra8p0\\LocalCache\\local-packages\\Python39\\site-packages\\sklearn\\discriminant_analysis.py:887: UserWarning: Variables are collinear\n",
      "  warnings.warn(\"Variables are collinear\")\n",
      "C:\\Users\\szymc\\AppData\\Local\\Packages\\PythonSoftwareFoundation.Python.3.9_qbz5n2kfra8p0\\LocalCache\\local-packages\\Python39\\site-packages\\sklearn\\discriminant_analysis.py:887: UserWarning: Variables are collinear\n",
      "  warnings.warn(\"Variables are collinear\")\n",
      "100%|███████████████████████████████████████████████████████████████████████████████████| 5/5 [00:00<00:00, 333.32it/s]\n"
     ]
    },
    {
     "name": "stdout",
     "output_type": "stream",
     "text": [
      "Balanced accuracy: 51.9%\n",
      "\n",
      "\n",
      "\tDecision Tree\n"
     ]
    },
    {
     "name": "stderr",
     "output_type": "stream",
     "text": [
      "100%|███████████████████████████████████████████████████████████████████████████████████| 5/5 [00:00<00:00, 333.68it/s]\n"
     ]
    },
    {
     "name": "stdout",
     "output_type": "stream",
     "text": [
      "Balanced accuracy: 62.52%\n",
      "\n",
      "\n",
      "\tRandom Forest\n"
     ]
    },
    {
     "name": "stderr",
     "output_type": "stream",
     "text": [
      "100%|████████████████████████████████████████████████████████████████████████████████████| 5/5 [00:00<00:00,  8.88it/s]\n"
     ]
    },
    {
     "name": "stdout",
     "output_type": "stream",
     "text": [
      "Balanced accuracy: 77.58%\n",
      "\n",
      "\n",
      "{'Water Quality': {'ADAM Logistic Regression': [0.5226540504455345, 0.5163507773875521, 0.5188948498906423, 0.5269217711819196, 0.5099218750000001], 'SGD Logistic Regression': [0.5021093750000001, 0.5102440553139813, 0.5150166852057843, 0.5057065741276268, 0.4997294372294372], 'IWLS Logistic Regression': [0.502472231453229, 0.5108239924702661, 0.5136001769128704, 0.5029968268891761, 0.49307358468632545], 'LDA': [0.5134528929327209, 0.5156093481030508, 0.5081300813008129, 0.5097375507262867, 0.5020131682600196], 'QDA': [0.602542662950467, 0.5902831204800739, 0.5702660098522168, 0.6191623867864077, 0.6108239586500456], 'Decision Tree': [0.9911123963755543, 0.9967583807716636, 0.9948912198912199, 0.9937260302795551, 0.9987654320987654], 'Random Forest': [0.8612389023405973, 0.8170480549199084, 0.8403824543728446, 0.8594126189475293, 0.8588485060963733]}, 'Ionosphere': {'ADAM Logistic Regression': [0.9621212121212122, 0.7344262295081967, 0.7038461538461538, 0.7728174603174602, 0.7648809523809523], 'SGD Logistic Regression': [0.8091397849462365, 0.71415770609319, 0.6944444444444444, 0.5725446428571428, 0.6172131147540983], 'IWLS Logistic Regression': [0.5959821428571428, 0.6424731182795699, 0.792622950819672, 0.803921568627451, 0.7754098360655737], 'LDA': [0.5696969696969697, 0.8102564102564103, 0.7918032786885245, 0.7688172043010753, 0.5232974910394265], 'QDA': [0.5, 0.5951492537313433, 0.5, 0.5, 0.5], 'Decision Tree': [0.5853174603174602, 0.6659604519774012, 0.5754098360655737, 0.7765151515151515, 0.5228174603174602], 'Random Forest': [0.75, 0.8045634920634921, 0.753584229390681, 0.7519893899204244, 0.8186274509803921]}}\n",
      "***Heart Attack***\n",
      "\n",
      "\tADAM Logistic Regression\n"
     ]
    },
    {
     "name": "stderr",
     "output_type": "stream",
     "text": [
      "100%|████████████████████████████████████████████████████████████████████████████████████| 5/5 [00:00<00:00, 34.48it/s]\n"
     ]
    },
    {
     "name": "stdout",
     "output_type": "stream",
     "text": [
      "Balanced accuracy: 84.16%\n",
      "\n",
      "\n",
      "\tSGD Logistic Regression\n"
     ]
    },
    {
     "name": "stderr",
     "output_type": "stream",
     "text": [
      " 40%|█████████████████████████████████▌                                                  | 2/5 [00:00<00:00, 12.58it/s]"
     ]
    },
    {
     "name": "stdout",
     "output_type": "stream",
     "text": [
      "Optimization converged after 37 iterations.\n",
      "Optimization converged after 35 iterations.\n",
      "Optimization converged after 48 iterations.\n"
     ]
    },
    {
     "name": "stderr",
     "output_type": "stream",
     "text": [
      "100%|████████████████████████████████████████████████████████████████████████████████████| 5/5 [00:00<00:00, 10.94it/s]"
     ]
    },
    {
     "name": "stdout",
     "output_type": "stream",
     "text": [
      "Optimization converged after 45 iterations.\n",
      "Optimization converged after 41 iterations.\n"
     ]
    },
    {
     "name": "stderr",
     "output_type": "stream",
     "text": [
      "\n"
     ]
    },
    {
     "name": "stdout",
     "output_type": "stream",
     "text": [
      "Balanced accuracy: 80.77%\n",
      "\n",
      "\n",
      "\tIWLS Logistic Regression\n"
     ]
    },
    {
     "name": "stderr",
     "output_type": "stream",
     "text": [
      "100%|███████████████████████████████████████████████████████████████████████████████████| 5/5 [00:00<00:00, 207.74it/s]\n"
     ]
    },
    {
     "name": "stdout",
     "output_type": "stream",
     "text": [
      "Optimization converged after 7 iterations.\n",
      "Optimization converged after 7 iterations.\n",
      "Optimization converged after 7 iterations.\n",
      "Optimization converged after 7 iterations.\n",
      "Optimization converged after 7 iterations.\n",
      "Balanced accuracy: 80.69%\n",
      "\n",
      "\n",
      "\tLDA\n"
     ]
    },
    {
     "name": "stderr",
     "output_type": "stream",
     "text": [
      "100%|███████████████████████████████████████████████████████████████████████████████████| 5/5 [00:00<00:00, 499.96it/s]\n"
     ]
    },
    {
     "name": "stdout",
     "output_type": "stream",
     "text": [
      "Balanced accuracy: 82.35%\n",
      "\n",
      "\n",
      "\tQDA\n"
     ]
    },
    {
     "name": "stderr",
     "output_type": "stream",
     "text": [
      "100%|███████████████████████████████████████████████████████████████████████████████████| 5/5 [00:00<00:00, 712.59it/s]\n"
     ]
    },
    {
     "name": "stdout",
     "output_type": "stream",
     "text": [
      "Balanced accuracy: 79.1%\n",
      "\n",
      "\n",
      "\tDecision Tree\n"
     ]
    },
    {
     "name": "stderr",
     "output_type": "stream",
     "text": [
      "100%|███████████████████████████████████████████████████████████████████████████████████| 5/5 [00:00<00:00, 623.37it/s]\n"
     ]
    },
    {
     "name": "stdout",
     "output_type": "stream",
     "text": [
      "Balanced accuracy: 71.64%\n",
      "\n",
      "\n",
      "\tRandom Forest\n"
     ]
    },
    {
     "name": "stderr",
     "output_type": "stream",
     "text": [
      "100%|████████████████████████████████████████████████████████████████████████████████████| 5/5 [00:00<00:00, 10.42it/s]\n"
     ]
    },
    {
     "name": "stdout",
     "output_type": "stream",
     "text": [
      "Balanced accuracy: 79.5%\n",
      "\n",
      "\n",
      "{'Water Quality': {'ADAM Logistic Regression': [0.5226540504455345, 0.5163507773875521, 0.5188948498906423, 0.5269217711819196, 0.5099218750000001], 'SGD Logistic Regression': [0.5021093750000001, 0.5102440553139813, 0.5150166852057843, 0.5057065741276268, 0.4997294372294372], 'IWLS Logistic Regression': [0.502472231453229, 0.5108239924702661, 0.5136001769128704, 0.5029968268891761, 0.49307358468632545], 'LDA': [0.5134528929327209, 0.5156093481030508, 0.5081300813008129, 0.5097375507262867, 0.5020131682600196], 'QDA': [0.602542662950467, 0.5902831204800739, 0.5702660098522168, 0.6191623867864077, 0.6108239586500456], 'Decision Tree': [0.9911123963755543, 0.9967583807716636, 0.9948912198912199, 0.9937260302795551, 0.9987654320987654], 'Random Forest': [0.8612389023405973, 0.8170480549199084, 0.8403824543728446, 0.8594126189475293, 0.8588485060963733]}, 'Ionosphere': {'ADAM Logistic Regression': [0.9621212121212122, 0.7344262295081967, 0.7038461538461538, 0.7728174603174602, 0.7648809523809523], 'SGD Logistic Regression': [0.8091397849462365, 0.71415770609319, 0.6944444444444444, 0.5725446428571428, 0.6172131147540983], 'IWLS Logistic Regression': [0.5959821428571428, 0.6424731182795699, 0.792622950819672, 0.803921568627451, 0.7754098360655737], 'LDA': [0.5696969696969697, 0.8102564102564103, 0.7918032786885245, 0.7688172043010753, 0.5232974910394265], 'QDA': [0.5, 0.5951492537313433, 0.5, 0.5, 0.5], 'Decision Tree': [0.5853174603174602, 0.6659604519774012, 0.5754098360655737, 0.7765151515151515, 0.5228174603174602], 'Random Forest': [0.75, 0.8045634920634921, 0.753584229390681, 0.7519893899204244, 0.8186274509803921]}, 'Heart Attack': {'ADAM Logistic Regression': [0.8583333333333334, 0.8169336384439359, 0.8677419354838709, 0.7994505494505495, 0.865301724137931], 'SGD Logistic Regression': [0.7938311688311688, 0.7854838709677419, 0.8472222222222222, 0.8338709677419355, 0.778322440087146], 'IWLS Logistic Regression': [0.8772522522522522, 0.8545258620689655, 0.7354525862068966, 0.7811111111111111, 0.7860215053763441], 'LDA': [0.7939560439560439, 0.8349462365591398, 0.8338709677419355, 0.8370967741935484, 0.8175824175824176], 'QDA': [0.8170995670995671, 0.7699353448275862, 0.7636165577342048, 0.7627777777777778, 0.8417792792792793], 'Decision Tree': [0.7230603448275862, 0.7056277056277056, 0.7117117117117118, 0.7047930283224402, 0.7365591397849462], 'Random Forest': [0.7456709956709957, 0.828021978021978, 0.8044662309368191, 0.8074324324324325, 0.7895604395604396]}}\n",
      "***Japanese Vowels***\n",
      "\n",
      "\tADAM Logistic Regression\n"
     ]
    },
    {
     "name": "stderr",
     "output_type": "stream",
     "text": [
      "100%|████████████████████████████████████████████████████████████████████████████████████| 5/5 [00:01<00:00,  4.47it/s]\n"
     ]
    },
    {
     "name": "stdout",
     "output_type": "stream",
     "text": [
      "Balanced accuracy: 91.85%\n",
      "\n",
      "\n",
      "\tSGD Logistic Regression\n"
     ]
    },
    {
     "name": "stderr",
     "output_type": "stream",
     "text": [
      " 20%|████████████████▊                                                                   | 1/5 [00:06<00:25,  6.30s/it]"
     ]
    },
    {
     "name": "stdout",
     "output_type": "stream",
     "text": [
      "Optimization converged after 97 iterations.\n"
     ]
    },
    {
     "name": "stderr",
     "output_type": "stream",
     "text": [
      "\r",
      " 40%|█████████████████████████████████▌                                                  | 2/5 [00:15<00:24,  8.15s/it]"
     ]
    },
    {
     "name": "stdout",
     "output_type": "stream",
     "text": [
      "Optimization converged after 145 iterations.\n"
     ]
    },
    {
     "name": "stderr",
     "output_type": "stream",
     "text": [
      "\r",
      " 60%|██████████████████████████████████████████████████▍                                 | 3/5 [00:21<00:13,  6.94s/it]"
     ]
    },
    {
     "name": "stdout",
     "output_type": "stream",
     "text": [
      "Optimization converged after 84 iterations.\n"
     ]
    },
    {
     "name": "stderr",
     "output_type": "stream",
     "text": [
      "\r",
      " 80%|███████████████████████████████████████████████████████████████████▏                | 4/5 [00:30<00:08,  8.05s/it]"
     ]
    },
    {
     "name": "stdout",
     "output_type": "stream",
     "text": [
      "Optimization converged after 149 iterations.\n"
     ]
    },
    {
     "name": "stderr",
     "output_type": "stream",
     "text": [
      "100%|████████████████████████████████████████████████████████████████████████████████████| 5/5 [00:39<00:00,  7.92s/it]\n"
     ]
    },
    {
     "name": "stdout",
     "output_type": "stream",
     "text": [
      "Optimization converged after 132 iterations.\n",
      "Balanced accuracy: 93.34%\n",
      "\n",
      "\n",
      "\tIWLS Logistic Regression\n"
     ]
    },
    {
     "name": "stderr",
     "output_type": "stream",
     "text": [
      " 20%|████████████████▊                                                                   | 1/5 [00:01<00:06,  1.68s/it]"
     ]
    },
    {
     "name": "stdout",
     "output_type": "stream",
     "text": [
      "Optimization converged after 10 iterations.\n"
     ]
    },
    {
     "name": "stderr",
     "output_type": "stream",
     "text": [
      "\r",
      " 40%|█████████████████████████████████▌                                                  | 2/5 [00:03<00:05,  1.70s/it]"
     ]
    },
    {
     "name": "stdout",
     "output_type": "stream",
     "text": [
      "Optimization converged after 10 iterations.\n"
     ]
    },
    {
     "name": "stderr",
     "output_type": "stream",
     "text": [
      "\r",
      " 60%|██████████████████████████████████████████████████▍                                 | 3/5 [00:05<00:03,  1.72s/it]"
     ]
    },
    {
     "name": "stdout",
     "output_type": "stream",
     "text": [
      "Optimization converged after 10 iterations.\n"
     ]
    },
    {
     "name": "stderr",
     "output_type": "stream",
     "text": [
      "\r",
      " 80%|███████████████████████████████████████████████████████████████████▏                | 4/5 [00:06<00:01,  1.72s/it]"
     ]
    },
    {
     "name": "stdout",
     "output_type": "stream",
     "text": [
      "Optimization converged after 10 iterations.\n"
     ]
    },
    {
     "name": "stderr",
     "output_type": "stream",
     "text": [
      "100%|████████████████████████████████████████████████████████████████████████████████████| 5/5 [00:08<00:00,  1.73s/it]\n"
     ]
    },
    {
     "name": "stdout",
     "output_type": "stream",
     "text": [
      "Optimization converged after 10 iterations.\n",
      "Balanced accuracy: 92.39%\n",
      "\n",
      "\n",
      "\tLDA\n"
     ]
    },
    {
     "name": "stderr",
     "output_type": "stream",
     "text": [
      "100%|████████████████████████████████████████████████████████████████████████████████████| 5/5 [00:00<00:00, 59.02it/s]\n"
     ]
    },
    {
     "name": "stdout",
     "output_type": "stream",
     "text": [
      "Balanced accuracy: 88.6%\n",
      "\n",
      "\n",
      "\tQDA\n"
     ]
    },
    {
     "name": "stderr",
     "output_type": "stream",
     "text": [
      "100%|████████████████████████████████████████████████████████████████████████████████████| 5/5 [00:00<00:00, 80.00it/s]\n"
     ]
    },
    {
     "name": "stdout",
     "output_type": "stream",
     "text": [
      "Balanced accuracy: 96.51%\n",
      "\n",
      "\n",
      "\tDecision Tree\n"
     ]
    },
    {
     "name": "stderr",
     "output_type": "stream",
     "text": [
      "100%|████████████████████████████████████████████████████████████████████████████████████| 5/5 [00:00<00:00, 13.06it/s]\n"
     ]
    },
    {
     "name": "stdout",
     "output_type": "stream",
     "text": [
      "Balanced accuracy: 94.91%\n",
      "\n",
      "\n",
      "\tRandom Forest\n"
     ]
    },
    {
     "name": "stderr",
     "output_type": "stream",
     "text": [
      "100%|████████████████████████████████████████████████████████████████████████████████████| 5/5 [00:05<00:00,  1.04s/it]\n"
     ]
    },
    {
     "name": "stdout",
     "output_type": "stream",
     "text": [
      "Balanced accuracy: 97.01%\n",
      "\n",
      "\n",
      "{'Water Quality': {'ADAM Logistic Regression': [0.5226540504455345, 0.5163507773875521, 0.5188948498906423, 0.5269217711819196, 0.5099218750000001], 'SGD Logistic Regression': [0.5021093750000001, 0.5102440553139813, 0.5150166852057843, 0.5057065741276268, 0.4997294372294372], 'IWLS Logistic Regression': [0.502472231453229, 0.5108239924702661, 0.5136001769128704, 0.5029968268891761, 0.49307358468632545], 'LDA': [0.5134528929327209, 0.5156093481030508, 0.5081300813008129, 0.5097375507262867, 0.5020131682600196], 'QDA': [0.602542662950467, 0.5902831204800739, 0.5702660098522168, 0.6191623867864077, 0.6108239586500456], 'Decision Tree': [0.9911123963755543, 0.9967583807716636, 0.9948912198912199, 0.9937260302795551, 0.9987654320987654], 'Random Forest': [0.8612389023405973, 0.8170480549199084, 0.8403824543728446, 0.8594126189475293, 0.8588485060963733]}, 'Ionosphere': {'ADAM Logistic Regression': [0.9621212121212122, 0.7344262295081967, 0.7038461538461538, 0.7728174603174602, 0.7648809523809523], 'SGD Logistic Regression': [0.8091397849462365, 0.71415770609319, 0.6944444444444444, 0.5725446428571428, 0.6172131147540983], 'IWLS Logistic Regression': [0.5959821428571428, 0.6424731182795699, 0.792622950819672, 0.803921568627451, 0.7754098360655737], 'LDA': [0.5696969696969697, 0.8102564102564103, 0.7918032786885245, 0.7688172043010753, 0.5232974910394265], 'QDA': [0.5, 0.5951492537313433, 0.5, 0.5, 0.5], 'Decision Tree': [0.5853174603174602, 0.6659604519774012, 0.5754098360655737, 0.7765151515151515, 0.5228174603174602], 'Random Forest': [0.75, 0.8045634920634921, 0.753584229390681, 0.7519893899204244, 0.8186274509803921]}, 'Heart Attack': {'ADAM Logistic Regression': [0.8583333333333334, 0.8169336384439359, 0.8677419354838709, 0.7994505494505495, 0.865301724137931], 'SGD Logistic Regression': [0.7938311688311688, 0.7854838709677419, 0.8472222222222222, 0.8338709677419355, 0.778322440087146], 'IWLS Logistic Regression': [0.8772522522522522, 0.8545258620689655, 0.7354525862068966, 0.7811111111111111, 0.7860215053763441], 'LDA': [0.7939560439560439, 0.8349462365591398, 0.8338709677419355, 0.8370967741935484, 0.8175824175824176], 'QDA': [0.8170995670995671, 0.7699353448275862, 0.7636165577342048, 0.7627777777777778, 0.8417792792792793], 'Decision Tree': [0.7230603448275862, 0.7056277056277056, 0.7117117117117118, 0.7047930283224402, 0.7365591397849462], 'Random Forest': [0.7456709956709957, 0.828021978021978, 0.8044662309368191, 0.8074324324324325, 0.7895604395604396]}, 'Japanese Vowels': {'ADAM Logistic Regression': [0.921868539920634, 0.913480605256334, 0.9145078015045353, 0.9248159086434338, 0.9178133364281933], 'SGD Logistic Regression': [0.9178372500721212, 0.9354275066164953, 0.9452363949315169, 0.9418692756849649, 0.9266469291642971], 'IWLS Logistic Regression': [0.9221104231166151, 0.9165137811224331, 0.9212521606545745, 0.9338734584039208, 0.9258050462542408], 'LDA': [0.8967401009493614, 0.8959438173714951, 0.8607424135045425, 0.8852034589769517, 0.8913387799144475], 'QDA': [0.969244174190319, 0.9551710592493878, 0.9696098505810736, 0.9696439670577267, 0.961906944506551], 'Decision Tree': [0.9405707853264468, 0.960017633641922, 0.9551956837687849, 0.9485706015052604, 0.9412808177991582], 'Random Forest': [0.9843984099139457, 0.9715260041243354, 0.9617850735759523, 0.9717927580128146, 0.9611445866386579]}}\n",
      "***Banana quality***\n",
      "\n",
      "\tADAM Logistic Regression\n"
     ]
    },
    {
     "name": "stderr",
     "output_type": "stream",
     "text": [
      "100%|████████████████████████████████████████████████████████████████████████████████████| 5/5 [00:00<00:00,  5.20it/s]\n"
     ]
    },
    {
     "name": "stdout",
     "output_type": "stream",
     "text": [
      "Balanced accuracy: 87.13%\n",
      "\n",
      "\n",
      "\tSGD Logistic Regression\n"
     ]
    },
    {
     "name": "stderr",
     "output_type": "stream",
     "text": [
      " 20%|████████████████▊                                                                   | 1/5 [00:00<00:02,  1.75it/s]"
     ]
    },
    {
     "name": "stdout",
     "output_type": "stream",
     "text": [
      "Optimization converged after 11 iterations.\n"
     ]
    },
    {
     "name": "stderr",
     "output_type": "stream",
     "text": [
      "\r",
      " 40%|█████████████████████████████████▌                                                  | 2/5 [00:01<00:01,  1.65it/s]"
     ]
    },
    {
     "name": "stdout",
     "output_type": "stream",
     "text": [
      "Optimization converged after 12 iterations.\n"
     ]
    },
    {
     "name": "stderr",
     "output_type": "stream",
     "text": [
      "\r",
      " 60%|██████████████████████████████████████████████████▍                                 | 3/5 [00:01<00:01,  1.67it/s]"
     ]
    },
    {
     "name": "stdout",
     "output_type": "stream",
     "text": [
      "Optimization converged after 11 iterations.\n"
     ]
    },
    {
     "name": "stderr",
     "output_type": "stream",
     "text": [
      "\r",
      " 80%|███████████████████████████████████████████████████████████████████▏                | 4/5 [00:02<00:00,  1.69it/s]"
     ]
    },
    {
     "name": "stdout",
     "output_type": "stream",
     "text": [
      "Optimization converged after 11 iterations.\n"
     ]
    },
    {
     "name": "stderr",
     "output_type": "stream",
     "text": [
      "100%|████████████████████████████████████████████████████████████████████████████████████| 5/5 [00:02<00:00,  1.69it/s]\n"
     ]
    },
    {
     "name": "stdout",
     "output_type": "stream",
     "text": [
      "Optimization converged after 11 iterations.\n",
      "Balanced accuracy: 87.55%\n",
      "\n",
      "\n",
      "\tIWLS Logistic Regression\n"
     ]
    },
    {
     "name": "stderr",
     "output_type": "stream",
     "text": [
      " 20%|████████████████▊                                                                   | 1/5 [00:00<00:03,  1.16it/s]"
     ]
    },
    {
     "name": "stdout",
     "output_type": "stream",
     "text": [
      "Optimization converged after 8 iterations.\n"
     ]
    },
    {
     "name": "stderr",
     "output_type": "stream",
     "text": [
      "\r",
      " 40%|█████████████████████████████████▌                                                  | 2/5 [00:01<00:02,  1.15it/s]"
     ]
    },
    {
     "name": "stdout",
     "output_type": "stream",
     "text": [
      "Optimization converged after 8 iterations.\n"
     ]
    },
    {
     "name": "stderr",
     "output_type": "stream",
     "text": [
      "\r",
      " 60%|██████████████████████████████████████████████████▍                                 | 3/5 [00:02<00:01,  1.15it/s]"
     ]
    },
    {
     "name": "stdout",
     "output_type": "stream",
     "text": [
      "Optimization converged after 8 iterations.\n"
     ]
    },
    {
     "name": "stderr",
     "output_type": "stream",
     "text": [
      "\r",
      " 80%|███████████████████████████████████████████████████████████████████▏                | 4/5 [00:03<00:00,  1.14it/s]"
     ]
    },
    {
     "name": "stdout",
     "output_type": "stream",
     "text": [
      "Optimization converged after 8 iterations.\n"
     ]
    },
    {
     "name": "stderr",
     "output_type": "stream",
     "text": [
      "100%|████████████████████████████████████████████████████████████████████████████████████| 5/5 [00:04<00:00,  1.14it/s]\n"
     ]
    },
    {
     "name": "stdout",
     "output_type": "stream",
     "text": [
      "Optimization converged after 8 iterations.\n",
      "Balanced accuracy: 87.82%\n",
      "\n",
      "\n",
      "\tLDA\n"
     ]
    },
    {
     "name": "stderr",
     "output_type": "stream",
     "text": [
      "100%|████████████████████████████████████████████████████████████████████████████████████| 5/5 [00:00<00:00, 89.29it/s]\n"
     ]
    },
    {
     "name": "stdout",
     "output_type": "stream",
     "text": [
      "Balanced accuracy: 87.69%\n",
      "\n",
      "\n",
      "\tQDA\n"
     ]
    },
    {
     "name": "stderr",
     "output_type": "stream",
     "text": [
      "100%|███████████████████████████████████████████████████████████████████████████████████| 5/5 [00:00<00:00, 172.43it/s]\n"
     ]
    },
    {
     "name": "stdout",
     "output_type": "stream",
     "text": [
      "Balanced accuracy: 92.24%\n",
      "\n",
      "\n",
      "\tDecision Tree\n"
     ]
    },
    {
     "name": "stderr",
     "output_type": "stream",
     "text": [
      "100%|████████████████████████████████████████████████████████████████████████████████████| 5/5 [00:00<00:00, 22.53it/s]\n"
     ]
    },
    {
     "name": "stdout",
     "output_type": "stream",
     "text": [
      "Balanced accuracy: 93.88%\n",
      "\n",
      "\n",
      "\tRandom Forest\n"
     ]
    },
    {
     "name": "stderr",
     "output_type": "stream",
     "text": [
      "100%|████████████████████████████████████████████████████████████████████████████████████| 5/5 [00:04<00:00,  1.20it/s]\n"
     ]
    },
    {
     "name": "stdout",
     "output_type": "stream",
     "text": [
      "Balanced accuracy: 97.05%\n",
      "\n",
      "\n",
      "{'Water Quality': {'ADAM Logistic Regression': [0.5226540504455345, 0.5163507773875521, 0.5188948498906423, 0.5269217711819196, 0.5099218750000001], 'SGD Logistic Regression': [0.5021093750000001, 0.5102440553139813, 0.5150166852057843, 0.5057065741276268, 0.4997294372294372], 'IWLS Logistic Regression': [0.502472231453229, 0.5108239924702661, 0.5136001769128704, 0.5029968268891761, 0.49307358468632545], 'LDA': [0.5134528929327209, 0.5156093481030508, 0.5081300813008129, 0.5097375507262867, 0.5020131682600196], 'QDA': [0.602542662950467, 0.5902831204800739, 0.5702660098522168, 0.6191623867864077, 0.6108239586500456], 'Decision Tree': [0.9911123963755543, 0.9967583807716636, 0.9948912198912199, 0.9937260302795551, 0.9987654320987654], 'Random Forest': [0.8612389023405973, 0.8170480549199084, 0.8403824543728446, 0.8594126189475293, 0.8588485060963733]}, 'Ionosphere': {'ADAM Logistic Regression': [0.9621212121212122, 0.7344262295081967, 0.7038461538461538, 0.7728174603174602, 0.7648809523809523], 'SGD Logistic Regression': [0.8091397849462365, 0.71415770609319, 0.6944444444444444, 0.5725446428571428, 0.6172131147540983], 'IWLS Logistic Regression': [0.5959821428571428, 0.6424731182795699, 0.792622950819672, 0.803921568627451, 0.7754098360655737], 'LDA': [0.5696969696969697, 0.8102564102564103, 0.7918032786885245, 0.7688172043010753, 0.5232974910394265], 'QDA': [0.5, 0.5951492537313433, 0.5, 0.5, 0.5], 'Decision Tree': [0.5853174603174602, 0.6659604519774012, 0.5754098360655737, 0.7765151515151515, 0.5228174603174602], 'Random Forest': [0.75, 0.8045634920634921, 0.753584229390681, 0.7519893899204244, 0.8186274509803921]}, 'Heart Attack': {'ADAM Logistic Regression': [0.8583333333333334, 0.8169336384439359, 0.8677419354838709, 0.7994505494505495, 0.865301724137931], 'SGD Logistic Regression': [0.7938311688311688, 0.7854838709677419, 0.8472222222222222, 0.8338709677419355, 0.778322440087146], 'IWLS Logistic Regression': [0.8772522522522522, 0.8545258620689655, 0.7354525862068966, 0.7811111111111111, 0.7860215053763441], 'LDA': [0.7939560439560439, 0.8349462365591398, 0.8338709677419355, 0.8370967741935484, 0.8175824175824176], 'QDA': [0.8170995670995671, 0.7699353448275862, 0.7636165577342048, 0.7627777777777778, 0.8417792792792793], 'Decision Tree': [0.7230603448275862, 0.7056277056277056, 0.7117117117117118, 0.7047930283224402, 0.7365591397849462], 'Random Forest': [0.7456709956709957, 0.828021978021978, 0.8044662309368191, 0.8074324324324325, 0.7895604395604396]}, 'Japanese Vowels': {'ADAM Logistic Regression': [0.921868539920634, 0.913480605256334, 0.9145078015045353, 0.9248159086434338, 0.9178133364281933], 'SGD Logistic Regression': [0.9178372500721212, 0.9354275066164953, 0.9452363949315169, 0.9418692756849649, 0.9266469291642971], 'IWLS Logistic Regression': [0.9221104231166151, 0.9165137811224331, 0.9212521606545745, 0.9338734584039208, 0.9258050462542408], 'LDA': [0.8967401009493614, 0.8959438173714951, 0.8607424135045425, 0.8852034589769517, 0.8913387799144475], 'QDA': [0.969244174190319, 0.9551710592493878, 0.9696098505810736, 0.9696439670577267, 0.961906944506551], 'Decision Tree': [0.9405707853264468, 0.960017633641922, 0.9551956837687849, 0.9485706015052604, 0.9412808177991582], 'Random Forest': [0.9843984099139457, 0.9715260041243354, 0.9617850735759523, 0.9717927580128146, 0.9611445866386579]}, 'Banana quality': {'ADAM Logistic Regression': [0.8781396533432084, 0.8817008797653959, 0.8674407043565806, 0.8697994799479948, 0.859191669050824], 'SGD Logistic Regression': [0.8906090081643814, 0.8746114936924858, 0.8725397053584264, 0.8713057718481572, 0.8686349366091646], 'IWLS Logistic Regression': [0.8737763052353262, 0.8742784086730231, 0.8780826499497523, 0.8824888788888732, 0.8823353279369065], 'LDA': [0.8918447701073937, 0.8765530244403483, 0.8730685568556855, 0.8776502650265026, 0.8655637605842523], 'QDA': [0.9192724613037934, 0.9274989804544127, 0.9206027897267306, 0.9152281264508504, 0.9293092670729801], 'Decision Tree': [0.9337433358958493, 0.941209563994374, 0.9388963648213355, 0.9425077226683167, 0.9375288097191297], 'Random Forest': [0.9719590016738795, 0.9692537509438918, 0.9712562050878204, 0.9675450489545265, 0.9724999999999999]}}\n",
      "***Climate***\n",
      "\n",
      "\tADAM Logistic Regression\n"
     ]
    },
    {
     "name": "stderr",
     "output_type": "stream",
     "text": [
      "100%|████████████████████████████████████████████████████████████████████████████████████| 5/5 [00:00<00:00, 33.43it/s]\n"
     ]
    },
    {
     "name": "stdout",
     "output_type": "stream",
     "text": [
      "Balanced accuracy: 75.83%\n",
      "\n",
      "\n",
      "\tSGD Logistic Regression\n"
     ]
    },
    {
     "name": "stderr",
     "output_type": "stream",
     "text": [
      " 20%|████████████████▊                                                                   | 1/5 [00:00<00:02,  1.77it/s]"
     ]
    },
    {
     "name": "stdout",
     "output_type": "stream",
     "text": [
      "Optimization converged after 159 iterations.\n"
     ]
    },
    {
     "name": "stderr",
     "output_type": "stream",
     "text": [
      "\r",
      " 40%|█████████████████████████████████▌                                                  | 2/5 [00:01<00:01,  1.70it/s]"
     ]
    },
    {
     "name": "stdout",
     "output_type": "stream",
     "text": [
      "Optimization converged after 169 iterations.\n"
     ]
    },
    {
     "name": "stderr",
     "output_type": "stream",
     "text": [
      "\r",
      " 60%|██████████████████████████████████████████████████▍                                 | 3/5 [00:01<00:01,  1.80it/s]"
     ]
    },
    {
     "name": "stdout",
     "output_type": "stream",
     "text": [
      "Optimization converged after 143 iterations.\n"
     ]
    },
    {
     "name": "stderr",
     "output_type": "stream",
     "text": [
      "\r",
      " 80%|███████████████████████████████████████████████████████████████████▏                | 4/5 [00:02<00:00,  1.96it/s]"
     ]
    },
    {
     "name": "stdout",
     "output_type": "stream",
     "text": [
      "Optimization converged after 122 iterations.\n"
     ]
    },
    {
     "name": "stderr",
     "output_type": "stream",
     "text": [
      "100%|████████████████████████████████████████████████████████████████████████████████████| 5/5 [00:02<00:00,  1.94it/s]\n"
     ]
    },
    {
     "name": "stdout",
     "output_type": "stream",
     "text": [
      "Optimization converged after 124 iterations.\n",
      "Balanced accuracy: 60.27%\n",
      "\n",
      "\n",
      "\tIWLS Logistic Regression\n"
     ]
    },
    {
     "name": "stderr",
     "output_type": "stream",
     "text": [
      "100%|███████████████████████████████████████████████████████████████████████████████████| 5/5 [00:00<00:00, 119.08it/s]\n"
     ]
    },
    {
     "name": "stdout",
     "output_type": "stream",
     "text": [
      "Optimization converged after 8 iterations.\n",
      "Optimization converged after 8 iterations.\n",
      "Optimization converged after 8 iterations.\n",
      "Optimization converged after 8 iterations.\n",
      "Optimization converged after 8 iterations.\n",
      "Balanced accuracy: 61.95%\n",
      "\n",
      "\n",
      "\tLDA\n"
     ]
    },
    {
     "name": "stderr",
     "output_type": "stream",
     "text": [
      "100%|███████████████████████████████████████████████████████████████████████████████████| 5/5 [00:00<00:00, 384.19it/s]\n"
     ]
    },
    {
     "name": "stdout",
     "output_type": "stream",
     "text": [
      "Balanced accuracy: 58.24%\n",
      "\n",
      "\n",
      "\tQDA\n"
     ]
    },
    {
     "name": "stderr",
     "output_type": "stream",
     "text": [
      "100%|███████████████████████████████████████████████████████████████████████████████████| 5/5 [00:00<00:00, 500.20it/s]\n"
     ]
    },
    {
     "name": "stdout",
     "output_type": "stream",
     "text": [
      "Balanced accuracy: 58.68%\n",
      "\n",
      "\n",
      "\tDecision Tree\n"
     ]
    },
    {
     "name": "stderr",
     "output_type": "stream",
     "text": [
      "100%|███████████████████████████████████████████████████████████████████████████████████| 5/5 [00:00<00:00, 263.10it/s]\n"
     ]
    },
    {
     "name": "stdout",
     "output_type": "stream",
     "text": [
      "Balanced accuracy: 55.55%\n",
      "\n",
      "\n",
      "\tRandom Forest\n"
     ]
    },
    {
     "name": "stderr",
     "output_type": "stream",
     "text": [
      "100%|████████████████████████████████████████████████████████████████████████████████████| 5/5 [00:00<00:00,  7.21it/s]\n"
     ]
    },
    {
     "name": "stdout",
     "output_type": "stream",
     "text": [
      "Balanced accuracy: 49.9%\n",
      "\n",
      "\n",
      "{'Water Quality': {'ADAM Logistic Regression': [0.5226540504455345, 0.5163507773875521, 0.5188948498906423, 0.5269217711819196, 0.5099218750000001], 'SGD Logistic Regression': [0.5021093750000001, 0.5102440553139813, 0.5150166852057843, 0.5057065741276268, 0.4997294372294372], 'IWLS Logistic Regression': [0.502472231453229, 0.5108239924702661, 0.5136001769128704, 0.5029968268891761, 0.49307358468632545], 'LDA': [0.5134528929327209, 0.5156093481030508, 0.5081300813008129, 0.5097375507262867, 0.5020131682600196], 'QDA': [0.602542662950467, 0.5902831204800739, 0.5702660098522168, 0.6191623867864077, 0.6108239586500456], 'Decision Tree': [0.9911123963755543, 0.9967583807716636, 0.9948912198912199, 0.9937260302795551, 0.9987654320987654], 'Random Forest': [0.8612389023405973, 0.8170480549199084, 0.8403824543728446, 0.8594126189475293, 0.8588485060963733]}, 'Ionosphere': {'ADAM Logistic Regression': [0.9621212121212122, 0.7344262295081967, 0.7038461538461538, 0.7728174603174602, 0.7648809523809523], 'SGD Logistic Regression': [0.8091397849462365, 0.71415770609319, 0.6944444444444444, 0.5725446428571428, 0.6172131147540983], 'IWLS Logistic Regression': [0.5959821428571428, 0.6424731182795699, 0.792622950819672, 0.803921568627451, 0.7754098360655737], 'LDA': [0.5696969696969697, 0.8102564102564103, 0.7918032786885245, 0.7688172043010753, 0.5232974910394265], 'QDA': [0.5, 0.5951492537313433, 0.5, 0.5, 0.5], 'Decision Tree': [0.5853174603174602, 0.6659604519774012, 0.5754098360655737, 0.7765151515151515, 0.5228174603174602], 'Random Forest': [0.75, 0.8045634920634921, 0.753584229390681, 0.7519893899204244, 0.8186274509803921]}, 'Heart Attack': {'ADAM Logistic Regression': [0.8583333333333334, 0.8169336384439359, 0.8677419354838709, 0.7994505494505495, 0.865301724137931], 'SGD Logistic Regression': [0.7938311688311688, 0.7854838709677419, 0.8472222222222222, 0.8338709677419355, 0.778322440087146], 'IWLS Logistic Regression': [0.8772522522522522, 0.8545258620689655, 0.7354525862068966, 0.7811111111111111, 0.7860215053763441], 'LDA': [0.7939560439560439, 0.8349462365591398, 0.8338709677419355, 0.8370967741935484, 0.8175824175824176], 'QDA': [0.8170995670995671, 0.7699353448275862, 0.7636165577342048, 0.7627777777777778, 0.8417792792792793], 'Decision Tree': [0.7230603448275862, 0.7056277056277056, 0.7117117117117118, 0.7047930283224402, 0.7365591397849462], 'Random Forest': [0.7456709956709957, 0.828021978021978, 0.8044662309368191, 0.8074324324324325, 0.7895604395604396]}, 'Japanese Vowels': {'ADAM Logistic Regression': [0.921868539920634, 0.913480605256334, 0.9145078015045353, 0.9248159086434338, 0.9178133364281933], 'SGD Logistic Regression': [0.9178372500721212, 0.9354275066164953, 0.9452363949315169, 0.9418692756849649, 0.9266469291642971], 'IWLS Logistic Regression': [0.9221104231166151, 0.9165137811224331, 0.9212521606545745, 0.9338734584039208, 0.9258050462542408], 'LDA': [0.8967401009493614, 0.8959438173714951, 0.8607424135045425, 0.8852034589769517, 0.8913387799144475], 'QDA': [0.969244174190319, 0.9551710592493878, 0.9696098505810736, 0.9696439670577267, 0.961906944506551], 'Decision Tree': [0.9405707853264468, 0.960017633641922, 0.9551956837687849, 0.9485706015052604, 0.9412808177991582], 'Random Forest': [0.9843984099139457, 0.9715260041243354, 0.9617850735759523, 0.9717927580128146, 0.9611445866386579]}, 'Banana quality': {'ADAM Logistic Regression': [0.8781396533432084, 0.8817008797653959, 0.8674407043565806, 0.8697994799479948, 0.859191669050824], 'SGD Logistic Regression': [0.8906090081643814, 0.8746114936924858, 0.8725397053584264, 0.8713057718481572, 0.8686349366091646], 'IWLS Logistic Regression': [0.8737763052353262, 0.8742784086730231, 0.8780826499497523, 0.8824888788888732, 0.8823353279369065], 'LDA': [0.8918447701073937, 0.8765530244403483, 0.8730685568556855, 0.8776502650265026, 0.8655637605842523], 'QDA': [0.9192724613037934, 0.9274989804544127, 0.9206027897267306, 0.9152281264508504, 0.9293092670729801], 'Decision Tree': [0.9337433358958493, 0.941209563994374, 0.9388963648213355, 0.9425077226683167, 0.9375288097191297], 'Random Forest': [0.9719590016738795, 0.9692537509438918, 0.9712562050878204, 0.9675450489545265, 0.9724999999999999]}, 'Climate': {'ADAM Logistic Regression': [0.7836734693877551, 0.675, 0.8172446110590441, 0.6767676767676767, 0.8387755102040817], 'SGD Logistic Regression': [0.6675, 0.639795918367347, 0.578125, 0.5663967611336033, 0.5615275813295615], 'IWLS Logistic Regression': [0.539795918367347, 0.642156862745098, 0.6458333333333334, 0.5295918367346939, 0.74], 'LDA': [0.5664780763790664, 0.53514526710403, 0.5454545454545454, 0.6944837340876945, 0.57029053420806], 'QDA': [0.61, 0.4948453608247423, 0.62, 0.5475, 0.6616161616161617], 'Decision Tree': [0.6770833333333334, 0.46568627450980393, 0.539795918367347, 0.5202020202020202, 0.5744897959183674], 'Random Forest': [0.5, 0.5, 0.5, 0.5, 0.495]}}\n",
      "***Diabetes***\n",
      "\n",
      "\tADAM Logistic Regression\n"
     ]
    },
    {
     "name": "stderr",
     "output_type": "stream",
     "text": [
      "100%|████████████████████████████████████████████████████████████████████████████████████| 5/5 [00:00<00:00, 30.30it/s]\n"
     ]
    },
    {
     "name": "stdout",
     "output_type": "stream",
     "text": [
      "Balanced accuracy: 68.91%\n",
      "\n",
      "\n",
      "\tSGD Logistic Regression\n"
     ]
    },
    {
     "name": "stderr",
     "output_type": "stream",
     "text": [
      " 20%|████████████████▊                                                                   | 1/5 [00:00<00:00,  8.00it/s]"
     ]
    },
    {
     "name": "stdout",
     "output_type": "stream",
     "text": [
      "Optimization converged after 27 iterations.\n"
     ]
    },
    {
     "name": "stderr",
     "output_type": "stream",
     "text": [
      "\r",
      " 40%|█████████████████████████████████▌                                                  | 2/5 [00:00<00:00,  7.50it/s]"
     ]
    },
    {
     "name": "stdout",
     "output_type": "stream",
     "text": [
      "Optimization converged after 26 iterations.\n"
     ]
    },
    {
     "name": "stderr",
     "output_type": "stream",
     "text": [
      "\r",
      " 60%|██████████████████████████████████████████████████▍                                 | 3/5 [00:00<00:00,  7.55it/s]"
     ]
    },
    {
     "name": "stdout",
     "output_type": "stream",
     "text": [
      "Optimization converged after 26 iterations.\n"
     ]
    },
    {
     "name": "stderr",
     "output_type": "stream",
     "text": [
      "\r",
      " 80%|███████████████████████████████████████████████████████████████████▏                | 4/5 [00:00<00:00,  7.10it/s]"
     ]
    },
    {
     "name": "stdout",
     "output_type": "stream",
     "text": [
      "Optimization converged after 30 iterations.\n"
     ]
    },
    {
     "name": "stderr",
     "output_type": "stream",
     "text": [
      "100%|████████████████████████████████████████████████████████████████████████████████████| 5/5 [00:00<00:00,  7.34it/s]\n"
     ]
    },
    {
     "name": "stdout",
     "output_type": "stream",
     "text": [
      "Optimization converged after 24 iterations.\n",
      "Balanced accuracy: 69.01%\n",
      "\n",
      "\n",
      "\tIWLS Logistic Regression\n"
     ]
    },
    {
     "name": "stderr",
     "output_type": "stream",
     "text": [
      "100%|███████████████████████████████████████████████████████████████████████████████████| 5/5 [00:00<00:00, 106.69it/s]"
     ]
    },
    {
     "name": "stdout",
     "output_type": "stream",
     "text": [
      "Optimization converged after 6 iterations.\n",
      "Optimization converged after 6 iterations.\n",
      "Optimization converged after 6 iterations.\n",
      "Optimization converged after 6 iterations.\n",
      "Optimization converged after 6 iterations.\n"
     ]
    },
    {
     "name": "stderr",
     "output_type": "stream",
     "text": [
      "\n"
     ]
    },
    {
     "name": "stdout",
     "output_type": "stream",
     "text": [
      "Balanced accuracy: 73.6%\n",
      "\n",
      "\n",
      "\tLDA\n"
     ]
    },
    {
     "name": "stderr",
     "output_type": "stream",
     "text": [
      "100%|███████████████████████████████████████████████████████████████████████████████████| 5/5 [00:00<00:00, 766.92it/s]\n"
     ]
    },
    {
     "name": "stdout",
     "output_type": "stream",
     "text": [
      "Balanced accuracy: 70.49%\n",
      "\n",
      "\n",
      "\tQDA\n"
     ]
    },
    {
     "name": "stderr",
     "output_type": "stream",
     "text": [
      "100%|███████████████████████████████████████████████████████████████████████████████████| 5/5 [00:00<00:00, 319.31it/s]\n"
     ]
    },
    {
     "name": "stdout",
     "output_type": "stream",
     "text": [
      "Balanced accuracy: 71.14%\n",
      "\n",
      "\n",
      "\tDecision Tree\n"
     ]
    },
    {
     "name": "stderr",
     "output_type": "stream",
     "text": [
      "100%|███████████████████████████████████████████████████████████████████████████████████| 5/5 [00:00<00:00, 320.00it/s]\n"
     ]
    },
    {
     "name": "stdout",
     "output_type": "stream",
     "text": [
      "Balanced accuracy: 65.49%\n",
      "\n",
      "\n",
      "\tRandom Forest\n"
     ]
    },
    {
     "name": "stderr",
     "output_type": "stream",
     "text": [
      "100%|████████████████████████████████████████████████████████████████████████████████████| 5/5 [00:00<00:00,  7.90it/s]\n"
     ]
    },
    {
     "name": "stdout",
     "output_type": "stream",
     "text": [
      "Balanced accuracy: 74.13%\n",
      "\n",
      "\n",
      "{'Water Quality': {'ADAM Logistic Regression': [0.5226540504455345, 0.5163507773875521, 0.5188948498906423, 0.5269217711819196, 0.5099218750000001], 'SGD Logistic Regression': [0.5021093750000001, 0.5102440553139813, 0.5150166852057843, 0.5057065741276268, 0.4997294372294372], 'IWLS Logistic Regression': [0.502472231453229, 0.5108239924702661, 0.5136001769128704, 0.5029968268891761, 0.49307358468632545], 'LDA': [0.5134528929327209, 0.5156093481030508, 0.5081300813008129, 0.5097375507262867, 0.5020131682600196], 'QDA': [0.602542662950467, 0.5902831204800739, 0.5702660098522168, 0.6191623867864077, 0.6108239586500456], 'Decision Tree': [0.9911123963755543, 0.9967583807716636, 0.9948912198912199, 0.9937260302795551, 0.9987654320987654], 'Random Forest': [0.8612389023405973, 0.8170480549199084, 0.8403824543728446, 0.8594126189475293, 0.8588485060963733]}, 'Ionosphere': {'ADAM Logistic Regression': [0.9621212121212122, 0.7344262295081967, 0.7038461538461538, 0.7728174603174602, 0.7648809523809523], 'SGD Logistic Regression': [0.8091397849462365, 0.71415770609319, 0.6944444444444444, 0.5725446428571428, 0.6172131147540983], 'IWLS Logistic Regression': [0.5959821428571428, 0.6424731182795699, 0.792622950819672, 0.803921568627451, 0.7754098360655737], 'LDA': [0.5696969696969697, 0.8102564102564103, 0.7918032786885245, 0.7688172043010753, 0.5232974910394265], 'QDA': [0.5, 0.5951492537313433, 0.5, 0.5, 0.5], 'Decision Tree': [0.5853174603174602, 0.6659604519774012, 0.5754098360655737, 0.7765151515151515, 0.5228174603174602], 'Random Forest': [0.75, 0.8045634920634921, 0.753584229390681, 0.7519893899204244, 0.8186274509803921]}, 'Heart Attack': {'ADAM Logistic Regression': [0.8583333333333334, 0.8169336384439359, 0.8677419354838709, 0.7994505494505495, 0.865301724137931], 'SGD Logistic Regression': [0.7938311688311688, 0.7854838709677419, 0.8472222222222222, 0.8338709677419355, 0.778322440087146], 'IWLS Logistic Regression': [0.8772522522522522, 0.8545258620689655, 0.7354525862068966, 0.7811111111111111, 0.7860215053763441], 'LDA': [0.7939560439560439, 0.8349462365591398, 0.8338709677419355, 0.8370967741935484, 0.8175824175824176], 'QDA': [0.8170995670995671, 0.7699353448275862, 0.7636165577342048, 0.7627777777777778, 0.8417792792792793], 'Decision Tree': [0.7230603448275862, 0.7056277056277056, 0.7117117117117118, 0.7047930283224402, 0.7365591397849462], 'Random Forest': [0.7456709956709957, 0.828021978021978, 0.8044662309368191, 0.8074324324324325, 0.7895604395604396]}, 'Japanese Vowels': {'ADAM Logistic Regression': [0.921868539920634, 0.913480605256334, 0.9145078015045353, 0.9248159086434338, 0.9178133364281933], 'SGD Logistic Regression': [0.9178372500721212, 0.9354275066164953, 0.9452363949315169, 0.9418692756849649, 0.9266469291642971], 'IWLS Logistic Regression': [0.9221104231166151, 0.9165137811224331, 0.9212521606545745, 0.9338734584039208, 0.9258050462542408], 'LDA': [0.8967401009493614, 0.8959438173714951, 0.8607424135045425, 0.8852034589769517, 0.8913387799144475], 'QDA': [0.969244174190319, 0.9551710592493878, 0.9696098505810736, 0.9696439670577267, 0.961906944506551], 'Decision Tree': [0.9405707853264468, 0.960017633641922, 0.9551956837687849, 0.9485706015052604, 0.9412808177991582], 'Random Forest': [0.9843984099139457, 0.9715260041243354, 0.9617850735759523, 0.9717927580128146, 0.9611445866386579]}, 'Banana quality': {'ADAM Logistic Regression': [0.8781396533432084, 0.8817008797653959, 0.8674407043565806, 0.8697994799479948, 0.859191669050824], 'SGD Logistic Regression': [0.8906090081643814, 0.8746114936924858, 0.8725397053584264, 0.8713057718481572, 0.8686349366091646], 'IWLS Logistic Regression': [0.8737763052353262, 0.8742784086730231, 0.8780826499497523, 0.8824888788888732, 0.8823353279369065], 'LDA': [0.8918447701073937, 0.8765530244403483, 0.8730685568556855, 0.8776502650265026, 0.8655637605842523], 'QDA': [0.9192724613037934, 0.9274989804544127, 0.9206027897267306, 0.9152281264508504, 0.9293092670729801], 'Decision Tree': [0.9337433358958493, 0.941209563994374, 0.9388963648213355, 0.9425077226683167, 0.9375288097191297], 'Random Forest': [0.9719590016738795, 0.9692537509438918, 0.9712562050878204, 0.9675450489545265, 0.9724999999999999]}, 'Climate': {'ADAM Logistic Regression': [0.7836734693877551, 0.675, 0.8172446110590441, 0.6767676767676767, 0.8387755102040817], 'SGD Logistic Regression': [0.6675, 0.639795918367347, 0.578125, 0.5663967611336033, 0.5615275813295615], 'IWLS Logistic Regression': [0.539795918367347, 0.642156862745098, 0.6458333333333334, 0.5295918367346939, 0.74], 'LDA': [0.5664780763790664, 0.53514526710403, 0.5454545454545454, 0.6944837340876945, 0.57029053420806], 'QDA': [0.61, 0.4948453608247423, 0.62, 0.5475, 0.6616161616161617], 'Decision Tree': [0.6770833333333334, 0.46568627450980393, 0.539795918367347, 0.5202020202020202, 0.5744897959183674], 'Random Forest': [0.5, 0.5, 0.5, 0.5, 0.495]}, 'Diabetes': {'ADAM Logistic Regression': [0.692750890425309, 0.7008856682769726, 0.6808080808080808, 0.7151206636500754, 0.6557407407407407], 'SGD Logistic Regression': [0.6857407407407408, 0.7174311926605504, 0.6710255931253503, 0.6499606918238994, 0.7262626262626262], 'IWLS Logistic Regression': [0.7659090909090909, 0.7323076923076923, 0.7271623388753969, 0.7444444444444445, 0.7099497126436781], 'LDA': [0.7123263888888889, 0.6992592592592592, 0.7153434433541481, 0.7521037868162692, 0.6454081632653061], 'QDA': [0.7131824712643677, 0.7403669724770643, 0.7227777777777777, 0.681929181929182, 0.698639455782313], 'Decision Tree': [0.6246153846153846, 0.616235504014273, 0.712399643175736, 0.6480106605749095, 0.6729966196062835], 'Random Forest': [0.6702586206896551, 0.7741462392625182, 0.7891116352201257, 0.7118437118437119, 0.761168384879725]}}\n",
      "***Biodegradable***\n",
      "\n",
      "\tADAM Logistic Regression\n"
     ]
    },
    {
     "name": "stderr",
     "output_type": "stream",
     "text": [
      "100%|████████████████████████████████████████████████████████████████████████████████████| 5/5 [00:00<00:00,  9.27it/s]\n"
     ]
    },
    {
     "name": "stdout",
     "output_type": "stream",
     "text": [
      "Balanced accuracy: 84.39%\n",
      "\n",
      "\n",
      "\tSGD Logistic Regression\n"
     ]
    },
    {
     "name": "stderr",
     "output_type": "stream",
     "text": [
      "100%|████████████████████████████████████████████████████████████████████████████████████| 5/5 [00:18<00:00,  3.64s/it]\n"
     ]
    },
    {
     "name": "stdout",
     "output_type": "stream",
     "text": [
      "Balanced accuracy: 85.43%\n",
      "\n",
      "\n",
      "\tIWLS Logistic Regression\n"
     ]
    },
    {
     "name": "stderr",
     "output_type": "stream",
     "text": [
      " 40%|█████████████████████████████████▌                                                  | 2/5 [00:00<00:00, 14.82it/s]"
     ]
    },
    {
     "name": "stdout",
     "output_type": "stream",
     "text": [
      "Optimization converged after 17 iterations.\n",
      "Optimization converged after 17 iterations.\n",
      "Optimization converged after 17 iterations.\n",
      "Optimization converged after 17 iterations.\n"
     ]
    },
    {
     "name": "stderr",
     "output_type": "stream",
     "text": [
      "100%|████████████████████████████████████████████████████████████████████████████████████| 5/5 [00:00<00:00, 15.15it/s]\n"
     ]
    },
    {
     "name": "stdout",
     "output_type": "stream",
     "text": [
      "Optimization converged after 17 iterations.\n",
      "Balanced accuracy: 84.41%\n",
      "\n",
      "\n",
      "\tLDA\n"
     ]
    },
    {
     "name": "stderr",
     "output_type": "stream",
     "text": [
      "100%|███████████████████████████████████████████████████████████████████████████████████| 5/5 [00:00<00:00, 108.70it/s]\n"
     ]
    },
    {
     "name": "stdout",
     "output_type": "stream",
     "text": [
      "Balanced accuracy: 82.84%\n",
      "\n",
      "\n",
      "\tQDA\n"
     ]
    },
    {
     "name": "stderr",
     "output_type": "stream",
     "text": [
      "  0%|                                                                                            | 0/5 [00:00<?, ?it/s]C:\\Users\\szymc\\AppData\\Local\\Packages\\PythonSoftwareFoundation.Python.3.9_qbz5n2kfra8p0\\LocalCache\\local-packages\\Python39\\site-packages\\sklearn\\discriminant_analysis.py:887: UserWarning: Variables are collinear\n",
      "  warnings.warn(\"Variables are collinear\")\n",
      "C:\\Users\\szymc\\AppData\\Local\\Packages\\PythonSoftwareFoundation.Python.3.9_qbz5n2kfra8p0\\LocalCache\\local-packages\\Python39\\site-packages\\sklearn\\discriminant_analysis.py:887: UserWarning: Variables are collinear\n",
      "  warnings.warn(\"Variables are collinear\")\n",
      "C:\\Users\\szymc\\AppData\\Local\\Packages\\PythonSoftwareFoundation.Python.3.9_qbz5n2kfra8p0\\LocalCache\\local-packages\\Python39\\site-packages\\sklearn\\discriminant_analysis.py:887: UserWarning: Variables are collinear\n",
      "  warnings.warn(\"Variables are collinear\")\n",
      "C:\\Users\\szymc\\AppData\\Local\\Packages\\PythonSoftwareFoundation.Python.3.9_qbz5n2kfra8p0\\LocalCache\\local-packages\\Python39\\site-packages\\sklearn\\discriminant_analysis.py:887: UserWarning: Variables are collinear\n",
      "  warnings.warn(\"Variables are collinear\")\n",
      "C:\\Users\\szymc\\AppData\\Local\\Packages\\PythonSoftwareFoundation.Python.3.9_qbz5n2kfra8p0\\LocalCache\\local-packages\\Python39\\site-packages\\sklearn\\discriminant_analysis.py:887: UserWarning: Variables are collinear\n",
      "  warnings.warn(\"Variables are collinear\")\n",
      "100%|███████████████████████████████████████████████████████████████████████████████████| 5/5 [00:00<00:00, 147.08it/s]\n"
     ]
    },
    {
     "name": "stdout",
     "output_type": "stream",
     "text": [
      "Balanced accuracy: 67.44%\n",
      "\n",
      "\n",
      "\tDecision Tree\n"
     ]
    },
    {
     "name": "stderr",
     "output_type": "stream",
     "text": [
      "100%|███████████████████████████████████████████████████████████████████████████████████| 5/5 [00:00<00:00, 118.99it/s]\n"
     ]
    },
    {
     "name": "stdout",
     "output_type": "stream",
     "text": [
      "Balanced accuracy: 80.58%\n",
      "\n",
      "\n",
      "\tRandom Forest\n"
     ]
    },
    {
     "name": "stderr",
     "output_type": "stream",
     "text": [
      "100%|████████████████████████████████████████████████████████████████████████████████████| 5/5 [00:00<00:00,  6.08it/s]\n"
     ]
    },
    {
     "name": "stdout",
     "output_type": "stream",
     "text": [
      "Balanced accuracy: 84.0%\n",
      "\n",
      "\n",
      "{'Water Quality': {'ADAM Logistic Regression': [0.5226540504455345, 0.5163507773875521, 0.5188948498906423, 0.5269217711819196, 0.5099218750000001], 'SGD Logistic Regression': [0.5021093750000001, 0.5102440553139813, 0.5150166852057843, 0.5057065741276268, 0.4997294372294372], 'IWLS Logistic Regression': [0.502472231453229, 0.5108239924702661, 0.5136001769128704, 0.5029968268891761, 0.49307358468632545], 'LDA': [0.5134528929327209, 0.5156093481030508, 0.5081300813008129, 0.5097375507262867, 0.5020131682600196], 'QDA': [0.602542662950467, 0.5902831204800739, 0.5702660098522168, 0.6191623867864077, 0.6108239586500456], 'Decision Tree': [0.9911123963755543, 0.9967583807716636, 0.9948912198912199, 0.9937260302795551, 0.9987654320987654], 'Random Forest': [0.8612389023405973, 0.8170480549199084, 0.8403824543728446, 0.8594126189475293, 0.8588485060963733]}, 'Ionosphere': {'ADAM Logistic Regression': [0.9621212121212122, 0.7344262295081967, 0.7038461538461538, 0.7728174603174602, 0.7648809523809523], 'SGD Logistic Regression': [0.8091397849462365, 0.71415770609319, 0.6944444444444444, 0.5725446428571428, 0.6172131147540983], 'IWLS Logistic Regression': [0.5959821428571428, 0.6424731182795699, 0.792622950819672, 0.803921568627451, 0.7754098360655737], 'LDA': [0.5696969696969697, 0.8102564102564103, 0.7918032786885245, 0.7688172043010753, 0.5232974910394265], 'QDA': [0.5, 0.5951492537313433, 0.5, 0.5, 0.5], 'Decision Tree': [0.5853174603174602, 0.6659604519774012, 0.5754098360655737, 0.7765151515151515, 0.5228174603174602], 'Random Forest': [0.75, 0.8045634920634921, 0.753584229390681, 0.7519893899204244, 0.8186274509803921]}, 'Heart Attack': {'ADAM Logistic Regression': [0.8583333333333334, 0.8169336384439359, 0.8677419354838709, 0.7994505494505495, 0.865301724137931], 'SGD Logistic Regression': [0.7938311688311688, 0.7854838709677419, 0.8472222222222222, 0.8338709677419355, 0.778322440087146], 'IWLS Logistic Regression': [0.8772522522522522, 0.8545258620689655, 0.7354525862068966, 0.7811111111111111, 0.7860215053763441], 'LDA': [0.7939560439560439, 0.8349462365591398, 0.8338709677419355, 0.8370967741935484, 0.8175824175824176], 'QDA': [0.8170995670995671, 0.7699353448275862, 0.7636165577342048, 0.7627777777777778, 0.8417792792792793], 'Decision Tree': [0.7230603448275862, 0.7056277056277056, 0.7117117117117118, 0.7047930283224402, 0.7365591397849462], 'Random Forest': [0.7456709956709957, 0.828021978021978, 0.8044662309368191, 0.8074324324324325, 0.7895604395604396]}, 'Japanese Vowels': {'ADAM Logistic Regression': [0.921868539920634, 0.913480605256334, 0.9145078015045353, 0.9248159086434338, 0.9178133364281933], 'SGD Logistic Regression': [0.9178372500721212, 0.9354275066164953, 0.9452363949315169, 0.9418692756849649, 0.9266469291642971], 'IWLS Logistic Regression': [0.9221104231166151, 0.9165137811224331, 0.9212521606545745, 0.9338734584039208, 0.9258050462542408], 'LDA': [0.8967401009493614, 0.8959438173714951, 0.8607424135045425, 0.8852034589769517, 0.8913387799144475], 'QDA': [0.969244174190319, 0.9551710592493878, 0.9696098505810736, 0.9696439670577267, 0.961906944506551], 'Decision Tree': [0.9405707853264468, 0.960017633641922, 0.9551956837687849, 0.9485706015052604, 0.9412808177991582], 'Random Forest': [0.9843984099139457, 0.9715260041243354, 0.9617850735759523, 0.9717927580128146, 0.9611445866386579]}, 'Banana quality': {'ADAM Logistic Regression': [0.8781396533432084, 0.8817008797653959, 0.8674407043565806, 0.8697994799479948, 0.859191669050824], 'SGD Logistic Regression': [0.8906090081643814, 0.8746114936924858, 0.8725397053584264, 0.8713057718481572, 0.8686349366091646], 'IWLS Logistic Regression': [0.8737763052353262, 0.8742784086730231, 0.8780826499497523, 0.8824888788888732, 0.8823353279369065], 'LDA': [0.8918447701073937, 0.8765530244403483, 0.8730685568556855, 0.8776502650265026, 0.8655637605842523], 'QDA': [0.9192724613037934, 0.9274989804544127, 0.9206027897267306, 0.9152281264508504, 0.9293092670729801], 'Decision Tree': [0.9337433358958493, 0.941209563994374, 0.9388963648213355, 0.9425077226683167, 0.9375288097191297], 'Random Forest': [0.9719590016738795, 0.9692537509438918, 0.9712562050878204, 0.9675450489545265, 0.9724999999999999]}, 'Climate': {'ADAM Logistic Regression': [0.7836734693877551, 0.675, 0.8172446110590441, 0.6767676767676767, 0.8387755102040817], 'SGD Logistic Regression': [0.6675, 0.639795918367347, 0.578125, 0.5663967611336033, 0.5615275813295615], 'IWLS Logistic Regression': [0.539795918367347, 0.642156862745098, 0.6458333333333334, 0.5295918367346939, 0.74], 'LDA': [0.5664780763790664, 0.53514526710403, 0.5454545454545454, 0.6944837340876945, 0.57029053420806], 'QDA': [0.61, 0.4948453608247423, 0.62, 0.5475, 0.6616161616161617], 'Decision Tree': [0.6770833333333334, 0.46568627450980393, 0.539795918367347, 0.5202020202020202, 0.5744897959183674], 'Random Forest': [0.5, 0.5, 0.5, 0.5, 0.495]}, 'Diabetes': {'ADAM Logistic Regression': [0.692750890425309, 0.7008856682769726, 0.6808080808080808, 0.7151206636500754, 0.6557407407407407], 'SGD Logistic Regression': [0.6857407407407408, 0.7174311926605504, 0.6710255931253503, 0.6499606918238994, 0.7262626262626262], 'IWLS Logistic Regression': [0.7659090909090909, 0.7323076923076923, 0.7271623388753969, 0.7444444444444445, 0.7099497126436781], 'LDA': [0.7123263888888889, 0.6992592592592592, 0.7153434433541481, 0.7521037868162692, 0.6454081632653061], 'QDA': [0.7131824712643677, 0.7403669724770643, 0.7227777777777777, 0.681929181929182, 0.698639455782313], 'Decision Tree': [0.6246153846153846, 0.616235504014273, 0.712399643175736, 0.6480106605749095, 0.6729966196062835], 'Random Forest': [0.6702586206896551, 0.7741462392625182, 0.7891116352201257, 0.7118437118437119, 0.761168384879725]}, 'Biodegradable': {'ADAM Logistic Regression': [0.8759678379988087, 0.8402917505030181, 0.8095023980815348, 0.8399610136452242, 0.8540008164931618], 'SGD Logistic Regression': [0.8654855643044619, 0.8418680475642502, 0.8450617283950617, 0.8518876018876018, 0.8670835814969228], 'IWLS Logistic Regression': [0.8515107212475634, 0.8094591975188989, 0.8578212831944175, 0.8438650901337469, 0.8576998050682261], 'LDA': [0.8429208126036485, 0.8078465651995064, 0.8179761415055533, 0.8370128524046434, 0.8361195542046606], 'QDA': [0.7163269384492406, 0.6352142110762801, 0.6626984126984127, 0.6754411200613732, 0.6820779750969586], 'Decision Tree': [0.8468591691995948, 0.8086519114688129, 0.8197758124228712, 0.8082064993829701, 0.7455431177446104], 'Random Forest': [0.876477999612328, 0.8064288403614458, 0.8384088514225501, 0.8244651162790697, 0.8540862290862291]}}\n",
      "***Plates***\n",
      "\n",
      "\tADAM Logistic Regression\n"
     ]
    },
    {
     "name": "stderr",
     "output_type": "stream",
     "text": [
      "  0%|                                                                                            | 0/5 [00:00<?, ?it/s]C:\\Users\\szymc\\AppData\\Local\\Packages\\PythonSoftwareFoundation.Python.3.9_qbz5n2kfra8p0\\LocalCache\\local-packages\\Python39\\site-packages\\sklearn\\metrics\\_classification.py:2006: UserWarning: y_pred contains classes not in y_true\n",
      "  warnings.warn(\"y_pred contains classes not in y_true\")\n",
      " 20%|████████████████▊                                                                   | 1/5 [00:00<00:00,  7.58it/s]C:\\Users\\szymc\\AppData\\Local\\Packages\\PythonSoftwareFoundation.Python.3.9_qbz5n2kfra8p0\\LocalCache\\local-packages\\Python39\\site-packages\\sklearn\\metrics\\_classification.py:2006: UserWarning: y_pred contains classes not in y_true\n",
      "  warnings.warn(\"y_pred contains classes not in y_true\")\n",
      " 40%|█████████████████████████████████▌                                                  | 2/5 [00:00<00:00,  7.86it/s]C:\\Users\\szymc\\AppData\\Local\\Packages\\PythonSoftwareFoundation.Python.3.9_qbz5n2kfra8p0\\LocalCache\\local-packages\\Python39\\site-packages\\sklearn\\metrics\\_classification.py:2006: UserWarning: y_pred contains classes not in y_true\n",
      "  warnings.warn(\"y_pred contains classes not in y_true\")\n",
      " 60%|██████████████████████████████████████████████████▍                                 | 3/5 [00:00<00:00,  8.07it/s]C:\\Users\\szymc\\AppData\\Local\\Packages\\PythonSoftwareFoundation.Python.3.9_qbz5n2kfra8p0\\LocalCache\\local-packages\\Python39\\site-packages\\sklearn\\metrics\\_classification.py:2006: UserWarning: y_pred contains classes not in y_true\n",
      "  warnings.warn(\"y_pred contains classes not in y_true\")\n",
      " 80%|███████████████████████████████████████████████████████████████████▏                | 4/5 [00:00<00:00,  8.14it/s]C:\\Users\\szymc\\AppData\\Local\\Packages\\PythonSoftwareFoundation.Python.3.9_qbz5n2kfra8p0\\LocalCache\\local-packages\\Python39\\site-packages\\sklearn\\metrics\\_classification.py:2006: UserWarning: y_pred contains classes not in y_true\n",
      "  warnings.warn(\"y_pred contains classes not in y_true\")\n",
      "100%|████████████████████████████████████████████████████████████████████████████████████| 5/5 [00:00<00:00,  8.08it/s]\n"
     ]
    },
    {
     "name": "stdout",
     "output_type": "stream",
     "text": [
      "Balanced accuracy: 17.3%\n",
      "\n",
      "\n",
      "\tSGD Logistic Regression\n"
     ]
    },
    {
     "name": "stderr",
     "output_type": "stream",
     "text": [
      "  0%|                                                                                            | 0/5 [00:00<?, ?it/s]C:\\Users\\szymc\\AppData\\Local\\Packages\\PythonSoftwareFoundation.Python.3.9_qbz5n2kfra8p0\\LocalCache\\local-packages\\Python39\\site-packages\\sklearn\\metrics\\_classification.py:2006: UserWarning: y_pred contains classes not in y_true\n",
      "  warnings.warn(\"y_pred contains classes not in y_true\")\n",
      " 20%|████████████████▊                                                                   | 1/5 [00:06<00:25,  6.46s/it]C:\\Users\\szymc\\AppData\\Local\\Packages\\PythonSoftwareFoundation.Python.3.9_qbz5n2kfra8p0\\LocalCache\\local-packages\\Python39\\site-packages\\sklearn\\metrics\\_classification.py:2006: UserWarning: y_pred contains classes not in y_true\n",
      "  warnings.warn(\"y_pred contains classes not in y_true\")\n",
      " 40%|█████████████████████████████████▌                                                  | 2/5 [00:12<00:19,  6.48s/it]C:\\Users\\szymc\\AppData\\Local\\Packages\\PythonSoftwareFoundation.Python.3.9_qbz5n2kfra8p0\\LocalCache\\local-packages\\Python39\\site-packages\\sklearn\\metrics\\_classification.py:2006: UserWarning: y_pred contains classes not in y_true\n",
      "  warnings.warn(\"y_pred contains classes not in y_true\")\n",
      " 60%|██████████████████████████████████████████████████▍                                 | 3/5 [00:19<00:12,  6.48s/it]C:\\Users\\szymc\\AppData\\Local\\Packages\\PythonSoftwareFoundation.Python.3.9_qbz5n2kfra8p0\\LocalCache\\local-packages\\Python39\\site-packages\\sklearn\\metrics\\_classification.py:2006: UserWarning: y_pred contains classes not in y_true\n",
      "  warnings.warn(\"y_pred contains classes not in y_true\")\n",
      " 80%|███████████████████████████████████████████████████████████████████▏                | 4/5 [00:25<00:06,  6.48s/it]C:\\Users\\szymc\\AppData\\Local\\Packages\\PythonSoftwareFoundation.Python.3.9_qbz5n2kfra8p0\\LocalCache\\local-packages\\Python39\\site-packages\\sklearn\\metrics\\_classification.py:2006: UserWarning: y_pred contains classes not in y_true\n",
      "  warnings.warn(\"y_pred contains classes not in y_true\")\n",
      "100%|████████████████████████████████████████████████████████████████████████████████████| 5/5 [00:32<00:00,  6.47s/it]\n"
     ]
    },
    {
     "name": "stdout",
     "output_type": "stream",
     "text": [
      "Balanced accuracy: 46.91%\n",
      "\n",
      "\n",
      "\tIWLS Logistic Regression\n"
     ]
    },
    {
     "name": "stderr",
     "output_type": "stream",
     "text": [
      "  0%|                                                                                            | 0/5 [00:00<?, ?it/s]C:\\Users\\szymc\\AppData\\Local\\Packages\\PythonSoftwareFoundation.Python.3.9_qbz5n2kfra8p0\\LocalCache\\local-packages\\Python39\\site-packages\\sklearn\\metrics\\_classification.py:2006: UserWarning: y_pred contains classes not in y_true\n",
      "  warnings.warn(\"y_pred contains classes not in y_true\")\n",
      " 40%|█████████████████████████████████▌                                                  | 2/5 [00:00<00:00,  5.28it/s]"
     ]
    },
    {
     "name": "stdout",
     "output_type": "stream",
     "text": [
      "Optimization converged after 37 iterations.\n"
     ]
    },
    {
     "name": "stderr",
     "output_type": "stream",
     "text": [
      "C:\\Users\\szymc\\AppData\\Local\\Packages\\PythonSoftwareFoundation.Python.3.9_qbz5n2kfra8p0\\LocalCache\\local-packages\\Python39\\site-packages\\sklearn\\metrics\\_classification.py:2006: UserWarning: y_pred contains classes not in y_true\n",
      "  warnings.warn(\"y_pred contains classes not in y_true\")\n",
      "\r",
      " 60%|██████████████████████████████████████████████████▍                                 | 3/5 [00:01<00:00,  2.39it/s]"
     ]
    },
    {
     "name": "stdout",
     "output_type": "stream",
     "text": [
      "Optimization converged after 75 iterations.\n"
     ]
    },
    {
     "name": "stderr",
     "output_type": "stream",
     "text": [
      "C:\\Users\\szymc\\AppData\\Local\\Packages\\PythonSoftwareFoundation.Python.3.9_qbz5n2kfra8p0\\LocalCache\\local-packages\\Python39\\site-packages\\sklearn\\metrics\\_classification.py:2006: UserWarning: y_pred contains classes not in y_true\n",
      "  warnings.warn(\"y_pred contains classes not in y_true\")\n",
      "100%|████████████████████████████████████████████████████████████████████████████████████| 5/5 [00:01<00:00,  2.95it/s]\n"
     ]
    },
    {
     "name": "stdout",
     "output_type": "stream",
     "text": [
      "Optimization converged after 50 iterations.\n",
      "Optimization converged after 8 iterations.\n",
      "Balanced accuracy: 48.27%\n",
      "\n",
      "\n",
      "\tLDA\n"
     ]
    },
    {
     "name": "stderr",
     "output_type": "stream",
     "text": [
      "100%|███████████████████████████████████████████████████████████████████████████████████| 5/5 [00:00<00:00, 104.16it/s]\n"
     ]
    },
    {
     "name": "stdout",
     "output_type": "stream",
     "text": [
      "Balanced accuracy: 67.71%\n",
      "\n",
      "\n",
      "\tQDA\n"
     ]
    },
    {
     "name": "stderr",
     "output_type": "stream",
     "text": [
      "  0%|                                                                                            | 0/5 [00:00<?, ?it/s]C:\\Users\\szymc\\AppData\\Local\\Packages\\PythonSoftwareFoundation.Python.3.9_qbz5n2kfra8p0\\LocalCache\\local-packages\\Python39\\site-packages\\sklearn\\discriminant_analysis.py:887: UserWarning: Variables are collinear\n",
      "  warnings.warn(\"Variables are collinear\")\n",
      "C:\\Users\\szymc\\AppData\\Local\\Packages\\PythonSoftwareFoundation.Python.3.9_qbz5n2kfra8p0\\LocalCache\\local-packages\\Python39\\site-packages\\sklearn\\discriminant_analysis.py:887: UserWarning: Variables are collinear\n",
      "  warnings.warn(\"Variables are collinear\")\n",
      "C:\\Users\\szymc\\AppData\\Local\\Packages\\PythonSoftwareFoundation.Python.3.9_qbz5n2kfra8p0\\LocalCache\\local-packages\\Python39\\site-packages\\sklearn\\discriminant_analysis.py:887: UserWarning: Variables are collinear\n",
      "  warnings.warn(\"Variables are collinear\")\n",
      "C:\\Users\\szymc\\AppData\\Local\\Packages\\PythonSoftwareFoundation.Python.3.9_qbz5n2kfra8p0\\LocalCache\\local-packages\\Python39\\site-packages\\sklearn\\discriminant_analysis.py:887: UserWarning: Variables are collinear\n",
      "  warnings.warn(\"Variables are collinear\")\n",
      "C:\\Users\\szymc\\AppData\\Local\\Packages\\PythonSoftwareFoundation.Python.3.9_qbz5n2kfra8p0\\LocalCache\\local-packages\\Python39\\site-packages\\sklearn\\discriminant_analysis.py:887: UserWarning: Variables are collinear\n",
      "  warnings.warn(\"Variables are collinear\")\n",
      "100%|███████████████████████████████████████████████████████████████████████████████████| 5/5 [00:00<00:00, 116.29it/s]\n"
     ]
    },
    {
     "name": "stdout",
     "output_type": "stream",
     "text": [
      "Balanced accuracy: 90.0%\n",
      "\n",
      "\n",
      "\tDecision Tree\n"
     ]
    },
    {
     "name": "stderr",
     "output_type": "stream",
     "text": [
      "100%|███████████████████████████████████████████████████████████████████████████████████| 5/5 [00:00<00:00, 128.21it/s]\n"
     ]
    },
    {
     "name": "stdout",
     "output_type": "stream",
     "text": [
      "Balanced accuracy: 100.0%\n",
      "\n",
      "\n",
      "\tRandom Forest\n"
     ]
    },
    {
     "name": "stderr",
     "output_type": "stream",
     "text": [
      "100%|████████████████████████████████████████████████████████████████████████████████████| 5/5 [00:01<00:00,  4.41it/s]"
     ]
    },
    {
     "name": "stdout",
     "output_type": "stream",
     "text": [
      "Balanced accuracy: 99.69%\n",
      "\n",
      "\n",
      "{'Water Quality': {'ADAM Logistic Regression': [0.5226540504455345, 0.5163507773875521, 0.5188948498906423, 0.5269217711819196, 0.5099218750000001], 'SGD Logistic Regression': [0.5021093750000001, 0.5102440553139813, 0.5150166852057843, 0.5057065741276268, 0.4997294372294372], 'IWLS Logistic Regression': [0.502472231453229, 0.5108239924702661, 0.5136001769128704, 0.5029968268891761, 0.49307358468632545], 'LDA': [0.5134528929327209, 0.5156093481030508, 0.5081300813008129, 0.5097375507262867, 0.5020131682600196], 'QDA': [0.602542662950467, 0.5902831204800739, 0.5702660098522168, 0.6191623867864077, 0.6108239586500456], 'Decision Tree': [0.9911123963755543, 0.9967583807716636, 0.9948912198912199, 0.9937260302795551, 0.9987654320987654], 'Random Forest': [0.8612389023405973, 0.8170480549199084, 0.8403824543728446, 0.8594126189475293, 0.8588485060963733]}, 'Ionosphere': {'ADAM Logistic Regression': [0.9621212121212122, 0.7344262295081967, 0.7038461538461538, 0.7728174603174602, 0.7648809523809523], 'SGD Logistic Regression': [0.8091397849462365, 0.71415770609319, 0.6944444444444444, 0.5725446428571428, 0.6172131147540983], 'IWLS Logistic Regression': [0.5959821428571428, 0.6424731182795699, 0.792622950819672, 0.803921568627451, 0.7754098360655737], 'LDA': [0.5696969696969697, 0.8102564102564103, 0.7918032786885245, 0.7688172043010753, 0.5232974910394265], 'QDA': [0.5, 0.5951492537313433, 0.5, 0.5, 0.5], 'Decision Tree': [0.5853174603174602, 0.6659604519774012, 0.5754098360655737, 0.7765151515151515, 0.5228174603174602], 'Random Forest': [0.75, 0.8045634920634921, 0.753584229390681, 0.7519893899204244, 0.8186274509803921]}, 'Heart Attack': {'ADAM Logistic Regression': [0.8583333333333334, 0.8169336384439359, 0.8677419354838709, 0.7994505494505495, 0.865301724137931], 'SGD Logistic Regression': [0.7938311688311688, 0.7854838709677419, 0.8472222222222222, 0.8338709677419355, 0.778322440087146], 'IWLS Logistic Regression': [0.8772522522522522, 0.8545258620689655, 0.7354525862068966, 0.7811111111111111, 0.7860215053763441], 'LDA': [0.7939560439560439, 0.8349462365591398, 0.8338709677419355, 0.8370967741935484, 0.8175824175824176], 'QDA': [0.8170995670995671, 0.7699353448275862, 0.7636165577342048, 0.7627777777777778, 0.8417792792792793], 'Decision Tree': [0.7230603448275862, 0.7056277056277056, 0.7117117117117118, 0.7047930283224402, 0.7365591397849462], 'Random Forest': [0.7456709956709957, 0.828021978021978, 0.8044662309368191, 0.8074324324324325, 0.7895604395604396]}, 'Japanese Vowels': {'ADAM Logistic Regression': [0.921868539920634, 0.913480605256334, 0.9145078015045353, 0.9248159086434338, 0.9178133364281933], 'SGD Logistic Regression': [0.9178372500721212, 0.9354275066164953, 0.9452363949315169, 0.9418692756849649, 0.9266469291642971], 'IWLS Logistic Regression': [0.9221104231166151, 0.9165137811224331, 0.9212521606545745, 0.9338734584039208, 0.9258050462542408], 'LDA': [0.8967401009493614, 0.8959438173714951, 0.8607424135045425, 0.8852034589769517, 0.8913387799144475], 'QDA': [0.969244174190319, 0.9551710592493878, 0.9696098505810736, 0.9696439670577267, 0.961906944506551], 'Decision Tree': [0.9405707853264468, 0.960017633641922, 0.9551956837687849, 0.9485706015052604, 0.9412808177991582], 'Random Forest': [0.9843984099139457, 0.9715260041243354, 0.9617850735759523, 0.9717927580128146, 0.9611445866386579]}, 'Banana quality': {'ADAM Logistic Regression': [0.8781396533432084, 0.8817008797653959, 0.8674407043565806, 0.8697994799479948, 0.859191669050824], 'SGD Logistic Regression': [0.8906090081643814, 0.8746114936924858, 0.8725397053584264, 0.8713057718481572, 0.8686349366091646], 'IWLS Logistic Regression': [0.8737763052353262, 0.8742784086730231, 0.8780826499497523, 0.8824888788888732, 0.8823353279369065], 'LDA': [0.8918447701073937, 0.8765530244403483, 0.8730685568556855, 0.8776502650265026, 0.8655637605842523], 'QDA': [0.9192724613037934, 0.9274989804544127, 0.9206027897267306, 0.9152281264508504, 0.9293092670729801], 'Decision Tree': [0.9337433358958493, 0.941209563994374, 0.9388963648213355, 0.9425077226683167, 0.9375288097191297], 'Random Forest': [0.9719590016738795, 0.9692537509438918, 0.9712562050878204, 0.9675450489545265, 0.9724999999999999]}, 'Climate': {'ADAM Logistic Regression': [0.7836734693877551, 0.675, 0.8172446110590441, 0.6767676767676767, 0.8387755102040817], 'SGD Logistic Regression': [0.6675, 0.639795918367347, 0.578125, 0.5663967611336033, 0.5615275813295615], 'IWLS Logistic Regression': [0.539795918367347, 0.642156862745098, 0.6458333333333334, 0.5295918367346939, 0.74], 'LDA': [0.5664780763790664, 0.53514526710403, 0.5454545454545454, 0.6944837340876945, 0.57029053420806], 'QDA': [0.61, 0.4948453608247423, 0.62, 0.5475, 0.6616161616161617], 'Decision Tree': [0.6770833333333334, 0.46568627450980393, 0.539795918367347, 0.5202020202020202, 0.5744897959183674], 'Random Forest': [0.5, 0.5, 0.5, 0.5, 0.495]}, 'Diabetes': {'ADAM Logistic Regression': [0.692750890425309, 0.7008856682769726, 0.6808080808080808, 0.7151206636500754, 0.6557407407407407], 'SGD Logistic Regression': [0.6857407407407408, 0.7174311926605504, 0.6710255931253503, 0.6499606918238994, 0.7262626262626262], 'IWLS Logistic Regression': [0.7659090909090909, 0.7323076923076923, 0.7271623388753969, 0.7444444444444445, 0.7099497126436781], 'LDA': [0.7123263888888889, 0.6992592592592592, 0.7153434433541481, 0.7521037868162692, 0.6454081632653061], 'QDA': [0.7131824712643677, 0.7403669724770643, 0.7227777777777777, 0.681929181929182, 0.698639455782313], 'Decision Tree': [0.6246153846153846, 0.616235504014273, 0.712399643175736, 0.6480106605749095, 0.6729966196062835], 'Random Forest': [0.6702586206896551, 0.7741462392625182, 0.7891116352201257, 0.7118437118437119, 0.761168384879725]}, 'Biodegradable': {'ADAM Logistic Regression': [0.8759678379988087, 0.8402917505030181, 0.8095023980815348, 0.8399610136452242, 0.8540008164931618], 'SGD Logistic Regression': [0.8654855643044619, 0.8418680475642502, 0.8450617283950617, 0.8518876018876018, 0.8670835814969228], 'IWLS Logistic Regression': [0.8515107212475634, 0.8094591975188989, 0.8578212831944175, 0.8438650901337469, 0.8576998050682261], 'LDA': [0.8429208126036485, 0.8078465651995064, 0.8179761415055533, 0.8370128524046434, 0.8361195542046606], 'QDA': [0.7163269384492406, 0.6352142110762801, 0.6626984126984127, 0.6754411200613732, 0.6820779750969586], 'Decision Tree': [0.8468591691995948, 0.8086519114688129, 0.8197758124228712, 0.8082064993829701, 0.7455431177446104], 'Random Forest': [0.876477999612328, 0.8064288403614458, 0.8384088514225501, 0.8244651162790697, 0.8540862290862291]}, 'Plates': {'ADAM Logistic Regression': [0.17012448132780084, 0.17049808429118773, 0.17315175097276264, 0.184, 0.16733870967741934], 'SGD Logistic Regression': [0.4765625, 0.4713740458015267, 0.4575289575289575, 0.467680608365019, 0.4722222222222222], 'IWLS Logistic Regression': [0.5, 0.4654471544715447, 0.467680608365019, 0.48046875, 0.5], 'LDA': [0.6797303539465327, 0.6611919216204845, 0.6843629343629344, 0.6710494931425164, 0.6892886108214575], 'QDA': [0.5, 1.0, 1.0, 1.0, 1.0], 'Decision Tree': [1.0, 1.0, 1.0, 1.0, 1.0], 'Random Forest': [0.9980314960629921, 0.99243845585309, 0.9980988593155893, 0.996031746031746, 1.0]}}\n"
     ]
    },
    {
     "name": "stderr",
     "output_type": "stream",
     "text": [
      "\n"
     ]
    }
   ],
   "source": [
    "n_runs = 5  # at least 5\n",
    "\n",
    "scaler = StandardScaler()\n",
    "dataset_performances = dict()\n",
    "all_performances = []\n",
    "\n",
    "\n",
    "for dataset_name, data in datasets.items():\n",
    "    print(f'***{dataset_name}***\\n')\n",
    "    X, y = data\n",
    "    models_performances = dict()\n",
    "    for name, model in models.items():\n",
    "        print(f'\\t{name}')\n",
    "        models_performances[name] = []\n",
    "        for _ in tqdm(range(n_runs)):\n",
    "            X_train, X_test, y_train, y_test = train_test_split(\n",
    "                X, y, test_size=0.2\n",
    "             )\n",
    "            \n",
    "            X_train_scaled = scaler.fit_transform(X_train)\n",
    "            X_test_scaled = scaler.transform(X_test)\n",
    "\n",
    "            model.fit(X_train_scaled, y_train)\n",
    "            predictions = model.predict(X_test_scaled)\n",
    "\n",
    "            accuracy = balanced_accuracy_score(y_test, predictions)\n",
    "            models_performances[name].append(accuracy)\n",
    "        \n",
    "        \n",
    "        print(f'Balanced accuracy: {round(mean(models_performances[name])*100, 2)}%\\n\\n')\n",
    "    dataset_performances[dataset_name] = models_performances\n",
    "    print(dataset_performances)"
   ]
  },
  {
   "cell_type": "code",
   "execution_count": 4,
   "metadata": {},
   "outputs": [
    {
     "data": {
      "image/png": "[encoded data removed]",
      "text/plain": [
       "<Figure size 720x432 with 1 Axes>"
      ]
     },
     "metadata": {
      "needs_background": "light"
     },
     "output_type": "display_data"
    },
    {
     "data": {
      "image/png": "[encoded data removed]",
      "text/plain": [
       "<Figure size 720x432 with 1 Axes>"
      ]
     },
     "metadata": {
      "needs_background": "light"
     },
     "output_type": "display_data"
    },
    {
     "data": {
      "image/png": "[encoded data removed]",
      "text/plain": [
       "<Figure size 720x432 with 1 Axes>"
      ]
     },
     "metadata": {
      "needs_background": "light"
     },
     "output_type": "display_data"
    },
    {
     "data": {
      "image/png": "[encoded data removed]",
      "text/plain": [
       "<Figure size 720x432 with 1 Axes>"
      ]
     },
     "metadata": {
      "needs_background": "light"
     },
     "output_type": "display_data"
    },
    {
     "data": {
      "image/png": "[encoded data removed]",
      "text/plain": [
       "<Figure size 720x432 with 1 Axes>"
      ]
     },
     "metadata": {
      "needs_background": "light"
     },
     "output_type": "display_data"
    },
    {
     "data": {
      "image/png": "[encoded data removed]",
      "text/plain": [
       "<Figure size 720x432 with 1 Axes>"
      ]
     },
     "metadata": {
      "needs_background": "light"
     },
     "output_type": "display_data"
    },
    {
     "data": {
      "image/png": "[encoded data removed]",
      "text/plain": [
       "<Figure size 720x432 with 1 Axes>"
      ]
     },
     "metadata": {
      "needs_background": "light"
     },
     "output_type": "display_data"
    },
    {
     "data": {
      "image/png": "[encoded data removed]",
      "text/plain": [
       "<Figure size 720x432 with 1 Axes>"
      ]
     },
     "metadata": {
      "needs_background": "light"
     },
     "output_type": "display_data"
    },
    {
     "data": {
      "image/png": "[encoded data removed]",
      "text/plain": [
       "<Figure size 720x432 with 1 Axes>"
      ]
     },
     "metadata": {
      "needs_background": "light"
     },
     "output_type": "display_data"
    }
   ],
   "source": [
    "for dataset_name, performances in dataset_performances.items():\n",
    "    plt.figure(figsize=(10, 6))\n",
    "    plt.title(f'Performance of Models on {dataset_name}')\n",
    "    \n",
    "    # Convert performances dictionary to a DataFrame for easier plotting\n",
    "    df = pd.DataFrame(performances)\n",
    "    \n",
    "    # Plotting boxplot\n",
    "    sns.boxplot(data=df)\n",
    "    \n",
    "    plt.xlabel('Model')\n",
    "    plt.ylabel('Balanced Accuracy')\n",
    "    plt.xticks(rotation=45, ha='right')\n",
    "    plt.tight_layout()\n",
    "    plt.show()\n"
   ]
  },
  {
   "cell_type": "code",
   "execution_count": 5,
   "metadata": {},
   "outputs": [],
   "source": [
    "models_interactions = {\n",
    "    \"ADAM Logistic Regression\": ADAMLogisticRegression(\n",
    "        learning_rate=0.001,\n",
    "        iterations=500,\n",
    "        beta1=0.9,\n",
    "        beta2=0.999,\n",
    "        epsilon=1e-8,\n",
    "        include_interactions=False,\n",
    "    ),\n",
    "    \"ADAM Logistic Regression with interactions\": ADAMLogisticRegression(\n",
    "        learning_rate=0.001,\n",
    "        iterations=500,\n",
    "        beta1=0.9,\n",
    "        beta2=0.999,\n",
    "        epsilon=1e-8,\n",
    "        include_interactions=True,\n",
    "    ),\n",
    "    \"SGD Logistic Regression\": SGDLogisticRegression(\n",
    "        learning_rate=0.01, iterations=500, include_interactions=False\n",
    "    ),\n",
    "    \"SGD Logistic Regression with interactions\": SGDLogisticRegression(\n",
    "        learning_rate=0.01, iterations=500, include_interactions=True\n",
    "    ),\n",
    "    \"IWLS Logistic Regression\": IWLSLogisticRegression(\n",
    "        iterations=500, include_interactions=False\n",
    "    ),\n",
    "    \"IWLS Logistic Regression with interactions\": IWLSLogisticRegression(\n",
    "        iterations=500, include_interactions=True\n",
    "    )\n",
    "}\n",
    "\n",
    "datasets_small = {\n",
    "    \"Water Quality\": water_quality(),\n",
    "    \"Banana quality\": banana_quality(),\n",
    "    \"Diabetes\": diabetes()\n",
    "}"
   ]
  },
  {
   "cell_type": "code",
   "execution_count": 6,
   "metadata": {},
   "outputs": [
    {
     "name": "stdout",
     "output_type": "stream",
     "text": [
      "***Water Quality***\n",
      "\n",
      "\tADAM Logistic Regression\n"
     ]
    },
    {
     "name": "stderr",
     "output_type": "stream",
     "text": [
      "100%|██████████████████████████████████████████████████████████████████████████████████| 10/10 [00:01<00:00,  7.07it/s]\n"
     ]
    },
    {
     "name": "stdout",
     "output_type": "stream",
     "text": [
      "Balanced accuracy: 51.93%\n",
      "\n",
      "\n",
      "\tADAM Logistic Regression with interactions\n"
     ]
    },
    {
     "name": "stderr",
     "output_type": "stream",
     "text": [
      "100%|██████████████████████████████████████████████████████████████████████████████████| 10/10 [00:01<00:00,  6.51it/s]\n"
     ]
    },
    {
     "name": "stdout",
     "output_type": "stream",
     "text": [
      "Balanced accuracy: 61.32%\n",
      "\n",
      "\n",
      "\tSGD Logistic Regression\n"
     ]
    },
    {
     "name": "stderr",
     "output_type": "stream",
     "text": [
      " 20%|████████████████▌                                                                  | 2/10 [00:00<00:00, 11.22it/s]"
     ]
    },
    {
     "name": "stdout",
     "output_type": "stream",
     "text": [
      "Optimization converged after 4 iterations.\n",
      "Optimization converged after 4 iterations.\n",
      "Optimization converged after 4 iterations.\n"
     ]
    },
    {
     "name": "stderr",
     "output_type": "stream",
     "text": [
      "\r",
      " 40%|█████████████████████████████████▏                                                 | 4/10 [00:00<00:00, 10.45it/s]"
     ]
    },
    {
     "name": "stdout",
     "output_type": "stream",
     "text": [
      "Optimization converged after 4 iterations.\n",
      "Optimization converged after 4 iterations.\n"
     ]
    },
    {
     "name": "stderr",
     "output_type": "stream",
     "text": [
      "\r",
      " 60%|█████████████████████████████████████████████████▊                                 | 6/10 [00:00<00:00, 10.22it/s]"
     ]
    },
    {
     "name": "stdout",
     "output_type": "stream",
     "text": [
      "Optimization converged after 4 iterations.\n"
     ]
    },
    {
     "name": "stderr",
     "output_type": "stream",
     "text": [
      "\r",
      " 80%|██████████████████████████████████████████████████████████████████▍                | 8/10 [00:00<00:00, 10.12it/s]"
     ]
    },
    {
     "name": "stdout",
     "output_type": "stream",
     "text": [
      "Optimization converged after 4 iterations.\n",
      "Optimization converged after 4 iterations.\n"
     ]
    },
    {
     "name": "stderr",
     "output_type": "stream",
     "text": [
      "100%|██████████████████████████████████████████████████████████████████████████████████| 10/10 [00:00<00:00, 10.26it/s]\n"
     ]
    },
    {
     "name": "stdout",
     "output_type": "stream",
     "text": [
      "Optimization converged after 4 iterations.\n",
      "Optimization converged after 4 iterations.\n",
      "Balanced accuracy: 51.8%\n",
      "\n",
      "\n",
      "\tSGD Logistic Regression with interactions\n"
     ]
    },
    {
     "name": "stderr",
     "output_type": "stream",
     "text": [
      " 20%|████████████████▌                                                                  | 2/10 [00:00<00:01,  5.90it/s]"
     ]
    },
    {
     "name": "stdout",
     "output_type": "stream",
     "text": [
      "Optimization converged after 7 iterations.\n",
      "Optimization converged after 7 iterations.\n"
     ]
    },
    {
     "name": "stderr",
     "output_type": "stream",
     "text": [
      "\r",
      " 30%|████████████████████████▉                                                          | 3/10 [00:00<00:01,  6.28it/s]"
     ]
    },
    {
     "name": "stdout",
     "output_type": "stream",
     "text": [
      "Optimization converged after 6 iterations.\n",
      "Optimization converged after 7 iterations.\n"
     ]
    },
    {
     "name": "stderr",
     "output_type": "stream",
     "text": [
      " 60%|█████████████████████████████████████████████████▊                                 | 6/10 [00:00<00:00,  6.19it/s]"
     ]
    },
    {
     "name": "stdout",
     "output_type": "stream",
     "text": [
      "Optimization converged after 6 iterations.\n",
      "Optimization converged after 7 iterations.\n"
     ]
    },
    {
     "name": "stderr",
     "output_type": "stream",
     "text": [
      " 80%|██████████████████████████████████████████████████████████████████▍                | 8/10 [00:01<00:00,  5.86it/s]"
     ]
    },
    {
     "name": "stdout",
     "output_type": "stream",
     "text": [
      "Optimization converged after 8 iterations.\n",
      "Optimization converged after 7 iterations.\n"
     ]
    },
    {
     "name": "stderr",
     "output_type": "stream",
     "text": [
      "100%|██████████████████████████████████████████████████████████████████████████████████| 10/10 [00:01<00:00,  5.97it/s]\n"
     ]
    },
    {
     "name": "stdout",
     "output_type": "stream",
     "text": [
      "Optimization converged after 7 iterations.\n",
      "Optimization converged after 7 iterations.\n",
      "Balanced accuracy: 59.84%\n",
      "\n",
      "\n",
      "\tIWLS Logistic Regression\n"
     ]
    },
    {
     "name": "stderr",
     "output_type": "stream",
     "text": [
      " 20%|████████████████▌                                                                  | 2/10 [00:00<00:00, 12.99it/s]"
     ]
    },
    {
     "name": "stdout",
     "output_type": "stream",
     "text": [
      "Optimization converged after 4 iterations.\n",
      "Optimization converged after 4 iterations.\n",
      "Optimization converged after 4 iterations.\n"
     ]
    },
    {
     "name": "stderr",
     "output_type": "stream",
     "text": [
      "\r",
      " 40%|█████████████████████████████████▏                                                 | 4/10 [00:00<00:00, 11.77it/s]"
     ]
    },
    {
     "name": "stdout",
     "output_type": "stream",
     "text": [
      "Optimization converged after 4 iterations.\n",
      "Optimization converged after 4 iterations.\n",
      "Optimization converged after 4 iterations.\n"
     ]
    },
    {
     "name": "stderr",
     "output_type": "stream",
     "text": [
      " 80%|██████████████████████████████████████████████████████████████████▍                | 8/10 [00:00<00:00, 11.13it/s]"
     ]
    },
    {
     "name": "stdout",
     "output_type": "stream",
     "text": [
      "Optimization converged after 4 iterations.\n",
      "Optimization converged after 4 iterations.\n",
      "Optimization converged after 4 iterations.\n"
     ]
    },
    {
     "name": "stderr",
     "output_type": "stream",
     "text": [
      "100%|██████████████████████████████████████████████████████████████████████████████████| 10/10 [00:00<00:00, 11.33it/s]\n"
     ]
    },
    {
     "name": "stdout",
     "output_type": "stream",
     "text": [
      "Optimization converged after 4 iterations.\n",
      "Balanced accuracy: 51.26%\n",
      "\n",
      "\n",
      "\tIWLS Logistic Regression with interactions\n"
     ]
    },
    {
     "name": "stderr",
     "output_type": "stream",
     "text": [
      " 10%|████████▎                                                                          | 1/10 [00:00<00:01,  5.85it/s]"
     ]
    },
    {
     "name": "stdout",
     "output_type": "stream",
     "text": [
      "Optimization converged after 6 iterations.\n"
     ]
    },
    {
     "name": "stderr",
     "output_type": "stream",
     "text": [
      "\r",
      " 20%|████████████████▌                                                                  | 2/10 [00:00<00:01,  5.99it/s]"
     ]
    },
    {
     "name": "stdout",
     "output_type": "stream",
     "text": [
      "Optimization converged after 6 iterations.\n"
     ]
    },
    {
     "name": "stderr",
     "output_type": "stream",
     "text": [
      "\r",
      " 30%|████████████████████████▉                                                          | 3/10 [00:00<00:01,  6.00it/s]"
     ]
    },
    {
     "name": "stdout",
     "output_type": "stream",
     "text": [
      "Optimization converged after 6 iterations.\n"
     ]
    },
    {
     "name": "stderr",
     "output_type": "stream",
     "text": [
      "\r",
      " 40%|█████████████████████████████████▏                                                 | 4/10 [00:00<00:00,  6.22it/s]"
     ]
    },
    {
     "name": "stdout",
     "output_type": "stream",
     "text": [
      "Optimization converged after 6 iterations.\n"
     ]
    },
    {
     "name": "stderr",
     "output_type": "stream",
     "text": [
      "\r",
      " 50%|█████████████████████████████████████████▌                                         | 5/10 [00:00<00:00,  6.13it/s]"
     ]
    },
    {
     "name": "stdout",
     "output_type": "stream",
     "text": [
      "Optimization converged after 6 iterations.\n"
     ]
    },
    {
     "name": "stderr",
     "output_type": "stream",
     "text": [
      "\r",
      " 60%|█████████████████████████████████████████████████▊                                 | 6/10 [00:00<00:00,  6.06it/s]"
     ]
    },
    {
     "name": "stdout",
     "output_type": "stream",
     "text": [
      "Optimization converged after 6 iterations.\n"
     ]
    },
    {
     "name": "stderr",
     "output_type": "stream",
     "text": [
      "\r",
      " 70%|██████████████████████████████████████████████████████████                         | 7/10 [00:01<00:00,  6.00it/s]"
     ]
    },
    {
     "name": "stdout",
     "output_type": "stream",
     "text": [
      "Optimization converged after 6 iterations.\n"
     ]
    },
    {
     "name": "stderr",
     "output_type": "stream",
     "text": [
      "\r",
      " 80%|██████████████████████████████████████████████████████████████████▍                | 8/10 [00:01<00:00,  5.98it/s]"
     ]
    },
    {
     "name": "stdout",
     "output_type": "stream",
     "text": [
      "Optimization converged after 6 iterations.\n"
     ]
    },
    {
     "name": "stderr",
     "output_type": "stream",
     "text": [
      "\r",
      " 90%|██████████████████████████████████████████████████████████████████████████▋        | 9/10 [00:01<00:00,  5.91it/s]"
     ]
    },
    {
     "name": "stdout",
     "output_type": "stream",
     "text": [
      "Optimization converged after 6 iterations.\n"
     ]
    },
    {
     "name": "stderr",
     "output_type": "stream",
     "text": [
      "\r",
      "100%|██████████████████████████████████████████████████████████████████████████████████| 10/10 [00:01<00:00,  5.86it/s]"
     ]
    },
    {
     "name": "stdout",
     "output_type": "stream",
     "text": [
      "Optimization converged after 6 iterations.\n"
     ]
    },
    {
     "name": "stderr",
     "output_type": "stream",
     "text": [
      "100%|██████████████████████████████████████████████████████████████████████████████████| 10/10 [00:01<00:00,  5.96it/s]\n"
     ]
    },
    {
     "name": "stdout",
     "output_type": "stream",
     "text": [
      "Balanced accuracy: 61.17%\n",
      "\n",
      "\n",
      "{'Water Quality': {'ADAM Logistic Regression': [0.5208863328152995, 0.5148640101201771, 0.5302474524073402, 0.5128045130328027, 0.5257437070938215, 0.5215326976155601, 0.5107054054315541, 0.518035848010659, 0.5107146592129908, 0.5276422764227643], 'ADAM Logistic Regression with interactions': [0.6245958474543258, 0.6095988042326995, 0.5945018187492076, 0.6206733901948007, 0.6041068450707006, 0.6505867897328728, 0.5935239730420453, 0.592447026657553, 0.6164817210157261, 0.625006206862307], 'SGD Logistic Regression': [0.5235156249999999, 0.5336748768472906, 0.5181364107831586, 0.4972623867360709, 0.5231464846089352, 0.5113044892648015, 0.5241281733683776, 0.5023829467664135, 0.511243993171704, 0.5347389162561577], 'SGD Logistic Regression with interactions': [0.6017714954672548, 0.6220696794667131, 0.597356939737447, 0.5844659137028201, 0.5960425045930781, 0.6156793312628799, 0.569453125, 0.580215515983778, 0.6013299193640845, 0.616015034680513], 'IWLS Logistic Regression': [0.5146021859207898, 0.5181282397907083, 0.5125, 0.5067510386213263, 0.5048503806063965, 0.5094911908977448, 0.5109162561576355, 0.5214008538945567, 0.516837976066339, 0.5107522796352584], 'IWLS Logistic Regression with interactions': [0.6128656645192079, 0.5948844884488449, 0.6197446200014098, 0.609109242044169, 0.6452928537322935, 0.5967407059192228, 0.6262254901960784, 0.6134375000000001, 0.5907141398325277, 0.6081045003813883]}}\n",
      "***Banana quality***\n",
      "\n",
      "\tADAM Logistic Regression\n"
     ]
    },
    {
     "name": "stderr",
     "output_type": "stream",
     "text": [
      "100%|██████████████████████████████████████████████████████████████████████████████████| 10/10 [00:01<00:00,  5.12it/s]\n"
     ]
    },
    {
     "name": "stdout",
     "output_type": "stream",
     "text": [
      "Balanced accuracy: 87.07%\n",
      "\n",
      "\n",
      "\tADAM Logistic Regression with interactions\n"
     ]
    },
    {
     "name": "stderr",
     "output_type": "stream",
     "text": [
      "100%|██████████████████████████████████████████████████████████████████████████████████| 10/10 [00:02<00:00,  4.32it/s]\n"
     ]
    },
    {
     "name": "stdout",
     "output_type": "stream",
     "text": [
      "Balanced accuracy: 93.36%\n",
      "\n",
      "\n",
      "\tSGD Logistic Regression\n"
     ]
    },
    {
     "name": "stderr",
     "output_type": "stream",
     "text": [
      " 10%|████████▎                                                                          | 1/10 [00:00<00:05,  1.73it/s]"
     ]
    },
    {
     "name": "stdout",
     "output_type": "stream",
     "text": [
      "Optimization converged after 11 iterations.\n"
     ]
    },
    {
     "name": "stderr",
     "output_type": "stream",
     "text": [
      "\r",
      " 20%|████████████████▌                                                                  | 2/10 [00:01<00:04,  1.72it/s]"
     ]
    },
    {
     "name": "stdout",
     "output_type": "stream",
     "text": [
      "Optimization converged after 11 iterations.\n"
     ]
    },
    {
     "name": "stderr",
     "output_type": "stream",
     "text": [
      "\r",
      " 30%|████████████████████████▉                                                          | 3/10 [00:01<00:04,  1.66it/s]"
     ]
    },
    {
     "name": "stdout",
     "output_type": "stream",
     "text": [
      "Optimization converged after 12 iterations.\n"
     ]
    },
    {
     "name": "stderr",
     "output_type": "stream",
     "text": [
      "\r",
      " 40%|█████████████████████████████████▏                                                 | 4/10 [00:02<00:03,  1.68it/s]"
     ]
    },
    {
     "name": "stdout",
     "output_type": "stream",
     "text": [
      "Optimization converged after 11 iterations.\n"
     ]
    },
    {
     "name": "stderr",
     "output_type": "stream",
     "text": [
      "\r",
      " 50%|█████████████████████████████████████████▌                                         | 5/10 [00:02<00:02,  1.75it/s]"
     ]
    },
    {
     "name": "stdout",
     "output_type": "stream",
     "text": [
      "Optimization converged after 10 iterations.\n"
     ]
    },
    {
     "name": "stderr",
     "output_type": "stream",
     "text": [
      "\r",
      " 60%|█████████████████████████████████████████████████▊                                 | 6/10 [00:03<00:02,  1.81it/s]"
     ]
    },
    {
     "name": "stdout",
     "output_type": "stream",
     "text": [
      "Optimization converged after 10 iterations.\n"
     ]
    },
    {
     "name": "stderr",
     "output_type": "stream",
     "text": [
      "\r",
      " 70%|██████████████████████████████████████████████████████████                         | 7/10 [00:03<00:01,  1.83it/s]"
     ]
    },
    {
     "name": "stdout",
     "output_type": "stream",
     "text": [
      "Optimization converged after 10 iterations.\n"
     ]
    },
    {
     "name": "stderr",
     "output_type": "stream",
     "text": [
      "\r",
      " 80%|██████████████████████████████████████████████████████████████████▍                | 8/10 [00:04<00:01,  1.73it/s]"
     ]
    },
    {
     "name": "stdout",
     "output_type": "stream",
     "text": [
      "Optimization converged after 12 iterations.\n"
     ]
    },
    {
     "name": "stderr",
     "output_type": "stream",
     "text": [
      "\r",
      " 90%|██████████████████████████████████████████████████████████████████████████▋        | 9/10 [00:05<00:00,  1.68it/s]"
     ]
    },
    {
     "name": "stdout",
     "output_type": "stream",
     "text": [
      "Optimization converged after 12 iterations.\n"
     ]
    },
    {
     "name": "stderr",
     "output_type": "stream",
     "text": [
      "100%|██████████████████████████████████████████████████████████████████████████████████| 10/10 [00:05<00:00,  1.72it/s]\n"
     ]
    },
    {
     "name": "stdout",
     "output_type": "stream",
     "text": [
      "Optimization converged after 11 iterations.\n",
      "Balanced accuracy: 87.83%\n",
      "\n",
      "\n",
      "\tSGD Logistic Regression with interactions\n"
     ]
    },
    {
     "name": "stderr",
     "output_type": "stream",
     "text": [
      " 10%|████████▎                                                                          | 1/10 [00:02<00:23,  2.62s/it]"
     ]
    },
    {
     "name": "stdout",
     "output_type": "stream",
     "text": [
      "Optimization converged after 50 iterations.\n"
     ]
    },
    {
     "name": "stderr",
     "output_type": "stream",
     "text": [
      "\r",
      " 20%|████████████████▌                                                                  | 2/10 [00:05<00:24,  3.07s/it]"
     ]
    },
    {
     "name": "stdout",
     "output_type": "stream",
     "text": [
      "Optimization converged after 64 iterations.\n"
     ]
    },
    {
     "name": "stderr",
     "output_type": "stream",
     "text": [
      "\r",
      " 30%|████████████████████████▉                                                          | 3/10 [00:09<00:21,  3.04s/it]"
     ]
    },
    {
     "name": "stdout",
     "output_type": "stream",
     "text": [
      "Optimization converged after 57 iterations.\n"
     ]
    },
    {
     "name": "stderr",
     "output_type": "stream",
     "text": [
      "\r",
      " 40%|█████████████████████████████████▏                                                 | 4/10 [00:11<00:17,  2.99s/it]"
     ]
    },
    {
     "name": "stdout",
     "output_type": "stream",
     "text": [
      "Optimization converged after 55 iterations.\n"
     ]
    },
    {
     "name": "stderr",
     "output_type": "stream",
     "text": [
      "\r",
      " 50%|█████████████████████████████████████████▌                                         | 5/10 [00:14<00:14,  2.99s/it]"
     ]
    },
    {
     "name": "stdout",
     "output_type": "stream",
     "text": [
      "Optimization converged after 57 iterations.\n"
     ]
    },
    {
     "name": "stderr",
     "output_type": "stream",
     "text": [
      "\r",
      " 60%|█████████████████████████████████████████████████▊                                 | 6/10 [00:17<00:11,  2.97s/it]"
     ]
    },
    {
     "name": "stdout",
     "output_type": "stream",
     "text": [
      "Optimization converged after 56 iterations.\n"
     ]
    },
    {
     "name": "stderr",
     "output_type": "stream",
     "text": [
      "\r",
      " 70%|██████████████████████████████████████████████████████████                         | 7/10 [00:21<00:09,  3.05s/it]"
     ]
    },
    {
     "name": "stdout",
     "output_type": "stream",
     "text": [
      "Optimization converged after 61 iterations.\n"
     ]
    },
    {
     "name": "stderr",
     "output_type": "stream",
     "text": [
      "\r",
      " 80%|██████████████████████████████████████████████████████████████████▍                | 8/10 [00:23<00:05,  2.95s/it]"
     ]
    },
    {
     "name": "stdout",
     "output_type": "stream",
     "text": [
      "Optimization converged after 52 iterations.\n"
     ]
    },
    {
     "name": "stderr",
     "output_type": "stream",
     "text": [
      "\r",
      " 90%|██████████████████████████████████████████████████████████████████████████▋        | 9/10 [00:26<00:02,  2.93s/it]"
     ]
    },
    {
     "name": "stdout",
     "output_type": "stream",
     "text": [
      "Optimization converged after 55 iterations.\n"
     ]
    },
    {
     "name": "stderr",
     "output_type": "stream",
     "text": [
      "100%|██████████████████████████████████████████████████████████████████████████████████| 10/10 [00:29<00:00,  3.00s/it]\n"
     ]
    },
    {
     "name": "stdout",
     "output_type": "stream",
     "text": [
      "Optimization converged after 62 iterations.\n",
      "Balanced accuracy: 95.32%\n",
      "\n",
      "\n",
      "\tIWLS Logistic Regression\n"
     ]
    },
    {
     "name": "stderr",
     "output_type": "stream",
     "text": [
      " 10%|████████▎                                                                          | 1/10 [00:00<00:07,  1.17it/s]"
     ]
    },
    {
     "name": "stdout",
     "output_type": "stream",
     "text": [
      "Optimization converged after 8 iterations.\n"
     ]
    },
    {
     "name": "stderr",
     "output_type": "stream",
     "text": [
      "\r",
      " 20%|████████████████▌                                                                  | 2/10 [00:01<00:06,  1.16it/s]"
     ]
    },
    {
     "name": "stdout",
     "output_type": "stream",
     "text": [
      "Optimization converged after 8 iterations.\n"
     ]
    },
    {
     "name": "stderr",
     "output_type": "stream",
     "text": [
      "\r",
      " 30%|████████████████████████▉                                                          | 3/10 [00:02<00:06,  1.16it/s]"
     ]
    },
    {
     "name": "stdout",
     "output_type": "stream",
     "text": [
      "Optimization converged after 8 iterations.\n"
     ]
    },
    {
     "name": "stderr",
     "output_type": "stream",
     "text": [
      "\r",
      " 40%|█████████████████████████████████▏                                                 | 4/10 [00:03<00:05,  1.15it/s]"
     ]
    },
    {
     "name": "stdout",
     "output_type": "stream",
     "text": [
      "Optimization converged after 8 iterations.\n"
     ]
    },
    {
     "name": "stderr",
     "output_type": "stream",
     "text": [
      "\r",
      " 50%|█████████████████████████████████████████▌                                         | 5/10 [00:04<00:04,  1.15it/s]"
     ]
    },
    {
     "name": "stdout",
     "output_type": "stream",
     "text": [
      "Optimization converged after 8 iterations.\n"
     ]
    },
    {
     "name": "stderr",
     "output_type": "stream",
     "text": [
      "\r",
      " 60%|█████████████████████████████████████████████████▊                                 | 6/10 [00:05<00:03,  1.15it/s]"
     ]
    },
    {
     "name": "stdout",
     "output_type": "stream",
     "text": [
      "Optimization converged after 8 iterations.\n"
     ]
    },
    {
     "name": "stderr",
     "output_type": "stream",
     "text": [
      "\r",
      " 70%|██████████████████████████████████████████████████████████                         | 7/10 [00:06<00:02,  1.15it/s]"
     ]
    },
    {
     "name": "stdout",
     "output_type": "stream",
     "text": [
      "Optimization converged after 8 iterations.\n"
     ]
    },
    {
     "name": "stderr",
     "output_type": "stream",
     "text": [
      "\r",
      " 80%|██████████████████████████████████████████████████████████████████▍                | 8/10 [00:06<00:01,  1.15it/s]"
     ]
    },
    {
     "name": "stdout",
     "output_type": "stream",
     "text": [
      "Optimization converged after 8 iterations.\n"
     ]
    },
    {
     "name": "stderr",
     "output_type": "stream",
     "text": [
      "\r",
      " 90%|██████████████████████████████████████████████████████████████████████████▋        | 9/10 [00:07<00:00,  1.15it/s]"
     ]
    },
    {
     "name": "stdout",
     "output_type": "stream",
     "text": [
      "Optimization converged after 8 iterations.\n"
     ]
    },
    {
     "name": "stderr",
     "output_type": "stream",
     "text": [
      "100%|██████████████████████████████████████████████████████████████████████████████████| 10/10 [00:08<00:00,  1.15it/s]\n"
     ]
    },
    {
     "name": "stdout",
     "output_type": "stream",
     "text": [
      "Optimization converged after 8 iterations.\n",
      "Balanced accuracy: 88.15%\n",
      "\n",
      "\n",
      "\tIWLS Logistic Regression with interactions\n"
     ]
    },
    {
     "name": "stderr",
     "output_type": "stream",
     "text": [
      " 10%|████████▎                                                                          | 1/10 [00:01<00:10,  1.15s/it]"
     ]
    },
    {
     "name": "stdout",
     "output_type": "stream",
     "text": [
      "Optimization converged after 9 iterations.\n"
     ]
    },
    {
     "name": "stderr",
     "output_type": "stream",
     "text": [
      "\r",
      " 20%|████████████████▌                                                                  | 2/10 [00:02<00:09,  1.14s/it]"
     ]
    },
    {
     "name": "stdout",
     "output_type": "stream",
     "text": [
      "Optimization converged after 9 iterations.\n"
     ]
    },
    {
     "name": "stderr",
     "output_type": "stream",
     "text": [
      "\r",
      " 30%|████████████████████████▉                                                          | 3/10 [00:03<00:08,  1.16s/it]"
     ]
    },
    {
     "name": "stdout",
     "output_type": "stream",
     "text": [
      "Optimization converged after 9 iterations.\n"
     ]
    },
    {
     "name": "stderr",
     "output_type": "stream",
     "text": [
      "\r",
      " 40%|█████████████████████████████████▏                                                 | 4/10 [00:04<00:06,  1.16s/it]"
     ]
    },
    {
     "name": "stdout",
     "output_type": "stream",
     "text": [
      "Optimization converged after 9 iterations.\n"
     ]
    },
    {
     "name": "stderr",
     "output_type": "stream",
     "text": [
      "\r",
      " 50%|█████████████████████████████████████████▌                                         | 5/10 [00:05<00:05,  1.16s/it]"
     ]
    },
    {
     "name": "stdout",
     "output_type": "stream",
     "text": [
      "Optimization converged after 9 iterations.\n"
     ]
    },
    {
     "name": "stderr",
     "output_type": "stream",
     "text": [
      "\r",
      " 60%|█████████████████████████████████████████████████▊                                 | 6/10 [00:06<00:04,  1.16s/it]"
     ]
    },
    {
     "name": "stdout",
     "output_type": "stream",
     "text": [
      "Optimization converged after 9 iterations.\n"
     ]
    },
    {
     "name": "stderr",
     "output_type": "stream",
     "text": [
      "\r",
      " 70%|██████████████████████████████████████████████████████████                         | 7/10 [00:08<00:03,  1.16s/it]"
     ]
    },
    {
     "name": "stdout",
     "output_type": "stream",
     "text": [
      "Optimization converged after 9 iterations.\n"
     ]
    },
    {
     "name": "stderr",
     "output_type": "stream",
     "text": [
      "\r",
      " 80%|██████████████████████████████████████████████████████████████████▍                | 8/10 [00:09<00:02,  1.16s/it]"
     ]
    },
    {
     "name": "stdout",
     "output_type": "stream",
     "text": [
      "Optimization converged after 9 iterations.\n"
     ]
    },
    {
     "name": "stderr",
     "output_type": "stream",
     "text": [
      "\r",
      " 90%|██████████████████████████████████████████████████████████████████████████▋        | 9/10 [00:10<00:01,  1.16s/it]"
     ]
    },
    {
     "name": "stdout",
     "output_type": "stream",
     "text": [
      "Optimization converged after 9 iterations.\n"
     ]
    },
    {
     "name": "stderr",
     "output_type": "stream",
     "text": [
      "100%|██████████████████████████████████████████████████████████████████████████████████| 10/10 [00:11<00:00,  1.16s/it]\n"
     ]
    },
    {
     "name": "stdout",
     "output_type": "stream",
     "text": [
      "Optimization converged after 9 iterations.\n",
      "Balanced accuracy: 95.44%\n",
      "\n",
      "\n",
      "{'Water Quality': {'ADAM Logistic Regression': [0.5208863328152995, 0.5148640101201771, 0.5302474524073402, 0.5128045130328027, 0.5257437070938215, 0.5215326976155601, 0.5107054054315541, 0.518035848010659, 0.5107146592129908, 0.5276422764227643], 'ADAM Logistic Regression with interactions': [0.6245958474543258, 0.6095988042326995, 0.5945018187492076, 0.6206733901948007, 0.6041068450707006, 0.6505867897328728, 0.5935239730420453, 0.592447026657553, 0.6164817210157261, 0.625006206862307], 'SGD Logistic Regression': [0.5235156249999999, 0.5336748768472906, 0.5181364107831586, 0.4972623867360709, 0.5231464846089352, 0.5113044892648015, 0.5241281733683776, 0.5023829467664135, 0.511243993171704, 0.5347389162561577], 'SGD Logistic Regression with interactions': [0.6017714954672548, 0.6220696794667131, 0.597356939737447, 0.5844659137028201, 0.5960425045930781, 0.6156793312628799, 0.569453125, 0.580215515983778, 0.6013299193640845, 0.616015034680513], 'IWLS Logistic Regression': [0.5146021859207898, 0.5181282397907083, 0.5125, 0.5067510386213263, 0.5048503806063965, 0.5094911908977448, 0.5109162561576355, 0.5214008538945567, 0.516837976066339, 0.5107522796352584], 'IWLS Logistic Regression with interactions': [0.6128656645192079, 0.5948844884488449, 0.6197446200014098, 0.609109242044169, 0.6452928537322935, 0.5967407059192228, 0.6262254901960784, 0.6134375000000001, 0.5907141398325277, 0.6081045003813883]}, 'Banana quality': {'ADAM Logistic Regression': [0.8755500137503438, 0.8726138859169998, 0.8691545336206614, 0.8662622910348297, 0.8709505941213258, 0.8805556987956891, 0.8689149294153704, 0.8688404710117753, 0.8675890193673732, 0.866072823878731], 'ADAM Logistic Regression with interactions': [0.9243199869990046, 0.9381543336812695, 0.9319307162818613, 0.9336806445362551, 0.9300370627316421, 0.939954590659186, 0.935, 0.928060015875893, 0.9337577089964204, 0.9412679240801823], 'SGD Logistic Regression': [0.8750451482974988, 0.8801083880989178, 0.86375, 0.8785838455718207, 0.8743568268928781, 0.8907483222892838, 0.879375, 0.886875, 0.880081431111125, 0.8737654277584809], 'SGD Logistic Regression with interactions': [0.9510796680640774, 0.9475121719510746, 0.9563049509593217, 0.9492417043834862, 0.9556708247975236, 0.9569894489448945, 0.9520339641315718, 0.9585573809453076, 0.9499511699675769, 0.9544146233225619], 'IWLS Logistic Regression': [0.8767250821467689, 0.8855248594601017, 0.8841053908541199, 0.8762711652530455, 0.8773077073323177, 0.878125, 0.884375839848999, 0.8837298331966092, 0.8818742919645299, 0.8864693204530834], 'IWLS Logistic Regression with interactions': [0.9498423581223101, 0.951287159654674, 0.9556241494127334, 0.9553443407154172, 0.9544850757930927, 0.9520003125488358, 0.9549773402094077, 0.9537680998639044, 0.9617841921644799, 0.9544225660259416]}}\n",
      "***Diabetes***\n",
      "\n",
      "\tADAM Logistic Regression\n"
     ]
    },
    {
     "name": "stderr",
     "output_type": "stream",
     "text": [
      "100%|██████████████████████████████████████████████████████████████████████████████████| 10/10 [00:00<00:00, 30.30it/s]\n"
     ]
    },
    {
     "name": "stdout",
     "output_type": "stream",
     "text": [
      "Balanced accuracy: 71.94%\n",
      "\n",
      "\n",
      "\tADAM Logistic Regression with interactions\n"
     ]
    },
    {
     "name": "stderr",
     "output_type": "stream",
     "text": [
      "100%|██████████████████████████████████████████████████████████████████████████████████| 10/10 [00:00<00:00, 10.10it/s]\n"
     ]
    },
    {
     "name": "stdout",
     "output_type": "stream",
     "text": [
      "Balanced accuracy: 68.88%\n",
      "\n",
      "\n",
      "\tSGD Logistic Regression\n"
     ]
    },
    {
     "name": "stderr",
     "output_type": "stream",
     "text": [
      " 10%|████████▎                                                                          | 1/10 [00:00<00:01,  8.63it/s]"
     ]
    },
    {
     "name": "stdout",
     "output_type": "stream",
     "text": [
      "Optimization converged after 21 iterations.\n"
     ]
    },
    {
     "name": "stderr",
     "output_type": "stream",
     "text": [
      "\r",
      " 20%|████████████████▌                                                                  | 2/10 [00:00<00:00,  8.63it/s]"
     ]
    },
    {
     "name": "stdout",
     "output_type": "stream",
     "text": [
      "Optimization converged after 23 iterations.\n"
     ]
    },
    {
     "name": "stderr",
     "output_type": "stream",
     "text": [
      "\r",
      " 30%|████████████████████████▉                                                          | 3/10 [00:00<00:00,  8.41it/s]"
     ]
    },
    {
     "name": "stdout",
     "output_type": "stream",
     "text": [
      "Optimization converged after 23 iterations.\n"
     ]
    },
    {
     "name": "stderr",
     "output_type": "stream",
     "text": [
      "\r",
      " 40%|█████████████████████████████████▏                                                 | 4/10 [00:00<00:00,  8.07it/s]"
     ]
    },
    {
     "name": "stdout",
     "output_type": "stream",
     "text": [
      "Optimization converged after 26 iterations.\n"
     ]
    },
    {
     "name": "stderr",
     "output_type": "stream",
     "text": [
      "\r",
      " 50%|█████████████████████████████████████████▌                                         | 5/10 [00:00<00:00,  7.56it/s]"
     ]
    },
    {
     "name": "stdout",
     "output_type": "stream",
     "text": [
      "Optimization converged after 26 iterations.\n"
     ]
    },
    {
     "name": "stderr",
     "output_type": "stream",
     "text": [
      "\r",
      " 60%|█████████████████████████████████████████████████▊                                 | 6/10 [00:00<00:00,  7.45it/s]"
     ]
    },
    {
     "name": "stdout",
     "output_type": "stream",
     "text": [
      "Optimization converged after 26 iterations.\n"
     ]
    },
    {
     "name": "stderr",
     "output_type": "stream",
     "text": [
      "\r",
      " 70%|██████████████████████████████████████████████████████████                         | 7/10 [00:00<00:00,  7.50it/s]"
     ]
    },
    {
     "name": "stdout",
     "output_type": "stream",
     "text": [
      "Optimization converged after 25 iterations.\n"
     ]
    },
    {
     "name": "stderr",
     "output_type": "stream",
     "text": [
      "\r",
      " 80%|██████████████████████████████████████████████████████████████████▍                | 8/10 [00:01<00:00,  7.15it/s]"
     ]
    },
    {
     "name": "stdout",
     "output_type": "stream",
     "text": [
      "Optimization converged after 30 iterations.\n"
     ]
    },
    {
     "name": "stderr",
     "output_type": "stream",
     "text": [
      "\r",
      " 90%|██████████████████████████████████████████████████████████████████████████▋        | 9/10 [00:01<00:00,  7.29it/s]"
     ]
    },
    {
     "name": "stdout",
     "output_type": "stream",
     "text": [
      "Optimization converged after 26 iterations.\n"
     ]
    },
    {
     "name": "stderr",
     "output_type": "stream",
     "text": [
      "100%|██████████████████████████████████████████████████████████████████████████████████| 10/10 [00:01<00:00,  7.67it/s]\n"
     ]
    },
    {
     "name": "stdout",
     "output_type": "stream",
     "text": [
      "Optimization converged after 23 iterations.\n",
      "Balanced accuracy: 73.76%\n",
      "\n",
      "\n",
      "\tSGD Logistic Regression with interactions\n"
     ]
    },
    {
     "name": "stderr",
     "output_type": "stream",
     "text": [
      " 10%|████████▎                                                                          | 1/10 [00:00<00:04,  2.06it/s]"
     ]
    },
    {
     "name": "stdout",
     "output_type": "stream",
     "text": [
      "Optimization converged after 91 iterations.\n"
     ]
    },
    {
     "name": "stderr",
     "output_type": "stream",
     "text": [
      "\r",
      " 20%|████████████████▌                                                                  | 2/10 [00:00<00:03,  2.20it/s]"
     ]
    },
    {
     "name": "stdout",
     "output_type": "stream",
     "text": [
      "Optimization converged after 82 iterations.\n"
     ]
    },
    {
     "name": "stderr",
     "output_type": "stream",
     "text": [
      "\r",
      " 30%|████████████████████████▉                                                          | 3/10 [00:01<00:03,  2.17it/s]"
     ]
    },
    {
     "name": "stdout",
     "output_type": "stream",
     "text": [
      "Optimization converged after 87 iterations.\n"
     ]
    },
    {
     "name": "stderr",
     "output_type": "stream",
     "text": [
      "\r",
      " 40%|█████████████████████████████████▏                                                 | 4/10 [00:01<00:02,  2.22it/s]"
     ]
    },
    {
     "name": "stdout",
     "output_type": "stream",
     "text": [
      "Optimization converged after 81 iterations.\n"
     ]
    },
    {
     "name": "stderr",
     "output_type": "stream",
     "text": [
      "\r",
      " 50%|█████████████████████████████████████████▌                                         | 5/10 [00:02<00:02,  2.19it/s]"
     ]
    },
    {
     "name": "stdout",
     "output_type": "stream",
     "text": [
      "Optimization converged after 86 iterations.\n"
     ]
    },
    {
     "name": "stderr",
     "output_type": "stream",
     "text": [
      "\r",
      " 60%|█████████████████████████████████████████████████▊                                 | 6/10 [00:02<00:01,  2.28it/s]"
     ]
    },
    {
     "name": "stdout",
     "output_type": "stream",
     "text": [
      "Optimization converged after 74 iterations.\n"
     ]
    },
    {
     "name": "stderr",
     "output_type": "stream",
     "text": [
      "\r",
      " 70%|██████████████████████████████████████████████████████████                         | 7/10 [00:03<00:01,  2.25it/s]"
     ]
    },
    {
     "name": "stdout",
     "output_type": "stream",
     "text": [
      "Optimization converged after 85 iterations.\n"
     ]
    },
    {
     "name": "stderr",
     "output_type": "stream",
     "text": [
      "\r",
      " 80%|██████████████████████████████████████████████████████████████████▍                | 8/10 [00:03<00:00,  2.59it/s]"
     ]
    },
    {
     "name": "stdout",
     "output_type": "stream",
     "text": [
      "Optimization converged after 46 iterations.\n"
     ]
    },
    {
     "name": "stderr",
     "output_type": "stream",
     "text": [
      "100%|██████████████████████████████████████████████████████████████████████████████████| 10/10 [00:04<00:00,  2.94it/s]"
     ]
    },
    {
     "name": "stdout",
     "output_type": "stream",
     "text": [
      "Optimization converged after 82 iterations.\n",
      "Optimization converged after 35 iterations.\n"
     ]
    },
    {
     "name": "stderr",
     "output_type": "stream",
     "text": [
      "100%|██████████████████████████████████████████████████████████████████████████████████| 10/10 [00:04<00:00,  2.47it/s]\n"
     ]
    },
    {
     "name": "stdout",
     "output_type": "stream",
     "text": [
      "Balanced accuracy: 72.89%\n",
      "\n",
      "\n",
      "\tIWLS Logistic Regression\n"
     ]
    },
    {
     "name": "stderr",
     "output_type": "stream",
     "text": [
      "100%|██████████████████████████████████████████████████████████████████████████████████| 10/10 [00:00<00:00, 97.09it/s]\n"
     ]
    },
    {
     "name": "stdout",
     "output_type": "stream",
     "text": [
      "Optimization converged after 6 iterations.\n",
      "Optimization converged after 6 iterations.\n",
      "Optimization converged after 6 iterations.\n",
      "Optimization converged after 6 iterations.\n",
      "Optimization converged after 6 iterations.\n",
      "Optimization converged after 6 iterations.\n",
      "Optimization converged after 6 iterations.\n",
      "Optimization converged after 6 iterations.\n",
      "Optimization converged after 6 iterations.\n",
      "Optimization converged after 6 iterations.\n",
      "Balanced accuracy: 70.6%\n",
      "\n",
      "\n",
      "\tIWLS Logistic Regression with interactions\n"
     ]
    },
    {
     "name": "stderr",
     "output_type": "stream",
     "text": [
      "\r",
      "  0%|                                                                                           | 0/10 [00:00<?, ?it/s]"
     ]
    },
    {
     "name": "stdout",
     "output_type": "stream",
     "text": [
      "Optimization converged after 7 iterations.\n",
      "Optimization converged after 7 iterations.\n",
      "Optimization converged after 7 iterations.\n",
      "Optimization converged after 7 iterations.\n",
      "Optimization converged after 7 iterations.\n"
     ]
    },
    {
     "name": "stderr",
     "output_type": "stream",
     "text": [
      "100%|██████████████████████████████████████████████████████████████████████████████████| 10/10 [00:00<00:00, 55.25it/s]"
     ]
    },
    {
     "name": "stdout",
     "output_type": "stream",
     "text": [
      "Optimization converged after 7 iterations.\n",
      "Optimization converged after 7 iterations.\n",
      "Optimization converged after 7 iterations.\n",
      "Optimization converged after 7 iterations.\n",
      "Optimization converged after 7 iterations.\n",
      "Balanced accuracy: 73.47%\n",
      "\n",
      "\n",
      "{'Water Quality': {'ADAM Logistic Regression': [0.5208863328152995, 0.5148640101201771, 0.5302474524073402, 0.5128045130328027, 0.5257437070938215, 0.5215326976155601, 0.5107054054315541, 0.518035848010659, 0.5107146592129908, 0.5276422764227643], 'ADAM Logistic Regression with interactions': [0.6245958474543258, 0.6095988042326995, 0.5945018187492076, 0.6206733901948007, 0.6041068450707006, 0.6505867897328728, 0.5935239730420453, 0.592447026657553, 0.6164817210157261, 0.625006206862307], 'SGD Logistic Regression': [0.5235156249999999, 0.5336748768472906, 0.5181364107831586, 0.4972623867360709, 0.5231464846089352, 0.5113044892648015, 0.5241281733683776, 0.5023829467664135, 0.511243993171704, 0.5347389162561577], 'SGD Logistic Regression with interactions': [0.6017714954672548, 0.6220696794667131, 0.597356939737447, 0.5844659137028201, 0.5960425045930781, 0.6156793312628799, 0.569453125, 0.580215515983778, 0.6013299193640845, 0.616015034680513], 'IWLS Logistic Regression': [0.5146021859207898, 0.5181282397907083, 0.5125, 0.5067510386213263, 0.5048503806063965, 0.5094911908977448, 0.5109162561576355, 0.5214008538945567, 0.516837976066339, 0.5107522796352584], 'IWLS Logistic Regression with interactions': [0.6128656645192079, 0.5948844884488449, 0.6197446200014098, 0.609109242044169, 0.6452928537322935, 0.5967407059192228, 0.6262254901960784, 0.6134375000000001, 0.5907141398325277, 0.6081045003813883]}, 'Banana quality': {'ADAM Logistic Regression': [0.8755500137503438, 0.8726138859169998, 0.8691545336206614, 0.8662622910348297, 0.8709505941213258, 0.8805556987956891, 0.8689149294153704, 0.8688404710117753, 0.8675890193673732, 0.866072823878731], 'ADAM Logistic Regression with interactions': [0.9243199869990046, 0.9381543336812695, 0.9319307162818613, 0.9336806445362551, 0.9300370627316421, 0.939954590659186, 0.935, 0.928060015875893, 0.9337577089964204, 0.9412679240801823], 'SGD Logistic Regression': [0.8750451482974988, 0.8801083880989178, 0.86375, 0.8785838455718207, 0.8743568268928781, 0.8907483222892838, 0.879375, 0.886875, 0.880081431111125, 0.8737654277584809], 'SGD Logistic Regression with interactions': [0.9510796680640774, 0.9475121719510746, 0.9563049509593217, 0.9492417043834862, 0.9556708247975236, 0.9569894489448945, 0.9520339641315718, 0.9585573809453076, 0.9499511699675769, 0.9544146233225619], 'IWLS Logistic Regression': [0.8767250821467689, 0.8855248594601017, 0.8841053908541199, 0.8762711652530455, 0.8773077073323177, 0.878125, 0.884375839848999, 0.8837298331966092, 0.8818742919645299, 0.8864693204530834], 'IWLS Logistic Regression with interactions': [0.9498423581223101, 0.951287159654674, 0.9556241494127334, 0.9553443407154172, 0.9544850757930927, 0.9520003125488358, 0.9549773402094077, 0.9537680998639044, 0.9617841921644799, 0.9544225660259416]}, 'Diabetes': {'ADAM Logistic Regression': [0.7363292901173195, 0.7408405172413793, 0.7163265306122449, 0.7198148148148149, 0.7196455505279035, 0.779074074074074, 0.6862244897959184, 0.7365136876006442, 0.7018293895406642, 0.6571428571428571], 'ADAM Logistic Regression with interactions': [0.6775, 0.7102187028657617, 0.6036953242835595, 0.6487037037037037, 0.7302535093232767, 0.6727272727272727, 0.7384171803539471, 0.7185704022988506, 0.6777777777777778, 0.7100741544583107], 'SGD Logistic Regression': [0.70908729369656, 0.7239013720421554, 0.7802721088435374, 0.6839080459770115, 0.7700361698077289, 0.7327726532826913, 0.7814465408805031, 0.6909090909090909, 0.7635746606334841, 0.7404040404040404], 'SGD Logistic Regression with interactions': [0.7383252818035426, 0.6970302684180468, 0.7053167420814479, 0.7340740740740741, 0.7201867816091954, 0.7065022867369258, 0.7276180141074335, 0.7759433962264151, 0.704277974967308, 0.7793840351979886], 'IWLS Logistic Regression': [0.7277777777777779, 0.7396074933095451, 0.6918737881191609, 0.6867082961641391, 0.6819775596072931, 0.7081560283687943, 0.6721938775510204, 0.7590884427563754, 0.6791465378421899, 0.7131313131313131], 'IWLS Logistic Regression with interactions': [0.7533333333333333, 0.7471900089206066, 0.7405498281786942, 0.6908652838885396, 0.7585858585858586, 0.7783333333333333, 0.7532051282051282, 0.7049396681749622, 0.7323232323232323, 0.6875550854926846]}}\n"
     ]
    },
    {
     "name": "stderr",
     "output_type": "stream",
     "text": [
      "\n"
     ]
    }
   ],
   "source": [
    "n_runs = 10  # at least 5\n",
    "\n",
    "scaler = StandardScaler()\n",
    "dataset_performances2 = dict()\n",
    "all_performances = []\n",
    "\n",
    "for dataset_name, data in datasets_small.items():\n",
    "    print(f'***{dataset_name}***\\n')\n",
    "    X, y = data\n",
    "    models_performances = dict()\n",
    "    for name, model in models_interactions.items():\n",
    "        print(f'\\t{name}')\n",
    "        models_performances[name] = []\n",
    "        for _ in tqdm(range(n_runs)):\n",
    "            X_train, X_test, y_train, y_test = train_test_split(\n",
    "                X, y, test_size=0.2\n",
    "             )\n",
    "            \n",
    "            X_train_scaled = scaler.fit_transform(X_train)\n",
    "            X_test_scaled = scaler.transform(X_test)\n",
    "\n",
    "            model.fit(X_train_scaled, y_train)\n",
    "            predictions = model.predict(X_test_scaled)\n",
    "\n",
    "            accuracy = balanced_accuracy_score(y_test, predictions)\n",
    "            models_performances[name].append(accuracy)\n",
    "        \n",
    "        \n",
    "        print(f'Balanced accuracy: {round(mean(models_performances[name])*100, 2)}%\\n\\n')\n",
    "    dataset_performances2[dataset_name] = models_performances\n",
    "    print(dataset_performances2)"
   ]
  },
  {
   "cell_type": "code",
   "execution_count": 7,
   "metadata": {},
   "outputs": [
    {
     "data": {
      "image/png": "[encoded data removed]",
      "text/plain": [
       "<Figure size 720x432 with 1 Axes>"
      ]
     },
     "metadata": {
      "needs_background": "light"
     },
     "output_type": "display_data"
    },
    {
     "data": {
      "image/png": "[encoded data removed]",
      "text/plain": [
       "<Figure size 720x432 with 1 Axes>"
      ]
     },
     "metadata": {
      "needs_background": "light"
     },
     "output_type": "display_data"
    },
    {
     "data": {
      "image/png": "[encoded data removed]",
      "text/plain": [
       "<Figure size 720x432 with 1 Axes>"
      ]
     },
     "metadata": {
      "needs_background": "light"
     },
     "output_type": "display_data"
    }
   ],
   "source": [
    "for dataset_name, performances in dataset_performances2.items():\n",
    "    plt.figure(figsize=(10, 6))\n",
    "    plt.title(f'Performance of Models on {dataset_name}')\n",
    "    df = pd.DataFrame(performances)\n",
    "    \n",
    "    sns.boxplot(data=df)\n",
    "    \n",
    "    plt.xlabel('Model')\n",
    "    plt.ylabel('Balanced Accuracy')\n",
    "    plt.xticks(rotation=45, ha='right')\n",
    "    plt.tight_layout()\n",
    "    plt.show()"
   ]
  },
  {
   "cell_type": "code",
   "execution_count": null,
   "metadata": {},
   "outputs": [],
   "source": []
  }
 ],
 "metadata": {
  "kernelspec": {
   "display_name": "praca_inzynierska",
   "language": "python",
   "name": "praca_inzynierska"
  },
  "language_info": {
   "codemirror_mode": {
    "name": "ipython",
    "version": 3
   },
   "file_extension": ".py",
   "mimetype": "text/x-python",
   "name": "python",
   "nbconvert_exporter": "python",
   "pygments_lexer": "ipython3",
   "version": "3.9.13"
  }
 },
 "nbformat": 4,
 "nbformat_minor": 4
}
