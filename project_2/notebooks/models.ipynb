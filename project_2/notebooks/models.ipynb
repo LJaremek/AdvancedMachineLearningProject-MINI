{
 "cells": [
  {
   "cell_type": "code",
   "execution_count": 24,
   "metadata": {},
   "outputs": [],
   "source": [
    "import numpy as np\n",
    "import pandas as pd\n",
    "import pickle\n",
    "import warnings\n",
    "from sklearn.metrics import recall_score\n",
    "warnings.filterwarnings('ignore')"
   ]
  },
  {
   "cell_type": "code",
   "execution_count": 25,
   "metadata": {},
   "outputs": [],
   "source": [
    "with open('X_boruta_cfs.pickle', 'rb') as file_handle:\n",
    "    X = pickle.load(file_handle)"
   ]
  },
  {
   "cell_type": "code",
   "execution_count": 26,
   "metadata": {},
   "outputs": [],
   "source": [
    "y = np.loadtxt(\"../data/y_train.txt\", delimiter=' ')"
   ]
  },
  {
   "cell_type": "code",
   "execution_count": 27,
   "metadata": {},
   "outputs": [
    {
     "data": {
      "text/plain": [
       "(5000, 5)"
      ]
     },
     "execution_count": 27,
     "metadata": {},
     "output_type": "execute_result"
    }
   ],
   "source": [
    "X.shape"
   ]
  },
  {
   "cell_type": "code",
   "execution_count": 31,
   "metadata": {},
   "outputs": [
    {
     "name": "stderr",
     "output_type": "stream",
     "text": [
      "100%|██████████| 4/4 [00:47<00:00, 11.82s/it]\n"
     ]
    },
    {
     "name": "stdout",
     "output_type": "stream",
     "text": [
      "model: LinearSVC,\t recall: 0.4773262698036257,\t cross val score: 0.48317269076305225\n",
      "model: GaussianNB,\t recall: 0.5837566284878676,\t cross val score: 0.5853220883534136\n",
      "model: RandomForestClassifier,\t recall: 0.6248336565882711,\t cross val score: 0.6181783132530121\n",
      "model: MLPClassifier,\t recall: 0.6163773363000794,\t cross val score: 0.5845285140562249\n"
     ]
    }
   ],
   "source": [
    "from sklearn.model_selection import KFold\n",
    "from sklearn.model_selection import cross_val_score\n",
    "from sklearn.svm import LinearSVC\n",
    "from sklearn.neural_network import MLPClassifier\n",
    "from sklearn.naive_bayes import GaussianNB\n",
    "from sklearn.ensemble import RandomForestClassifier\n",
    "import xgboost as xgb\n",
    "from tqdm import tqdm\n",
    "\n",
    "models = [LinearSVC(dual=True), GaussianNB(), RandomForestClassifier(), MLPClassifier()]\n",
    "\n",
    "def test_models(models, X, y):\n",
    "    all_scores = []\n",
    "    for model in tqdm(models):\n",
    "        scores = []\n",
    "        \n",
    "        kFold = KFold(n_splits=10, shuffle=False)\n",
    "        for train_index, test_index in kFold.split(X):     \n",
    "            X_train, X_test, y_train, y_test = X[train_index], X[test_index], y[train_index], y[test_index]\n",
    "            model.fit(X_train, y_train)\n",
    "            y_pred = model.predict(X_test)\n",
    "            scores.append(recall_score(y_test, y_pred))\n",
    "        all_scores.append(scores)\n",
    "\n",
    "    for model, score in zip(models, all_scores):\n",
    "        print(f'model: {type(model).__name__},\\t recall: {np.mean(score)},\\t cross val score: {np.mean(cross_val_score(model, X, y, cv=10, scoring=\"recall\"))}')\n",
    "\n",
    "test_models(models, X, y)"
   ]
  },
  {
   "cell_type": "code",
   "execution_count": 32,
   "metadata": {},
   "outputs": [
    {
     "name": "stdout",
     "output_type": "stream",
     "text": [
      "Test Accuracy: 0.6640\n",
      "Recall: 0.6280\n"
     ]
    }
   ],
   "source": [
    "from sklearn.metrics import accuracy_score\n",
    "from sklearn.model_selection import train_test_split\n",
    "\n",
    "\n",
    "x_train, x_test, y_train, y_test = train_test_split(\n",
    "    X, y, test_size=0.2, random_state=42\n",
    "    )\n",
    "\n",
    "\n",
    "dtrain = xgb.DMatrix(x_train, label=y_train)\n",
    "dtest = xgb.DMatrix(x_test, label=y_test)\n",
    "\n",
    "params = {\n",
    "    'objective': 'binary:logistic',  # Cel: klasyfikacja binarna\n",
    "    'max_depth': 5,  # Maksymalna głębokość drzewa\n",
    "    'eta': 0.1,  # Learning rate\n",
    "    'eval_metric': 'logloss'  # Metryka ewaluacyjna: log loss\n",
    "}\n",
    "\n",
    "num_rounds = 100\n",
    "bst = xgb.train(params, dtrain, num_rounds)\n",
    "\n",
    "y_pred_proba = bst.predict(dtest)\n",
    "y_pred = (y_pred_proba > 0.5).astype(int)\n",
    "\n",
    "accuracy = accuracy_score(y_test, y_pred)\n",
    "recall = recall_score(y_test, y_pred)\n",
    "\n",
    "print(f'Test Accuracy: {accuracy:.4f}')\n",
    "print(f'Recall: {recall:.4f}')\n"
   ]
  }
 ],
 "metadata": {
  "kernelspec": {
   "display_name": "Python 3",
   "language": "python",
   "name": "python3"
  },
  "language_info": {
   "codemirror_mode": {
    "name": "ipython",
    "version": 3
   },
   "file_extension": ".py",
   "mimetype": "text/x-python",
   "name": "python",
   "nbconvert_exporter": "python",
   "pygments_lexer": "ipython3",
   "version": "3.10.12"
  }
 },
 "nbformat": 4,
 "nbformat_minor": 2
}
