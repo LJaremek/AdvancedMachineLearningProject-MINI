{
 "cells": [
  {
   "cell_type": "code",
   "execution_count": 1,
   "metadata": {},
   "outputs": [],
   "source": [
    "from torch.utils.data import DataLoader, TensorDataset\n",
    "from sklearn.model_selection import train_test_split\n",
    "from sklearn.preprocessing import PolynomialFeatures\n",
    "from sklearn.preprocessing import MinMaxScaler\n",
    "import matplotlib.pyplot as plt\n",
    "import torch.optim as optim\n",
    "import torch.nn as nn\n",
    "import numpy as np\n",
    "import torch\n"
   ]
  },
  {
   "cell_type": "code",
   "execution_count": 2,
   "metadata": {},
   "outputs": [
    {
     "name": "stdout",
     "output_type": "stream",
     "text": [
      "X shape: (5000, 500)\n",
      "Y shape: (5000,)\n",
      "X polynomialed shape: (5000, 125751)\n",
      "X end shape: (5000, 10)\n"
     ]
    }
   ],
   "source": [
    "x_train_path = \"../data/x_train.txt\"\n",
    "y_train_path = \"../data/y_train.txt\"\n",
    "\n",
    "x_data = np.loadtxt(x_train_path, delimiter=' ')\n",
    "y_data = np.loadtxt(y_train_path, delimiter=' ')\n",
    "\n",
    "print(\"X shape:\", x_data.shape)\n",
    "print(\"Y shape:\", y_data.shape)\n",
    "\n",
    "standard_scaler = MinMaxScaler(feature_range=(0, 1))\n",
    "x_data_standardized = standard_scaler.fit_transform(x_data, y_data)\n",
    "\n",
    "polunomial_builder = PolynomialFeatures()\n",
    "x_df_poly = polunomial_builder.fit_transform(x_data_standardized)\n",
    "\n",
    "print(\"X polynomialed shape:\", x_df_poly.shape)\n",
    "\n",
    "x_train_poly, x_test_poly, y_train, y_test = train_test_split(\n",
    "    x_df_poly, y_data, test_size=0.2, random_state=42\n",
    "    )\n",
    "\n",
    "feature_names = [f\"feature {i}\" for i in range(x_df_poly.shape[1])]\n",
    "\n",
    "with open(\"the_best_features_2.txt\", \"r\") as f:\n",
    "    saved_features = [\n",
    "        line.strip()\n",
    "        for line in f.readlines()\n",
    "        if line.strip() != \"\"\n",
    "        ]\n",
    "\n",
    "print(f\"X end shape: ({x_data.shape[0]}, {len(saved_features)})\")\n"
   ]
  },
  {
   "cell_type": "code",
   "execution_count": 3,
   "metadata": {},
   "outputs": [],
   "source": [
    "batch_size = 32\n",
    "\n",
    "top_indices = [feature_names.index(feature) for feature in saved_features]\n",
    "\n",
    "x_train_top = x_train_poly[:, top_indices]\n",
    "x_test_top = x_test_poly[:, top_indices]\n",
    "\n",
    "x_train_tensor = torch.tensor(x_train_top, dtype=torch.float32)\n",
    "y_train_tensor = torch.tensor(y_train, dtype=torch.float32)\n",
    "x_test_tensor = torch.tensor(x_test_top, dtype=torch.float32)\n",
    "y_test_tensor = torch.tensor(y_test, dtype=torch.float32)\n",
    "\n",
    "train_dataset = TensorDataset(x_train_tensor, y_train_tensor)\n",
    "test_dataset = TensorDataset(x_test_tensor, y_test_tensor)\n",
    "train_loader = DataLoader(train_dataset, batch_size=batch_size, shuffle=True)\n",
    "test_loader = DataLoader(test_dataset, batch_size=batch_size, shuffle=False)\n"
   ]
  },
  {
   "cell_type": "code",
   "execution_count": 4,
   "metadata": {},
   "outputs": [],
   "source": [
    "class FCNNModel(nn.Module):\n",
    "    def __init__(self, input_size, hidden_sizes, output_size, dropout_prob=0.5):\n",
    "        super(FCNNModel, self).__init__()\n",
    "        layers = []\n",
    "\n",
    "        layers.append(nn.Linear(input_size, hidden_sizes[0]))\n",
    "        layers.append(nn.ReLU())\n",
    "        layers.append(nn.BatchNorm1d(hidden_sizes[0]))\n",
    "        layers.append(nn.Dropout(dropout_prob))\n",
    "\n",
    "        for i in range(1, len(hidden_sizes)):\n",
    "            layers.append(nn.Linear(hidden_sizes[i-1], hidden_sizes[i]))\n",
    "            layers.append(nn.ReLU())\n",
    "            layers.append(nn.BatchNorm1d(hidden_sizes[i]))\n",
    "            layers.append(nn.Dropout(dropout_prob))\n",
    "\n",
    "        layers.append(nn.Linear(hidden_sizes[-1], output_size))\n",
    "        layers.append(nn.Sigmoid())\n",
    "\n",
    "        self.model = nn.Sequential(*layers)\n",
    "\n",
    "    def forward(self, x):\n",
    "        return self.model(x)\n",
    "\n",
    "\n",
    "input_size = len(saved_features)\n",
    "hidden_sizes = [2048, 1024, 512, 256]\n",
    "output_size = 1\n",
    "num_epochs = 100\n",
    "learning_rate = 0.001\n",
    "\n",
    "model = FCNNModel(\n",
    "    input_size, hidden_sizes, output_size, dropout_prob=0.5\n",
    "    )\n",
    "\n",
    "criterion = nn.BCELoss()\n",
    "optimizer = optim.Adam(model.parameters(), lr=learning_rate)\n",
    "\n",
    "scheduler = optim.lr_scheduler.ReduceLROnPlateau(optimizer, 'min')\n"
   ]
  },
  {
   "cell_type": "code",
   "execution_count": 5,
   "metadata": {},
   "outputs": [],
   "source": [
    "def test_acc() -> float:\n",
    "    model.eval()\n",
    "    with torch.no_grad():\n",
    "        total_loss = 0\n",
    "        correct = 0\n",
    "        total = 0\n",
    "        for inputs, targets in test_loader:\n",
    "            inputs = inputs.to(model.model[0].weight.device)\n",
    "            targets = targets.to(model.model[0].weight.device)\n",
    "            \n",
    "            outputs = model(inputs).squeeze()\n",
    "            loss = criterion(outputs, targets)\n",
    "            total_loss += loss.item()\n",
    "            \n",
    "            predicted = (outputs > 0.5).float()\n",
    "            total += targets.size(0)\n",
    "            correct += (predicted == targets).sum().item()\n",
    "        \n",
    "        # avg_loss = total_loss / len(test_loader)\n",
    "        accuracy = (correct / total)*100\n",
    "        return accuracy\n",
    "        # print(f'Test Loss: {avg_loss:.4f}, Test Accuracy: {accuracy:.2f}%')\n"
   ]
  },
  {
   "cell_type": "code",
   "execution_count": 6,
   "metadata": {},
   "outputs": [
    {
     "name": "stdout",
     "output_type": "stream",
     "text": [
      "Epoch [0/100], Loss: 0.8176, Test Loss: 0.6448 Test acc: 65.9\n",
      "Epoch [1/100], Loss: 0.7876, Test Loss: 0.6300 Test acc: 67.80000000000001\n",
      "Epoch [2/100], Loss: 0.7209, Test Loss: 0.6200 Test acc: 68.60000000000001\n",
      "Epoch [3/100], Loss: 0.7338, Test Loss: 0.6193 Test acc: 68.7\n"
     ]
    }
   ],
   "source": [
    "train_loss_history = []\n",
    "test_loss_history = []\n",
    "\n",
    "\n",
    "for epoch in range(num_epochs):\n",
    "    model.train()\n",
    "    epoch_loss = []\n",
    "    for i, (inputs, targets) in enumerate(train_loader):\n",
    "        inputs = inputs.to(model.model[0].weight.device)\n",
    "        targets = targets.to(model.model[0].weight.device)\n",
    "\n",
    "        outputs = model(inputs).squeeze()\n",
    "        loss = criterion(outputs, targets)\n",
    "        epoch_loss.append(float(loss))\n",
    "\n",
    "        optimizer.zero_grad()\n",
    "        loss.backward()\n",
    "        optimizer.step()\n",
    "\n",
    "    train_loss_history.append(sum(epoch_loss)/len(epoch_loss))\n",
    "\n",
    "    # Liczenie straty na zbiorze testowym po każdej epoce\n",
    "    model.eval()\n",
    "    test_loss = 0\n",
    "    with torch.no_grad():\n",
    "        for inputs, targets in test_loader:\n",
    "            inputs = inputs.to(model.model[0].weight.device)\n",
    "            targets = targets.to(model.model[0].weight.device)\n",
    "            \n",
    "            outputs = model(inputs).squeeze()\n",
    "            loss = criterion(outputs, targets)\n",
    "            test_loss += loss.item()\n",
    "\n",
    "    test_loss /= len(test_loader)\n",
    "    test_loss_history.append(float(test_loss))\n",
    "    model.train()\n",
    "\n",
    "    scheduler.step(loss)\n",
    "\n",
    "    if (\n",
    "        len(test_loss_history) > 2 and\n",
    "        test_loss_history[-1] > test_loss_history[-2] and\n",
    "        test_loss_history[-1] > test_loss_history[-3]\n",
    "    ):\n",
    "        break\n",
    "\n",
    "    print(f'Epoch [{epoch}/{num_epochs}], Loss: {loss.item():.4f}, Test Loss: {test_loss:.4f} Test acc: {test_acc()}')\n"
   ]
  },
  {
   "cell_type": "code",
   "execution_count": 7,
   "metadata": {},
   "outputs": [
    {
     "name": "stdout",
     "output_type": "stream",
     "text": [
      "[0.6448188312351704, 0.6300034709274769, 0.6200286597013474, 0.6193013340234756, 0.6273492127656937]\n"
     ]
    }
   ],
   "source": [
    "print(test_loss_history)\n"
   ]
  },
  {
   "cell_type": "code",
   "execution_count": 8,
   "metadata": {},
   "outputs": [
    {
     "data": {
      "image/png": "[encoded data removed]",
      "text/plain": [
       "<Figure size 1000x600 with 1 Axes>"
      ]
     },
     "metadata": {},
     "output_type": "display_data"
    }
   ],
   "source": [
    "plt.figure(figsize=(10, 6))\n",
    "plt.plot(range(1, len(train_loss_history) + 1), train_loss_history, label='Train Loss')\n",
    "plt.plot(range(1, len(test_loss_history) + 1), test_loss_history, label='Test loss')\n",
    "plt.title('Training and Validation Losses')\n",
    "plt.xlabel('Epoch')\n",
    "plt.ylabel('Loss')\n",
    "plt.legend()\n",
    "plt.grid(True)\n",
    "plt.show()\n"
   ]
  },
  {
   "cell_type": "code",
   "execution_count": 9,
   "metadata": {},
   "outputs": [
    {
     "name": "stdout",
     "output_type": "stream",
     "text": [
      "Test Loss: 0.6273, Test Accuracy: 69.10%\n"
     ]
    }
   ],
   "source": [
    "model.eval()\n",
    "with torch.no_grad():\n",
    "    total_loss = 0\n",
    "    correct = 0\n",
    "    total = 0\n",
    "    for inputs, targets in test_loader:\n",
    "        inputs = inputs.to(model.model[0].weight.device)\n",
    "        targets = targets.to(model.model[0].weight.device)\n",
    "        \n",
    "        outputs = model(inputs).squeeze()\n",
    "        loss = criterion(outputs, targets)\n",
    "        total_loss += loss.item()\n",
    "        \n",
    "        predicted = (outputs > 0.5).float()\n",
    "        total += targets.size(0)\n",
    "        correct += (predicted == targets).sum().item()\n",
    "    \n",
    "    avg_loss = total_loss / len(test_loader)\n",
    "    accuracy = (correct / total)*100\n",
    "    print(f'Test Loss: {avg_loss:.4f}, Test Accuracy: {accuracy:.2f}%')\n"
   ]
  }
 ],
 "metadata": {
  "kernelspec": {
   "display_name": "base",
   "language": "python",
   "name": "python3"
  },
  "language_info": {
   "codemirror_mode": {
    "name": "ipython",
    "version": 3
   },
   "file_extension": ".py",
   "mimetype": "text/x-python",
   "name": "python",
   "nbconvert_exporter": "python",
   "pygments_lexer": "ipython3",
   "version": "3.10.14"
  }
 },
 "nbformat": 4,
 "nbformat_minor": 2
}
