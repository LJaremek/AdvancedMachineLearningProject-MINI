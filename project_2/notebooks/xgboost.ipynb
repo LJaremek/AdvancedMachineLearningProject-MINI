{
 "cells": [
  {
   "cell_type": "code",
   "execution_count": 1,
   "metadata": {},
   "outputs": [],
   "source": [
    "from sklearn.preprocessing import MinMaxScaler, PolynomialFeatures\n",
    "from sklearn.model_selection import train_test_split\n",
    "from sklearn.metrics import accuracy_score\n",
    "import xgboost as xgb\n",
    "import numpy as np\n"
   ]
  },
  {
   "cell_type": "code",
   "execution_count": 2,
   "metadata": {},
   "outputs": [
    {
     "name": "stdout",
     "output_type": "stream",
     "text": [
      "X shape: (5000, 500)\n",
      "Y shape: (5000,)\n",
      "X polynomialed shape: (5000, 125751)\n",
      "X end shape: (5000, 10)\n"
     ]
    }
   ],
   "source": [
    "x_train_path = \"../data/x_train.txt\"\n",
    "y_train_path = \"../data/y_train.txt\"\n",
    "\n",
    "x_data = np.loadtxt(x_train_path, delimiter=' ')\n",
    "y_data = np.loadtxt(y_train_path, delimiter=' ')\n",
    "\n",
    "print(\"X shape:\", x_data.shape)\n",
    "print(\"Y shape:\", y_data.shape)\n",
    "\n",
    "standard_scaler = MinMaxScaler(feature_range=(0, 1))\n",
    "x_data_standardized = standard_scaler.fit_transform(x_data, y_data)\n",
    "\n",
    "polunomial_builder = PolynomialFeatures()\n",
    "x_df_poly = polunomial_builder.fit_transform(x_data_standardized)\n",
    "\n",
    "print(\"X polynomialed shape:\", x_df_poly.shape)\n",
    "\n",
    "x_train_poly, x_test_poly, y_train, y_test = train_test_split(\n",
    "    x_df_poly, y_data, test_size=0.2, random_state=42\n",
    "    )\n",
    "\n",
    "feature_names = [f\"feature {i}\" for i in range(x_df_poly.shape[1])]\n",
    "\n",
    "with open(\"the_best_features_2.txt\", \"r\") as f:\n",
    "    saved_features = [\n",
    "        line.strip()\n",
    "        for line in f.readlines()\n",
    "        if line.strip() != \"\"\n",
    "        ]\n",
    "\n",
    "print(f\"X end shape: ({x_data.shape[0]}, {len(saved_features)})\")\n"
   ]
  },
  {
   "cell_type": "code",
   "execution_count": 3,
   "metadata": {},
   "outputs": [],
   "source": [
    "top_indices = [feature_names.index(feature) for feature in saved_features]\n",
    "\n",
    "x_train_top = x_train_poly[:, top_indices]\n",
    "x_test_top = x_test_poly[:, top_indices]\n",
    "\n",
    "dtrain = xgb.DMatrix(x_train_top, label=y_train)\n",
    "dtest = xgb.DMatrix(x_test_top, label=y_test)\n"
   ]
  },
  {
   "cell_type": "code",
   "execution_count": 4,
   "metadata": {},
   "outputs": [
    {
     "name": "stdout",
     "output_type": "stream",
     "text": [
      "Test Accuracy: 0.6890\n"
     ]
    }
   ],
   "source": [
    "params = {\n",
    "    'objective': 'binary:logistic',  # Cel: klasyfikacja binarna\n",
    "    'max_depth': 5,  # Maksymalna głębokość drzewa\n",
    "    'eta': 0.1,  # Learning rate\n",
    "    'eval_metric': 'logloss'  # Metryka ewaluacyjna: log loss\n",
    "}\n",
    "\n",
    "num_rounds = 100\n",
    "bst = xgb.train(params, dtrain, num_rounds)\n",
    "\n",
    "y_pred_proba = bst.predict(dtest)\n",
    "y_pred = (y_pred_proba > 0.5).astype(int)\n",
    "\n",
    "accuracy = accuracy_score(y_test, y_pred)\n",
    "\n",
    "print(f'Test Accuracy: {accuracy:.4f}')\n"
   ]
  }
 ],
 "metadata": {
  "kernelspec": {
   "display_name": "base",
   "language": "python",
   "name": "python3"
  },
  "language_info": {
   "codemirror_mode": {
    "name": "ipython",
    "version": 3
   },
   "file_extension": ".py",
   "mimetype": "text/x-python",
   "name": "python",
   "nbconvert_exporter": "python",
   "pygments_lexer": "ipython3",
   "version": "3.10.14"
  }
 },
 "nbformat": 4,
 "nbformat_minor": 2
}
