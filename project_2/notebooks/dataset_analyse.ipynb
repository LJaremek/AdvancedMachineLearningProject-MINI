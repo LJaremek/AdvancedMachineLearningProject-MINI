{
 "cells": [
  {
   "cell_type": "code",
   "execution_count": 31,
   "metadata": {},
   "outputs": [],
   "source": [
    "import numpy as np\n"
   ]
  },
  {
   "cell_type": "code",
   "execution_count": 32,
   "metadata": {},
   "outputs": [
    {
     "name": "stdout",
     "output_type": "stream",
     "text": [
      "X shape: (5000, 500)\n",
      "Y shape: (5000,)\n"
     ]
    }
   ],
   "source": [
    "x_train_path = \"../data/x_train.txt\"\n",
    "y_train_path = \"../data/y_train.txt\"\n",
    "\n",
    "x_data = np.loadtxt(x_train_path, delimiter=' ')\n",
    "y_data = np.loadtxt(y_train_path, delimiter=' ')\n",
    "\n",
    "print(\"X shape:\", x_data.shape)\n",
    "print(\"Y shape:\", y_data.shape)\n"
   ]
  },
  {
   "cell_type": "code",
   "execution_count": 33,
   "metadata": {},
   "outputs": [
    {
     "name": "stdout",
     "output_type": "stream",
     "text": [
      "[[-2.61977304 -2.61953328 -1.19935019 ... 16.24390748  7.20952428\n",
      "   8.08202144]\n",
      " [-1.41557893 -1.78254367 -2.88027041 ... 12.18767008 12.28386068\n",
      "   5.0322849 ]\n",
      " [-2.74509151 -1.38294477 -1.62601519 ... 11.9393541  11.65361994\n",
      "   5.94277822]\n",
      " ...\n",
      " [-0.41899368 -3.16423075 -1.05778919 ...  7.26452027 11.03634131\n",
      "  11.27432363]\n",
      " [ 2.29101486  1.07369718  0.07184925 ... 10.09009627 19.41599069\n",
      "   9.16393405]\n",
      " [-0.50491196 -0.72755641 -0.33166452 ...  7.89974476  9.80064955\n",
      "  11.19871414]]\n"
     ]
    }
   ],
   "source": [
    "print(x_data)\n"
   ]
  },
  {
   "cell_type": "code",
   "execution_count": 34,
   "metadata": {},
   "outputs": [
    {
     "name": "stdout",
     "output_type": "stream",
     "text": [
      "[[0.31899799 0.36861539 0.45248708 ... 0.50336432 0.18728825 0.23677527]\n",
      " [0.4019942  0.42281264 0.33283508 ... 0.36700072 0.34992154 0.14059724]\n",
      " [0.31036071 0.44868771 0.42211602 ... 0.35865277 0.32972223 0.16931101]\n",
      " ...\n",
      " [0.47068146 0.33334481 0.46256374 ... 0.20149303 0.30993835 0.33744933]\n",
      " [0.65746235 0.60776165 0.54297416 ... 0.29648395 0.57850745 0.27089501]\n",
      " [0.46475975 0.4911258  0.51425106 ... 0.22284817 0.27033423 0.33506487]]\n"
     ]
    }
   ],
   "source": [
    "from sklearn.preprocessing import MinMaxScaler\n",
    "\n",
    "standard_scaler = MinMaxScaler(feature_range=(0, 1))\n",
    "x_data_standardized = standard_scaler.fit_transform(x_data, y_data)\n",
    "\n",
    "print(x_data_standardized)\n"
   ]
  },
  {
   "cell_type": "code",
   "execution_count": 35,
   "metadata": {},
   "outputs": [],
   "source": [
    "# from sklearn.preprocessing import Normalizer\n",
    "\n",
    "# normalizer = Normalizer(norm=\"l2\")\n",
    "\n",
    "# x_df_normalized = normalizer.fit_transform(x_data)\n",
    "\n",
    "# print(x_df_normalized)\n"
   ]
  },
  {
   "cell_type": "code",
   "execution_count": 36,
   "metadata": {},
   "outputs": [
    {
     "name": "stdout",
     "output_type": "stream",
     "text": [
      "X polynomialed shape: (5000, 125751)\n"
     ]
    }
   ],
   "source": [
    "from sklearn.preprocessing import PolynomialFeatures\n",
    "\n",
    "polunomial_builder = PolynomialFeatures()\n",
    "x_df_poly = polunomial_builder.fit_transform(x_data_standardized)\n",
    "\n",
    "print(\"X polynomialed shape:\", x_df_poly.shape)\n"
   ]
  },
  {
   "cell_type": "code",
   "execution_count": 37,
   "metadata": {},
   "outputs": [],
   "source": [
    "np.int = np.int32\n",
    "np.float = np.float64\n",
    "np.bool = np.bool_\n",
    "\n",
    "from boruta import BorutaPy\n"
   ]
  },
  {
   "cell_type": "code",
   "execution_count": 38,
   "metadata": {},
   "outputs": [
    {
     "name": "stdout",
     "output_type": "stream",
     "text": [
      "[[0.22612814 0.12426396 0.18488481 ... 0.23496505 0.35251094 0.23645879]\n",
      " [0.09255822 0.0755147  0.17568017 ... 0.35322417 0.27479938 0.1424122 ]\n",
      " [0.12965368 0.09826972 0.1453864  ... 0.31249087 0.31348002 0.18557486]\n",
      " ...\n",
      " [0.29576921 0.27578278 0.35543815 ... 0.14704091 0.52515025 0.18774271]\n",
      " [0.33447473 0.27488224 0.23762021 ... 0.39840596 0.52429213 0.38772452]\n",
      " [0.1370363  0.2671744  0.29193861 ... 0.24860481 0.51688915 0.13020599]]\n"
     ]
    }
   ],
   "source": [
    "from sklearn.ensemble import RandomForestClassifier\n",
    "\n",
    "feature_names = [f\"feature {i}\" for i in range(x_df_poly.shape[1])]\n",
    "forest = RandomForestClassifier(random_state=0)\n",
    "forest.fit(x_df_poly, y_data)\n",
    "feature_importances = forest.feature_importances_\n",
    "\n",
    "forest_importances = {\n",
    "    feature_names[i]: feature_importances[i]\n",
    "    for i in range(len(feature_names))\n",
    "}\n",
    "\n",
    "sorted_features = sorted(\n",
    "    forest_importances.items(),\n",
    "    key=lambda x:x[1],\n",
    "    reverse=True\n",
    ")\n",
    "\n",
    "the_best_features = sorted_features[:10]\n",
    "\n",
    "top_indices = [feature_names.index(feature) for feature, importance in the_best_features]\n",
    "top_columns = x_df_poly[:, top_indices]\n",
    "\n",
    "print(top_columns)\n"
   ]
  },
  {
   "cell_type": "code",
   "execution_count": 39,
   "metadata": {},
   "outputs": [],
   "source": [
    "# TAKES TOO MUCH TIME\n",
    "\n",
    "# from sklearn.ensemble import RandomForestClassifier\n",
    "\n",
    "# rf = RandomForestClassifier(n_jobs=-1, class_weight=\"balanced\")\n",
    "# boruta_model = BorutaPy(rf, n_estimators=\"auto\")\n",
    "# boruta_model.fit(x_df_poly, y_data)\n",
    "\n",
    "# feature_names = [f\"feature {i}\" for i in range(x.shape[1])]\n",
    "# feature_importances = boruta_model.support_\n",
    "\n",
    "# the_best_features = [\n",
    "#     (feature_names[i], 1.0)\n",
    "#     for i in range(len(feature_names))\n",
    "#     if feature_importances[i] == True\n",
    "# ]\n",
    "\n",
    "# print(len(the_best_features))\n"
   ]
  },
  {
   "cell_type": "code",
   "execution_count": 42,
   "metadata": {},
   "outputs": [],
   "source": [
    "with open(\"the_best_features.txt\", \"w\") as file:\n",
    "    for feature in the_best_features:\n",
    "        print(feature[0], file=file)\n"
   ]
  }
 ],
 "metadata": {
  "kernelspec": {
   "display_name": "base",
   "language": "python",
   "name": "python3"
  },
  "language_info": {
   "codemirror_mode": {
    "name": "ipython",
    "version": 3
   },
   "file_extension": ".py",
   "mimetype": "text/x-python",
   "name": "python",
   "nbconvert_exporter": "python",
   "pygments_lexer": "ipython3",
   "version": "3.10.14"
  }
 },
 "nbformat": 4,
 "nbformat_minor": 2
}
