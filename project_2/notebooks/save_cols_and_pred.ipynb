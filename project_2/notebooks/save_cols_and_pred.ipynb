{
 "cells": [
  {
   "cell_type": "code",
   "execution_count": 14,
   "metadata": {},
   "outputs": [],
   "source": [
    "from collections import OrderedDict\n",
    "from datetime import datetime\n",
    "import json\n",
    "import os\n",
    "\n",
    "from sklearn.model_selection import KFold, cross_val_score\n",
    "from sklearn.neural_network import MLPClassifier\n",
    "from sklearn.naive_bayes import GaussianNB\n",
    "import numpy as np\n",
    "\n",
    "from tools import calculate_money\n",
    "import itertools"
   ]
  },
  {
   "cell_type": "code",
   "execution_count": 15,
   "metadata": {},
   "outputs": [],
   "source": [
    "X = np.loadtxt(\"../data/x_train.txt\", delimiter=' ')\n",
    "y = np.loadtxt(\"../data/y_train.txt\", delimiter=' ')\n",
    "X_test = np.loadtxt(\"../data/x_train.txt\", delimiter=' ')\n",
    "\n",
    "folder_name = 'money_results_best_models/'\n",
    "random_state = 145"
   ]
  },
  {
   "cell_type": "code",
   "execution_count": 22,
   "metadata": {},
   "outputs": [],
   "source": [
    "def evaluate_and_save_naive_bayes(\n",
    "        X, y, X_test, columns, params=None, n_splits=10, random_state=42,\n",
    "        scoring='recall', filename='nb_', folder_name='best results/'\n",
    "        ):\n",
    "\n",
    "    # Default parameters if none are provided\n",
    "    if params is None:  \n",
    "        params = OrderedDict([('activation', 'tanh'), ('alpha', 0.007082715436049561), ('hidden_layer_sizes', 98), ('learning_rate_init', 0.0221443719469483), ('solver', 'sgd')])\n",
    "\n",
    "    # Create the Naive Bayes model\n",
    "#     nb_model =  MLPClassifier(\n",
    "#         activation=params['activation'],\n",
    "#         alpha=params['alpha'],\n",
    "#         hidden_layer_sizes=params['hidden_layer_sizes'],\n",
    "#         learning_rate_init=params['learning_rate_init'],\n",
    "#         solver=params['solver'],\n",
    "#         random_state=42)\n",
    "    nb_model = GaussianNB()\n",
    "\n",
    "    # Set up k-fold cross-validation\n",
    "    kf = KFold(n_splits=n_splits, shuffle=True, random_state=random_state)\n",
    "\n",
    "    # Perform cross-validation\n",
    "    cv_scores = cross_val_score(nb_model, X, y, cv=kf, scoring=scoring)\n",
    "\n",
    "    # Calculate mean cross-validation score\n",
    "    mean_cv_score = np.mean(cv_scores)\n",
    "\n",
    "    # Assuming `calculate_money` function exists and takes similar parameters as before\n",
    "    money = calculate_money(columns, n=1000, model_name=\"nb\", model_params=params)\n",
    "\n",
    "    # Prepare results to save\n",
    "    results = {\n",
    "        'columns': columns,\n",
    "        'params': params,\n",
    "        'n_splits': n_splits,\n",
    "        'random_state': random_state,\n",
    "        'scoring': scoring,\n",
    "        'cv_scores': cv_scores.tolist(),\n",
    "        'mean_cv_score': mean_cv_score,\n",
    "        'money': money,\n",
    "    }\n",
    "    \n",
    "    # Create results directory if it doesn't exist\n",
    "#     os.makedirs(folder_name, exist_ok=True)\n",
    "\n",
    "#     #Get current date and hour\n",
    "    current_time = datetime.now().strftime('%Y-%m-%d_%H-%M-%S')\n",
    "\n",
    "#     filename = filename + current_time + '.json'\n",
    "\n",
    "    nb_model.fit(X, y)\n",
    "    y_prob = nb_model.predict_proba(X_test)[:, 1]\n",
    "\n",
    "    # Get indexes of the 1000 most likely observations to be classified as 1\n",
    "    most_likely_indexes = np.argsort(y_prob)[-1000:]\n",
    "\n",
    "    # Convert to 1-based indexing\n",
    "    most_likely_indexes_1_based = most_likely_indexes + 1\n",
    "\n",
    "    # Save the indexes to a .txt file\n",
    "    predictions_filename = 'nb_predictions_' + current_time + '.txt'\n",
    "    predictions_filepath = os.path.join(folder_name, predictions_filename)\n",
    "    \n",
    "    with open(predictions_filepath, 'w') as pred_file:\n",
    "        for index in most_likely_indexes_1_based:\n",
    "            pred_file.write(f\"{index}\\n\")\n",
    "            \n",
    "    columns_1_based = [i + 1 for i in columns]\n",
    "    columns_filename = 'nb_columns_' + current_time + '.txt'\n",
    "    columns_filepath = os.path.join(folder_name, columns_filename)\n",
    "    \n",
    "    with open(columns_filepath, 'w') as col_file:\n",
    "        for col in columns_1_based:\n",
    "            col_file.write(f\"{col}\\n\")\n",
    "    \n",
    "    #Save results to file\n",
    "    #with open(folder_name + filename, 'w') as file:\n",
    "       #json.dump(results, file, indent=4)\n",
    "    print(\"Cross-validation scores: \", cv_scores)\n",
    "    print(\"Mean cross-validation score: \", mean_cv_score)\n",
    "    print(f\"Money: {money}\")\n",
    "    #print(f\"Results saved to {filename}\")"
   ]
  },
  {
   "cell_type": "code",
   "execution_count": 33,
   "metadata": {},
   "outputs": [
    {
     "name": "stdout",
     "output_type": "stream",
     "text": [
      "Cross-validation scores:  [0.564      0.60683761 0.54032258 0.60769231 0.58661417 0.58943089\n",
      " 0.58536585 0.54581673 0.59245283 0.61157025]\n",
      "Mean cross-validation score:  0.5830103227561195\n",
      "Money: 7017.8\n"
     ]
    }
   ],
   "source": [
    "columns = [101, 102, 103, 105]\n",
    "X_temp = X[:, cols] \n",
    "X_test_temp = X_test[:, cols] \n",
    "evaluate_and_save_naive_bayes(X_temp, y, X_test_temp, cols, random_state=145)"
   ]
  },
  {
   "cell_type": "code",
   "execution_count": null,
   "metadata": {},
   "outputs": [],
   "source": []
  },
  {
   "cell_type": "code",
   "execution_count": null,
   "metadata": {},
   "outputs": [],
   "source": []
  }
 ],
 "metadata": {
  "kernelspec": {
   "display_name": "praca_inzynierska",
   "language": "python",
   "name": "praca_inzynierska"
  },
  "language_info": {
   "codemirror_mode": {
    "name": "ipython",
    "version": 3
   },
   "file_extension": ".py",
   "mimetype": "text/x-python",
   "name": "python",
   "nbconvert_exporter": "python",
   "pygments_lexer": "ipython3",
   "version": "3.9.13"
  }
 },
 "nbformat": 4,
 "nbformat_minor": 4
}
