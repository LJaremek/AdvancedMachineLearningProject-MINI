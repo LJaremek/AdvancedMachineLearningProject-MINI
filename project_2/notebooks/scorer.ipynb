{
 "cells": [
  {
   "cell_type": "code",
   "execution_count": 1,
   "metadata": {},
   "outputs": [],
   "source": [
    "from sklearn.model_selection import train_test_split\n",
    "from sklearn.ensemble import RandomForestClassifier\n",
    "from sklearn.metrics import make_scorer\n",
    "from skopt.space import Real, Integer\n",
    "from skopt import BayesSearchCV\n",
    "\n",
    "import numpy as np\n"
   ]
  },
  {
   "cell_type": "code",
   "execution_count": 2,
   "metadata": {},
   "outputs": [
    {
     "name": "stdout",
     "output_type": "stream",
     "text": [
      "X shape: (5000, 3)\n",
      "Y shape: (5000,)\n"
     ]
    }
   ],
   "source": [
    "x_train_path = \"../data/x_train.txt\"\n",
    "y_train_path = \"../data/y_train.txt\"\n",
    "\n",
    "columns = [102, 103, 105]\n",
    "\n",
    "x_data = np.loadtxt(x_train_path, delimiter=\" \")\n",
    "x_data = x_data[:, columns]\n",
    "y_data = np.loadtxt(y_train_path, delimiter=\" \")\n",
    "\n",
    "print(\"X shape:\", x_data.shape)\n",
    "print(\"Y shape:\", y_data.shape)\n"
   ]
  },
  {
   "cell_type": "code",
   "execution_count": 3,
   "metadata": {},
   "outputs": [],
   "source": [
    "x_train, x_test, y_train, y_test = train_test_split(\n",
    "    x_data, y_data, test_size=0.2\n",
    "    )\n"
   ]
  },
  {
   "cell_type": "code",
   "execution_count": 4,
   "metadata": {},
   "outputs": [],
   "source": [
    "def calc_money(y_true, y_pred, columns_indices: list[int]) -> float:\n",
    "    num_correct = np.sum((y_true == 1) & (y_pred == 1))\n",
    "    profit = (num_correct * 10) - len(columns_indices) * 200\n",
    "    return profit\n",
    "\n",
    "\n",
    "def custom_scorer(columns_indices):\n",
    "    def scorer(y_true, y_pred):\n",
    "        return calc_money(y_true, y_pred, columns_indices)\n",
    "    return make_scorer(scorer)\n"
   ]
  },
  {
   "cell_type": "code",
   "execution_count": 5,
   "metadata": {},
   "outputs": [],
   "source": [
    "param_grid = {\n",
    "    'n_estimators': Integer(10, 1000),        # Liczba drzew w lesie\n",
    "    'max_features': Real(0.1, 0.999),         # Maksymalna liczba cech branych pod uwagę przy podziale\n",
    "    'max_depth': Integer(1, 30),              # Maksymalna głębokość drzewa\n",
    "    'min_samples_split': Integer(2, 10),      # Minimalna liczba próbek wymagana do podziału węzła\n",
    "    'min_samples_leaf': Integer(1, 10),       # Minimalna liczba próbek wymagana w liściu\n",
    "    'bootstrap': [True, False]                # Metoda bootstrap dla próbkowania\n",
    "}\n",
    "\n",
    "model = RandomForestClassifier()\n",
    "scorer = make_scorer(calc_money)\n",
    "\n",
    "opt = BayesSearchCV(\n",
    "    estimator=model,\n",
    "    search_spaces=param_grid,\n",
    "    n_iter=32,                                     # Liczba iteracji poszukiwań\n",
    "    cv=5,                                          # Liczba foldów w walidacji krzyżowej\n",
    "    n_jobs=-1,                                     # Użycie wszystkich dostępnych rdzeni CPU\n",
    "    random_state=42,                               # Ustalony seed dla powtarzalności wyników\n",
    "    scoring=custom_scorer(columns_indices=columns) # \n",
    ")\n",
    "\n",
    "_ = opt.fit(x_train, y_train)\n",
    "\n",
    "print(opt.score(x_test, y_test))\n"
   ]
  }
 ],
 "metadata": {
  "kernelspec": {
   "display_name": "base",
   "language": "python",
   "name": "python3"
  },
  "language_info": {
   "codemirror_mode": {
    "name": "ipython",
    "version": 3
   },
   "file_extension": ".py",
   "mimetype": "text/x-python",
   "name": "python",
   "nbconvert_exporter": "python",
   "pygments_lexer": "ipython3",
   "version": "3.10.14"
  }
 },
 "nbformat": 4,
 "nbformat_minor": 2
}
