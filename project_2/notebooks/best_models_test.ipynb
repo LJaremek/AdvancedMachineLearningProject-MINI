{
 "cells": [
  {
   "cell_type": "code",
   "execution_count": 13,
   "metadata": {},
   "outputs": [],
   "source": [
    "from collections import OrderedDict\n",
    "from datetime import datetime\n",
    "import json\n",
    "import os\n",
    "\n",
    "from sklearn.model_selection import KFold, cross_val_score\n",
    "from sklearn.ensemble import RandomForestClassifier\n",
    "from xgboost import XGBRFClassifier, XGBClassifier\n",
    "import numpy as np\n",
    "\n",
    "from tools import calculate_money\n"
   ]
  },
  {
   "cell_type": "markdown",
   "metadata": {},
   "source": [
    "### Data"
   ]
  },
  {
   "cell_type": "code",
   "execution_count": 40,
   "metadata": {},
   "outputs": [],
   "source": [
    "# Create a synthetic dataset\n",
    "# with open('./reduced_data/X_boruta_cfs.pickle', 'rb') as handle:\n",
    "#     X = pickle.load(handle)\n",
    "\n",
    "columns = [103, 105]\n",
    "X = np.loadtxt(\"../data/x_train.txt\", delimiter=' ')\n",
    "X = X[:, columns]\n",
    "y = np.loadtxt(\"../data/y_train.txt\", delimiter=' ')\n",
    "\n",
    "folder_name = 'money_results_best_models/'\n"
   ]
  },
  {
   "cell_type": "markdown",
   "metadata": {},
   "source": [
    "## Params"
   ]
  },
  {
   "cell_type": "code",
   "execution_count": 41,
   "metadata": {},
   "outputs": [
    {
     "data": {
      "text/plain": [
       "145"
      ]
     },
     "execution_count": 41,
     "metadata": {},
     "output_type": "execute_result"
    }
   ],
   "source": [
    "# random_state = random.randint(0, 300)\n",
    "random_state = 145\n",
    "random_state\n"
   ]
  },
  {
   "cell_type": "markdown",
   "metadata": {},
   "source": [
    "## Random Forest"
   ]
  },
  {
   "cell_type": "code",
   "execution_count": 42,
   "metadata": {},
   "outputs": [
    {
     "name": "stdout",
     "output_type": "stream",
     "text": [
      "Cross-validation scores:  [0.54       0.5        0.45967742 0.52692308 0.49212598 0.47560976\n",
      " 0.51219512 0.51792829 0.50188679 0.50413223]\n",
      "Mean cross-validation score:  0.5030478669289044\n",
      "Money: 6015.0\n",
      "Results saved to random_forest_2024-05-31_11-53-54.json\n"
     ]
    }
   ],
   "source": [
    "def evaluate_and_save_random_forest(\n",
    "        X, y, params=None, n_splits=10, random_state=42,\n",
    "        scoring='recall', filename='random_forest_'\n",
    "        ) -> None:\n",
    "\n",
    "    # Default parameters if none are provided\n",
    "    if params is None:\n",
    "    # Parameters for the Random Forest\n",
    "        params = OrderedDict(\n",
    "            [('n_estimators', 59), \n",
    "            ('max_depth', 20), \n",
    "            ('min_samples_split', 10)])\n",
    "\n",
    "    # Create the Random Forest model with the specified parameters\n",
    "    rf_model = RandomForestClassifier(\n",
    "        n_estimators=params['n_estimators'],\n",
    "        max_depth=params['max_depth'],\n",
    "        min_samples_split=params['min_samples_split'],\n",
    "        random_state=42\n",
    "    )\n",
    "\n",
    "    # Set up k-fold cross-validation\n",
    "    kf = KFold(n_splits=n_splits, shuffle=True, random_state=random_state)\n",
    "\n",
    "    # Perform cross-validation\n",
    "    cv_scores = cross_val_score(rf_model, X, y, cv=kf, scoring=scoring)\n",
    "\n",
    "    # Calculate mean cross-validation score\n",
    "    mean_cv_score = np.mean(cv_scores)\n",
    "\n",
    "    money = calculate_money(columns, n=10, model_name=\"rf\", model_params=params)\n",
    "\n",
    "    # Prepare results to save\n",
    "    results = {\n",
    "        'columns': columns,\n",
    "        'params': params,\n",
    "        'n_splits': n_splits,\n",
    "        'random_state': random_state,\n",
    "        'scoring': scoring,\n",
    "        'cv_scores': cv_scores.tolist(),\n",
    "        'mean_cv_score': mean_cv_score,\n",
    "        'money': money,\n",
    "    }\n",
    "    \n",
    "    # Create results directory if it doesn't exist\n",
    "    os.makedirs(folder_name, exist_ok=True)\n",
    "\n",
    "    # Get current date and hour\n",
    "    current_time = datetime.now().strftime('%Y-%m-%d_%H-%M-%S')\n",
    "\n",
    "    filename = filename + current_time + '.json'\n",
    "    \n",
    "    # Save results to file\n",
    "    with open(folder_name + filename, 'w') as file:\n",
    "        json.dump(results, file, indent=4)\n",
    "    \n",
    "    print(\"Cross-validation scores: \", cv_scores)\n",
    "    print(\"Mean cross-validation score: \", mean_cv_score)\n",
    "    print(f\"Money: {money}\")\n",
    "    print(f\"Results saved to {filename}\")\n",
    "\n",
    "\n",
    "# Example usage:\n",
    "evaluate_and_save_random_forest(X, y, random_state=random_state)\n"
   ]
  },
  {
   "cell_type": "markdown",
   "metadata": {},
   "source": [
    "## XGBoost Random Forest"
   ]
  },
  {
   "cell_type": "code",
   "execution_count": 43,
   "metadata": {},
   "outputs": [
    {
     "name": "stdout",
     "output_type": "stream",
     "text": [
      "Cross-validation scores:  [0.56       0.53418803 0.49596774 0.57307692 0.49606299 0.50813008\n",
      " 0.53252033 0.5498008  0.51320755 0.51239669]\n",
      "Mean cross-validation score:  0.5275351136027926\n",
      "Money: 6300.0\n",
      "Results saved to xgbrf_2024-05-31_11-53-59.json\n"
     ]
    }
   ],
   "source": [
    "def evaluate_and_save_xgbrf(\n",
    "        X, y, params=None, n_splits=10, random_state=42,\n",
    "        scoring='recall', filename='xgbrf_'\n",
    "        ) -> None:\n",
    "    # Default parameters if none are provided\n",
    "    if params is None:\n",
    "        params = OrderedDict(\n",
    "            [('learning_rate', 0.9149030789798307), \n",
    "             ('max_depth', 17), \n",
    "             ('n_estimators', 80), \n",
    "             ('subsample', 0.5)]\n",
    "        )\n",
    "    \n",
    "    # Create the XGBoost Random Forest model with the specified parameters\n",
    "    xgbrf_model = XGBRFClassifier(\n",
    "        learning_rate=params['learning_rate'],\n",
    "        max_depth=params['max_depth'],\n",
    "        n_estimators=params['n_estimators'],\n",
    "        subsample=params['subsample'],\n",
    "        use_label_encoder=False, \n",
    "        eval_metric='logloss'\n",
    "    )\n",
    "\n",
    "    # Set up k-fold cross-validation\n",
    "    kf = KFold(n_splits=n_splits, shuffle=True, random_state=random_state)\n",
    "\n",
    "    # Perform cross-validation\n",
    "    cv_scores = cross_val_score(xgbrf_model, X, y, cv=kf, scoring=scoring)\n",
    "\n",
    "    # Calculate mean cross-validation score\n",
    "    mean_cv_score = np.mean(cv_scores)\n",
    "\n",
    "    money = calculate_money(columns, n=10, model_name=\"xgbrf\", model_params=params)\n",
    "\n",
    "    # Prepare results to save\n",
    "    results = {\n",
    "        'columns': columns,\n",
    "        'params': params,\n",
    "        'n_splits': n_splits,\n",
    "        'random_state': random_state,\n",
    "        'scoring': scoring,\n",
    "        'cv_scores': cv_scores.tolist(),\n",
    "        'mean_cv_score': mean_cv_score,\n",
    "        'money': money\n",
    "    }\n",
    "\n",
    "    # Create results directory if it doesn't exist\n",
    "    os.makedirs(folder_name, exist_ok=True)\n",
    "\n",
    "    # Get current date and hour\n",
    "    current_time = datetime.now().strftime('%Y-%m-%d_%H-%M-%S')\n",
    "\n",
    "    filename = filename + current_time + '.json'\n",
    "\n",
    "    # Save results to file\n",
    "    with open(folder_name + filename, 'w') as file:\n",
    "        json.dump(results, file, indent=4)\n",
    "\n",
    "    print(\"Cross-validation scores: \", cv_scores)\n",
    "    print(\"Mean cross-validation score: \", mean_cv_score)\n",
    "    print(f\"Money: {money}\")\n",
    "    print(f\"Results saved to {filename}\")\n",
    "\n",
    "\n",
    "# Example usage:\n",
    "evaluate_and_save_xgbrf(X, y, random_state=random_state)\n"
   ]
  },
  {
   "cell_type": "markdown",
   "metadata": {},
   "source": [
    "## XGBoost"
   ]
  },
  {
   "cell_type": "code",
   "execution_count": 44,
   "metadata": {},
   "outputs": [
    {
     "name": "stdout",
     "output_type": "stream",
     "text": [
      "Cross-validation scores:  [0.536      0.55555556 0.44354839 0.53461538 0.51968504 0.52845528\n",
      " 0.5        0.5498008  0.49433962 0.57438017]\n",
      "Mean cross-validation score:  0.5236380235934153\n",
      "Money: 6635.0\n",
      "Results saved to xgboost_2024-05-31_11-54-02.json\n"
     ]
    }
   ],
   "source": [
    "def evaluate_and_save_xgboost(X, y, params=None, n_splits=10, random_state=42, scoring='recall', filename='xgboost_'):\n",
    "    # Default parameters if none are provided\n",
    "    if params is None:\n",
    "        params = OrderedDict(\n",
    "            [('learning_rate', 0.005169944690299296), \n",
    "            ('max_depth', 40), \n",
    "            ('n_estimators', 100), \n",
    "            ('subsample', 0.1)]\n",
    "        )\n",
    "\n",
    "    # Create the Random Forest model with the specified parameters\n",
    "    xgb_model = XGBClassifier(\n",
    "        learning_rate=params['learning_rate'],\n",
    "        max_depth=params['max_depth'],\n",
    "        n_estimators=params['n_estimators'],\n",
    "        subsample=params['subsample'],\n",
    "        use_label_encoder=False, \n",
    "        eval_metric='logloss'\n",
    "    )\n",
    "\n",
    "    \n",
    "    # Set up k-fold cross-validation\n",
    "    kf = KFold(n_splits=n_splits, shuffle=True, random_state=random_state)\n",
    "    \n",
    "    # Perform cross-validation\n",
    "    cv_scores = cross_val_score(xgb_model, X, y, cv=kf, scoring=scoring)\n",
    "    \n",
    "    # Calculate mean cross-validation score\n",
    "    mean_cv_score = np.mean(cv_scores)\n",
    "    \n",
    "    money = calculate_money(columns, n=10, model_name=\"xgb\", model_params=params)\n",
    "    \n",
    "    # Prepare results to save\n",
    "    results = {\n",
    "        'columns': columns,\n",
    "        'params': params,\n",
    "        'n_splits': n_splits,\n",
    "        'random_state': random_state,\n",
    "        'scoring': scoring,\n",
    "        'cv_scores': cv_scores.tolist(),\n",
    "        'mean_cv_score': mean_cv_score,\n",
    "        'money': money\n",
    "    }\n",
    "    \n",
    "    # Create results directory if it doesn't exist\n",
    "    os.makedirs(folder_name, exist_ok=True)\n",
    "\n",
    "    # Get current date and hour\n",
    "    current_time = datetime.now().strftime('%Y-%m-%d_%H-%M-%S')\n",
    "\n",
    "    filename = filename + current_time + '.json'\n",
    "    \n",
    "    # Save results to file\n",
    "    with open(folder_name + filename, 'w') as file:\n",
    "        json.dump(results, file, indent=4)\n",
    "    \n",
    "    print(\"Cross-validation scores: \", cv_scores)\n",
    "    print(\"Mean cross-validation score: \", mean_cv_score)\n",
    "    print(f\"Money: {money}\")\n",
    "    print(f\"Results saved to {filename}\")\n",
    "\n",
    "\n",
    "# Example usage:\n",
    "evaluate_and_save_xgboost(X, y, random_state=random_state)\n"
   ]
  },
  {
   "cell_type": "markdown",
   "metadata": {},
   "source": [
    "## **Trash but maybe useful later**"
   ]
  },
  {
   "cell_type": "markdown",
   "metadata": {},
   "source": [
    "## General"
   ]
  },
  {
   "cell_type": "code",
   "execution_count": 19,
   "metadata": {},
   "outputs": [],
   "source": [
    "def evaluate_and_save_model(\n",
    "        X, y, model_class,\n",
    "        params=None, n_splits=10, random_state=42,\n",
    "        scoring='recall', filename_prefix='model_'\n",
    "        ) -> None:\n",
    "\n",
    "    # Create the model with the specified parameters\n",
    "    model = model_class(**params) if params else model_class()\n",
    "\n",
    "    # Set up k-fold cross-validation\n",
    "    kf = KFold(n_splits=n_splits, shuffle=True, random_state=random_state)\n",
    "\n",
    "    # Perform cross-validation\n",
    "    cv_scores = cross_val_score(model, X, y, cv=kf, scoring=scoring)\n",
    "\n",
    "    # Calculate mean cross-validation score\n",
    "    mean_cv_score = np.mean(cv_scores)\n",
    "\n",
    "    # Prepare results to save\n",
    "    results = {\n",
    "        'model_class': model_class.__name__,\n",
    "        'params': params,\n",
    "        'n_splits': n_splits,\n",
    "        'random_state': random_state,\n",
    "        'scoring': scoring,\n",
    "        'cv_scores': cv_scores.tolist(),\n",
    "        'mean_cv_score': mean_cv_score\n",
    "    }\n",
    "\n",
    "    # Create results directory if it doesn't exist\n",
    "    os.makedirs('results_best_models', exist_ok=True)\n",
    "\n",
    "    # Get current date and time\n",
    "    current_time = datetime.now().strftime('%Y-%m-%d_%H-%M-%S')\n",
    "\n",
    "    filename = filename_prefix + current_time + '.json'\n",
    "\n",
    "    # Save results to file\n",
    "    with open('results_best_models/' + filename, 'w') as file:\n",
    "        json.dump(results, file, indent=4)\n",
    "\n",
    "    print(\"Cross-validation scores: \", cv_scores)\n",
    "    print(\"Mean cross-validation score: \", mean_cv_score)\n",
    "    print(f\"Results saved to results_best_models/{filename}\")\n",
    "\n",
    "\n",
    "# Example usage:\n",
    "# from sklearn.ensemble import RandomForestClassifier\n",
    "# params = OrderedDict([\n",
    "#     ('n_estimators', 100), \n",
    "#     ('max_depth', 10), \n",
    "#     ('min_samples_split', 5)\n",
    "# ])\n",
    "# evaluate_and_save_model(X, y, RandomForestClassifier, params)\n"
   ]
  }
 ],
 "metadata": {
  "kernelspec": {
   "display_name": "Python 3",
   "language": "python",
   "name": "python3"
  },
  "language_info": {
   "codemirror_mode": {
    "name": "ipython",
    "version": 3
   },
   "file_extension": ".py",
   "mimetype": "text/x-python",
   "name": "python",
   "nbconvert_exporter": "python",
   "pygments_lexer": "ipython3",
   "version": "3.10.12"
  }
 },
 "nbformat": 4,
 "nbformat_minor": 2
}
