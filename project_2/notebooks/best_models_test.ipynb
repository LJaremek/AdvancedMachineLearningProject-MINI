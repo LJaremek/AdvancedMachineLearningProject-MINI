{
 "cells": [
  {
   "cell_type": "code",
   "execution_count": 6,
   "metadata": {},
   "outputs": [],
   "source": [
    "import numpy as np\n",
    "import pandas as pd\n",
    "from sklearn.ensemble import RandomForestClassifier\n",
    "from xgboost import XGBClassifier\n",
    "from sklearn.model_selection import cross_val_score, KFold\n",
    "from collections import OrderedDict\n",
    "import pickle\n",
    "\n",
    "\n",
    "# Create a synthetic dataset\n",
    "with open('./reduced_data/X_boruta_cfs.pickle', 'rb') as handle:\n",
    "    X = pickle.load(handle)\n",
    "    \n",
    "# X = np.loadtxt('boruta_10.txt', delimiter=',')\n",
    "y = np.loadtxt(\"../data/y_train.txt\", delimiter=' ')"
   ]
  },
  {
   "cell_type": "code",
   "execution_count": 4,
   "metadata": {},
   "outputs": [
    {
     "name": "stdout",
     "output_type": "stream",
     "text": [
      "Cross-validation scores:  [0.674 0.675 0.644 0.657 0.644]\n",
      "Mean cross-validation score:  0.6588\n"
     ]
    }
   ],
   "source": [
    "# Parameters for the Random Forest\n",
    "params = OrderedDict(\n",
    "    [('learning_rate', 0.023318165476353517), \n",
    "     ('max_depth', 20), \n",
    "     ('n_estimators', 42),\n",
    "     ('subsample', 0.5)])\n",
    "\n",
    "# Create the Random Forest model with the specified parameters\n",
    "model = RandomForestClassifier(\n",
    "    max_depth=params['max_depth'],\n",
    "    min_samples_split=params['min_samples_split'],\n",
    "    n_estimators=params['n_estimators'],\n",
    "    random_state=42\n",
    ")\n",
    "\n",
    "# Set up k-fold cross-validation\n",
    "kf = KFold(n_splits=5, shuffle=True, random_state=42)\n",
    "\n",
    "# Perform cross-validation\n",
    "cv_scores = cross_val_score(model, X, y, cv=kf, scoring='accuracy')\n",
    "\n",
    "# Print cross-validation scores and mean score\n",
    "print(\"Cross-validation scores: \", cv_scores)\n",
    "print(\"Mean cross-validation score: \", np.mean(cv_scores))\n"
   ]
  },
  {
   "cell_type": "code",
   "execution_count": 8,
   "metadata": {},
   "outputs": [
    {
     "name": "stdout",
     "output_type": "stream",
     "text": [
      "Cross-validation scores:  [0.674 0.675 0.644 0.657 0.644]\n",
      "Mean cross-validation score:  0.6588\n"
     ]
    }
   ],
   "source": [
    "# Parameters for the XGBoost\n",
    "params = OrderedDict(\n",
    "    [('learning_rate', 0.0027923018344754888), \n",
    "     ('max_depth', 100), \n",
    "     ('n_estimators', 128), \n",
    "     ('subsample', 0.1448290233931525)])\n",
    "\n",
    "# Create the Random Forest model with the specified parameters\n",
    "xgb_model = XGBClassifier(\n",
    "    learning_rate=params['learning_rate'],\n",
    "    max_depth=params['max_depth'],\n",
    "    n_estimators=params['n_estimators'],\n",
    "    subsample=params['subsample'],\n",
    "    use_label_encoder=False, \n",
    "    eval_metric='logloss'\n",
    ")\n",
    "\n",
    "# Set up k-fold cross-validation\n",
    "kf = KFold(n_splits=5, shuffle=True, random_state=42)\n",
    "\n",
    "# Perform cross-validation\n",
    "cv_scores = cross_val_score(model, X, y, cv=kf, scoring='accuracy')\n",
    "\n",
    "# Print cross-validation scores and mean score\n",
    "print(\"Cross-validation scores: \", cv_scores)\n",
    "print(\"Mean cross-validation score: \", np.mean(cv_scores))\n"
   ]
  },
  {
   "cell_type": "code",
   "execution_count": null,
   "metadata": {},
   "outputs": [],
   "source": []
  }
 ],
 "metadata": {
  "kernelspec": {
   "display_name": "Python 3",
   "language": "python",
   "name": "python3"
  },
  "language_info": {
   "codemirror_mode": {
    "name": "ipython",
    "version": 3
   },
   "file_extension": ".py",
   "mimetype": "text/x-python",
   "name": "python",
   "nbconvert_exporter": "python",
   "pygments_lexer": "ipython3",
   "version": "3.10.12"
  }
 },
 "nbformat": 4,
 "nbformat_minor": 2
}
