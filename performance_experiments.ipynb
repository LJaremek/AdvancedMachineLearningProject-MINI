{
 "cells": [
  {
   "cell_type": "code",
   "execution_count": 1,
   "metadata": {},
   "outputs": [],
   "source": [
    "import pandas as pd\n",
    "import numpy as np\n",
    "from sklearn.preprocessing import StandardScaler\n",
    "from sklearn.model_selection import train_test_split\n",
    "from sklearn.metrics import balanced_accuracy_score\n",
    "from tqdm import tqdm\n",
    "from statistics import mean\n",
    "\n",
    "from data_readers import (\n",
    "    japanese_vowels,\n",
    "    water_quality,\n",
    "    ionosphere,\n",
    "    heart_attack,\n",
    "    banana_quality,\n",
    "    climate,\n",
    "    diabetes,\n",
    "    biodegradable,\n",
    "    plates\n",
    ")\n",
    "\n",
    "from classes import (\n",
    "    ADAMLogisticRegression,\n",
    "    IWLSLogisticRegression,\n",
    "    SGDLogisticRegression,\n",
    ")\n",
    "\n",
    "import warnings\n",
    "warnings.filterwarnings(\"ignore\", category=UserWarning)\n",
    "\n",
    "pd.set_option('future.no_silent_downcasting', True)"
   ]
  },
  {
   "cell_type": "code",
   "execution_count": 2,
   "metadata": {},
   "outputs": [],
   "source": [
    "models = {\n",
    "    \"ADAM Logistic Regression\": ADAMLogisticRegression(\n",
    "        learning_rate=0.001,\n",
    "        iterations=500,\n",
    "        beta1=0.9,\n",
    "        beta2=0.999,\n",
    "        epsilon=1e-8,\n",
    "        include_interactions=False,\n",
    "    ),\n",
    "    \"SGD Logistic Regression\": SGDLogisticRegression(\n",
    "        learning_rate=0.01, iterations=500, include_interactions=False\n",
    "    ),\n",
    "    \"IWLS Logistic Regression\": IWLSLogisticRegression(\n",
    "        iterations=500, include_interactions=False\n",
    "    ),\n",
    "}"
   ]
  },
  {
   "cell_type": "code",
   "execution_count": 3,
   "metadata": {},
   "outputs": [],
   "source": [
    "datasets = {\n",
    "    \"Water Quality\": water_quality(),\n",
    "    \"Ionosphere\": ionosphere(),\n",
    "    \"Heart Attack\": heart_attack(),\n",
    "    \"Japanese Vowels\": japanese_vowels(),\n",
    "    \"Banana quality\": banana_quality(),\n",
    "    \"Climate\": climate(),\n",
    "    \"Diabetes\": diabetes(),\n",
    "    \"Biodegradable\": biodegradable(),\n",
    "    \"Plates\": plates()\n",
    "}"
   ]
  },
  {
   "cell_type": "code",
   "execution_count": 4,
   "metadata": {},
   "outputs": [
    {
     "name": "stdout",
     "output_type": "stream",
     "text": [
      "***Water Quality***\n",
      "\n",
      "\tADAM Logistic Regression\n"
     ]
    },
    {
     "name": "stderr",
     "output_type": "stream",
     "text": [
      "100%|██████████| 10/10 [00:04<00:00,  2.11it/s]\n"
     ]
    },
    {
     "name": "stdout",
     "output_type": "stream",
     "text": [
      "Balanced accuracy: 51.86%\n",
      "\n",
      "\n",
      "\tSGD Logistic Regression\n"
     ]
    },
    {
     "name": "stderr",
     "output_type": "stream",
     "text": [
      " 10%|█         | 1/10 [00:00<00:01,  5.02it/s]"
     ]
    },
    {
     "name": "stdout",
     "output_type": "stream",
     "text": [
      "Optimization converged after 3 iterations.\n"
     ]
    },
    {
     "name": "stderr",
     "output_type": "stream",
     "text": [
      " 20%|██        | 2/10 [00:00<00:01,  4.26it/s]"
     ]
    },
    {
     "name": "stdout",
     "output_type": "stream",
     "text": [
      "Optimization converged after 4 iterations.\n"
     ]
    },
    {
     "name": "stderr",
     "output_type": "stream",
     "text": [
      " 30%|███       | 3/10 [00:00<00:01,  3.88it/s]"
     ]
    },
    {
     "name": "stdout",
     "output_type": "stream",
     "text": [
      "Optimization converged after 4 iterations.\n"
     ]
    },
    {
     "name": "stderr",
     "output_type": "stream",
     "text": [
      " 40%|████      | 4/10 [00:00<00:01,  3.92it/s]"
     ]
    },
    {
     "name": "stdout",
     "output_type": "stream",
     "text": [
      "Optimization converged after 3 iterations.\n"
     ]
    },
    {
     "name": "stderr",
     "output_type": "stream",
     "text": [
      " 50%|█████     | 5/10 [00:01<00:01,  3.46it/s]"
     ]
    },
    {
     "name": "stdout",
     "output_type": "stream",
     "text": [
      "Optimization converged after 4 iterations.\n"
     ]
    },
    {
     "name": "stderr",
     "output_type": "stream",
     "text": [
      " 60%|██████    | 6/10 [00:01<00:01,  3.28it/s]"
     ]
    },
    {
     "name": "stdout",
     "output_type": "stream",
     "text": [
      "Optimization converged after 4 iterations.\n"
     ]
    },
    {
     "name": "stderr",
     "output_type": "stream",
     "text": [
      " 70%|███████   | 7/10 [00:01<00:00,  3.28it/s]"
     ]
    },
    {
     "name": "stdout",
     "output_type": "stream",
     "text": [
      "Optimization converged after 4 iterations.\n"
     ]
    },
    {
     "name": "stderr",
     "output_type": "stream",
     "text": [
      " 80%|████████  | 8/10 [00:02<00:00,  3.39it/s]"
     ]
    },
    {
     "name": "stdout",
     "output_type": "stream",
     "text": [
      "Optimization converged after 4 iterations.\n"
     ]
    },
    {
     "name": "stderr",
     "output_type": "stream",
     "text": [
      " 90%|█████████ | 9/10 [00:02<00:00,  3.40it/s]"
     ]
    },
    {
     "name": "stdout",
     "output_type": "stream",
     "text": [
      "Optimization converged after 4 iterations.\n"
     ]
    },
    {
     "name": "stderr",
     "output_type": "stream",
     "text": [
      "100%|██████████| 10/10 [00:02<00:00,  3.55it/s]\n"
     ]
    },
    {
     "name": "stdout",
     "output_type": "stream",
     "text": [
      "Optimization converged after 4 iterations.\n",
      "Balanced accuracy: 52.19%\n",
      "\n",
      "\n",
      "\tIWLS Logistic Regression\n"
     ]
    },
    {
     "name": "stderr",
     "output_type": "stream",
     "text": [
      " 10%|█         | 1/10 [00:00<00:01,  5.25it/s]"
     ]
    },
    {
     "name": "stdout",
     "output_type": "stream",
     "text": [
      "Optimization converged after 4 iterations.\n"
     ]
    },
    {
     "name": "stderr",
     "output_type": "stream",
     "text": [
      " 20%|██        | 2/10 [00:00<00:01,  4.91it/s]"
     ]
    },
    {
     "name": "stdout",
     "output_type": "stream",
     "text": [
      "Optimization converged after 4 iterations.\n"
     ]
    },
    {
     "name": "stderr",
     "output_type": "stream",
     "text": [
      " 30%|███       | 3/10 [00:00<00:01,  4.93it/s]"
     ]
    },
    {
     "name": "stdout",
     "output_type": "stream",
     "text": [
      "Optimization converged after 4 iterations.\n"
     ]
    },
    {
     "name": "stderr",
     "output_type": "stream",
     "text": [
      " 40%|████      | 4/10 [00:00<00:01,  4.19it/s]"
     ]
    },
    {
     "name": "stdout",
     "output_type": "stream",
     "text": [
      "Optimization converged after 4 iterations.\n"
     ]
    },
    {
     "name": "stderr",
     "output_type": "stream",
     "text": [
      " 50%|█████     | 5/10 [00:01<00:01,  3.26it/s]"
     ]
    },
    {
     "name": "stdout",
     "output_type": "stream",
     "text": [
      "Optimization converged after 4 iterations.\n"
     ]
    },
    {
     "name": "stderr",
     "output_type": "stream",
     "text": [
      " 60%|██████    | 6/10 [00:01<00:01,  3.06it/s]"
     ]
    },
    {
     "name": "stdout",
     "output_type": "stream",
     "text": [
      "Optimization converged after 4 iterations.\n"
     ]
    },
    {
     "name": "stderr",
     "output_type": "stream",
     "text": [
      " 80%|████████  | 8/10 [00:02<00:00,  3.89it/s]"
     ]
    },
    {
     "name": "stdout",
     "output_type": "stream",
     "text": [
      "Optimization converged after 4 iterations.\n",
      "Optimization converged after 4 iterations.\n"
     ]
    },
    {
     "name": "stderr",
     "output_type": "stream",
     "text": [
      " 90%|█████████ | 9/10 [00:02<00:00,  4.15it/s]"
     ]
    },
    {
     "name": "stdout",
     "output_type": "stream",
     "text": [
      "Optimization converged after 4 iterations.\n",
      "Optimization converged after 5 iterations.\n"
     ]
    },
    {
     "name": "stderr",
     "output_type": "stream",
     "text": [
      "100%|██████████| 10/10 [00:02<00:00,  3.99it/s]\n"
     ]
    },
    {
     "name": "stdout",
     "output_type": "stream",
     "text": [
      "Balanced accuracy: 51.34%\n",
      "\n",
      "\n",
      "{'Water Quality': {'ADAM Logistic Regression': [0.5207317073170732, 0.5061674359382461, 0.5271086988411324, 0.5378799936336145, 0.4973103454948287, 0.5194299617657282, 0.5212539595428594, 0.5094430992736078, 0.5175865800865801, 0.5287131398457783], 'SGD Logistic Regression': [0.5077176354154771, 0.531714694183208, 0.5417583492249768, 0.5224845280946262, 0.5088890617857872, 0.5099506080124779, 0.5186786163703255, 0.5175917141049968, 0.5338283828382838, 0.5259550637349548], 'IWLS Logistic Regression': [0.5142137251884905, 0.48855602040119755, 0.5201506038824507, 0.5103006348065636, 0.5116656779125293, 0.5121274122743821, 0.5172122914289615, 0.5137801410151533, 0.5234407948292942, 0.5224226779573836]}}\n",
      "***Ionosphere***\n",
      "\n",
      "\tADAM Logistic Regression\n"
     ]
    },
    {
     "name": "stderr",
     "output_type": "stream",
     "text": [
      "100%|██████████| 10/10 [00:00<00:00, 25.30it/s]\n"
     ]
    },
    {
     "name": "stdout",
     "output_type": "stream",
     "text": [
      "Balanced accuracy: 80.92%\n",
      "\n",
      "\n",
      "\tSGD Logistic Regression\n"
     ]
    },
    {
     "name": "stderr",
     "output_type": "stream",
     "text": [
      "100%|██████████| 10/10 [00:14<00:00,  1.45s/it]\n"
     ]
    },
    {
     "name": "stdout",
     "output_type": "stream",
     "text": [
      "Balanced accuracy: 68.31%\n",
      "\n",
      "\n",
      "\tIWLS Logistic Regression\n"
     ]
    },
    {
     "name": "stderr",
     "output_type": "stream",
     "text": [
      " 20%|██        | 2/10 [00:00<00:00, 19.34it/s]"
     ]
    },
    {
     "name": "stdout",
     "output_type": "stream",
     "text": [
      "Optimization converged after 10 iterations.\n",
      "Optimization converged after 9 iterations.\n",
      "Optimization converged after 11 iterations.\n",
      "Optimization converged after 10 iterations.\n",
      "Optimization converged after 10 iterations.\n",
      "Optimization converged after 10 iterations.\n",
      "Optimization converged after 10 iterations.\n",
      "Optimization converged after 9 iterations.\n",
      "Optimization converged after 9 iterations.\n"
     ]
    },
    {
     "name": "stderr",
     "output_type": "stream",
     "text": [
      "100%|██████████| 10/10 [00:00<00:00, 42.01it/s]\n"
     ]
    },
    {
     "name": "stdout",
     "output_type": "stream",
     "text": [
      "Optimization converged after 21 iterations.\n",
      "Balanced accuracy: 71.66%\n",
      "\n",
      "\n",
      "{'Water Quality': {'ADAM Logistic Regression': [0.5207317073170732, 0.5061674359382461, 0.5271086988411324, 0.5378799936336145, 0.4973103454948287, 0.5194299617657282, 0.5212539595428594, 0.5094430992736078, 0.5175865800865801, 0.5287131398457783], 'SGD Logistic Regression': [0.5077176354154771, 0.531714694183208, 0.5417583492249768, 0.5224845280946262, 0.5088890617857872, 0.5099506080124779, 0.5186786163703255, 0.5175917141049968, 0.5338283828382838, 0.5259550637349548], 'IWLS Logistic Regression': [0.5142137251884905, 0.48855602040119755, 0.5201506038824507, 0.5103006348065636, 0.5116656779125293, 0.5121274122743821, 0.5172122914289615, 0.5137801410151533, 0.5234407948292942, 0.5224226779573836]}, 'Ionosphere': {'ADAM Logistic Regression': [0.7868303571428572, 0.8705128205128205, 0.7700892857142857, 0.8566308243727598, 0.6902985074626866, 0.7681818181818182, 0.9136904761904762, 0.7559681697612732, 0.8451492537313433, 0.8344262295081968], 'SGD Logistic Regression': [0.7420634920634921, 0.7544642857142857, 0.731060606060606, 0.7621212121212121, 0.726923076923077, 0.7700892857142857, 0.5615079365079365, 0.5951492537313433, 0.6350446428571428, 0.5525641025641026], 'IWLS Logistic Regression': [0.6752232142857143, 0.75, 0.6944444444444444, 0.7192307692307692, 0.7616487455197133, 0.8102678571428572, 0.8353174603174602, 0.48507462686567165, 0.8090163934426229, 0.6254098360655738]}}\n",
      "***Heart Attack***\n",
      "\n",
      "\tADAM Logistic Regression\n"
     ]
    },
    {
     "name": "stderr",
     "output_type": "stream",
     "text": [
      "100%|██████████| 10/10 [00:00<00:00, 25.65it/s]\n"
     ]
    },
    {
     "name": "stdout",
     "output_type": "stream",
     "text": [
      "Balanced accuracy: 80.43%\n",
      "\n",
      "\n",
      "\tSGD Logistic Regression\n"
     ]
    },
    {
     "name": "stderr",
     "output_type": "stream",
     "text": [
      " 10%|█         | 1/10 [00:00<00:01,  6.15it/s]"
     ]
    },
    {
     "name": "stdout",
     "output_type": "stream",
     "text": [
      "Optimization converged after 67 iterations.\n",
      "Optimization converged after 31 iterations.\n"
     ]
    },
    {
     "name": "stderr",
     "output_type": "stream",
     "text": [
      " 30%|███       | 3/10 [00:00<00:00,  7.02it/s]"
     ]
    },
    {
     "name": "stdout",
     "output_type": "stream",
     "text": [
      "Optimization converged after 77 iterations.\n"
     ]
    },
    {
     "name": "stderr",
     "output_type": "stream",
     "text": [
      " 40%|████      | 4/10 [00:00<00:00,  6.30it/s]"
     ]
    },
    {
     "name": "stdout",
     "output_type": "stream",
     "text": [
      "Optimization converged after 72 iterations.\n"
     ]
    },
    {
     "name": "stderr",
     "output_type": "stream",
     "text": [
      " 50%|█████     | 5/10 [00:00<00:00,  6.61it/s]"
     ]
    },
    {
     "name": "stdout",
     "output_type": "stream",
     "text": [
      "Optimization converged after 51 iterations.\n"
     ]
    },
    {
     "name": "stderr",
     "output_type": "stream",
     "text": [
      " 60%|██████    | 6/10 [00:00<00:00,  7.23it/s]"
     ]
    },
    {
     "name": "stdout",
     "output_type": "stream",
     "text": [
      "Optimization converged after 37 iterations.\n"
     ]
    },
    {
     "name": "stderr",
     "output_type": "stream",
     "text": [
      " 70%|███████   | 7/10 [00:01<00:00,  7.33it/s]"
     ]
    },
    {
     "name": "stdout",
     "output_type": "stream",
     "text": [
      "Optimization converged after 39 iterations.\n"
     ]
    },
    {
     "name": "stderr",
     "output_type": "stream",
     "text": [
      " 80%|████████  | 8/10 [00:01<00:00,  7.10it/s]"
     ]
    },
    {
     "name": "stdout",
     "output_type": "stream",
     "text": [
      "Optimization converged after 46 iterations.\n"
     ]
    },
    {
     "name": "stderr",
     "output_type": "stream",
     "text": [
      "100%|██████████| 10/10 [00:01<00:00,  6.73it/s]\n"
     ]
    },
    {
     "name": "stdout",
     "output_type": "stream",
     "text": [
      "Optimization converged after 67 iterations.\n",
      "Optimization converged after 40 iterations.\n",
      "Balanced accuracy: 83.0%\n",
      "\n",
      "\n",
      "\tIWLS Logistic Regression\n"
     ]
    },
    {
     "name": "stderr",
     "output_type": "stream",
     "text": [
      "  0%|          | 0/10 [00:00<?, ?it/s]"
     ]
    },
    {
     "name": "stdout",
     "output_type": "stream",
     "text": [
      "Optimization converged after 7 iterations.\n",
      "Optimization converged after 7 iterations.\n",
      "Optimization converged after 7 iterations.\n",
      "Optimization converged after 7 iterations.\n"
     ]
    },
    {
     "name": "stderr",
     "output_type": "stream",
     "text": [
      " 60%|██████    | 6/10 [00:00<00:00, 40.83it/s]"
     ]
    },
    {
     "name": "stdout",
     "output_type": "stream",
     "text": [
      "Optimization converged after 7 iterations.\n",
      "Optimization converged after 7 iterations.\n",
      "Optimization converged after 7 iterations.\n",
      "Optimization converged after 7 iterations.\n"
     ]
    },
    {
     "name": "stderr",
     "output_type": "stream",
     "text": [
      "100%|██████████| 10/10 [00:00<00:00, 28.87it/s]\n"
     ]
    },
    {
     "name": "stdout",
     "output_type": "stream",
     "text": [
      "Optimization converged after 7 iterations.\n",
      "Optimization converged after 7 iterations.\n",
      "Balanced accuracy: 81.2%\n",
      "\n",
      "\n",
      "{'Water Quality': {'ADAM Logistic Regression': [0.5207317073170732, 0.5061674359382461, 0.5271086988411324, 0.5378799936336145, 0.4973103454948287, 0.5194299617657282, 0.5212539595428594, 0.5094430992736078, 0.5175865800865801, 0.5287131398457783], 'SGD Logistic Regression': [0.5077176354154771, 0.531714694183208, 0.5417583492249768, 0.5224845280946262, 0.5088890617857872, 0.5099506080124779, 0.5186786163703255, 0.5175917141049968, 0.5338283828382838, 0.5259550637349548], 'IWLS Logistic Regression': [0.5142137251884905, 0.48855602040119755, 0.5201506038824507, 0.5103006348065636, 0.5116656779125293, 0.5121274122743821, 0.5172122914289615, 0.5137801410151533, 0.5234407948292942, 0.5224226779573836]}, 'Ionosphere': {'ADAM Logistic Regression': [0.7868303571428572, 0.8705128205128205, 0.7700892857142857, 0.8566308243727598, 0.6902985074626866, 0.7681818181818182, 0.9136904761904762, 0.7559681697612732, 0.8451492537313433, 0.8344262295081968], 'SGD Logistic Regression': [0.7420634920634921, 0.7544642857142857, 0.731060606060606, 0.7621212121212121, 0.726923076923077, 0.7700892857142857, 0.5615079365079365, 0.5951492537313433, 0.6350446428571428, 0.5525641025641026], 'IWLS Logistic Regression': [0.6752232142857143, 0.75, 0.6944444444444444, 0.7192307692307692, 0.7616487455197133, 0.8102678571428572, 0.8353174603174602, 0.48507462686567165, 0.8090163934426229, 0.6254098360655738]}, 'Heart Attack': {'ADAM Logistic Regression': [0.7149784482758621, 0.7345537757437071, 0.9112200435729847, 0.8427777777777778, 0.8181318681318681, 0.7591594827586207, 0.8043010752688172, 0.8447712418300654, 0.7995337995337995, 0.8136261261261262], 'SGD Logistic Regression': [0.803921568627451, 0.9154094827586207, 0.7402597402597402, 0.7844444444444445, 0.8252164502164503, 0.7922222222222222, 0.8857758620689655, 0.8204301075268817, 0.8699324324324325, 0.8625541125541125], 'IWLS Logistic Regression': [0.7849462365591398, 0.8474025974025974, 0.8229847494553377, 0.7362637362637363, 0.7939560439560439, 0.8216594827586207, 0.8116883116883117, 0.8485838779956427, 0.771505376344086, 0.8805361305361306]}}\n",
      "***Japanese Vowels***\n",
      "\n",
      "\tADAM Logistic Regression\n"
     ]
    },
    {
     "name": "stderr",
     "output_type": "stream",
     "text": [
      "100%|██████████| 10/10 [00:06<00:00,  1.45it/s]\n"
     ]
    },
    {
     "name": "stdout",
     "output_type": "stream",
     "text": [
      "Balanced accuracy: 100.0%\n",
      "\n",
      "\n",
      "\tSGD Logistic Regression\n"
     ]
    },
    {
     "name": "stderr",
     "output_type": "stream",
     "text": [
      "100%|██████████| 10/10 [11:00<00:00, 66.08s/it]\n"
     ]
    },
    {
     "name": "stdout",
     "output_type": "stream",
     "text": [
      "Balanced accuracy: 100.0%\n",
      "\n",
      "\n",
      "\tIWLS Logistic Regression\n"
     ]
    },
    {
     "name": "stderr",
     "output_type": "stream",
     "text": [
      " 10%|█         | 1/10 [00:13<02:04, 13.85s/it]"
     ]
    },
    {
     "name": "stdout",
     "output_type": "stream",
     "text": [
      "Optimization converged after 21 iterations.\n"
     ]
    },
    {
     "name": "stderr",
     "output_type": "stream",
     "text": [
      " 20%|██        | 2/10 [00:27<01:50, 13.84s/it]"
     ]
    },
    {
     "name": "stdout",
     "output_type": "stream",
     "text": [
      "Optimization converged after 21 iterations.\n"
     ]
    },
    {
     "name": "stderr",
     "output_type": "stream",
     "text": [
      " 30%|███       | 3/10 [00:39<01:31, 13.08s/it]"
     ]
    },
    {
     "name": "stdout",
     "output_type": "stream",
     "text": [
      "Optimization converged after 21 iterations.\n"
     ]
    },
    {
     "name": "stderr",
     "output_type": "stream",
     "text": [
      " 40%|████      | 4/10 [00:53<01:18, 13.16s/it]"
     ]
    },
    {
     "name": "stdout",
     "output_type": "stream",
     "text": [
      "Optimization converged after 21 iterations.\n"
     ]
    },
    {
     "name": "stderr",
     "output_type": "stream",
     "text": [
      " 50%|█████     | 5/10 [01:05<01:04, 12.87s/it]"
     ]
    },
    {
     "name": "stdout",
     "output_type": "stream",
     "text": [
      "Optimization converged after 21 iterations.\n"
     ]
    },
    {
     "name": "stderr",
     "output_type": "stream",
     "text": [
      " 60%|██████    | 6/10 [01:18<00:51, 12.89s/it]"
     ]
    },
    {
     "name": "stdout",
     "output_type": "stream",
     "text": [
      "Optimization converged after 21 iterations.\n"
     ]
    },
    {
     "name": "stderr",
     "output_type": "stream",
     "text": [
      " 70%|███████   | 7/10 [01:32<00:39, 13.23s/it]"
     ]
    },
    {
     "name": "stdout",
     "output_type": "stream",
     "text": [
      "Optimization converged after 21 iterations.\n"
     ]
    },
    {
     "name": "stderr",
     "output_type": "stream",
     "text": [
      " 80%|████████  | 8/10 [01:44<00:25, 12.97s/it]"
     ]
    },
    {
     "name": "stdout",
     "output_type": "stream",
     "text": [
      "Optimization converged after 21 iterations.\n"
     ]
    },
    {
     "name": "stderr",
     "output_type": "stream",
     "text": [
      " 90%|█████████ | 9/10 [01:56<00:12, 12.72s/it]"
     ]
    },
    {
     "name": "stdout",
     "output_type": "stream",
     "text": [
      "Optimization converged after 21 iterations.\n"
     ]
    },
    {
     "name": "stderr",
     "output_type": "stream",
     "text": [
      "100%|██████████| 10/10 [02:10<00:00, 13.07s/it]\n"
     ]
    },
    {
     "name": "stdout",
     "output_type": "stream",
     "text": [
      "Optimization converged after 21 iterations.\n",
      "Balanced accuracy: 100.0%\n",
      "\n",
      "\n",
      "{'Water Quality': {'ADAM Logistic Regression': [0.5207317073170732, 0.5061674359382461, 0.5271086988411324, 0.5378799936336145, 0.4973103454948287, 0.5194299617657282, 0.5212539595428594, 0.5094430992736078, 0.5175865800865801, 0.5287131398457783], 'SGD Logistic Regression': [0.5077176354154771, 0.531714694183208, 0.5417583492249768, 0.5224845280946262, 0.5088890617857872, 0.5099506080124779, 0.5186786163703255, 0.5175917141049968, 0.5338283828382838, 0.5259550637349548], 'IWLS Logistic Regression': [0.5142137251884905, 0.48855602040119755, 0.5201506038824507, 0.5103006348065636, 0.5116656779125293, 0.5121274122743821, 0.5172122914289615, 0.5137801410151533, 0.5234407948292942, 0.5224226779573836]}, 'Ionosphere': {'ADAM Logistic Regression': [0.7868303571428572, 0.8705128205128205, 0.7700892857142857, 0.8566308243727598, 0.6902985074626866, 0.7681818181818182, 0.9136904761904762, 0.7559681697612732, 0.8451492537313433, 0.8344262295081968], 'SGD Logistic Regression': [0.7420634920634921, 0.7544642857142857, 0.731060606060606, 0.7621212121212121, 0.726923076923077, 0.7700892857142857, 0.5615079365079365, 0.5951492537313433, 0.6350446428571428, 0.5525641025641026], 'IWLS Logistic Regression': [0.6752232142857143, 0.75, 0.6944444444444444, 0.7192307692307692, 0.7616487455197133, 0.8102678571428572, 0.8353174603174602, 0.48507462686567165, 0.8090163934426229, 0.6254098360655738]}, 'Heart Attack': {'ADAM Logistic Regression': [0.7149784482758621, 0.7345537757437071, 0.9112200435729847, 0.8427777777777778, 0.8181318681318681, 0.7591594827586207, 0.8043010752688172, 0.8447712418300654, 0.7995337995337995, 0.8136261261261262], 'SGD Logistic Regression': [0.803921568627451, 0.9154094827586207, 0.7402597402597402, 0.7844444444444445, 0.8252164502164503, 0.7922222222222222, 0.8857758620689655, 0.8204301075268817, 0.8699324324324325, 0.8625541125541125], 'IWLS Logistic Regression': [0.7849462365591398, 0.8474025974025974, 0.8229847494553377, 0.7362637362637363, 0.7939560439560439, 0.8216594827586207, 0.8116883116883117, 0.8485838779956427, 0.771505376344086, 0.8805361305361306]}, 'Japanese Vowels': {'ADAM Logistic Regression': [1.0, 1.0, 1.0, 1.0, 1.0, 1.0, 1.0, 1.0, 1.0, 1.0], 'SGD Logistic Regression': [1.0, 1.0, 1.0, 1.0, 1.0, 1.0, 1.0, 1.0, 1.0, 1.0], 'IWLS Logistic Regression': [1.0, 1.0, 1.0, 1.0, 1.0, 1.0, 1.0, 1.0, 1.0, 1.0]}}\n",
      "***Banana quality***\n",
      "\n",
      "\tADAM Logistic Regression\n"
     ]
    },
    {
     "name": "stderr",
     "output_type": "stream",
     "text": [
      "100%|██████████| 10/10 [00:05<00:00,  1.91it/s]\n"
     ]
    },
    {
     "name": "stdout",
     "output_type": "stream",
     "text": [
      "Balanced accuracy: 87.17%\n",
      "\n",
      "\n",
      "\tSGD Logistic Regression\n"
     ]
    },
    {
     "name": "stderr",
     "output_type": "stream",
     "text": [
      " 10%|█         | 1/10 [00:01<00:12,  1.42s/it]"
     ]
    },
    {
     "name": "stdout",
     "output_type": "stream",
     "text": [
      "Optimization converged after 11 iterations.\n"
     ]
    },
    {
     "name": "stderr",
     "output_type": "stream",
     "text": [
      " 20%|██        | 2/10 [00:02<00:11,  1.41s/it]"
     ]
    },
    {
     "name": "stdout",
     "output_type": "stream",
     "text": [
      "Optimization converged after 12 iterations.\n"
     ]
    },
    {
     "name": "stderr",
     "output_type": "stream",
     "text": [
      " 30%|███       | 3/10 [00:04<00:09,  1.38s/it]"
     ]
    },
    {
     "name": "stdout",
     "output_type": "stream",
     "text": [
      "Optimization converged after 11 iterations.\n"
     ]
    },
    {
     "name": "stderr",
     "output_type": "stream",
     "text": [
      " 40%|████      | 4/10 [00:05<00:08,  1.40s/it]"
     ]
    },
    {
     "name": "stdout",
     "output_type": "stream",
     "text": [
      "Optimization converged after 12 iterations.\n"
     ]
    },
    {
     "name": "stderr",
     "output_type": "stream",
     "text": [
      " 50%|█████     | 5/10 [00:06<00:06,  1.38s/it]"
     ]
    },
    {
     "name": "stdout",
     "output_type": "stream",
     "text": [
      "Optimization converged after 11 iterations.\n"
     ]
    },
    {
     "name": "stderr",
     "output_type": "stream",
     "text": [
      " 60%|██████    | 6/10 [00:08<00:05,  1.35s/it]"
     ]
    },
    {
     "name": "stdout",
     "output_type": "stream",
     "text": [
      "Optimization converged after 11 iterations.\n"
     ]
    },
    {
     "name": "stderr",
     "output_type": "stream",
     "text": [
      " 70%|███████   | 7/10 [00:09<00:03,  1.22s/it]"
     ]
    },
    {
     "name": "stdout",
     "output_type": "stream",
     "text": [
      "Optimization converged after 8 iterations.\n"
     ]
    },
    {
     "name": "stderr",
     "output_type": "stream",
     "text": [
      " 80%|████████  | 8/10 [00:10<00:02,  1.31s/it]"
     ]
    },
    {
     "name": "stdout",
     "output_type": "stream",
     "text": [
      "Optimization converged after 12 iterations.\n"
     ]
    },
    {
     "name": "stderr",
     "output_type": "stream",
     "text": [
      " 90%|█████████ | 9/10 [00:12<00:01,  1.35s/it]"
     ]
    },
    {
     "name": "stdout",
     "output_type": "stream",
     "text": [
      "Optimization converged after 12 iterations.\n"
     ]
    },
    {
     "name": "stderr",
     "output_type": "stream",
     "text": [
      "100%|██████████| 10/10 [00:13<00:00,  1.35s/it]\n"
     ]
    },
    {
     "name": "stdout",
     "output_type": "stream",
     "text": [
      "Optimization converged after 11 iterations.\n",
      "Balanced accuracy: 87.74%\n",
      "\n",
      "\n",
      "\tIWLS Logistic Regression\n"
     ]
    },
    {
     "name": "stderr",
     "output_type": "stream",
     "text": [
      " 10%|█         | 1/10 [00:02<00:18,  2.07s/it]"
     ]
    },
    {
     "name": "stdout",
     "output_type": "stream",
     "text": [
      "Optimization converged after 8 iterations.\n"
     ]
    },
    {
     "name": "stderr",
     "output_type": "stream",
     "text": [
      " 20%|██        | 2/10 [00:05<00:21,  2.67s/it]"
     ]
    },
    {
     "name": "stdout",
     "output_type": "stream",
     "text": [
      "Optimization converged after 8 iterations.\n"
     ]
    },
    {
     "name": "stderr",
     "output_type": "stream",
     "text": [
      " 30%|███       | 3/10 [00:07<00:16,  2.31s/it]"
     ]
    },
    {
     "name": "stdout",
     "output_type": "stream",
     "text": [
      "Optimization converged after 8 iterations.\n"
     ]
    },
    {
     "name": "stderr",
     "output_type": "stream",
     "text": [
      " 40%|████      | 4/10 [00:08<00:12,  2.12s/it]"
     ]
    },
    {
     "name": "stdout",
     "output_type": "stream",
     "text": [
      "Optimization converged after 8 iterations.\n"
     ]
    },
    {
     "name": "stderr",
     "output_type": "stream",
     "text": [
      " 50%|█████     | 5/10 [00:11<00:11,  2.21s/it]"
     ]
    },
    {
     "name": "stdout",
     "output_type": "stream",
     "text": [
      "Optimization converged after 8 iterations.\n"
     ]
    },
    {
     "name": "stderr",
     "output_type": "stream",
     "text": [
      " 60%|██████    | 6/10 [00:13<00:09,  2.29s/it]"
     ]
    },
    {
     "name": "stdout",
     "output_type": "stream",
     "text": [
      "Optimization converged after 8 iterations.\n"
     ]
    },
    {
     "name": "stderr",
     "output_type": "stream",
     "text": [
      " 70%|███████   | 7/10 [00:15<00:06,  2.02s/it]"
     ]
    },
    {
     "name": "stdout",
     "output_type": "stream",
     "text": [
      "Optimization converged after 8 iterations.\n"
     ]
    },
    {
     "name": "stderr",
     "output_type": "stream",
     "text": [
      " 80%|████████  | 8/10 [00:17<00:04,  2.08s/it]"
     ]
    },
    {
     "name": "stdout",
     "output_type": "stream",
     "text": [
      "Optimization converged after 8 iterations.\n"
     ]
    },
    {
     "name": "stderr",
     "output_type": "stream",
     "text": [
      " 90%|█████████ | 9/10 [00:19<00:02,  2.17s/it]"
     ]
    },
    {
     "name": "stdout",
     "output_type": "stream",
     "text": [
      "Optimization converged after 8 iterations.\n"
     ]
    },
    {
     "name": "stderr",
     "output_type": "stream",
     "text": [
      "100%|██████████| 10/10 [00:22<00:00,  2.20s/it]\n"
     ]
    },
    {
     "name": "stdout",
     "output_type": "stream",
     "text": [
      "Optimization converged after 8 iterations.\n",
      "Balanced accuracy: 87.35%\n",
      "\n",
      "\n",
      "{'Water Quality': {'ADAM Logistic Regression': [0.5207317073170732, 0.5061674359382461, 0.5271086988411324, 0.5378799936336145, 0.4973103454948287, 0.5194299617657282, 0.5212539595428594, 0.5094430992736078, 0.5175865800865801, 0.5287131398457783], 'SGD Logistic Regression': [0.5077176354154771, 0.531714694183208, 0.5417583492249768, 0.5224845280946262, 0.5088890617857872, 0.5099506080124779, 0.5186786163703255, 0.5175917141049968, 0.5338283828382838, 0.5259550637349548], 'IWLS Logistic Regression': [0.5142137251884905, 0.48855602040119755, 0.5201506038824507, 0.5103006348065636, 0.5116656779125293, 0.5121274122743821, 0.5172122914289615, 0.5137801410151533, 0.5234407948292942, 0.5224226779573836]}, 'Ionosphere': {'ADAM Logistic Regression': [0.7868303571428572, 0.8705128205128205, 0.7700892857142857, 0.8566308243727598, 0.6902985074626866, 0.7681818181818182, 0.9136904761904762, 0.7559681697612732, 0.8451492537313433, 0.8344262295081968], 'SGD Logistic Regression': [0.7420634920634921, 0.7544642857142857, 0.731060606060606, 0.7621212121212121, 0.726923076923077, 0.7700892857142857, 0.5615079365079365, 0.5951492537313433, 0.6350446428571428, 0.5525641025641026], 'IWLS Logistic Regression': [0.6752232142857143, 0.75, 0.6944444444444444, 0.7192307692307692, 0.7616487455197133, 0.8102678571428572, 0.8353174603174602, 0.48507462686567165, 0.8090163934426229, 0.6254098360655738]}, 'Heart Attack': {'ADAM Logistic Regression': [0.7149784482758621, 0.7345537757437071, 0.9112200435729847, 0.8427777777777778, 0.8181318681318681, 0.7591594827586207, 0.8043010752688172, 0.8447712418300654, 0.7995337995337995, 0.8136261261261262], 'SGD Logistic Regression': [0.803921568627451, 0.9154094827586207, 0.7402597402597402, 0.7844444444444445, 0.8252164502164503, 0.7922222222222222, 0.8857758620689655, 0.8204301075268817, 0.8699324324324325, 0.8625541125541125], 'IWLS Logistic Regression': [0.7849462365591398, 0.8474025974025974, 0.8229847494553377, 0.7362637362637363, 0.7939560439560439, 0.8216594827586207, 0.8116883116883117, 0.8485838779956427, 0.771505376344086, 0.8805361305361306]}, 'Japanese Vowels': {'ADAM Logistic Regression': [1.0, 1.0, 1.0, 1.0, 1.0, 1.0, 1.0, 1.0, 1.0, 1.0], 'SGD Logistic Regression': [1.0, 1.0, 1.0, 1.0, 1.0, 1.0, 1.0, 1.0, 1.0, 1.0], 'IWLS Logistic Regression': [1.0, 1.0, 1.0, 1.0, 1.0, 1.0, 1.0, 1.0, 1.0, 1.0]}, 'Banana quality': {'ADAM Logistic Regression': [0.8755443776164112, 0.8794585867687917, 0.8675232305050476, 0.8708654076283766, 0.8832127053176329, 0.8661040787623067, 0.8709260726660634, 0.8604905900956928, 0.8710600375234521, 0.871588078660452], 'SGD Logistic Regression': [0.8800170627399447, 0.875695157694331, 0.8880684481950305, 0.8700143069586979, 0.8907839148803004, 0.8698083978546562, 0.8635435012328284, 0.8769304664410578, 0.8874013742364268, 0.8714769342444495], 'IWLS Logistic Regression': [0.8731321670384721, 0.8674492449244924, 0.8737742110888194, 0.8643058161350845, 0.8800657500090058, 0.8677849115166079, 0.8761476282739953, 0.8666749547672998, 0.8812717678842359, 0.88411507191995]}}\n",
      "***Climate***\n",
      "\n",
      "\tADAM Logistic Regression\n"
     ]
    },
    {
     "name": "stderr",
     "output_type": "stream",
     "text": [
      "100%|██████████| 10/10 [00:00<00:00, 22.56it/s]\n"
     ]
    },
    {
     "name": "stdout",
     "output_type": "stream",
     "text": [
      "Balanced accuracy: 77.01%\n",
      "\n",
      "\n",
      "\tSGD Logistic Regression\n"
     ]
    },
    {
     "name": "stderr",
     "output_type": "stream",
     "text": [
      " 10%|█         | 1/10 [00:00<00:06,  1.33it/s]"
     ]
    },
    {
     "name": "stdout",
     "output_type": "stream",
     "text": [
      "Optimization converged after 213 iterations.\n"
     ]
    },
    {
     "name": "stderr",
     "output_type": "stream",
     "text": [
      " 20%|██        | 2/10 [00:01<00:05,  1.53it/s]"
     ]
    },
    {
     "name": "stdout",
     "output_type": "stream",
     "text": [
      "Optimization converged after 161 iterations.\n"
     ]
    },
    {
     "name": "stderr",
     "output_type": "stream",
     "text": [
      " 30%|███       | 3/10 [00:02<00:05,  1.33it/s]"
     ]
    },
    {
     "name": "stdout",
     "output_type": "stream",
     "text": [
      "Optimization converged after 182 iterations.\n"
     ]
    },
    {
     "name": "stderr",
     "output_type": "stream",
     "text": [
      " 40%|████      | 4/10 [00:02<00:03,  1.52it/s]"
     ]
    },
    {
     "name": "stdout",
     "output_type": "stream",
     "text": [
      "Optimization converged after 138 iterations.\n"
     ]
    },
    {
     "name": "stderr",
     "output_type": "stream",
     "text": [
      " 50%|█████     | 5/10 [00:03<00:03,  1.53it/s]"
     ]
    },
    {
     "name": "stdout",
     "output_type": "stream",
     "text": [
      "Optimization converged after 168 iterations.\n"
     ]
    },
    {
     "name": "stderr",
     "output_type": "stream",
     "text": [
      " 60%|██████    | 6/10 [00:03<00:02,  1.67it/s]"
     ]
    },
    {
     "name": "stdout",
     "output_type": "stream",
     "text": [
      "Optimization converged after 119 iterations.\n"
     ]
    },
    {
     "name": "stderr",
     "output_type": "stream",
     "text": [
      " 70%|███████   | 7/10 [00:04<00:02,  1.46it/s]"
     ]
    },
    {
     "name": "stdout",
     "output_type": "stream",
     "text": [
      "Optimization converged after 212 iterations.\n"
     ]
    },
    {
     "name": "stderr",
     "output_type": "stream",
     "text": [
      " 80%|████████  | 8/10 [00:05<00:01,  1.38it/s]"
     ]
    },
    {
     "name": "stdout",
     "output_type": "stream",
     "text": [
      "Optimization converged after 215 iterations.\n"
     ]
    },
    {
     "name": "stderr",
     "output_type": "stream",
     "text": [
      " 90%|█████████ | 9/10 [00:06<00:00,  1.45it/s]"
     ]
    },
    {
     "name": "stdout",
     "output_type": "stream",
     "text": [
      "Optimization converged after 152 iterations.\n"
     ]
    },
    {
     "name": "stderr",
     "output_type": "stream",
     "text": [
      "100%|██████████| 10/10 [00:06<00:00,  1.50it/s]\n"
     ]
    },
    {
     "name": "stdout",
     "output_type": "stream",
     "text": [
      "Optimization converged after 131 iterations.\n",
      "Balanced accuracy: 58.49%\n",
      "\n",
      "\n",
      "\tIWLS Logistic Regression\n"
     ]
    },
    {
     "name": "stderr",
     "output_type": "stream",
     "text": [
      " 20%|██        | 2/10 [00:00<00:00, 11.22it/s]"
     ]
    },
    {
     "name": "stdout",
     "output_type": "stream",
     "text": [
      "Optimization converged after 8 iterations.\n",
      "Optimization converged after 8 iterations.\n"
     ]
    },
    {
     "name": "stderr",
     "output_type": "stream",
     "text": [
      " 40%|████      | 4/10 [00:00<00:00,  8.54it/s]"
     ]
    },
    {
     "name": "stdout",
     "output_type": "stream",
     "text": [
      "Optimization converged after 8 iterations.\n",
      "Optimization converged after 8 iterations.\n"
     ]
    },
    {
     "name": "stderr",
     "output_type": "stream",
     "text": [
      " 50%|█████     | 5/10 [00:00<00:00,  7.40it/s]"
     ]
    },
    {
     "name": "stdout",
     "output_type": "stream",
     "text": [
      "Optimization converged after 9 iterations.\n"
     ]
    },
    {
     "name": "stderr",
     "output_type": "stream",
     "text": [
      " 60%|██████    | 6/10 [00:00<00:00,  6.35it/s]"
     ]
    },
    {
     "name": "stdout",
     "output_type": "stream",
     "text": [
      "Optimization converged after 8 iterations.\n"
     ]
    },
    {
     "name": "stderr",
     "output_type": "stream",
     "text": [
      " 70%|███████   | 7/10 [00:01<00:00,  5.62it/s]"
     ]
    },
    {
     "name": "stdout",
     "output_type": "stream",
     "text": [
      "Optimization converged after 8 iterations.\n"
     ]
    },
    {
     "name": "stderr",
     "output_type": "stream",
     "text": [
      "100%|██████████| 10/10 [00:01<00:00,  6.39it/s]\n"
     ]
    },
    {
     "name": "stdout",
     "output_type": "stream",
     "text": [
      "Optimization converged after 8 iterations.\n",
      "Optimization converged after 8 iterations.\n",
      "Optimization converged after 8 iterations.\n",
      "Balanced accuracy: 59.3%\n",
      "\n",
      "\n",
      "{'Water Quality': {'ADAM Logistic Regression': [0.5207317073170732, 0.5061674359382461, 0.5271086988411324, 0.5378799936336145, 0.4973103454948287, 0.5194299617657282, 0.5212539595428594, 0.5094430992736078, 0.5175865800865801, 0.5287131398457783], 'SGD Logistic Regression': [0.5077176354154771, 0.531714694183208, 0.5417583492249768, 0.5224845280946262, 0.5088890617857872, 0.5099506080124779, 0.5186786163703255, 0.5175917141049968, 0.5338283828382838, 0.5259550637349548], 'IWLS Logistic Regression': [0.5142137251884905, 0.48855602040119755, 0.5201506038824507, 0.5103006348065636, 0.5116656779125293, 0.5121274122743821, 0.5172122914289615, 0.5137801410151533, 0.5234407948292942, 0.5224226779573836]}, 'Ionosphere': {'ADAM Logistic Regression': [0.7868303571428572, 0.8705128205128205, 0.7700892857142857, 0.8566308243727598, 0.6902985074626866, 0.7681818181818182, 0.9136904761904762, 0.7559681697612732, 0.8451492537313433, 0.8344262295081968], 'SGD Logistic Regression': [0.7420634920634921, 0.7544642857142857, 0.731060606060606, 0.7621212121212121, 0.726923076923077, 0.7700892857142857, 0.5615079365079365, 0.5951492537313433, 0.6350446428571428, 0.5525641025641026], 'IWLS Logistic Regression': [0.6752232142857143, 0.75, 0.6944444444444444, 0.7192307692307692, 0.7616487455197133, 0.8102678571428572, 0.8353174603174602, 0.48507462686567165, 0.8090163934426229, 0.6254098360655738]}, 'Heart Attack': {'ADAM Logistic Regression': [0.7149784482758621, 0.7345537757437071, 0.9112200435729847, 0.8427777777777778, 0.8181318681318681, 0.7591594827586207, 0.8043010752688172, 0.8447712418300654, 0.7995337995337995, 0.8136261261261262], 'SGD Logistic Regression': [0.803921568627451, 0.9154094827586207, 0.7402597402597402, 0.7844444444444445, 0.8252164502164503, 0.7922222222222222, 0.8857758620689655, 0.8204301075268817, 0.8699324324324325, 0.8625541125541125], 'IWLS Logistic Regression': [0.7849462365591398, 0.8474025974025974, 0.8229847494553377, 0.7362637362637363, 0.7939560439560439, 0.8216594827586207, 0.8116883116883117, 0.8485838779956427, 0.771505376344086, 0.8805361305361306]}, 'Japanese Vowels': {'ADAM Logistic Regression': [1.0, 1.0, 1.0, 1.0, 1.0, 1.0, 1.0, 1.0, 1.0, 1.0], 'SGD Logistic Regression': [1.0, 1.0, 1.0, 1.0, 1.0, 1.0, 1.0, 1.0, 1.0, 1.0], 'IWLS Logistic Regression': [1.0, 1.0, 1.0, 1.0, 1.0, 1.0, 1.0, 1.0, 1.0, 1.0]}, 'Banana quality': {'ADAM Logistic Regression': [0.8755443776164112, 0.8794585867687917, 0.8675232305050476, 0.8708654076283766, 0.8832127053176329, 0.8661040787623067, 0.8709260726660634, 0.8604905900956928, 0.8710600375234521, 0.871588078660452], 'SGD Logistic Regression': [0.8800170627399447, 0.875695157694331, 0.8880684481950305, 0.8700143069586979, 0.8907839148803004, 0.8698083978546562, 0.8635435012328284, 0.8769304664410578, 0.8874013742364268, 0.8714769342444495], 'IWLS Logistic Regression': [0.8731321670384721, 0.8674492449244924, 0.8737742110888194, 0.8643058161350845, 0.8800657500090058, 0.8677849115166079, 0.8761476282739953, 0.8666749547672998, 0.8812717678842359, 0.88411507191995]}, 'Climate': {'ADAM Logistic Regression': [0.8645833333333334, 0.6683673469387755, 0.7745098039215685, 0.8317713214620431, 0.7336734693877551, 0.7525, 0.6325000000000001, 0.772984441301273, 0.756011315417256, 0.9142857142857144], 'SGD Logistic Regression': [0.5965045592705167, 0.475, 0.5857544517338332, 0.5854368932038835, 0.5279352226720648, 0.5, 0.5846938775510204, 0.5795918367346938, 0.605, 0.8088235294117647], 'IWLS Logistic Regression': [0.5677083333333334, 0.6625, 0.6854368932038835, 0.6312089971883786, 0.5611111111111111, 0.5505376344086022, 0.605, 0.6666666666666666, 0.5, 0.5]}}\n",
      "***Diabetes***\n",
      "\n",
      "\tADAM Logistic Regression\n"
     ]
    },
    {
     "name": "stderr",
     "output_type": "stream",
     "text": [
      "100%|██████████| 10/10 [00:00<00:00, 21.37it/s]\n"
     ]
    },
    {
     "name": "stdout",
     "output_type": "stream",
     "text": [
      "Balanced accuracy: 72.54%\n",
      "\n",
      "\n",
      "\tSGD Logistic Regression\n"
     ]
    },
    {
     "name": "stderr",
     "output_type": "stream",
     "text": [
      " 10%|█         | 1/10 [00:00<00:01,  7.10it/s]"
     ]
    },
    {
     "name": "stdout",
     "output_type": "stream",
     "text": [
      "Optimization converged after 25 iterations.\n"
     ]
    },
    {
     "name": "stderr",
     "output_type": "stream",
     "text": [
      " 20%|██        | 2/10 [00:00<00:01,  7.31it/s]"
     ]
    },
    {
     "name": "stdout",
     "output_type": "stream",
     "text": [
      "Optimization converged after 23 iterations.\n"
     ]
    },
    {
     "name": "stderr",
     "output_type": "stream",
     "text": [
      " 30%|███       | 3/10 [00:00<00:00,  7.27it/s]"
     ]
    },
    {
     "name": "stdout",
     "output_type": "stream",
     "text": [
      "Optimization converged after 20 iterations.\n"
     ]
    },
    {
     "name": "stderr",
     "output_type": "stream",
     "text": [
      " 40%|████      | 4/10 [00:00<00:00,  6.69it/s]"
     ]
    },
    {
     "name": "stdout",
     "output_type": "stream",
     "text": [
      "Optimization converged after 24 iterations.\n"
     ]
    },
    {
     "name": "stderr",
     "output_type": "stream",
     "text": [
      " 50%|█████     | 5/10 [00:00<00:00,  6.35it/s]"
     ]
    },
    {
     "name": "stdout",
     "output_type": "stream",
     "text": [
      "Optimization converged after 27 iterations.\n"
     ]
    },
    {
     "name": "stderr",
     "output_type": "stream",
     "text": [
      " 60%|██████    | 6/10 [00:00<00:00,  6.27it/s]"
     ]
    },
    {
     "name": "stdout",
     "output_type": "stream",
     "text": [
      "Optimization converged after 25 iterations.\n"
     ]
    },
    {
     "name": "stderr",
     "output_type": "stream",
     "text": [
      " 70%|███████   | 7/10 [00:01<00:00,  5.90it/s]"
     ]
    },
    {
     "name": "stdout",
     "output_type": "stream",
     "text": [
      "Optimization converged after 27 iterations.\n"
     ]
    },
    {
     "name": "stderr",
     "output_type": "stream",
     "text": [
      " 80%|████████  | 8/10 [00:01<00:00,  5.58it/s]"
     ]
    },
    {
     "name": "stdout",
     "output_type": "stream",
     "text": [
      "Optimization converged after 24 iterations.\n"
     ]
    },
    {
     "name": "stderr",
     "output_type": "stream",
     "text": [
      " 90%|█████████ | 9/10 [00:01<00:00,  5.57it/s]"
     ]
    },
    {
     "name": "stdout",
     "output_type": "stream",
     "text": [
      "Optimization converged after 26 iterations.\n"
     ]
    },
    {
     "name": "stderr",
     "output_type": "stream",
     "text": [
      "100%|██████████| 10/10 [00:01<00:00,  5.91it/s]\n"
     ]
    },
    {
     "name": "stdout",
     "output_type": "stream",
     "text": [
      "Optimization converged after 29 iterations.\n",
      "Balanced accuracy: 72.59%\n",
      "\n",
      "\n",
      "\tIWLS Logistic Regression\n"
     ]
    },
    {
     "name": "stderr",
     "output_type": "stream",
     "text": [
      "  0%|          | 0/10 [00:00<?, ?it/s]"
     ]
    },
    {
     "name": "stdout",
     "output_type": "stream",
     "text": [
      "Optimization converged after 6 iterations.\n"
     ]
    },
    {
     "name": "stderr",
     "output_type": "stream",
     "text": [
      " 20%|██        | 2/10 [00:00<00:00,  9.22it/s]"
     ]
    },
    {
     "name": "stdout",
     "output_type": "stream",
     "text": [
      "Optimization converged after 6 iterations.\n"
     ]
    },
    {
     "name": "stderr",
     "output_type": "stream",
     "text": [
      " 30%|███       | 3/10 [00:00<00:00,  8.22it/s]"
     ]
    },
    {
     "name": "stdout",
     "output_type": "stream",
     "text": [
      "Optimization converged after 6 iterations.\n",
      "Optimization converged after 6 iterations.\n"
     ]
    },
    {
     "name": "stderr",
     "output_type": "stream",
     "text": [
      " 50%|█████     | 5/10 [00:00<00:00,  8.09it/s]"
     ]
    },
    {
     "name": "stdout",
     "output_type": "stream",
     "text": [
      "Optimization converged after 6 iterations.\n"
     ]
    },
    {
     "name": "stderr",
     "output_type": "stream",
     "text": [
      " 60%|██████    | 6/10 [00:00<00:00,  8.21it/s]"
     ]
    },
    {
     "name": "stdout",
     "output_type": "stream",
     "text": [
      "Optimization converged after 6 iterations.\n",
      "Optimization converged after 6 iterations.\n"
     ]
    },
    {
     "name": "stderr",
     "output_type": "stream",
     "text": [
      " 80%|████████  | 8/10 [00:00<00:00,  8.81it/s]"
     ]
    },
    {
     "name": "stdout",
     "output_type": "stream",
     "text": [
      "Optimization converged after 6 iterations.\n",
      "Optimization converged after 6 iterations.\n"
     ]
    },
    {
     "name": "stderr",
     "output_type": "stream",
     "text": [
      "100%|██████████| 10/10 [00:01<00:00,  8.75it/s]\n"
     ]
    },
    {
     "name": "stdout",
     "output_type": "stream",
     "text": [
      "Optimization converged after 6 iterations.\n",
      "Balanced accuracy: 71.81%\n",
      "\n",
      "\n",
      "{'Water Quality': {'ADAM Logistic Regression': [0.5207317073170732, 0.5061674359382461, 0.5271086988411324, 0.5378799936336145, 0.4973103454948287, 0.5194299617657282, 0.5212539595428594, 0.5094430992736078, 0.5175865800865801, 0.5287131398457783], 'SGD Logistic Regression': [0.5077176354154771, 0.531714694183208, 0.5417583492249768, 0.5224845280946262, 0.5088890617857872, 0.5099506080124779, 0.5186786163703255, 0.5175917141049968, 0.5338283828382838, 0.5259550637349548], 'IWLS Logistic Regression': [0.5142137251884905, 0.48855602040119755, 0.5201506038824507, 0.5103006348065636, 0.5116656779125293, 0.5121274122743821, 0.5172122914289615, 0.5137801410151533, 0.5234407948292942, 0.5224226779573836]}, 'Ionosphere': {'ADAM Logistic Regression': [0.7868303571428572, 0.8705128205128205, 0.7700892857142857, 0.8566308243727598, 0.6902985074626866, 0.7681818181818182, 0.9136904761904762, 0.7559681697612732, 0.8451492537313433, 0.8344262295081968], 'SGD Logistic Regression': [0.7420634920634921, 0.7544642857142857, 0.731060606060606, 0.7621212121212121, 0.726923076923077, 0.7700892857142857, 0.5615079365079365, 0.5951492537313433, 0.6350446428571428, 0.5525641025641026], 'IWLS Logistic Regression': [0.6752232142857143, 0.75, 0.6944444444444444, 0.7192307692307692, 0.7616487455197133, 0.8102678571428572, 0.8353174603174602, 0.48507462686567165, 0.8090163934426229, 0.6254098360655738]}, 'Heart Attack': {'ADAM Logistic Regression': [0.7149784482758621, 0.7345537757437071, 0.9112200435729847, 0.8427777777777778, 0.8181318681318681, 0.7591594827586207, 0.8043010752688172, 0.8447712418300654, 0.7995337995337995, 0.8136261261261262], 'SGD Logistic Regression': [0.803921568627451, 0.9154094827586207, 0.7402597402597402, 0.7844444444444445, 0.8252164502164503, 0.7922222222222222, 0.8857758620689655, 0.8204301075268817, 0.8699324324324325, 0.8625541125541125], 'IWLS Logistic Regression': [0.7849462365591398, 0.8474025974025974, 0.8229847494553377, 0.7362637362637363, 0.7939560439560439, 0.8216594827586207, 0.8116883116883117, 0.8485838779956427, 0.771505376344086, 0.8805361305361306]}, 'Japanese Vowels': {'ADAM Logistic Regression': [1.0, 1.0, 1.0, 1.0, 1.0, 1.0, 1.0, 1.0, 1.0, 1.0], 'SGD Logistic Regression': [1.0, 1.0, 1.0, 1.0, 1.0, 1.0, 1.0, 1.0, 1.0, 1.0], 'IWLS Logistic Regression': [1.0, 1.0, 1.0, 1.0, 1.0, 1.0, 1.0, 1.0, 1.0, 1.0]}, 'Banana quality': {'ADAM Logistic Regression': [0.8755443776164112, 0.8794585867687917, 0.8675232305050476, 0.8708654076283766, 0.8832127053176329, 0.8661040787623067, 0.8709260726660634, 0.8604905900956928, 0.8710600375234521, 0.871588078660452], 'SGD Logistic Regression': [0.8800170627399447, 0.875695157694331, 0.8880684481950305, 0.8700143069586979, 0.8907839148803004, 0.8698083978546562, 0.8635435012328284, 0.8769304664410578, 0.8874013742364268, 0.8714769342444495], 'IWLS Logistic Regression': [0.8731321670384721, 0.8674492449244924, 0.8737742110888194, 0.8643058161350845, 0.8800657500090058, 0.8677849115166079, 0.8761476282739953, 0.8666749547672998, 0.8812717678842359, 0.88411507191995]}, 'Climate': {'ADAM Logistic Regression': [0.8645833333333334, 0.6683673469387755, 0.7745098039215685, 0.8317713214620431, 0.7336734693877551, 0.7525, 0.6325000000000001, 0.772984441301273, 0.756011315417256, 0.9142857142857144], 'SGD Logistic Regression': [0.5965045592705167, 0.475, 0.5857544517338332, 0.5854368932038835, 0.5279352226720648, 0.5, 0.5846938775510204, 0.5795918367346938, 0.605, 0.8088235294117647], 'IWLS Logistic Regression': [0.5677083333333334, 0.6625, 0.6854368932038835, 0.6312089971883786, 0.5611111111111111, 0.5505376344086022, 0.605, 0.6666666666666666, 0.5, 0.5]}, 'Diabetes': {'ADAM Logistic Regression': [0.7161616161616162, 0.6709183673469388, 0.7061224489795919, 0.7421985815602836, 0.6858974358974359, 0.7848484848484849, 0.7458595088520845, 0.8094422234913383, 0.6952380952380952, 0.6975], 'SGD Logistic Regression': [0.6995330459770115, 0.7540470537448738, 0.8263461538461538, 0.6427755568246716, 0.676946506758043, 0.7280963945451149, 0.7244897959183674, 0.7415467961890528, 0.7296380090497737, 0.7355555555555555], 'IWLS Logistic Regression': [0.7523076923076923, 0.700291645222165, 0.7604166666666667, 0.7111702127659575, 0.691553544494721, 0.6942592592592592, 0.7672333271062955, 0.7253951149425287, 0.7159090909090909, 0.662962962962963]}}\n",
      "***Biodegradable***\n",
      "\n",
      "\tADAM Logistic Regression\n"
     ]
    },
    {
     "name": "stderr",
     "output_type": "stream",
     "text": [
      "100%|██████████| 10/10 [00:02<00:00,  3.94it/s]\n"
     ]
    },
    {
     "name": "stdout",
     "output_type": "stream",
     "text": [
      "Balanced accuracy: 83.88%\n",
      "\n",
      "\n",
      "\tSGD Logistic Regression\n"
     ]
    },
    {
     "name": "stderr",
     "output_type": "stream",
     "text": [
      " 20%|██        | 2/10 [00:13<00:48,  6.10s/it]"
     ]
    },
    {
     "name": "stdout",
     "output_type": "stream",
     "text": [
      "Optimization converged after 155 iterations.\n"
     ]
    },
    {
     "name": "stderr",
     "output_type": "stream",
     "text": [
      "100%|██████████| 10/10 [01:31<00:00,  9.20s/it]\n"
     ]
    },
    {
     "name": "stdout",
     "output_type": "stream",
     "text": [
      "Optimization converged after 448 iterations.\n",
      "Balanced accuracy: 83.5%\n",
      "\n",
      "\n",
      "\tIWLS Logistic Regression\n"
     ]
    },
    {
     "name": "stderr",
     "output_type": "stream",
     "text": [
      " 30%|███       | 3/10 [00:00<00:00,  8.26it/s]"
     ]
    },
    {
     "name": "stdout",
     "output_type": "stream",
     "text": [
      "Optimization converged after 17 iterations.\n",
      "Optimization converged after 17 iterations.\n",
      "Optimization converged after 17 iterations.\n"
     ]
    },
    {
     "name": "stderr",
     "output_type": "stream",
     "text": [
      " 40%|████      | 4/10 [00:00<00:00,  6.44it/s]"
     ]
    },
    {
     "name": "stdout",
     "output_type": "stream",
     "text": [
      "Optimization converged after 17 iterations.\n",
      "Optimization converged after 16 iterations.\n"
     ]
    },
    {
     "name": "stderr",
     "output_type": "stream",
     "text": [
      " 80%|████████  | 8/10 [00:01<00:00,  7.26it/s]"
     ]
    },
    {
     "name": "stdout",
     "output_type": "stream",
     "text": [
      "Optimization converged after 17 iterations.\n",
      "Optimization converged after 17 iterations.\n",
      "Optimization converged after 17 iterations.\n"
     ]
    },
    {
     "name": "stderr",
     "output_type": "stream",
     "text": [
      "100%|██████████| 10/10 [00:01<00:00,  6.28it/s]\n"
     ]
    },
    {
     "name": "stdout",
     "output_type": "stream",
     "text": [
      "Optimization converged after 17 iterations.\n",
      "Optimization converged after 17 iterations.\n",
      "Balanced accuracy: 84.15%\n",
      "\n",
      "\n",
      "{'Water Quality': {'ADAM Logistic Regression': [0.5207317073170732, 0.5061674359382461, 0.5271086988411324, 0.5378799936336145, 0.4973103454948287, 0.5194299617657282, 0.5212539595428594, 0.5094430992736078, 0.5175865800865801, 0.5287131398457783], 'SGD Logistic Regression': [0.5077176354154771, 0.531714694183208, 0.5417583492249768, 0.5224845280946262, 0.5088890617857872, 0.5099506080124779, 0.5186786163703255, 0.5175917141049968, 0.5338283828382838, 0.5259550637349548], 'IWLS Logistic Regression': [0.5142137251884905, 0.48855602040119755, 0.5201506038824507, 0.5103006348065636, 0.5116656779125293, 0.5121274122743821, 0.5172122914289615, 0.5137801410151533, 0.5234407948292942, 0.5224226779573836]}, 'Ionosphere': {'ADAM Logistic Regression': [0.7868303571428572, 0.8705128205128205, 0.7700892857142857, 0.8566308243727598, 0.6902985074626866, 0.7681818181818182, 0.9136904761904762, 0.7559681697612732, 0.8451492537313433, 0.8344262295081968], 'SGD Logistic Regression': [0.7420634920634921, 0.7544642857142857, 0.731060606060606, 0.7621212121212121, 0.726923076923077, 0.7700892857142857, 0.5615079365079365, 0.5951492537313433, 0.6350446428571428, 0.5525641025641026], 'IWLS Logistic Regression': [0.6752232142857143, 0.75, 0.6944444444444444, 0.7192307692307692, 0.7616487455197133, 0.8102678571428572, 0.8353174603174602, 0.48507462686567165, 0.8090163934426229, 0.6254098360655738]}, 'Heart Attack': {'ADAM Logistic Regression': [0.7149784482758621, 0.7345537757437071, 0.9112200435729847, 0.8427777777777778, 0.8181318681318681, 0.7591594827586207, 0.8043010752688172, 0.8447712418300654, 0.7995337995337995, 0.8136261261261262], 'SGD Logistic Regression': [0.803921568627451, 0.9154094827586207, 0.7402597402597402, 0.7844444444444445, 0.8252164502164503, 0.7922222222222222, 0.8857758620689655, 0.8204301075268817, 0.8699324324324325, 0.8625541125541125], 'IWLS Logistic Regression': [0.7849462365591398, 0.8474025974025974, 0.8229847494553377, 0.7362637362637363, 0.7939560439560439, 0.8216594827586207, 0.8116883116883117, 0.8485838779956427, 0.771505376344086, 0.8805361305361306]}, 'Japanese Vowels': {'ADAM Logistic Regression': [1.0, 1.0, 1.0, 1.0, 1.0, 1.0, 1.0, 1.0, 1.0, 1.0], 'SGD Logistic Regression': [1.0, 1.0, 1.0, 1.0, 1.0, 1.0, 1.0, 1.0, 1.0, 1.0], 'IWLS Logistic Regression': [1.0, 1.0, 1.0, 1.0, 1.0, 1.0, 1.0, 1.0, 1.0, 1.0]}, 'Banana quality': {'ADAM Logistic Regression': [0.8755443776164112, 0.8794585867687917, 0.8675232305050476, 0.8708654076283766, 0.8832127053176329, 0.8661040787623067, 0.8709260726660634, 0.8604905900956928, 0.8710600375234521, 0.871588078660452], 'SGD Logistic Regression': [0.8800170627399447, 0.875695157694331, 0.8880684481950305, 0.8700143069586979, 0.8907839148803004, 0.8698083978546562, 0.8635435012328284, 0.8769304664410578, 0.8874013742364268, 0.8714769342444495], 'IWLS Logistic Regression': [0.8731321670384721, 0.8674492449244924, 0.8737742110888194, 0.8643058161350845, 0.8800657500090058, 0.8677849115166079, 0.8761476282739953, 0.8666749547672998, 0.8812717678842359, 0.88411507191995]}, 'Climate': {'ADAM Logistic Regression': [0.8645833333333334, 0.6683673469387755, 0.7745098039215685, 0.8317713214620431, 0.7336734693877551, 0.7525, 0.6325000000000001, 0.772984441301273, 0.756011315417256, 0.9142857142857144], 'SGD Logistic Regression': [0.5965045592705167, 0.475, 0.5857544517338332, 0.5854368932038835, 0.5279352226720648, 0.5, 0.5846938775510204, 0.5795918367346938, 0.605, 0.8088235294117647], 'IWLS Logistic Regression': [0.5677083333333334, 0.6625, 0.6854368932038835, 0.6312089971883786, 0.5611111111111111, 0.5505376344086022, 0.605, 0.6666666666666666, 0.5, 0.5]}, 'Diabetes': {'ADAM Logistic Regression': [0.7161616161616162, 0.6709183673469388, 0.7061224489795919, 0.7421985815602836, 0.6858974358974359, 0.7848484848484849, 0.7458595088520845, 0.8094422234913383, 0.6952380952380952, 0.6975], 'SGD Logistic Regression': [0.6995330459770115, 0.7540470537448738, 0.8263461538461538, 0.6427755568246716, 0.676946506758043, 0.7280963945451149, 0.7244897959183674, 0.7415467961890528, 0.7296380090497737, 0.7355555555555555], 'IWLS Logistic Regression': [0.7523076923076923, 0.700291645222165, 0.7604166666666667, 0.7111702127659575, 0.691553544494721, 0.6942592592592592, 0.7672333271062955, 0.7253951149425287, 0.7159090909090909, 0.662962962962963]}, 'Biodegradable': {'ADAM Logistic Regression': [0.8623078588439057, 0.8901470588235294, 0.7776575016237282, 0.8314564564564564, 0.7990889707307618, 0.8260321767784455, 0.8117647058823529, 0.8648529411764705, 0.8524659863945578, 0.8723149213655543], 'SGD Logistic Regression': [0.8453866515409341, 0.8195588235294118, 0.860332649806334, 0.8017652671755725, 0.8562649880095923, 0.8360688956433637, 0.7916921820779751, 0.8182790697674418, 0.846588693957115, 0.8740230357877417], 'IWLS Logistic Regression': [0.8621836121836122, 0.8116444958550222, 0.8646909827760891, 0.8326362076362076, 0.8401337468501648, 0.835431654676259, 0.8443661971830986, 0.8692247013748028, 0.8155594405594406, 0.8392785771382894]}}\n",
      "***Plates***\n",
      "\n",
      "\tADAM Logistic Regression\n"
     ]
    },
    {
     "name": "stderr",
     "output_type": "stream",
     "text": [
      "100%|██████████| 10/10 [00:02<00:00,  3.73it/s]\n"
     ]
    },
    {
     "name": "stdout",
     "output_type": "stream",
     "text": [
      "Balanced accuracy: 16.5%\n",
      "\n",
      "\n",
      "\tSGD Logistic Regression\n"
     ]
    },
    {
     "name": "stderr",
     "output_type": "stream",
     "text": [
      "100%|██████████| 10/10 [02:59<00:00, 18.00s/it]\n"
     ]
    },
    {
     "name": "stdout",
     "output_type": "stream",
     "text": [
      "Balanced accuracy: 47.3%\n",
      "\n",
      "\n",
      "\tIWLS Logistic Regression\n"
     ]
    },
    {
     "name": "stderr",
     "output_type": "stream",
     "text": [
      " 10%|█         | 1/10 [00:00<00:02,  3.83it/s]"
     ]
    },
    {
     "name": "stdout",
     "output_type": "stream",
     "text": [
      "Optimization converged after 19 iterations.\n"
     ]
    },
    {
     "name": "stderr",
     "output_type": "stream",
     "text": [
      " 20%|██        | 2/10 [00:00<00:02,  2.70it/s]"
     ]
    },
    {
     "name": "stdout",
     "output_type": "stream",
     "text": [
      "Optimization converged after 27 iterations.\n"
     ]
    },
    {
     "name": "stderr",
     "output_type": "stream",
     "text": [
      " 30%|███       | 3/10 [00:01<00:05,  1.36it/s]"
     ]
    },
    {
     "name": "stdout",
     "output_type": "stream",
     "text": [
      "Optimization converged after 56 iterations.\n"
     ]
    },
    {
     "name": "stderr",
     "output_type": "stream",
     "text": [
      " 40%|████      | 4/10 [00:02<00:03,  1.50it/s]"
     ]
    },
    {
     "name": "stdout",
     "output_type": "stream",
     "text": [
      "Optimization converged after 13 iterations.\n"
     ]
    },
    {
     "name": "stderr",
     "output_type": "stream",
     "text": [
      " 50%|█████     | 5/10 [00:03<00:03,  1.50it/s]"
     ]
    },
    {
     "name": "stdout",
     "output_type": "stream",
     "text": [
      "Optimization converged after 55 iterations.\n"
     ]
    },
    {
     "name": "stderr",
     "output_type": "stream",
     "text": [
      " 60%|██████    | 6/10 [00:03<00:02,  1.55it/s]"
     ]
    },
    {
     "name": "stdout",
     "output_type": "stream",
     "text": [
      "Optimization converged after 44 iterations.\n"
     ]
    },
    {
     "name": "stderr",
     "output_type": "stream",
     "text": [
      " 80%|████████  | 8/10 [00:04<00:00,  2.26it/s]"
     ]
    },
    {
     "name": "stdout",
     "output_type": "stream",
     "text": [
      "Optimization converged after 29 iterations.\n"
     ]
    },
    {
     "name": "stderr",
     "output_type": "stream",
     "text": [
      " 90%|█████████ | 9/10 [00:05<00:00,  1.44it/s]"
     ]
    },
    {
     "name": "stdout",
     "output_type": "stream",
     "text": [
      "Optimization converged after 72 iterations.\n"
     ]
    },
    {
     "name": "stderr",
     "output_type": "stream",
     "text": [
      "100%|██████████| 10/10 [00:06<00:00,  1.63it/s]"
     ]
    },
    {
     "name": "stdout",
     "output_type": "stream",
     "text": [
      "Optimization converged after 38 iterations.\n",
      "Balanced accuracy: 47.43%\n",
      "\n",
      "\n",
      "{'Water Quality': {'ADAM Logistic Regression': [0.5207317073170732, 0.5061674359382461, 0.5271086988411324, 0.5378799936336145, 0.4973103454948287, 0.5194299617657282, 0.5212539595428594, 0.5094430992736078, 0.5175865800865801, 0.5287131398457783], 'SGD Logistic Regression': [0.5077176354154771, 0.531714694183208, 0.5417583492249768, 0.5224845280946262, 0.5088890617857872, 0.5099506080124779, 0.5186786163703255, 0.5175917141049968, 0.5338283828382838, 0.5259550637349548], 'IWLS Logistic Regression': [0.5142137251884905, 0.48855602040119755, 0.5201506038824507, 0.5103006348065636, 0.5116656779125293, 0.5121274122743821, 0.5172122914289615, 0.5137801410151533, 0.5234407948292942, 0.5224226779573836]}, 'Ionosphere': {'ADAM Logistic Regression': [0.7868303571428572, 0.8705128205128205, 0.7700892857142857, 0.8566308243727598, 0.6902985074626866, 0.7681818181818182, 0.9136904761904762, 0.7559681697612732, 0.8451492537313433, 0.8344262295081968], 'SGD Logistic Regression': [0.7420634920634921, 0.7544642857142857, 0.731060606060606, 0.7621212121212121, 0.726923076923077, 0.7700892857142857, 0.5615079365079365, 0.5951492537313433, 0.6350446428571428, 0.5525641025641026], 'IWLS Logistic Regression': [0.6752232142857143, 0.75, 0.6944444444444444, 0.7192307692307692, 0.7616487455197133, 0.8102678571428572, 0.8353174603174602, 0.48507462686567165, 0.8090163934426229, 0.6254098360655738]}, 'Heart Attack': {'ADAM Logistic Regression': [0.7149784482758621, 0.7345537757437071, 0.9112200435729847, 0.8427777777777778, 0.8181318681318681, 0.7591594827586207, 0.8043010752688172, 0.8447712418300654, 0.7995337995337995, 0.8136261261261262], 'SGD Logistic Regression': [0.803921568627451, 0.9154094827586207, 0.7402597402597402, 0.7844444444444445, 0.8252164502164503, 0.7922222222222222, 0.8857758620689655, 0.8204301075268817, 0.8699324324324325, 0.8625541125541125], 'IWLS Logistic Regression': [0.7849462365591398, 0.8474025974025974, 0.8229847494553377, 0.7362637362637363, 0.7939560439560439, 0.8216594827586207, 0.8116883116883117, 0.8485838779956427, 0.771505376344086, 0.8805361305361306]}, 'Japanese Vowels': {'ADAM Logistic Regression': [1.0, 1.0, 1.0, 1.0, 1.0, 1.0, 1.0, 1.0, 1.0, 1.0], 'SGD Logistic Regression': [1.0, 1.0, 1.0, 1.0, 1.0, 1.0, 1.0, 1.0, 1.0, 1.0], 'IWLS Logistic Regression': [1.0, 1.0, 1.0, 1.0, 1.0, 1.0, 1.0, 1.0, 1.0, 1.0]}, 'Banana quality': {'ADAM Logistic Regression': [0.8755443776164112, 0.8794585867687917, 0.8675232305050476, 0.8708654076283766, 0.8832127053176329, 0.8661040787623067, 0.8709260726660634, 0.8604905900956928, 0.8710600375234521, 0.871588078660452], 'SGD Logistic Regression': [0.8800170627399447, 0.875695157694331, 0.8880684481950305, 0.8700143069586979, 0.8907839148803004, 0.8698083978546562, 0.8635435012328284, 0.8769304664410578, 0.8874013742364268, 0.8714769342444495], 'IWLS Logistic Regression': [0.8731321670384721, 0.8674492449244924, 0.8737742110888194, 0.8643058161350845, 0.8800657500090058, 0.8677849115166079, 0.8761476282739953, 0.8666749547672998, 0.8812717678842359, 0.88411507191995]}, 'Climate': {'ADAM Logistic Regression': [0.8645833333333334, 0.6683673469387755, 0.7745098039215685, 0.8317713214620431, 0.7336734693877551, 0.7525, 0.6325000000000001, 0.772984441301273, 0.756011315417256, 0.9142857142857144], 'SGD Logistic Regression': [0.5965045592705167, 0.475, 0.5857544517338332, 0.5854368932038835, 0.5279352226720648, 0.5, 0.5846938775510204, 0.5795918367346938, 0.605, 0.8088235294117647], 'IWLS Logistic Regression': [0.5677083333333334, 0.6625, 0.6854368932038835, 0.6312089971883786, 0.5611111111111111, 0.5505376344086022, 0.605, 0.6666666666666666, 0.5, 0.5]}, 'Diabetes': {'ADAM Logistic Regression': [0.7161616161616162, 0.6709183673469388, 0.7061224489795919, 0.7421985815602836, 0.6858974358974359, 0.7848484848484849, 0.7458595088520845, 0.8094422234913383, 0.6952380952380952, 0.6975], 'SGD Logistic Regression': [0.6995330459770115, 0.7540470537448738, 0.8263461538461538, 0.6427755568246716, 0.676946506758043, 0.7280963945451149, 0.7244897959183674, 0.7415467961890528, 0.7296380090497737, 0.7355555555555555], 'IWLS Logistic Regression': [0.7523076923076923, 0.700291645222165, 0.7604166666666667, 0.7111702127659575, 0.691553544494721, 0.6942592592592592, 0.7672333271062955, 0.7253951149425287, 0.7159090909090909, 0.662962962962963]}, 'Biodegradable': {'ADAM Logistic Regression': [0.8623078588439057, 0.8901470588235294, 0.7776575016237282, 0.8314564564564564, 0.7990889707307618, 0.8260321767784455, 0.8117647058823529, 0.8648529411764705, 0.8524659863945578, 0.8723149213655543], 'SGD Logistic Regression': [0.8453866515409341, 0.8195588235294118, 0.860332649806334, 0.8017652671755725, 0.8562649880095923, 0.8360688956433637, 0.7916921820779751, 0.8182790697674418, 0.846588693957115, 0.8740230357877417], 'IWLS Logistic Regression': [0.8621836121836122, 0.8116444958550222, 0.8646909827760891, 0.8326362076362076, 0.8401337468501648, 0.835431654676259, 0.8443661971830986, 0.8692247013748028, 0.8155594405594406, 0.8392785771382894]}, 'Plates': {'ADAM Logistic Regression': [0.14232209737827714, 0.1461864406779661, 0.1746987951807229, 0.15517241379310345, 0.17932489451476794, 0.15225563909774437, 0.1594488188976378, 0.154, 0.1970954356846473, 0.18979591836734694], 'SGD Logistic Regression': [0.4704724409448819, 0.4812734082397004, 0.46215139442231074, 0.468503937007874, 0.46441947565543074, 0.4779116465863454, 0.47368421052631576, 0.47470817120622566, 0.47198275862068967, 0.4844961240310077], 'IWLS Logistic Regression': [0.48120300751879697, 0.46875, 0.4713114754098361, 0.46825396825396826, 0.46629213483146065, 0.4782608695652174, 0.5, 0.46653543307086615, 0.48, 0.4628252788104089]}}\n"
     ]
    },
    {
     "name": "stderr",
     "output_type": "stream",
     "text": [
      "\n"
     ]
    }
   ],
   "source": [
    "n_runs = 10  # at least 5\n",
    "\n",
    "scaler = StandardScaler()\n",
    "dataset_performances = dict()\n",
    "all_performances = []\n",
    "\n",
    "\n",
    "for dataset_name, data in datasets.items():\n",
    "    print(f'***{dataset_name}***\\n')\n",
    "    X, y = data\n",
    "    models_performances = dict()\n",
    "    for name, model in models.items():\n",
    "        print(f'\\t{name}')\n",
    "        models_performances[name] = []\n",
    "        for _ in tqdm(range(n_runs)):\n",
    "            X_train, X_test, y_train, y_test = train_test_split(\n",
    "                X, y, test_size=0.2\n",
    "             )\n",
    "            \n",
    "            X_train_scaled = scaler.fit_transform(X_train)\n",
    "            X_test_scaled = scaler.transform(X_test)\n",
    "\n",
    "            model.fit(X_train_scaled, y_train)\n",
    "            predictions = model.predict(X_test_scaled)\n",
    "\n",
    "            accuracy = balanced_accuracy_score(y_test, predictions)\n",
    "            models_performances[name].append(accuracy)\n",
    "        \n",
    "        \n",
    "        print(f'Balanced accuracy: {round(mean(models_performances[name])*100, 2)}%\\n\\n')\n",
    "    dataset_performances[dataset_name] = models_performances\n",
    "    print(dataset_performances)"
   ]
  },
  {
   "cell_type": "code",
   "execution_count": 5,
   "metadata": {},
   "outputs": [
    {
     "name": "stdout",
     "output_type": "stream",
     "text": [
      "{'Banana quality': {'ADAM Logistic Regression': [0.8755443776164112,\n",
      "                                                 0.8794585867687917,\n",
      "                                                 0.8675232305050476,\n",
      "                                                 0.8708654076283766,\n",
      "                                                 0.8832127053176329,\n",
      "                                                 0.8661040787623067,\n",
      "                                                 0.8709260726660634,\n",
      "                                                 0.8604905900956928,\n",
      "                                                 0.8710600375234521,\n",
      "                                                 0.871588078660452],\n",
      "                    'IWLS Logistic Regression': [0.8731321670384721,\n",
      "                                                 0.8674492449244924,\n",
      "                                                 0.8737742110888194,\n",
      "                                                 0.8643058161350845,\n",
      "                                                 0.8800657500090058,\n",
      "                                                 0.8677849115166079,\n",
      "                                                 0.8761476282739953,\n",
      "                                                 0.8666749547672998,\n",
      "                                                 0.8812717678842359,\n",
      "                                                 0.88411507191995],\n",
      "                    'SGD Logistic Regression': [0.8800170627399447,\n",
      "                                                0.875695157694331,\n",
      "                                                0.8880684481950305,\n",
      "                                                0.8700143069586979,\n",
      "                                                0.8907839148803004,\n",
      "                                                0.8698083978546562,\n",
      "                                                0.8635435012328284,\n",
      "                                                0.8769304664410578,\n",
      "                                                0.8874013742364268,\n",
      "                                                0.8714769342444495]},\n",
      " 'Biodegradable': {'ADAM Logistic Regression': [0.8623078588439057,\n",
      "                                                0.8901470588235294,\n",
      "                                                0.7776575016237282,\n",
      "                                                0.8314564564564564,\n",
      "                                                0.7990889707307618,\n",
      "                                                0.8260321767784455,\n",
      "                                                0.8117647058823529,\n",
      "                                                0.8648529411764705,\n",
      "                                                0.8524659863945578,\n",
      "                                                0.8723149213655543],\n",
      "                   'IWLS Logistic Regression': [0.8621836121836122,\n",
      "                                                0.8116444958550222,\n",
      "                                                0.8646909827760891,\n",
      "                                                0.8326362076362076,\n",
      "                                                0.8401337468501648,\n",
      "                                                0.835431654676259,\n",
      "                                                0.8443661971830986,\n",
      "                                                0.8692247013748028,\n",
      "                                                0.8155594405594406,\n",
      "                                                0.8392785771382894],\n",
      "                   'SGD Logistic Regression': [0.8453866515409341,\n",
      "                                               0.8195588235294118,\n",
      "                                               0.860332649806334,\n",
      "                                               0.8017652671755725,\n",
      "                                               0.8562649880095923,\n",
      "                                               0.8360688956433637,\n",
      "                                               0.7916921820779751,\n",
      "                                               0.8182790697674418,\n",
      "                                               0.846588693957115,\n",
      "                                               0.8740230357877417]},\n",
      " 'Climate': {'ADAM Logistic Regression': [0.8645833333333334,\n",
      "                                          0.6683673469387755,\n",
      "                                          0.7745098039215685,\n",
      "                                          0.8317713214620431,\n",
      "                                          0.7336734693877551,\n",
      "                                          0.7525,\n",
      "                                          0.6325000000000001,\n",
      "                                          0.772984441301273,\n",
      "                                          0.756011315417256,\n",
      "                                          0.9142857142857144],\n",
      "             'IWLS Logistic Regression': [0.5677083333333334,\n",
      "                                          0.6625,\n",
      "                                          0.6854368932038835,\n",
      "                                          0.6312089971883786,\n",
      "                                          0.5611111111111111,\n",
      "                                          0.5505376344086022,\n",
      "                                          0.605,\n",
      "                                          0.6666666666666666,\n",
      "                                          0.5,\n",
      "                                          0.5],\n",
      "             'SGD Logistic Regression': [0.5965045592705167,\n",
      "                                         0.475,\n",
      "                                         0.5857544517338332,\n",
      "                                         0.5854368932038835,\n",
      "                                         0.5279352226720648,\n",
      "                                         0.5,\n",
      "                                         0.5846938775510204,\n",
      "                                         0.5795918367346938,\n",
      "                                         0.605,\n",
      "                                         0.8088235294117647]},\n",
      " 'Diabetes': {'ADAM Logistic Regression': [0.7161616161616162,\n",
      "                                           0.6709183673469388,\n",
      "                                           0.7061224489795919,\n",
      "                                           0.7421985815602836,\n",
      "                                           0.6858974358974359,\n",
      "                                           0.7848484848484849,\n",
      "                                           0.7458595088520845,\n",
      "                                           0.8094422234913383,\n",
      "                                           0.6952380952380952,\n",
      "                                           0.6975],\n",
      "              'IWLS Logistic Regression': [0.7523076923076923,\n",
      "                                           0.700291645222165,\n",
      "                                           0.7604166666666667,\n",
      "                                           0.7111702127659575,\n",
      "                                           0.691553544494721,\n",
      "                                           0.6942592592592592,\n",
      "                                           0.7672333271062955,\n",
      "                                           0.7253951149425287,\n",
      "                                           0.7159090909090909,\n",
      "                                           0.662962962962963],\n",
      "              'SGD Logistic Regression': [0.6995330459770115,\n",
      "                                          0.7540470537448738,\n",
      "                                          0.8263461538461538,\n",
      "                                          0.6427755568246716,\n",
      "                                          0.676946506758043,\n",
      "                                          0.7280963945451149,\n",
      "                                          0.7244897959183674,\n",
      "                                          0.7415467961890528,\n",
      "                                          0.7296380090497737,\n",
      "                                          0.7355555555555555]},\n",
      " 'Heart Attack': {'ADAM Logistic Regression': [0.7149784482758621,\n",
      "                                               0.7345537757437071,\n",
      "                                               0.9112200435729847,\n",
      "                                               0.8427777777777778,\n",
      "                                               0.8181318681318681,\n",
      "                                               0.7591594827586207,\n",
      "                                               0.8043010752688172,\n",
      "                                               0.8447712418300654,\n",
      "                                               0.7995337995337995,\n",
      "                                               0.8136261261261262],\n",
      "                  'IWLS Logistic Regression': [0.7849462365591398,\n",
      "                                               0.8474025974025974,\n",
      "                                               0.8229847494553377,\n",
      "                                               0.7362637362637363,\n",
      "                                               0.7939560439560439,\n",
      "                                               0.8216594827586207,\n",
      "                                               0.8116883116883117,\n",
      "                                               0.8485838779956427,\n",
      "                                               0.771505376344086,\n",
      "                                               0.8805361305361306],\n",
      "                  'SGD Logistic Regression': [0.803921568627451,\n",
      "                                              0.9154094827586207,\n",
      "                                              0.7402597402597402,\n",
      "                                              0.7844444444444445,\n",
      "                                              0.8252164502164503,\n",
      "                                              0.7922222222222222,\n",
      "                                              0.8857758620689655,\n",
      "                                              0.8204301075268817,\n",
      "                                              0.8699324324324325,\n",
      "                                              0.8625541125541125]},\n",
      " 'Ionosphere': {'ADAM Logistic Regression': [0.7868303571428572,\n",
      "                                             0.8705128205128205,\n",
      "                                             0.7700892857142857,\n",
      "                                             0.8566308243727598,\n",
      "                                             0.6902985074626866,\n",
      "                                             0.7681818181818182,\n",
      "                                             0.9136904761904762,\n",
      "                                             0.7559681697612732,\n",
      "                                             0.8451492537313433,\n",
      "                                             0.8344262295081968],\n",
      "                'IWLS Logistic Regression': [0.6752232142857143,\n",
      "                                             0.75,\n",
      "                                             0.6944444444444444,\n",
      "                                             0.7192307692307692,\n",
      "                                             0.7616487455197133,\n",
      "                                             0.8102678571428572,\n",
      "                                             0.8353174603174602,\n",
      "                                             0.48507462686567165,\n",
      "                                             0.8090163934426229,\n",
      "                                             0.6254098360655738],\n",
      "                'SGD Logistic Regression': [0.7420634920634921,\n",
      "                                            0.7544642857142857,\n",
      "                                            0.731060606060606,\n",
      "                                            0.7621212121212121,\n",
      "                                            0.726923076923077,\n",
      "                                            0.7700892857142857,\n",
      "                                            0.5615079365079365,\n",
      "                                            0.5951492537313433,\n",
      "                                            0.6350446428571428,\n",
      "                                            0.5525641025641026]},\n",
      " 'Japanese Vowels': {'ADAM Logistic Regression': [1.0,\n",
      "                                                  1.0,\n",
      "                                                  1.0,\n",
      "                                                  1.0,\n",
      "                                                  1.0,\n",
      "                                                  1.0,\n",
      "                                                  1.0,\n",
      "                                                  1.0,\n",
      "                                                  1.0,\n",
      "                                                  1.0],\n",
      "                     'IWLS Logistic Regression': [1.0,\n",
      "                                                  1.0,\n",
      "                                                  1.0,\n",
      "                                                  1.0,\n",
      "                                                  1.0,\n",
      "                                                  1.0,\n",
      "                                                  1.0,\n",
      "                                                  1.0,\n",
      "                                                  1.0,\n",
      "                                                  1.0],\n",
      "                     'SGD Logistic Regression': [1.0,\n",
      "                                                 1.0,\n",
      "                                                 1.0,\n",
      "                                                 1.0,\n",
      "                                                 1.0,\n",
      "                                                 1.0,\n",
      "                                                 1.0,\n",
      "                                                 1.0,\n",
      "                                                 1.0,\n",
      "                                                 1.0]},\n",
      " 'Plates': {'ADAM Logistic Regression': [0.14232209737827714,\n",
      "                                         0.1461864406779661,\n",
      "                                         0.1746987951807229,\n",
      "                                         0.15517241379310345,\n",
      "                                         0.17932489451476794,\n",
      "                                         0.15225563909774437,\n",
      "                                         0.1594488188976378,\n",
      "                                         0.154,\n",
      "                                         0.1970954356846473,\n",
      "                                         0.18979591836734694],\n",
      "            'IWLS Logistic Regression': [0.48120300751879697,\n",
      "                                         0.46875,\n",
      "                                         0.4713114754098361,\n",
      "                                         0.46825396825396826,\n",
      "                                         0.46629213483146065,\n",
      "                                         0.4782608695652174,\n",
      "                                         0.5,\n",
      "                                         0.46653543307086615,\n",
      "                                         0.48,\n",
      "                                         0.4628252788104089],\n",
      "            'SGD Logistic Regression': [0.4704724409448819,\n",
      "                                        0.4812734082397004,\n",
      "                                        0.46215139442231074,\n",
      "                                        0.468503937007874,\n",
      "                                        0.46441947565543074,\n",
      "                                        0.4779116465863454,\n",
      "                                        0.47368421052631576,\n",
      "                                        0.47470817120622566,\n",
      "                                        0.47198275862068967,\n",
      "                                        0.4844961240310077]},\n",
      " 'Water Quality': {'ADAM Logistic Regression': [0.5207317073170732,\n",
      "                                                0.5061674359382461,\n",
      "                                                0.5271086988411324,\n",
      "                                                0.5378799936336145,\n",
      "                                                0.4973103454948287,\n",
      "                                                0.5194299617657282,\n",
      "                                                0.5212539595428594,\n",
      "                                                0.5094430992736078,\n",
      "                                                0.5175865800865801,\n",
      "                                                0.5287131398457783],\n",
      "                   'IWLS Logistic Regression': [0.5142137251884905,\n",
      "                                                0.48855602040119755,\n",
      "                                                0.5201506038824507,\n",
      "                                                0.5103006348065636,\n",
      "                                                0.5116656779125293,\n",
      "                                                0.5121274122743821,\n",
      "                                                0.5172122914289615,\n",
      "                                                0.5137801410151533,\n",
      "                                                0.5234407948292942,\n",
      "                                                0.5224226779573836],\n",
      "                   'SGD Logistic Regression': [0.5077176354154771,\n",
      "                                               0.531714694183208,\n",
      "                                               0.5417583492249768,\n",
      "                                               0.5224845280946262,\n",
      "                                               0.5088890617857872,\n",
      "                                               0.5099506080124779,\n",
      "                                               0.5186786163703255,\n",
      "                                               0.5175917141049968,\n",
      "                                               0.5338283828382838,\n",
      "                                               0.5259550637349548]}}\n"
     ]
    }
   ],
   "source": [
    "from pprint import pprint\n",
    "\n",
    "pprint(dataset_performances)"
   ]
  },
  {
   "cell_type": "code",
   "execution_count": 6,
   "metadata": {},
   "outputs": [],
   "source": [
    "import json\n",
    "\n",
    "with open('results.jsons', 'w') as fp:\n",
    "    json.dump(dataset_performances, fp, sort_keys=True, indent=4, separators=(',', ': '))"
   ]
  }
 ],
 "metadata": {
  "kernelspec": {
   "display_name": "mini",
   "language": "python",
   "name": "python3"
  },
  "language_info": {
   "codemirror_mode": {
    "name": "ipython",
    "version": 3
   },
   "file_extension": ".py",
   "mimetype": "text/x-python",
   "name": "python",
   "nbconvert_exporter": "python",
   "pygments_lexer": "ipython3",
   "version": "3.12.2"
  }
 },
 "nbformat": 4,
 "nbformat_minor": 2
}
