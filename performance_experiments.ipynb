{
 "cells": [
  {
   "cell_type": "code",
   "execution_count": 1,
   "metadata": {},
   "outputs": [],
   "source": [
    "from pprint import pprint\n",
    "import warnings\n",
    "import json\n",
    "\n",
    "from sklearn.model_selection import train_test_split\n",
    "from sklearn.metrics import balanced_accuracy_score\n",
    "from sklearn.preprocessing import StandardScaler\n",
    "from statistics import mean\n",
    "from tqdm import tqdm\n",
    "import pandas as pd\n",
    "\n",
    "from data_readers import (\n",
    "    japanese_vowels,\n",
    "    water_quality,\n",
    "    ionosphere,\n",
    "    heart_attack,\n",
    "    banana_quality,\n",
    "    climate,\n",
    "    diabetes,\n",
    "    biodegradable,\n",
    "    plates\n",
    ")\n",
    "\n",
    "from classes import (\n",
    "    ADAMLogisticRegression,\n",
    "    IWLSLogisticRegression,\n",
    "    SGDLogisticRegression,\n",
    ")\n",
    "\n",
    "warnings.filterwarnings(\"ignore\", category=UserWarning)\n",
    "\n",
    "# pd.set_option(\"future.no_silent_downcasting\", True)\n"
   ]
  },
  {
   "cell_type": "code",
   "execution_count": 2,
   "metadata": {},
   "outputs": [],
   "source": [
    "models = {\n",
    "    \"ADAM Logistic Regression\": ADAMLogisticRegression(\n",
    "        learning_rate=0.001,\n",
    "        iterations=500,\n",
    "        beta1=0.9,\n",
    "        beta2=0.999,\n",
    "        epsilon=1e-8,\n",
    "        include_interactions=False,\n",
    "    ),\n",
    "    \"SGD Logistic Regression\": SGDLogisticRegression(\n",
    "        learning_rate=0.01, iterations=500, include_interactions=False\n",
    "    ),\n",
    "    \"IWLS Logistic Regression\": IWLSLogisticRegression(\n",
    "        iterations=500, include_interactions=False\n",
    "    ),\n",
    "}\n"
   ]
  },
  {
   "cell_type": "code",
   "execution_count": 3,
   "metadata": {},
   "outputs": [],
   "source": [
    "datasets = {\n",
    "    \"Water Quality\": water_quality(),\n",
    "    \"Ionosphere\": ionosphere(),\n",
    "    \"Heart Attack\": heart_attack(),\n",
    "    \"Japanese Vowels\": japanese_vowels(),\n",
    "    \"Banana quality\": banana_quality(),\n",
    "    \"Climate\": climate(),\n",
    "    \"Diabetes\": diabetes(),\n",
    "    \"Biodegradable\": biodegradable(),\n",
    "    \"Plates\": plates()\n",
    "}\n"
   ]
  },
  {
   "cell_type": "code",
   "execution_count": 4,
   "metadata": {},
   "outputs": [
    {
     "name": "stdout",
     "output_type": "stream",
     "text": [
      "***Water Quality***\n",
      "\n",
      "\tADAM Logistic Regression\n"
     ]
    },
    {
     "name": "stderr",
     "output_type": "stream",
     "text": [
      "100%|██████████| 10/10 [00:01<00:00,  8.25it/s]\n"
     ]
    },
    {
     "name": "stdout",
     "output_type": "stream",
     "text": [
      "Balanced accuracy: 51.86%\n",
      "\n",
      "\n",
      "\tSGD Logistic Regression\n"
     ]
    },
    {
     "name": "stderr",
     "output_type": "stream",
     "text": [
      " 10%|█         | 1/10 [00:00<00:01,  5.96it/s]"
     ]
    },
    {
     "name": "stdout",
     "output_type": "stream",
     "text": [
      "Optimization converged after 4 iterations.\n"
     ]
    },
    {
     "name": "stderr",
     "output_type": "stream",
     "text": [
      " 20%|██        | 2/10 [00:00<00:01,  6.88it/s]"
     ]
    },
    {
     "name": "stdout",
     "output_type": "stream",
     "text": [
      "Optimization converged after 3 iterations.\n"
     ]
    },
    {
     "name": "stderr",
     "output_type": "stream",
     "text": [
      " 30%|███       | 3/10 [00:00<00:00,  7.77it/s]"
     ]
    },
    {
     "name": "stdout",
     "output_type": "stream",
     "text": [
      "Optimization converged after 3 iterations.\n"
     ]
    },
    {
     "name": "stderr",
     "output_type": "stream",
     "text": [
      " 40%|████      | 4/10 [00:00<00:00,  7.05it/s]"
     ]
    },
    {
     "name": "stdout",
     "output_type": "stream",
     "text": [
      "Optimization converged after 4 iterations.\n"
     ]
    },
    {
     "name": "stderr",
     "output_type": "stream",
     "text": [
      " 50%|█████     | 5/10 [00:00<00:00,  7.17it/s]"
     ]
    },
    {
     "name": "stdout",
     "output_type": "stream",
     "text": [
      "Optimization converged after 4 iterations.\n"
     ]
    },
    {
     "name": "stderr",
     "output_type": "stream",
     "text": [
      " 60%|██████    | 6/10 [00:00<00:00,  7.09it/s]"
     ]
    },
    {
     "name": "stdout",
     "output_type": "stream",
     "text": [
      "Optimization converged after 4 iterations.\n"
     ]
    },
    {
     "name": "stderr",
     "output_type": "stream",
     "text": [
      " 70%|███████   | 7/10 [00:00<00:00,  6.97it/s]"
     ]
    },
    {
     "name": "stdout",
     "output_type": "stream",
     "text": [
      "Optimization converged after 4 iterations.\n"
     ]
    },
    {
     "name": "stderr",
     "output_type": "stream",
     "text": [
      " 80%|████████  | 8/10 [00:01<00:00,  6.49it/s]"
     ]
    },
    {
     "name": "stdout",
     "output_type": "stream",
     "text": [
      "Optimization converged after 4 iterations.\n"
     ]
    },
    {
     "name": "stderr",
     "output_type": "stream",
     "text": [
      " 90%|█████████ | 9/10 [00:01<00:00,  6.49it/s]"
     ]
    },
    {
     "name": "stdout",
     "output_type": "stream",
     "text": [
      "Optimization converged after 4 iterations.\n"
     ]
    },
    {
     "name": "stderr",
     "output_type": "stream",
     "text": [
      "100%|██████████| 10/10 [00:01<00:00,  6.48it/s]\n"
     ]
    },
    {
     "name": "stdout",
     "output_type": "stream",
     "text": [
      "Optimization converged after 4 iterations.\n",
      "Balanced accuracy: 50.83%\n",
      "\n",
      "\n",
      "\tIWLS Logistic Regression\n"
     ]
    },
    {
     "name": "stderr",
     "output_type": "stream",
     "text": [
      " 10%|█         | 1/10 [00:00<00:01,  8.75it/s]"
     ]
    },
    {
     "name": "stdout",
     "output_type": "stream",
     "text": [
      "Optimization converged after 4 iterations.\n",
      "Optimization converged after 4 iterations.\n"
     ]
    },
    {
     "name": "stderr",
     "output_type": "stream",
     "text": [
      " 30%|███       | 3/10 [00:00<00:00, 14.79it/s]"
     ]
    },
    {
     "name": "stdout",
     "output_type": "stream",
     "text": [
      "Optimization converged after 4 iterations.\n",
      "Optimization converged after 4 iterations.\n",
      "Optimization converged after 4 iterations.\n"
     ]
    },
    {
     "name": "stderr",
     "output_type": "stream",
     "text": [
      " 60%|██████    | 6/10 [00:00<00:00, 18.65it/s]"
     ]
    },
    {
     "name": "stdout",
     "output_type": "stream",
     "text": [
      "Optimization converged after 4 iterations.\n",
      "Optimization converged after 4 iterations.\n"
     ]
    },
    {
     "name": "stderr",
     "output_type": "stream",
     "text": [
      " 90%|█████████ | 9/10 [00:00<00:00, 19.41it/s]"
     ]
    },
    {
     "name": "stdout",
     "output_type": "stream",
     "text": [
      "Optimization converged after 4 iterations.\n",
      "Optimization converged after 4 iterations.\n",
      "Optimization converged after 4 iterations.\n"
     ]
    },
    {
     "name": "stderr",
     "output_type": "stream",
     "text": [
      "100%|██████████| 10/10 [00:00<00:00, 15.24it/s]\n"
     ]
    },
    {
     "name": "stdout",
     "output_type": "stream",
     "text": [
      "Balanced accuracy: 51.05%\n",
      "\n",
      "\n",
      "{'Water Quality': {'ADAM Logistic Regression': [0.5181949678352556, 0.5256526530333616, 0.506807183670365, 0.5140950129809742, 0.5280417621594092, 0.5184287989190755, 0.5199154688169529, 0.5388763738139122, 0.49458768735877173, 0.5210169624319348], 'SGD Logistic Regression': [0.49960651222271407, 0.5, 0.49928835205416217, 0.5126281038603313, 0.49740932642487046, 0.5254778325123153, 0.5012173269448016, 0.5052389176741509, 0.5044813036519715, 0.5380945897318693], 'IWLS Logistic Regression': [0.5098039215686274, 0.5156958544220474, 0.5102284300887531, 0.510625, 0.5047107873676139, 0.5169183998455822, 0.504981884057971, 0.5088126159554731, 0.5086652609687762, 0.514224583148886]}}\n",
      "***Ionosphere***\n",
      "\n",
      "\tADAM Logistic Regression\n"
     ]
    },
    {
     "name": "stderr",
     "output_type": "stream",
     "text": [
      "100%|██████████| 10/10 [00:02<00:00,  4.41it/s]\n"
     ]
    },
    {
     "name": "stdout",
     "output_type": "stream",
     "text": [
      "Balanced accuracy: 77.39%\n",
      "\n",
      "\n",
      "\tSGD Logistic Regression\n"
     ]
    },
    {
     "name": "stderr",
     "output_type": "stream",
     "text": [
      "100%|██████████| 10/10 [00:36<00:00,  3.68s/it]\n"
     ]
    },
    {
     "name": "stdout",
     "output_type": "stream",
     "text": [
      "Balanced accuracy: 63.63%\n",
      "\n",
      "\n",
      "\tIWLS Logistic Regression\n"
     ]
    },
    {
     "name": "stderr",
     "output_type": "stream",
     "text": [
      "100%|██████████| 10/10 [00:00<00:00, 52.60it/s]\n"
     ]
    },
    {
     "name": "stdout",
     "output_type": "stream",
     "text": [
      "Optimization converged after 10 iterations.\n",
      "Optimization converged after 23 iterations.\n",
      "Optimization converged after 9 iterations.\n",
      "Optimization converged after 9 iterations.\n",
      "Optimization converged after 9 iterations.\n",
      "Optimization converged after 10 iterations.\n",
      "Optimization converged after 14 iterations.\n",
      "Optimization converged after 10 iterations.\n",
      "Optimization converged after 9 iterations.\n",
      "Optimization converged after 10 iterations.\n",
      "Balanced accuracy: 63.19%\n",
      "\n",
      "\n",
      "{'Water Quality': {'ADAM Logistic Regression': [0.5181949678352556, 0.5256526530333616, 0.506807183670365, 0.5140950129809742, 0.5280417621594092, 0.5184287989190755, 0.5199154688169529, 0.5388763738139122, 0.49458768735877173, 0.5210169624319348], 'SGD Logistic Regression': [0.49960651222271407, 0.5, 0.49928835205416217, 0.5126281038603313, 0.49740932642487046, 0.5254778325123153, 0.5012173269448016, 0.5052389176741509, 0.5044813036519715, 0.5380945897318693], 'IWLS Logistic Regression': [0.5098039215686274, 0.5156958544220474, 0.5102284300887531, 0.510625, 0.5047107873676139, 0.5169183998455822, 0.504981884057971, 0.5088126159554731, 0.5086652609687762, 0.514224583148886]}, 'Ionosphere': {'ADAM Logistic Regression': [0.7455197132616487, 0.8799283154121864, 0.5802238805970149, 0.5763888888888888, 0.7181818181818183, 0.8324372759856631, 0.8091397849462365, 0.9621212121212122, 0.8258928571428572, 0.8090163934426229], 'SGD Logistic Regression': [0.6080508474576272, 0.5773809523809523, 0.7455197132616487, 0.5756410256410257, 0.6977611940298507, 0.6795634920634921, 0.7420634920634921, 0.6091269841269842, 0.5247175141242938, 0.6030465949820789], 'IWLS Logistic Regression': [0.5323660714285714, 0.6980286738351255, 0.6586021505376344, 0.5848484848484848, 0.5, 0.6752232142857143, 0.5307539682539683, 0.7779017857142857, 0.6512820512820513, 0.7103174603174602]}}\n",
      "***Heart Attack***\n",
      "\n",
      "\tADAM Logistic Regression\n"
     ]
    },
    {
     "name": "stderr",
     "output_type": "stream",
     "text": [
      "100%|██████████| 10/10 [00:00<00:00, 23.16it/s]\n"
     ]
    },
    {
     "name": "stdout",
     "output_type": "stream",
     "text": [
      "Balanced accuracy: 82.16%\n",
      "\n",
      "\n",
      "\tSGD Logistic Regression\n"
     ]
    },
    {
     "name": "stderr",
     "output_type": "stream",
     "text": [
      " 10%|█         | 1/10 [00:00<00:01,  6.77it/s]"
     ]
    },
    {
     "name": "stdout",
     "output_type": "stream",
     "text": [
      "Optimization converged after 41 iterations.\n"
     ]
    },
    {
     "name": "stderr",
     "output_type": "stream",
     "text": [
      " 20%|██        | 2/10 [00:00<00:01,  6.84it/s]"
     ]
    },
    {
     "name": "stdout",
     "output_type": "stream",
     "text": [
      "Optimization converged after 47 iterations.\n",
      "Optimization converged after 64 iterations.\n"
     ]
    },
    {
     "name": "stderr",
     "output_type": "stream",
     "text": [
      " 40%|████      | 4/10 [00:00<00:01,  5.82it/s]"
     ]
    },
    {
     "name": "stdout",
     "output_type": "stream",
     "text": [
      "Optimization converged after 63 iterations.\n"
     ]
    },
    {
     "name": "stderr",
     "output_type": "stream",
     "text": [
      " 50%|█████     | 5/10 [00:00<00:00,  5.84it/s]"
     ]
    },
    {
     "name": "stdout",
     "output_type": "stream",
     "text": [
      "Optimization converged after 60 iterations.\n"
     ]
    },
    {
     "name": "stderr",
     "output_type": "stream",
     "text": [
      " 60%|██████    | 6/10 [00:00<00:00,  6.05it/s]"
     ]
    },
    {
     "name": "stdout",
     "output_type": "stream",
     "text": [
      "Optimization converged after 53 iterations.\n"
     ]
    },
    {
     "name": "stderr",
     "output_type": "stream",
     "text": [
      " 80%|████████  | 8/10 [00:01<00:00,  5.80it/s]"
     ]
    },
    {
     "name": "stdout",
     "output_type": "stream",
     "text": [
      "Optimization converged after 75 iterations.\n",
      "Optimization converged after 67 iterations.\n"
     ]
    },
    {
     "name": "stderr",
     "output_type": "stream",
     "text": [
      "100%|██████████| 10/10 [00:01<00:00,  5.90it/s]\n"
     ]
    },
    {
     "name": "stdout",
     "output_type": "stream",
     "text": [
      "Optimization converged after 75 iterations.\n",
      "Optimization converged after 61 iterations.\n",
      "Balanced accuracy: 77.9%\n",
      "\n",
      "\n",
      "\tIWLS Logistic Regression\n"
     ]
    },
    {
     "name": "stderr",
     "output_type": "stream",
     "text": [
      "  0%|          | 0/10 [00:00<?, ?it/s]"
     ]
    },
    {
     "name": "stdout",
     "output_type": "stream",
     "text": [
      "Optimization converged after 7 iterations.\n",
      "Optimization converged after 7 iterations.\n",
      "Optimization converged after 7 iterations.\n",
      "Optimization converged after 7 iterations.\n",
      "Optimization converged after 7 iterations.\n",
      "Optimization converged after 7 iterations.\n",
      "Optimization converged after 7 iterations.\n"
     ]
    },
    {
     "name": "stderr",
     "output_type": "stream",
     "text": [
      "100%|██████████| 10/10 [00:00<00:00, 212.74it/s]\n"
     ]
    },
    {
     "name": "stdout",
     "output_type": "stream",
     "text": [
      "Optimization converged after 7 iterations.\n",
      "Optimization converged after 7 iterations.\n",
      "Optimization converged after 7 iterations.\n",
      "Balanced accuracy: 81.32%\n",
      "\n",
      "\n",
      "{'Water Quality': {'ADAM Logistic Regression': [0.5181949678352556, 0.5256526530333616, 0.506807183670365, 0.5140950129809742, 0.5280417621594092, 0.5184287989190755, 0.5199154688169529, 0.5388763738139122, 0.49458768735877173, 0.5210169624319348], 'SGD Logistic Regression': [0.49960651222271407, 0.5, 0.49928835205416217, 0.5126281038603313, 0.49740932642487046, 0.5254778325123153, 0.5012173269448016, 0.5052389176741509, 0.5044813036519715, 0.5380945897318693], 'IWLS Logistic Regression': [0.5098039215686274, 0.5156958544220474, 0.5102284300887531, 0.510625, 0.5047107873676139, 0.5169183998455822, 0.504981884057971, 0.5088126159554731, 0.5086652609687762, 0.514224583148886]}, 'Ionosphere': {'ADAM Logistic Regression': [0.7455197132616487, 0.8799283154121864, 0.5802238805970149, 0.5763888888888888, 0.7181818181818183, 0.8324372759856631, 0.8091397849462365, 0.9621212121212122, 0.8258928571428572, 0.8090163934426229], 'SGD Logistic Regression': [0.6080508474576272, 0.5773809523809523, 0.7455197132616487, 0.5756410256410257, 0.6977611940298507, 0.6795634920634921, 0.7420634920634921, 0.6091269841269842, 0.5247175141242938, 0.6030465949820789], 'IWLS Logistic Regression': [0.5323660714285714, 0.6980286738351255, 0.6586021505376344, 0.5848484848484848, 0.5, 0.6752232142857143, 0.5307539682539683, 0.7779017857142857, 0.6512820512820513, 0.7103174603174602]}, 'Heart Attack': {'ADAM Logistic Regression': [0.8168103448275862, 0.8373626373626374, 0.7968409586056644, 0.8512931034482758, 0.7994505494505495, 0.8841594827586207, 0.8333333333333333, 0.8370967741935484, 0.7524390243902439, 0.8074324324324325], 'SGD Logistic Regression': [0.8384146341463414, 0.7483766233766234, 0.7815315315315315, 0.7699353448275862, 0.7870967741935484, 0.8060344827586207, 0.7646396396396397, 0.7807112068965517, 0.7248283752860412, 0.7881720430107527], 'IWLS Logistic Regression': [0.8636853448275862, 0.8105555555555556, 0.8701508620689655, 0.7939189189189189, 0.7413419913419914, 0.8885281385281385, 0.8073593073593073, 0.8175824175824176, 0.7526939655172413, 0.7860215053763441]}}\n",
      "***Japanese Vowels***\n",
      "\n",
      "\tADAM Logistic Regression\n"
     ]
    },
    {
     "name": "stderr",
     "output_type": "stream",
     "text": [
      "100%|██████████| 10/10 [00:02<00:00,  4.11it/s]\n"
     ]
    },
    {
     "name": "stdout",
     "output_type": "stream",
     "text": [
      "Balanced accuracy: 90.64%\n",
      "\n",
      "\n",
      "\tSGD Logistic Regression\n"
     ]
    },
    {
     "name": "stderr",
     "output_type": "stream",
     "text": [
      " 10%|█         | 1/10 [00:12<01:52, 12.55s/it]"
     ]
    },
    {
     "name": "stdout",
     "output_type": "stream",
     "text": [
      "Optimization converged after 121 iterations.\n"
     ]
    },
    {
     "name": "stderr",
     "output_type": "stream",
     "text": [
      " 20%|██        | 2/10 [00:20<01:17,  9.65s/it]"
     ]
    },
    {
     "name": "stdout",
     "output_type": "stream",
     "text": [
      "Optimization converged after 72 iterations.\n"
     ]
    },
    {
     "name": "stderr",
     "output_type": "stream",
     "text": [
      " 30%|███       | 3/10 [00:39<01:38, 14.05s/it]"
     ]
    },
    {
     "name": "stdout",
     "output_type": "stream",
     "text": [
      "Optimization converged after 164 iterations.\n"
     ]
    },
    {
     "name": "stderr",
     "output_type": "stream",
     "text": [
      " 40%|████      | 4/10 [00:50<01:16, 12.75s/it]"
     ]
    },
    {
     "name": "stdout",
     "output_type": "stream",
     "text": [
      "Optimization converged after 78 iterations.\n"
     ]
    },
    {
     "name": "stderr",
     "output_type": "stream",
     "text": [
      " 50%|█████     | 5/10 [01:03<01:05, 13.01s/it]"
     ]
    },
    {
     "name": "stdout",
     "output_type": "stream",
     "text": [
      "Optimization converged after 99 iterations.\n"
     ]
    },
    {
     "name": "stderr",
     "output_type": "stream",
     "text": [
      " 60%|██████    | 6/10 [01:17<00:53, 13.42s/it]"
     ]
    },
    {
     "name": "stdout",
     "output_type": "stream",
     "text": [
      "Optimization converged after 102 iterations.\n"
     ]
    },
    {
     "name": "stderr",
     "output_type": "stream",
     "text": [
      " 70%|███████   | 7/10 [01:37<00:46, 15.45s/it]"
     ]
    },
    {
     "name": "stdout",
     "output_type": "stream",
     "text": [
      "Optimization converged after 137 iterations.\n"
     ]
    },
    {
     "name": "stderr",
     "output_type": "stream",
     "text": [
      " 80%|████████  | 8/10 [01:56<00:33, 16.72s/it]"
     ]
    },
    {
     "name": "stdout",
     "output_type": "stream",
     "text": [
      "Optimization converged after 151 iterations.\n"
     ]
    },
    {
     "name": "stderr",
     "output_type": "stream",
     "text": [
      " 90%|█████████ | 9/10 [02:08<00:15, 15.12s/it]"
     ]
    },
    {
     "name": "stdout",
     "output_type": "stream",
     "text": [
      "Optimization converged after 90 iterations.\n"
     ]
    },
    {
     "name": "stderr",
     "output_type": "stream",
     "text": [
      "100%|██████████| 10/10 [02:16<00:00, 13.64s/it]\n"
     ]
    },
    {
     "name": "stdout",
     "output_type": "stream",
     "text": [
      "Optimization converged after 63 iterations.\n",
      "Balanced accuracy: 92.86%\n",
      "\n",
      "\n",
      "\tIWLS Logistic Regression\n"
     ]
    },
    {
     "name": "stderr",
     "output_type": "stream",
     "text": [
      " 10%|█         | 1/10 [00:01<00:11,  1.26s/it]"
     ]
    },
    {
     "name": "stdout",
     "output_type": "stream",
     "text": [
      "Optimization converged after 10 iterations.\n"
     ]
    },
    {
     "name": "stderr",
     "output_type": "stream",
     "text": [
      " 20%|██        | 2/10 [00:02<00:09,  1.14s/it]"
     ]
    },
    {
     "name": "stdout",
     "output_type": "stream",
     "text": [
      "Optimization converged after 10 iterations.\n"
     ]
    },
    {
     "name": "stderr",
     "output_type": "stream",
     "text": [
      " 30%|███       | 3/10 [00:03<00:07,  1.05s/it]"
     ]
    },
    {
     "name": "stdout",
     "output_type": "stream",
     "text": [
      "Optimization converged after 10 iterations.\n"
     ]
    },
    {
     "name": "stderr",
     "output_type": "stream",
     "text": [
      " 40%|████      | 4/10 [00:04<00:05,  1.02it/s]"
     ]
    },
    {
     "name": "stdout",
     "output_type": "stream",
     "text": [
      "Optimization converged after 10 iterations.\n"
     ]
    },
    {
     "name": "stderr",
     "output_type": "stream",
     "text": [
      " 50%|█████     | 5/10 [00:05<00:04,  1.03it/s]"
     ]
    },
    {
     "name": "stdout",
     "output_type": "stream",
     "text": [
      "Optimization converged after 10 iterations.\n"
     ]
    },
    {
     "name": "stderr",
     "output_type": "stream",
     "text": [
      " 60%|██████    | 6/10 [00:05<00:03,  1.07it/s]"
     ]
    },
    {
     "name": "stdout",
     "output_type": "stream",
     "text": [
      "Optimization converged after 10 iterations.\n"
     ]
    },
    {
     "name": "stderr",
     "output_type": "stream",
     "text": [
      " 70%|███████   | 7/10 [00:06<00:02,  1.09it/s]"
     ]
    },
    {
     "name": "stdout",
     "output_type": "stream",
     "text": [
      "Optimization converged after 10 iterations.\n"
     ]
    },
    {
     "name": "stderr",
     "output_type": "stream",
     "text": [
      " 80%|████████  | 8/10 [00:07<00:01,  1.01it/s]"
     ]
    },
    {
     "name": "stdout",
     "output_type": "stream",
     "text": [
      "Optimization converged after 10 iterations.\n"
     ]
    },
    {
     "name": "stderr",
     "output_type": "stream",
     "text": [
      " 90%|█████████ | 9/10 [00:08<00:00,  1.04it/s]"
     ]
    },
    {
     "name": "stdout",
     "output_type": "stream",
     "text": [
      "Optimization converged after 10 iterations.\n"
     ]
    },
    {
     "name": "stderr",
     "output_type": "stream",
     "text": [
      "100%|██████████| 10/10 [00:09<00:00,  1.01it/s]\n"
     ]
    },
    {
     "name": "stdout",
     "output_type": "stream",
     "text": [
      "Optimization converged after 10 iterations.\n",
      "Balanced accuracy: 93.15%\n",
      "\n",
      "\n",
      "{'Water Quality': {'ADAM Logistic Regression': [0.5181949678352556, 0.5256526530333616, 0.506807183670365, 0.5140950129809742, 0.5280417621594092, 0.5184287989190755, 0.5199154688169529, 0.5388763738139122, 0.49458768735877173, 0.5210169624319348], 'SGD Logistic Regression': [0.49960651222271407, 0.5, 0.49928835205416217, 0.5126281038603313, 0.49740932642487046, 0.5254778325123153, 0.5012173269448016, 0.5052389176741509, 0.5044813036519715, 0.5380945897318693], 'IWLS Logistic Regression': [0.5098039215686274, 0.5156958544220474, 0.5102284300887531, 0.510625, 0.5047107873676139, 0.5169183998455822, 0.504981884057971, 0.5088126159554731, 0.5086652609687762, 0.514224583148886]}, 'Ionosphere': {'ADAM Logistic Regression': [0.7455197132616487, 0.8799283154121864, 0.5802238805970149, 0.5763888888888888, 0.7181818181818183, 0.8324372759856631, 0.8091397849462365, 0.9621212121212122, 0.8258928571428572, 0.8090163934426229], 'SGD Logistic Regression': [0.6080508474576272, 0.5773809523809523, 0.7455197132616487, 0.5756410256410257, 0.6977611940298507, 0.6795634920634921, 0.7420634920634921, 0.6091269841269842, 0.5247175141242938, 0.6030465949820789], 'IWLS Logistic Regression': [0.5323660714285714, 0.6980286738351255, 0.6586021505376344, 0.5848484848484848, 0.5, 0.6752232142857143, 0.5307539682539683, 0.7779017857142857, 0.6512820512820513, 0.7103174603174602]}, 'Heart Attack': {'ADAM Logistic Regression': [0.8168103448275862, 0.8373626373626374, 0.7968409586056644, 0.8512931034482758, 0.7994505494505495, 0.8841594827586207, 0.8333333333333333, 0.8370967741935484, 0.7524390243902439, 0.8074324324324325], 'SGD Logistic Regression': [0.8384146341463414, 0.7483766233766234, 0.7815315315315315, 0.7699353448275862, 0.7870967741935484, 0.8060344827586207, 0.7646396396396397, 0.7807112068965517, 0.7248283752860412, 0.7881720430107527], 'IWLS Logistic Regression': [0.8636853448275862, 0.8105555555555556, 0.8701508620689655, 0.7939189189189189, 0.7413419913419914, 0.8885281385281385, 0.8073593073593073, 0.8175824175824176, 0.7526939655172413, 0.7860215053763441]}, 'Japanese Vowels': {'ADAM Logistic Regression': [0.9072026659157044, 0.8946506747711567, 0.9147188646199037, 0.9090502659155091, 0.9021689734277124, 0.9027297592019878, 0.9048395130049807, 0.9121600130188108, 0.9136912008854455, 0.9030726972817475], 'SGD Logistic Regression': [0.9268164771953584, 0.9199805798356919, 0.9405979281041132, 0.9204980630879911, 0.9194645591581454, 0.937628462169027, 0.9331925693066928, 0.9255028481949542, 0.9258839888756456, 0.9360795955212833], 'IWLS Logistic Regression': [0.9188242949265791, 0.9424533867248253, 0.9431935617984202, 0.9137396008391407, 0.9425515196266184, 0.9266369945684974, 0.9275481621516813, 0.9393194399218496, 0.9329676879826341, 0.928106251630293]}}\n",
      "***Banana quality***\n",
      "\n",
      "\tADAM Logistic Regression\n"
     ]
    },
    {
     "name": "stderr",
     "output_type": "stream",
     "text": [
      "100%|██████████| 10/10 [00:02<00:00,  4.44it/s]\n"
     ]
    },
    {
     "name": "stdout",
     "output_type": "stream",
     "text": [
      "Balanced accuracy: 87.15%\n",
      "\n",
      "\n",
      "\tSGD Logistic Regression\n"
     ]
    },
    {
     "name": "stderr",
     "output_type": "stream",
     "text": [
      " 10%|█         | 1/10 [00:01<00:09,  1.01s/it]"
     ]
    },
    {
     "name": "stdout",
     "output_type": "stream",
     "text": [
      "Optimization converged after 10 iterations.\n"
     ]
    },
    {
     "name": "stderr",
     "output_type": "stream",
     "text": [
      " 20%|██        | 2/10 [00:02<00:08,  1.04s/it]"
     ]
    },
    {
     "name": "stdout",
     "output_type": "stream",
     "text": [
      "Optimization converged after 10 iterations.\n"
     ]
    },
    {
     "name": "stderr",
     "output_type": "stream",
     "text": [
      " 30%|███       | 3/10 [00:03<00:07,  1.11s/it]"
     ]
    },
    {
     "name": "stdout",
     "output_type": "stream",
     "text": [
      "Optimization converged after 11 iterations.\n"
     ]
    },
    {
     "name": "stderr",
     "output_type": "stream",
     "text": [
      " 40%|████      | 4/10 [00:04<00:06,  1.14s/it]"
     ]
    },
    {
     "name": "stdout",
     "output_type": "stream",
     "text": [
      "Optimization converged after 12 iterations.\n"
     ]
    },
    {
     "name": "stderr",
     "output_type": "stream",
     "text": [
      " 50%|█████     | 5/10 [00:05<00:05,  1.14s/it]"
     ]
    },
    {
     "name": "stdout",
     "output_type": "stream",
     "text": [
      "Optimization converged after 11 iterations.\n"
     ]
    },
    {
     "name": "stderr",
     "output_type": "stream",
     "text": [
      " 60%|██████    | 6/10 [00:06<00:04,  1.18s/it]"
     ]
    },
    {
     "name": "stdout",
     "output_type": "stream",
     "text": [
      "Optimization converged after 11 iterations.\n"
     ]
    },
    {
     "name": "stderr",
     "output_type": "stream",
     "text": [
      " 70%|███████   | 7/10 [00:08<00:03,  1.18s/it]"
     ]
    },
    {
     "name": "stdout",
     "output_type": "stream",
     "text": [
      "Optimization converged after 11 iterations.\n"
     ]
    },
    {
     "name": "stderr",
     "output_type": "stream",
     "text": [
      " 80%|████████  | 8/10 [00:09<00:02,  1.18s/it]"
     ]
    },
    {
     "name": "stdout",
     "output_type": "stream",
     "text": [
      "Optimization converged after 12 iterations.\n"
     ]
    },
    {
     "name": "stderr",
     "output_type": "stream",
     "text": [
      " 90%|█████████ | 9/10 [00:09<00:01,  1.04s/it]"
     ]
    },
    {
     "name": "stdout",
     "output_type": "stream",
     "text": [
      "Optimization converged after 7 iterations.\n"
     ]
    },
    {
     "name": "stderr",
     "output_type": "stream",
     "text": [
      "100%|██████████| 10/10 [00:11<00:00,  1.10s/it]\n"
     ]
    },
    {
     "name": "stdout",
     "output_type": "stream",
     "text": [
      "Optimization converged after 11 iterations.\n",
      "Balanced accuracy: 88.08%\n",
      "\n",
      "\n",
      "\tIWLS Logistic Regression\n"
     ]
    },
    {
     "name": "stderr",
     "output_type": "stream",
     "text": [
      " 10%|█         | 1/10 [00:00<00:05,  1.69it/s]"
     ]
    },
    {
     "name": "stdout",
     "output_type": "stream",
     "text": [
      "Optimization converged after 8 iterations.\n"
     ]
    },
    {
     "name": "stderr",
     "output_type": "stream",
     "text": [
      " 20%|██        | 2/10 [00:01<00:03,  2.03it/s]"
     ]
    },
    {
     "name": "stdout",
     "output_type": "stream",
     "text": [
      "Optimization converged after 8 iterations.\n"
     ]
    },
    {
     "name": "stderr",
     "output_type": "stream",
     "text": [
      " 30%|███       | 3/10 [00:01<00:03,  2.14it/s]"
     ]
    },
    {
     "name": "stdout",
     "output_type": "stream",
     "text": [
      "Optimization converged after 8 iterations.\n"
     ]
    },
    {
     "name": "stderr",
     "output_type": "stream",
     "text": [
      " 40%|████      | 4/10 [00:01<00:02,  2.23it/s]"
     ]
    },
    {
     "name": "stdout",
     "output_type": "stream",
     "text": [
      "Optimization converged after 8 iterations.\n"
     ]
    },
    {
     "name": "stderr",
     "output_type": "stream",
     "text": [
      " 50%|█████     | 5/10 [00:02<00:02,  2.20it/s]"
     ]
    },
    {
     "name": "stdout",
     "output_type": "stream",
     "text": [
      "Optimization converged after 8 iterations.\n"
     ]
    },
    {
     "name": "stderr",
     "output_type": "stream",
     "text": [
      " 60%|██████    | 6/10 [00:02<00:02,  1.97it/s]"
     ]
    },
    {
     "name": "stdout",
     "output_type": "stream",
     "text": [
      "Optimization converged after 8 iterations.\n"
     ]
    },
    {
     "name": "stderr",
     "output_type": "stream",
     "text": [
      " 70%|███████   | 7/10 [00:03<00:01,  2.08it/s]"
     ]
    },
    {
     "name": "stdout",
     "output_type": "stream",
     "text": [
      "Optimization converged after 8 iterations.\n"
     ]
    },
    {
     "name": "stderr",
     "output_type": "stream",
     "text": [
      " 80%|████████  | 8/10 [00:03<00:00,  2.17it/s]"
     ]
    },
    {
     "name": "stdout",
     "output_type": "stream",
     "text": [
      "Optimization converged after 8 iterations.\n"
     ]
    },
    {
     "name": "stderr",
     "output_type": "stream",
     "text": [
      " 90%|█████████ | 9/10 [00:04<00:00,  2.22it/s]"
     ]
    },
    {
     "name": "stdout",
     "output_type": "stream",
     "text": [
      "Optimization converged after 8 iterations.\n"
     ]
    },
    {
     "name": "stderr",
     "output_type": "stream",
     "text": [
      "100%|██████████| 10/10 [00:04<00:00,  2.10it/s]\n"
     ]
    },
    {
     "name": "stdout",
     "output_type": "stream",
     "text": [
      "Optimization converged after 8 iterations.\n",
      "Balanced accuracy: 87.5%\n",
      "\n",
      "\n",
      "{'Water Quality': {'ADAM Logistic Regression': [0.5181949678352556, 0.5256526530333616, 0.506807183670365, 0.5140950129809742, 0.5280417621594092, 0.5184287989190755, 0.5199154688169529, 0.5388763738139122, 0.49458768735877173, 0.5210169624319348], 'SGD Logistic Regression': [0.49960651222271407, 0.5, 0.49928835205416217, 0.5126281038603313, 0.49740932642487046, 0.5254778325123153, 0.5012173269448016, 0.5052389176741509, 0.5044813036519715, 0.5380945897318693], 'IWLS Logistic Regression': [0.5098039215686274, 0.5156958544220474, 0.5102284300887531, 0.510625, 0.5047107873676139, 0.5169183998455822, 0.504981884057971, 0.5088126159554731, 0.5086652609687762, 0.514224583148886]}, 'Ionosphere': {'ADAM Logistic Regression': [0.7455197132616487, 0.8799283154121864, 0.5802238805970149, 0.5763888888888888, 0.7181818181818183, 0.8324372759856631, 0.8091397849462365, 0.9621212121212122, 0.8258928571428572, 0.8090163934426229], 'SGD Logistic Regression': [0.6080508474576272, 0.5773809523809523, 0.7455197132616487, 0.5756410256410257, 0.6977611940298507, 0.6795634920634921, 0.7420634920634921, 0.6091269841269842, 0.5247175141242938, 0.6030465949820789], 'IWLS Logistic Regression': [0.5323660714285714, 0.6980286738351255, 0.6586021505376344, 0.5848484848484848, 0.5, 0.6752232142857143, 0.5307539682539683, 0.7779017857142857, 0.6512820512820513, 0.7103174603174602]}, 'Heart Attack': {'ADAM Logistic Regression': [0.8168103448275862, 0.8373626373626374, 0.7968409586056644, 0.8512931034482758, 0.7994505494505495, 0.8841594827586207, 0.8333333333333333, 0.8370967741935484, 0.7524390243902439, 0.8074324324324325], 'SGD Logistic Regression': [0.8384146341463414, 0.7483766233766234, 0.7815315315315315, 0.7699353448275862, 0.7870967741935484, 0.8060344827586207, 0.7646396396396397, 0.7807112068965517, 0.7248283752860412, 0.7881720430107527], 'IWLS Logistic Regression': [0.8636853448275862, 0.8105555555555556, 0.8701508620689655, 0.7939189189189189, 0.7413419913419914, 0.8885281385281385, 0.8073593073593073, 0.8175824175824176, 0.7526939655172413, 0.7860215053763441]}, 'Japanese Vowels': {'ADAM Logistic Regression': [0.9072026659157044, 0.8946506747711567, 0.9147188646199037, 0.9090502659155091, 0.9021689734277124, 0.9027297592019878, 0.9048395130049807, 0.9121600130188108, 0.9136912008854455, 0.9030726972817475], 'SGD Logistic Regression': [0.9268164771953584, 0.9199805798356919, 0.9405979281041132, 0.9204980630879911, 0.9194645591581454, 0.937628462169027, 0.9331925693066928, 0.9255028481949542, 0.9258839888756456, 0.9360795955212833], 'IWLS Logistic Regression': [0.9188242949265791, 0.9424533867248253, 0.9431935617984202, 0.9137396008391407, 0.9425515196266184, 0.9266369945684974, 0.9275481621516813, 0.9393194399218496, 0.9329676879826341, 0.928106251630293]}, 'Banana quality': {'ADAM Logistic Regression': [0.8782994410230045, 0.8661466536663416, 0.8695405669599219, 0.8619052529769577, 0.8552613270923131, 0.8674840190595352, 0.8743419086643542, 0.8786032429186268, 0.8790393231708844, 0.8846552974419244], 'SGD Logistic Regression': [0.8874294189708665, 0.885, 0.8754875121878047, 0.871252320327002, 0.8811683157177592, 0.8936736875668173, 0.8799951198453366, 0.8756099699948008, 0.8700023757275666, 0.8887077895796187], 'IWLS Logistic Regression': [0.8831195619561956, 0.8710756722951845, 0.8844236536186612, 0.8648382559774965, 0.87, 0.8648711167795138, 0.8756438143814381, 0.8768929183640622, 0.876417171548274, 0.8831249999999999]}}\n",
      "***Climate***\n",
      "\n",
      "\tADAM Logistic Regression\n"
     ]
    },
    {
     "name": "stderr",
     "output_type": "stream",
     "text": [
      "100%|██████████| 10/10 [00:00<00:00, 15.99it/s]\n"
     ]
    },
    {
     "name": "stdout",
     "output_type": "stream",
     "text": [
      "Balanced accuracy: 78.73%\n",
      "\n",
      "\n",
      "\tSGD Logistic Regression\n"
     ]
    },
    {
     "name": "stderr",
     "output_type": "stream",
     "text": [
      " 10%|█         | 1/10 [00:00<00:06,  1.29it/s]"
     ]
    },
    {
     "name": "stdout",
     "output_type": "stream",
     "text": [
      "Optimization converged after 172 iterations.\n"
     ]
    },
    {
     "name": "stderr",
     "output_type": "stream",
     "text": [
      " 20%|██        | 2/10 [00:01<00:04,  1.64it/s]"
     ]
    },
    {
     "name": "stdout",
     "output_type": "stream",
     "text": [
      "Optimization converged after 117 iterations.\n"
     ]
    },
    {
     "name": "stderr",
     "output_type": "stream",
     "text": [
      " 30%|███       | 3/10 [00:01<00:04,  1.52it/s]"
     ]
    },
    {
     "name": "stdout",
     "output_type": "stream",
     "text": [
      "Optimization converged after 154 iterations.\n"
     ]
    },
    {
     "name": "stderr",
     "output_type": "stream",
     "text": [
      " 40%|████      | 4/10 [00:02<00:03,  1.57it/s]"
     ]
    },
    {
     "name": "stdout",
     "output_type": "stream",
     "text": [
      "Optimization converged after 149 iterations.\n"
     ]
    },
    {
     "name": "stderr",
     "output_type": "stream",
     "text": [
      " 50%|█████     | 5/10 [00:03<00:03,  1.59it/s]"
     ]
    },
    {
     "name": "stdout",
     "output_type": "stream",
     "text": [
      "Optimization converged after 145 iterations.\n"
     ]
    },
    {
     "name": "stderr",
     "output_type": "stream",
     "text": [
      " 60%|██████    | 6/10 [00:03<00:02,  1.65it/s]"
     ]
    },
    {
     "name": "stdout",
     "output_type": "stream",
     "text": [
      "Optimization converged after 138 iterations.\n"
     ]
    },
    {
     "name": "stderr",
     "output_type": "stream",
     "text": [
      " 70%|███████   | 7/10 [00:04<00:01,  1.60it/s]"
     ]
    },
    {
     "name": "stdout",
     "output_type": "stream",
     "text": [
      "Optimization converged after 163 iterations.\n"
     ]
    },
    {
     "name": "stderr",
     "output_type": "stream",
     "text": [
      " 80%|████████  | 8/10 [00:05<00:01,  1.62it/s]"
     ]
    },
    {
     "name": "stdout",
     "output_type": "stream",
     "text": [
      "Optimization converged after 149 iterations.\n"
     ]
    },
    {
     "name": "stderr",
     "output_type": "stream",
     "text": [
      " 90%|█████████ | 9/10 [00:05<00:00,  1.63it/s]"
     ]
    },
    {
     "name": "stdout",
     "output_type": "stream",
     "text": [
      "Optimization converged after 147 iterations.\n"
     ]
    },
    {
     "name": "stderr",
     "output_type": "stream",
     "text": [
      "100%|██████████| 10/10 [00:06<00:00,  1.63it/s]\n"
     ]
    },
    {
     "name": "stdout",
     "output_type": "stream",
     "text": [
      "Optimization converged after 124 iterations.\n",
      "Balanced accuracy: 60.71%\n",
      "\n",
      "\n",
      "\tIWLS Logistic Regression\n"
     ]
    },
    {
     "name": "stderr",
     "output_type": "stream",
     "text": [
      "100%|██████████| 10/10 [00:00<00:00, 97.33it/s]\n"
     ]
    },
    {
     "name": "stdout",
     "output_type": "stream",
     "text": [
      "Optimization converged after 8 iterations.\n",
      "Optimization converged after 8 iterations.\n",
      "Optimization converged after 8 iterations.\n",
      "Optimization converged after 8 iterations.\n",
      "Optimization converged after 8 iterations.\n",
      "Optimization converged after 8 iterations.\n",
      "Optimization converged after 8 iterations.\n",
      "Optimization converged after 8 iterations.\n",
      "Optimization converged after 8 iterations.\n",
      "Optimization converged after 8 iterations.\n",
      "Balanced accuracy: 64.51%\n",
      "\n",
      "\n",
      "{'Water Quality': {'ADAM Logistic Regression': [0.5181949678352556, 0.5256526530333616, 0.506807183670365, 0.5140950129809742, 0.5280417621594092, 0.5184287989190755, 0.5199154688169529, 0.5388763738139122, 0.49458768735877173, 0.5210169624319348], 'SGD Logistic Regression': [0.49960651222271407, 0.5, 0.49928835205416217, 0.5126281038603313, 0.49740932642487046, 0.5254778325123153, 0.5012173269448016, 0.5052389176741509, 0.5044813036519715, 0.5380945897318693], 'IWLS Logistic Regression': [0.5098039215686274, 0.5156958544220474, 0.5102284300887531, 0.510625, 0.5047107873676139, 0.5169183998455822, 0.504981884057971, 0.5088126159554731, 0.5086652609687762, 0.514224583148886]}, 'Ionosphere': {'ADAM Logistic Regression': [0.7455197132616487, 0.8799283154121864, 0.5802238805970149, 0.5763888888888888, 0.7181818181818183, 0.8324372759856631, 0.8091397849462365, 0.9621212121212122, 0.8258928571428572, 0.8090163934426229], 'SGD Logistic Regression': [0.6080508474576272, 0.5773809523809523, 0.7455197132616487, 0.5756410256410257, 0.6977611940298507, 0.6795634920634921, 0.7420634920634921, 0.6091269841269842, 0.5247175141242938, 0.6030465949820789], 'IWLS Logistic Regression': [0.5323660714285714, 0.6980286738351255, 0.6586021505376344, 0.5848484848484848, 0.5, 0.6752232142857143, 0.5307539682539683, 0.7779017857142857, 0.6512820512820513, 0.7103174603174602]}, 'Heart Attack': {'ADAM Logistic Regression': [0.8168103448275862, 0.8373626373626374, 0.7968409586056644, 0.8512931034482758, 0.7994505494505495, 0.8841594827586207, 0.8333333333333333, 0.8370967741935484, 0.7524390243902439, 0.8074324324324325], 'SGD Logistic Regression': [0.8384146341463414, 0.7483766233766234, 0.7815315315315315, 0.7699353448275862, 0.7870967741935484, 0.8060344827586207, 0.7646396396396397, 0.7807112068965517, 0.7248283752860412, 0.7881720430107527], 'IWLS Logistic Regression': [0.8636853448275862, 0.8105555555555556, 0.8701508620689655, 0.7939189189189189, 0.7413419913419914, 0.8885281385281385, 0.8073593073593073, 0.8175824175824176, 0.7526939655172413, 0.7860215053763441]}, 'Japanese Vowels': {'ADAM Logistic Regression': [0.9072026659157044, 0.8946506747711567, 0.9147188646199037, 0.9090502659155091, 0.9021689734277124, 0.9027297592019878, 0.9048395130049807, 0.9121600130188108, 0.9136912008854455, 0.9030726972817475], 'SGD Logistic Regression': [0.9268164771953584, 0.9199805798356919, 0.9405979281041132, 0.9204980630879911, 0.9194645591581454, 0.937628462169027, 0.9331925693066928, 0.9255028481949542, 0.9258839888756456, 0.9360795955212833], 'IWLS Logistic Regression': [0.9188242949265791, 0.9424533867248253, 0.9431935617984202, 0.9137396008391407, 0.9425515196266184, 0.9266369945684974, 0.9275481621516813, 0.9393194399218496, 0.9329676879826341, 0.928106251630293]}, 'Banana quality': {'ADAM Logistic Regression': [0.8782994410230045, 0.8661466536663416, 0.8695405669599219, 0.8619052529769577, 0.8552613270923131, 0.8674840190595352, 0.8743419086643542, 0.8786032429186268, 0.8790393231708844, 0.8846552974419244], 'SGD Logistic Regression': [0.8874294189708665, 0.885, 0.8754875121878047, 0.871252320327002, 0.8811683157177592, 0.8936736875668173, 0.8799951198453366, 0.8756099699948008, 0.8700023757275666, 0.8887077895796187], 'IWLS Logistic Regression': [0.8831195619561956, 0.8710756722951845, 0.8844236536186612, 0.8648382559774965, 0.87, 0.8648711167795138, 0.8756438143814381, 0.8768929183640622, 0.876417171548274, 0.8831249999999999]}, 'Climate': {'ADAM Logistic Regression': [0.7525252525252525, 0.7725, 0.7777777777777777, 0.8489795918367347, 0.7511715089034676, 0.8080808080808081, 0.775, 0.75, 0.8530364372469637, 0.7836734693877551], 'SGD Logistic Regression': [0.7121212121212122, 0.7303921568627452, 0.57029053420806, 0.6111111111111112, 0.539795918367347, 0.6280056577086279, 0.4807692307692308, 0.6346938775510204, 0.6, 0.5637254901960784], 'IWLS Logistic Regression': [0.6363636363636364, 0.6329561527581329, 0.6379066478076378, 0.6919191919191919, 0.6208997188378631, 0.61, 0.7311320754716981, 0.623055162659123, 0.6757281553398058, 0.5909090909090908]}}\n",
      "***Diabetes***\n",
      "\n",
      "\tADAM Logistic Regression\n"
     ]
    },
    {
     "name": "stderr",
     "output_type": "stream",
     "text": [
      "100%|██████████| 10/10 [00:00<00:00, 15.49it/s]\n"
     ]
    },
    {
     "name": "stdout",
     "output_type": "stream",
     "text": [
      "Balanced accuracy: 72.34%\n",
      "\n",
      "\n",
      "\tSGD Logistic Regression\n"
     ]
    },
    {
     "name": "stderr",
     "output_type": "stream",
     "text": [
      " 20%|██        | 2/10 [00:00<00:01,  5.07it/s]"
     ]
    },
    {
     "name": "stdout",
     "output_type": "stream",
     "text": [
      "Optimization converged after 25 iterations.\n",
      "Optimization converged after 27 iterations.\n"
     ]
    },
    {
     "name": "stderr",
     "output_type": "stream",
     "text": [
      " 40%|████      | 4/10 [00:00<00:00,  6.01it/s]"
     ]
    },
    {
     "name": "stdout",
     "output_type": "stream",
     "text": [
      "Optimization converged after 24 iterations.\n",
      "Optimization converged after 26 iterations.\n"
     ]
    },
    {
     "name": "stderr",
     "output_type": "stream",
     "text": [
      " 50%|█████     | 5/10 [00:00<00:00,  6.06it/s]"
     ]
    },
    {
     "name": "stdout",
     "output_type": "stream",
     "text": [
      "Optimization converged after 26 iterations.\n"
     ]
    },
    {
     "name": "stderr",
     "output_type": "stream",
     "text": [
      " 70%|███████   | 7/10 [00:01<00:00,  5.60it/s]"
     ]
    },
    {
     "name": "stdout",
     "output_type": "stream",
     "text": [
      "Optimization converged after 27 iterations.\n",
      "Optimization converged after 24 iterations.\n"
     ]
    },
    {
     "name": "stderr",
     "output_type": "stream",
     "text": [
      " 90%|█████████ | 9/10 [00:01<00:00,  5.65it/s]"
     ]
    },
    {
     "name": "stdout",
     "output_type": "stream",
     "text": [
      "Optimization converged after 28 iterations.\n",
      "Optimization converged after 31 iterations.\n"
     ]
    },
    {
     "name": "stderr",
     "output_type": "stream",
     "text": [
      "100%|██████████| 10/10 [00:01<00:00,  5.66it/s]\n"
     ]
    },
    {
     "name": "stdout",
     "output_type": "stream",
     "text": [
      "Optimization converged after 24 iterations.\n",
      "Balanced accuracy: 72.43%\n",
      "\n",
      "\n",
      "\tIWLS Logistic Regression\n"
     ]
    },
    {
     "name": "stderr",
     "output_type": "stream",
     "text": [
      "100%|██████████| 10/10 [00:00<00:00, 100.72it/s]\n"
     ]
    },
    {
     "name": "stdout",
     "output_type": "stream",
     "text": [
      "Optimization converged after 6 iterations.\n",
      "Optimization converged after 6 iterations.\n",
      "Optimization converged after 6 iterations.\n",
      "Optimization converged after 6 iterations.\n",
      "Optimization converged after 6 iterations.\n",
      "Optimization converged after 6 iterations.\n",
      "Optimization converged after 6 iterations.\n",
      "Optimization converged after 6 iterations.\n",
      "Optimization converged after 6 iterations.\n",
      "Optimization converged after 6 iterations.\n",
      "Balanced accuracy: 72.7%\n",
      "\n",
      "\n",
      "{'Water Quality': {'ADAM Logistic Regression': [0.5181949678352556, 0.5256526530333616, 0.506807183670365, 0.5140950129809742, 0.5280417621594092, 0.5184287989190755, 0.5199154688169529, 0.5388763738139122, 0.49458768735877173, 0.5210169624319348], 'SGD Logistic Regression': [0.49960651222271407, 0.5, 0.49928835205416217, 0.5126281038603313, 0.49740932642487046, 0.5254778325123153, 0.5012173269448016, 0.5052389176741509, 0.5044813036519715, 0.5380945897318693], 'IWLS Logistic Regression': [0.5098039215686274, 0.5156958544220474, 0.5102284300887531, 0.510625, 0.5047107873676139, 0.5169183998455822, 0.504981884057971, 0.5088126159554731, 0.5086652609687762, 0.514224583148886]}, 'Ionosphere': {'ADAM Logistic Regression': [0.7455197132616487, 0.8799283154121864, 0.5802238805970149, 0.5763888888888888, 0.7181818181818183, 0.8324372759856631, 0.8091397849462365, 0.9621212121212122, 0.8258928571428572, 0.8090163934426229], 'SGD Logistic Regression': [0.6080508474576272, 0.5773809523809523, 0.7455197132616487, 0.5756410256410257, 0.6977611940298507, 0.6795634920634921, 0.7420634920634921, 0.6091269841269842, 0.5247175141242938, 0.6030465949820789], 'IWLS Logistic Regression': [0.5323660714285714, 0.6980286738351255, 0.6586021505376344, 0.5848484848484848, 0.5, 0.6752232142857143, 0.5307539682539683, 0.7779017857142857, 0.6512820512820513, 0.7103174603174602]}, 'Heart Attack': {'ADAM Logistic Regression': [0.8168103448275862, 0.8373626373626374, 0.7968409586056644, 0.8512931034482758, 0.7994505494505495, 0.8841594827586207, 0.8333333333333333, 0.8370967741935484, 0.7524390243902439, 0.8074324324324325], 'SGD Logistic Regression': [0.8384146341463414, 0.7483766233766234, 0.7815315315315315, 0.7699353448275862, 0.7870967741935484, 0.8060344827586207, 0.7646396396396397, 0.7807112068965517, 0.7248283752860412, 0.7881720430107527], 'IWLS Logistic Regression': [0.8636853448275862, 0.8105555555555556, 0.8701508620689655, 0.7939189189189189, 0.7413419913419914, 0.8885281385281385, 0.8073593073593073, 0.8175824175824176, 0.7526939655172413, 0.7860215053763441]}, 'Japanese Vowels': {'ADAM Logistic Regression': [0.9072026659157044, 0.8946506747711567, 0.9147188646199037, 0.9090502659155091, 0.9021689734277124, 0.9027297592019878, 0.9048395130049807, 0.9121600130188108, 0.9136912008854455, 0.9030726972817475], 'SGD Logistic Regression': [0.9268164771953584, 0.9199805798356919, 0.9405979281041132, 0.9204980630879911, 0.9194645591581454, 0.937628462169027, 0.9331925693066928, 0.9255028481949542, 0.9258839888756456, 0.9360795955212833], 'IWLS Logistic Regression': [0.9188242949265791, 0.9424533867248253, 0.9431935617984202, 0.9137396008391407, 0.9425515196266184, 0.9266369945684974, 0.9275481621516813, 0.9393194399218496, 0.9329676879826341, 0.928106251630293]}, 'Banana quality': {'ADAM Logistic Regression': [0.8782994410230045, 0.8661466536663416, 0.8695405669599219, 0.8619052529769577, 0.8552613270923131, 0.8674840190595352, 0.8743419086643542, 0.8786032429186268, 0.8790393231708844, 0.8846552974419244], 'SGD Logistic Regression': [0.8874294189708665, 0.885, 0.8754875121878047, 0.871252320327002, 0.8811683157177592, 0.8936736875668173, 0.8799951198453366, 0.8756099699948008, 0.8700023757275666, 0.8887077895796187], 'IWLS Logistic Regression': [0.8831195619561956, 0.8710756722951845, 0.8844236536186612, 0.8648382559774965, 0.87, 0.8648711167795138, 0.8756438143814381, 0.8768929183640622, 0.876417171548274, 0.8831249999999999]}, 'Climate': {'ADAM Logistic Regression': [0.7525252525252525, 0.7725, 0.7777777777777777, 0.8489795918367347, 0.7511715089034676, 0.8080808080808081, 0.775, 0.75, 0.8530364372469637, 0.7836734693877551], 'SGD Logistic Regression': [0.7121212121212122, 0.7303921568627452, 0.57029053420806, 0.6111111111111112, 0.539795918367347, 0.6280056577086279, 0.4807692307692308, 0.6346938775510204, 0.6, 0.5637254901960784], 'IWLS Logistic Regression': [0.6363636363636364, 0.6329561527581329, 0.6379066478076378, 0.6919191919191919, 0.6208997188378631, 0.61, 0.7311320754716981, 0.623055162659123, 0.6757281553398058, 0.5909090909090908]}, 'Diabetes': {'ADAM Logistic Regression': [0.751257183908046, 0.7078846153846154, 0.7197255915689004, 0.7653652157668597, 0.7454795597484276, 0.6821658615136876, 0.6947496947496947, 0.7069994574064027, 0.74877916440586, 0.711111111111111], 'SGD Logistic Regression': [0.7390648567119156, 0.7244897959183674, 0.7429478796936297, 0.7648228176318064, 0.7254428341384863, 0.6942592592592592, 0.7394037356321839, 0.7394419306184012, 0.679890560875513, 0.6932721712538226], 'IWLS Logistic Regression': [0.7267112712300565, 0.7468085106382978, 0.7169972640218878, 0.696245096207734, 0.704919515283053, 0.7666666666666666, 0.7528599179797107, 0.7038109471324491, 0.7235991379310345, 0.7312012183514183]}}\n",
      "***Biodegradable***\n",
      "\n",
      "\tADAM Logistic Regression\n"
     ]
    },
    {
     "name": "stderr",
     "output_type": "stream",
     "text": [
      "100%|██████████| 10/10 [00:00<00:00, 13.53it/s]\n"
     ]
    },
    {
     "name": "stdout",
     "output_type": "stream",
     "text": [
      "Balanced accuracy: 84.54%\n",
      "\n",
      "\n",
      "\tSGD Logistic Regression\n"
     ]
    },
    {
     "name": "stderr",
     "output_type": "stream",
     "text": [
      "100%|██████████| 10/10 [01:05<00:00,  6.56s/it]\n"
     ]
    },
    {
     "name": "stdout",
     "output_type": "stream",
     "text": [
      "Balanced accuracy: 84.55%\n",
      "\n",
      "\n",
      "\tIWLS Logistic Regression\n"
     ]
    },
    {
     "name": "stderr",
     "output_type": "stream",
     "text": [
      " 30%|███       | 3/10 [00:00<00:00, 23.43it/s]"
     ]
    },
    {
     "name": "stdout",
     "output_type": "stream",
     "text": [
      "Optimization converged after 17 iterations.\n",
      "Optimization converged after 17 iterations.\n",
      "Optimization converged after 17 iterations.\n",
      "Optimization converged after 17 iterations.\n"
     ]
    },
    {
     "name": "stderr",
     "output_type": "stream",
     "text": [
      " 60%|██████    | 6/10 [00:00<00:00, 24.41it/s]"
     ]
    },
    {
     "name": "stdout",
     "output_type": "stream",
     "text": [
      "Optimization converged after 17 iterations.\n",
      "Optimization converged after 16 iterations.\n"
     ]
    },
    {
     "name": "stderr",
     "output_type": "stream",
     "text": [
      " 90%|█████████ | 9/10 [00:00<00:00, 24.41it/s]"
     ]
    },
    {
     "name": "stdout",
     "output_type": "stream",
     "text": [
      "Optimization converged after 18 iterations.\n",
      "Optimization converged after 17 iterations.\n",
      "Optimization converged after 17 iterations.\n"
     ]
    },
    {
     "name": "stderr",
     "output_type": "stream",
     "text": [
      "100%|██████████| 10/10 [00:00<00:00, 24.32it/s]\n"
     ]
    },
    {
     "name": "stdout",
     "output_type": "stream",
     "text": [
      "Optimization converged after 17 iterations.\n",
      "Balanced accuracy: 83.85%\n",
      "\n",
      "\n",
      "{'Water Quality': {'ADAM Logistic Regression': [0.5181949678352556, 0.5256526530333616, 0.506807183670365, 0.5140950129809742, 0.5280417621594092, 0.5184287989190755, 0.5199154688169529, 0.5388763738139122, 0.49458768735877173, 0.5210169624319348], 'SGD Logistic Regression': [0.49960651222271407, 0.5, 0.49928835205416217, 0.5126281038603313, 0.49740932642487046, 0.5254778325123153, 0.5012173269448016, 0.5052389176741509, 0.5044813036519715, 0.5380945897318693], 'IWLS Logistic Regression': [0.5098039215686274, 0.5156958544220474, 0.5102284300887531, 0.510625, 0.5047107873676139, 0.5169183998455822, 0.504981884057971, 0.5088126159554731, 0.5086652609687762, 0.514224583148886]}, 'Ionosphere': {'ADAM Logistic Regression': [0.7455197132616487, 0.8799283154121864, 0.5802238805970149, 0.5763888888888888, 0.7181818181818183, 0.8324372759856631, 0.8091397849462365, 0.9621212121212122, 0.8258928571428572, 0.8090163934426229], 'SGD Logistic Regression': [0.6080508474576272, 0.5773809523809523, 0.7455197132616487, 0.5756410256410257, 0.6977611940298507, 0.6795634920634921, 0.7420634920634921, 0.6091269841269842, 0.5247175141242938, 0.6030465949820789], 'IWLS Logistic Regression': [0.5323660714285714, 0.6980286738351255, 0.6586021505376344, 0.5848484848484848, 0.5, 0.6752232142857143, 0.5307539682539683, 0.7779017857142857, 0.6512820512820513, 0.7103174603174602]}, 'Heart Attack': {'ADAM Logistic Regression': [0.8168103448275862, 0.8373626373626374, 0.7968409586056644, 0.8512931034482758, 0.7994505494505495, 0.8841594827586207, 0.8333333333333333, 0.8370967741935484, 0.7524390243902439, 0.8074324324324325], 'SGD Logistic Regression': [0.8384146341463414, 0.7483766233766234, 0.7815315315315315, 0.7699353448275862, 0.7870967741935484, 0.8060344827586207, 0.7646396396396397, 0.7807112068965517, 0.7248283752860412, 0.7881720430107527], 'IWLS Logistic Regression': [0.8636853448275862, 0.8105555555555556, 0.8701508620689655, 0.7939189189189189, 0.7413419913419914, 0.8885281385281385, 0.8073593073593073, 0.8175824175824176, 0.7526939655172413, 0.7860215053763441]}, 'Japanese Vowels': {'ADAM Logistic Regression': [0.9072026659157044, 0.8946506747711567, 0.9147188646199037, 0.9090502659155091, 0.9021689734277124, 0.9027297592019878, 0.9048395130049807, 0.9121600130188108, 0.9136912008854455, 0.9030726972817475], 'SGD Logistic Regression': [0.9268164771953584, 0.9199805798356919, 0.9405979281041132, 0.9204980630879911, 0.9194645591581454, 0.937628462169027, 0.9331925693066928, 0.9255028481949542, 0.9258839888756456, 0.9360795955212833], 'IWLS Logistic Regression': [0.9188242949265791, 0.9424533867248253, 0.9431935617984202, 0.9137396008391407, 0.9425515196266184, 0.9266369945684974, 0.9275481621516813, 0.9393194399218496, 0.9329676879826341, 0.928106251630293]}, 'Banana quality': {'ADAM Logistic Regression': [0.8782994410230045, 0.8661466536663416, 0.8695405669599219, 0.8619052529769577, 0.8552613270923131, 0.8674840190595352, 0.8743419086643542, 0.8786032429186268, 0.8790393231708844, 0.8846552974419244], 'SGD Logistic Regression': [0.8874294189708665, 0.885, 0.8754875121878047, 0.871252320327002, 0.8811683157177592, 0.8936736875668173, 0.8799951198453366, 0.8756099699948008, 0.8700023757275666, 0.8887077895796187], 'IWLS Logistic Regression': [0.8831195619561956, 0.8710756722951845, 0.8844236536186612, 0.8648382559774965, 0.87, 0.8648711167795138, 0.8756438143814381, 0.8768929183640622, 0.876417171548274, 0.8831249999999999]}, 'Climate': {'ADAM Logistic Regression': [0.7525252525252525, 0.7725, 0.7777777777777777, 0.8489795918367347, 0.7511715089034676, 0.8080808080808081, 0.775, 0.75, 0.8530364372469637, 0.7836734693877551], 'SGD Logistic Regression': [0.7121212121212122, 0.7303921568627452, 0.57029053420806, 0.6111111111111112, 0.539795918367347, 0.6280056577086279, 0.4807692307692308, 0.6346938775510204, 0.6, 0.5637254901960784], 'IWLS Logistic Regression': [0.6363636363636364, 0.6329561527581329, 0.6379066478076378, 0.6919191919191919, 0.6208997188378631, 0.61, 0.7311320754716981, 0.623055162659123, 0.6757281553398058, 0.5909090909090908]}, 'Diabetes': {'ADAM Logistic Regression': [0.751257183908046, 0.7078846153846154, 0.7197255915689004, 0.7653652157668597, 0.7454795597484276, 0.6821658615136876, 0.6947496947496947, 0.7069994574064027, 0.74877916440586, 0.711111111111111], 'SGD Logistic Regression': [0.7390648567119156, 0.7244897959183674, 0.7429478796936297, 0.7648228176318064, 0.7254428341384863, 0.6942592592592592, 0.7394037356321839, 0.7394419306184012, 0.679890560875513, 0.6932721712538226], 'IWLS Logistic Regression': [0.7267112712300565, 0.7468085106382978, 0.7169972640218878, 0.696245096207734, 0.704919515283053, 0.7666666666666666, 0.7528599179797107, 0.7038109471324491, 0.7235991379310345, 0.7312012183514183]}, 'Biodegradable': {'ADAM Logistic Regression': [0.8571136966727904, 0.8314570253301581, 0.8542049397836293, 0.8658073541167066, 0.8227611940298507, 0.8120759837177748, 0.8188244047619048, 0.8643041492952154, 0.8475719424460432, 0.8797100019727757], 'SGD Logistic Regression': [0.8461497211497211, 0.8211775878442544, 0.8521515797635201, 0.8633913764510779, 0.8503834991708126, 0.8304375804375804, 0.8384121061359868, 0.8195674044265593, 0.8758823529411764, 0.85759904741286], 'IWLS Logistic Regression': [0.848420236479938, 0.8718844984802432, 0.8488467034088589, 0.8699844931188214, 0.8093988549618321, 0.8128189426413555, 0.8404235205142749, 0.8428231218878545, 0.8226507846473814, 0.8181357649442755]}}\n",
      "***Plates***\n",
      "\n",
      "\tADAM Logistic Regression\n"
     ]
    },
    {
     "name": "stderr",
     "output_type": "stream",
     "text": [
      "100%|██████████| 10/10 [00:00<00:00, 10.57it/s]\n"
     ]
    },
    {
     "name": "stdout",
     "output_type": "stream",
     "text": [
      "Balanced accuracy: 17.39%\n",
      "\n",
      "\n",
      "\tSGD Logistic Regression\n"
     ]
    },
    {
     "name": "stderr",
     "output_type": "stream",
     "text": [
      "100%|██████████| 10/10 [02:02<00:00, 12.22s/it]\n"
     ]
    },
    {
     "name": "stdout",
     "output_type": "stream",
     "text": [
      "Balanced accuracy: 46.89%\n",
      "\n",
      "\n",
      "\tIWLS Logistic Regression\n"
     ]
    },
    {
     "name": "stderr",
     "output_type": "stream",
     "text": [
      " 10%|█         | 1/10 [00:00<00:01,  6.79it/s]"
     ]
    },
    {
     "name": "stdout",
     "output_type": "stream",
     "text": [
      "Optimization converged after 28 iterations.\n"
     ]
    },
    {
     "name": "stderr",
     "output_type": "stream",
     "text": [
      " 20%|██        | 2/10 [00:00<00:01,  7.03it/s]"
     ]
    },
    {
     "name": "stdout",
     "output_type": "stream",
     "text": [
      "Optimization converged after 28 iterations.\n"
     ]
    },
    {
     "name": "stderr",
     "output_type": "stream",
     "text": [
      " 30%|███       | 3/10 [00:00<00:01,  6.92it/s]"
     ]
    },
    {
     "name": "stdout",
     "output_type": "stream",
     "text": [
      "Optimization converged after 30 iterations.\n"
     ]
    },
    {
     "name": "stderr",
     "output_type": "stream",
     "text": [
      " 40%|████      | 4/10 [00:00<00:01,  5.20it/s]"
     ]
    },
    {
     "name": "stdout",
     "output_type": "stream",
     "text": [
      "Optimization converged after 56 iterations.\n"
     ]
    },
    {
     "name": "stderr",
     "output_type": "stream",
     "text": [
      " 60%|██████    | 6/10 [00:01<00:00,  4.55it/s]"
     ]
    },
    {
     "name": "stdout",
     "output_type": "stream",
     "text": [
      "Optimization converged after 59 iterations.\n",
      "Optimization converged after 24 iterations.\n",
      "Optimization converged after 10 iterations.\n"
     ]
    },
    {
     "name": "stderr",
     "output_type": "stream",
     "text": [
      " 90%|█████████ | 9/10 [00:01<00:00,  5.75it/s]"
     ]
    },
    {
     "name": "stdout",
     "output_type": "stream",
     "text": [
      "Optimization converged after 57 iterations.\n",
      "Optimization converged after 23 iterations.\n"
     ]
    },
    {
     "name": "stderr",
     "output_type": "stream",
     "text": [
      "100%|██████████| 10/10 [00:01<00:00,  5.31it/s]"
     ]
    },
    {
     "name": "stdout",
     "output_type": "stream",
     "text": [
      "Optimization converged after 40 iterations.\n",
      "Balanced accuracy: 47.16%\n",
      "\n",
      "\n",
      "{'Water Quality': {'ADAM Logistic Regression': [0.5181949678352556, 0.5256526530333616, 0.506807183670365, 0.5140950129809742, 0.5280417621594092, 0.5184287989190755, 0.5199154688169529, 0.5388763738139122, 0.49458768735877173, 0.5210169624319348], 'SGD Logistic Regression': [0.49960651222271407, 0.5, 0.49928835205416217, 0.5126281038603313, 0.49740932642487046, 0.5254778325123153, 0.5012173269448016, 0.5052389176741509, 0.5044813036519715, 0.5380945897318693], 'IWLS Logistic Regression': [0.5098039215686274, 0.5156958544220474, 0.5102284300887531, 0.510625, 0.5047107873676139, 0.5169183998455822, 0.504981884057971, 0.5088126159554731, 0.5086652609687762, 0.514224583148886]}, 'Ionosphere': {'ADAM Logistic Regression': [0.7455197132616487, 0.8799283154121864, 0.5802238805970149, 0.5763888888888888, 0.7181818181818183, 0.8324372759856631, 0.8091397849462365, 0.9621212121212122, 0.8258928571428572, 0.8090163934426229], 'SGD Logistic Regression': [0.6080508474576272, 0.5773809523809523, 0.7455197132616487, 0.5756410256410257, 0.6977611940298507, 0.6795634920634921, 0.7420634920634921, 0.6091269841269842, 0.5247175141242938, 0.6030465949820789], 'IWLS Logistic Regression': [0.5323660714285714, 0.6980286738351255, 0.6586021505376344, 0.5848484848484848, 0.5, 0.6752232142857143, 0.5307539682539683, 0.7779017857142857, 0.6512820512820513, 0.7103174603174602]}, 'Heart Attack': {'ADAM Logistic Regression': [0.8168103448275862, 0.8373626373626374, 0.7968409586056644, 0.8512931034482758, 0.7994505494505495, 0.8841594827586207, 0.8333333333333333, 0.8370967741935484, 0.7524390243902439, 0.8074324324324325], 'SGD Logistic Regression': [0.8384146341463414, 0.7483766233766234, 0.7815315315315315, 0.7699353448275862, 0.7870967741935484, 0.8060344827586207, 0.7646396396396397, 0.7807112068965517, 0.7248283752860412, 0.7881720430107527], 'IWLS Logistic Regression': [0.8636853448275862, 0.8105555555555556, 0.8701508620689655, 0.7939189189189189, 0.7413419913419914, 0.8885281385281385, 0.8073593073593073, 0.8175824175824176, 0.7526939655172413, 0.7860215053763441]}, 'Japanese Vowels': {'ADAM Logistic Regression': [0.9072026659157044, 0.8946506747711567, 0.9147188646199037, 0.9090502659155091, 0.9021689734277124, 0.9027297592019878, 0.9048395130049807, 0.9121600130188108, 0.9136912008854455, 0.9030726972817475], 'SGD Logistic Regression': [0.9268164771953584, 0.9199805798356919, 0.9405979281041132, 0.9204980630879911, 0.9194645591581454, 0.937628462169027, 0.9331925693066928, 0.9255028481949542, 0.9258839888756456, 0.9360795955212833], 'IWLS Logistic Regression': [0.9188242949265791, 0.9424533867248253, 0.9431935617984202, 0.9137396008391407, 0.9425515196266184, 0.9266369945684974, 0.9275481621516813, 0.9393194399218496, 0.9329676879826341, 0.928106251630293]}, 'Banana quality': {'ADAM Logistic Regression': [0.8782994410230045, 0.8661466536663416, 0.8695405669599219, 0.8619052529769577, 0.8552613270923131, 0.8674840190595352, 0.8743419086643542, 0.8786032429186268, 0.8790393231708844, 0.8846552974419244], 'SGD Logistic Regression': [0.8874294189708665, 0.885, 0.8754875121878047, 0.871252320327002, 0.8811683157177592, 0.8936736875668173, 0.8799951198453366, 0.8756099699948008, 0.8700023757275666, 0.8887077895796187], 'IWLS Logistic Regression': [0.8831195619561956, 0.8710756722951845, 0.8844236536186612, 0.8648382559774965, 0.87, 0.8648711167795138, 0.8756438143814381, 0.8768929183640622, 0.876417171548274, 0.8831249999999999]}, 'Climate': {'ADAM Logistic Regression': [0.7525252525252525, 0.7725, 0.7777777777777777, 0.8489795918367347, 0.7511715089034676, 0.8080808080808081, 0.775, 0.75, 0.8530364372469637, 0.7836734693877551], 'SGD Logistic Regression': [0.7121212121212122, 0.7303921568627452, 0.57029053420806, 0.6111111111111112, 0.539795918367347, 0.6280056577086279, 0.4807692307692308, 0.6346938775510204, 0.6, 0.5637254901960784], 'IWLS Logistic Regression': [0.6363636363636364, 0.6329561527581329, 0.6379066478076378, 0.6919191919191919, 0.6208997188378631, 0.61, 0.7311320754716981, 0.623055162659123, 0.6757281553398058, 0.5909090909090908]}, 'Diabetes': {'ADAM Logistic Regression': [0.751257183908046, 0.7078846153846154, 0.7197255915689004, 0.7653652157668597, 0.7454795597484276, 0.6821658615136876, 0.6947496947496947, 0.7069994574064027, 0.74877916440586, 0.711111111111111], 'SGD Logistic Regression': [0.7390648567119156, 0.7244897959183674, 0.7429478796936297, 0.7648228176318064, 0.7254428341384863, 0.6942592592592592, 0.7394037356321839, 0.7394419306184012, 0.679890560875513, 0.6932721712538226], 'IWLS Logistic Regression': [0.7267112712300565, 0.7468085106382978, 0.7169972640218878, 0.696245096207734, 0.704919515283053, 0.7666666666666666, 0.7528599179797107, 0.7038109471324491, 0.7235991379310345, 0.7312012183514183]}, 'Biodegradable': {'ADAM Logistic Regression': [0.8571136966727904, 0.8314570253301581, 0.8542049397836293, 0.8658073541167066, 0.8227611940298507, 0.8120759837177748, 0.8188244047619048, 0.8643041492952154, 0.8475719424460432, 0.8797100019727757], 'SGD Logistic Regression': [0.8461497211497211, 0.8211775878442544, 0.8521515797635201, 0.8633913764510779, 0.8503834991708126, 0.8304375804375804, 0.8384121061359868, 0.8195674044265593, 0.8758823529411764, 0.85759904741286], 'IWLS Logistic Regression': [0.848420236479938, 0.8718844984802432, 0.8488467034088589, 0.8699844931188214, 0.8093988549618321, 0.8128189426413555, 0.8404235205142749, 0.8428231218878545, 0.8226507846473814, 0.8181357649442755]}, 'Plates': {'ADAM Logistic Regression': [0.16472868217054262, 0.15977443609022557, 0.16923076923076924, 0.1797520661157025, 0.1976284584980237, 0.16856060606060605, 0.15648854961832062, 0.16731517509727625, 0.19322709163346613, 0.18253968253968253], 'SGD Logistic Regression': [0.45610687022900764, 0.470703125, 0.4685185185185185, 0.48155737704918034, 0.4749034749034749, 0.47843137254901963, 0.463855421686747, 0.4641434262948207, 0.46332046332046334, 0.4674329501915709], 'IWLS Logistic Regression': [0.4748201438848921, 0.48255813953488375, 0.4583333333333333, 0.4715909090909091, 0.46387832699619774, 0.4775510204081633, 0.45880149812734083, 0.4766536964980545, 0.477859778597786, 0.4743083003952569]}}\n"
     ]
    },
    {
     "name": "stderr",
     "output_type": "stream",
     "text": [
      "\n"
     ]
    }
   ],
   "source": [
    "n_runs = 10  # at least 5\n",
    "\n",
    "scaler = StandardScaler()\n",
    "dataset_performances = {}\n",
    "all_performances = []\n",
    "\n",
    "\n",
    "for dataset_name, data in datasets.items():\n",
    "    print(f\"***{dataset_name}***\\n\")\n",
    "    X, y = data\n",
    "    models_performances = {}\n",
    "    for name, model in models.items():\n",
    "        print(f\"\\t{name}\")\n",
    "        models_performances[name] = []\n",
    "        for _ in tqdm(range(n_runs)):\n",
    "            X_train, X_test, y_train, y_test = train_test_split(\n",
    "                X, y, test_size=0.2\n",
    "             )\n",
    "\n",
    "            X_train_scaled = scaler.fit_transform(X_train)\n",
    "            X_test_scaled = scaler.transform(X_test)\n",
    "\n",
    "            model.fit(X_train_scaled, y_train)\n",
    "            predictions = model.predict(X_test_scaled)\n",
    "\n",
    "            accuracy = balanced_accuracy_score(y_test, predictions)\n",
    "            models_performances[name].append(accuracy)\n",
    "\n",
    "        value_ = round(mean(models_performances[name])*100, 2)\n",
    "        print(f\"Balanced accuracy: {value_}%\\n\\n\")\n",
    "    dataset_performances[dataset_name] = models_performances\n",
    "    print(dataset_performances)\n"
   ]
  },
  {
   "cell_type": "code",
   "execution_count": 5,
   "metadata": {},
   "outputs": [
    {
     "name": "stdout",
     "output_type": "stream",
     "text": [
      "{'Banana quality': {'ADAM Logistic Regression': [0.8782994410230045,\n",
      "                                                 0.8661466536663416,\n",
      "                                                 0.8695405669599219,\n",
      "                                                 0.8619052529769577,\n",
      "                                                 0.8552613270923131,\n",
      "                                                 0.8674840190595352,\n",
      "                                                 0.8743419086643542,\n",
      "                                                 0.8786032429186268,\n",
      "                                                 0.8790393231708844,\n",
      "                                                 0.8846552974419244],\n",
      "                    'IWLS Logistic Regression': [0.8831195619561956,\n",
      "                                                 0.8710756722951845,\n",
      "                                                 0.8844236536186612,\n",
      "                                                 0.8648382559774965,\n",
      "                                                 0.87,\n",
      "                                                 0.8648711167795138,\n",
      "                                                 0.8756438143814381,\n",
      "                                                 0.8768929183640622,\n",
      "                                                 0.876417171548274,\n",
      "                                                 0.8831249999999999],\n",
      "                    'SGD Logistic Regression': [0.8874294189708665,\n",
      "                                                0.885,\n",
      "                                                0.8754875121878047,\n",
      "                                                0.871252320327002,\n",
      "                                                0.8811683157177592,\n",
      "                                                0.8936736875668173,\n",
      "                                                0.8799951198453366,\n",
      "                                                0.8756099699948008,\n",
      "                                                0.8700023757275666,\n",
      "                                                0.8887077895796187]},\n",
      " 'Biodegradable': {'ADAM Logistic Regression': [0.8571136966727904,\n",
      "                                                0.8314570253301581,\n",
      "                                                0.8542049397836293,\n",
      "                                                0.8658073541167066,\n",
      "                                                0.8227611940298507,\n",
      "                                                0.8120759837177748,\n",
      "                                                0.8188244047619048,\n",
      "                                                0.8643041492952154,\n",
      "                                                0.8475719424460432,\n",
      "                                                0.8797100019727757],\n",
      "                   'IWLS Logistic Regression': [0.848420236479938,\n",
      "                                                0.8718844984802432,\n",
      "                                                0.8488467034088589,\n",
      "                                                0.8699844931188214,\n",
      "                                                0.8093988549618321,\n",
      "                                                0.8128189426413555,\n",
      "                                                0.8404235205142749,\n",
      "                                                0.8428231218878545,\n",
      "                                                0.8226507846473814,\n",
      "                                                0.8181357649442755],\n",
      "                   'SGD Logistic Regression': [0.8461497211497211,\n",
      "                                               0.8211775878442544,\n",
      "                                               0.8521515797635201,\n",
      "                                               0.8633913764510779,\n",
      "                                               0.8503834991708126,\n",
      "                                               0.8304375804375804,\n",
      "                                               0.8384121061359868,\n",
      "                                               0.8195674044265593,\n",
      "                                               0.8758823529411764,\n",
      "                                               0.85759904741286]},\n",
      " 'Climate': {'ADAM Logistic Regression': [0.7525252525252525,\n",
      "                                          0.7725,\n",
      "                                          0.7777777777777777,\n",
      "                                          0.8489795918367347,\n",
      "                                          0.7511715089034676,\n",
      "                                          0.8080808080808081,\n",
      "                                          0.775,\n",
      "                                          0.75,\n",
      "                                          0.8530364372469637,\n",
      "                                          0.7836734693877551],\n",
      "             'IWLS Logistic Regression': [0.6363636363636364,\n",
      "                                          0.6329561527581329,\n",
      "                                          0.6379066478076378,\n",
      "                                          0.6919191919191919,\n",
      "                                          0.6208997188378631,\n",
      "                                          0.61,\n",
      "                                          0.7311320754716981,\n",
      "                                          0.623055162659123,\n",
      "                                          0.6757281553398058,\n",
      "                                          0.5909090909090908],\n",
      "             'SGD Logistic Regression': [0.7121212121212122,\n",
      "                                         0.7303921568627452,\n",
      "                                         0.57029053420806,\n",
      "                                         0.6111111111111112,\n",
      "                                         0.539795918367347,\n",
      "                                         0.6280056577086279,\n",
      "                                         0.4807692307692308,\n",
      "                                         0.6346938775510204,\n",
      "                                         0.6,\n",
      "                                         0.5637254901960784]},\n",
      " 'Diabetes': {'ADAM Logistic Regression': [0.751257183908046,\n",
      "                                           0.7078846153846154,\n",
      "                                           0.7197255915689004,\n",
      "                                           0.7653652157668597,\n",
      "                                           0.7454795597484276,\n",
      "                                           0.6821658615136876,\n",
      "                                           0.6947496947496947,\n",
      "                                           0.7069994574064027,\n",
      "                                           0.74877916440586,\n",
      "                                           0.711111111111111],\n",
      "              'IWLS Logistic Regression': [0.7267112712300565,\n",
      "                                           0.7468085106382978,\n",
      "                                           0.7169972640218878,\n",
      "                                           0.696245096207734,\n",
      "                                           0.704919515283053,\n",
      "                                           0.7666666666666666,\n",
      "                                           0.7528599179797107,\n",
      "                                           0.7038109471324491,\n",
      "                                           0.7235991379310345,\n",
      "                                           0.7312012183514183],\n",
      "              'SGD Logistic Regression': [0.7390648567119156,\n",
      "                                          0.7244897959183674,\n",
      "                                          0.7429478796936297,\n",
      "                                          0.7648228176318064,\n",
      "                                          0.7254428341384863,\n",
      "                                          0.6942592592592592,\n",
      "                                          0.7394037356321839,\n",
      "                                          0.7394419306184012,\n",
      "                                          0.679890560875513,\n",
      "                                          0.6932721712538226]},\n",
      " 'Heart Attack': {'ADAM Logistic Regression': [0.8168103448275862,\n",
      "                                               0.8373626373626374,\n",
      "                                               0.7968409586056644,\n",
      "                                               0.8512931034482758,\n",
      "                                               0.7994505494505495,\n",
      "                                               0.8841594827586207,\n",
      "                                               0.8333333333333333,\n",
      "                                               0.8370967741935484,\n",
      "                                               0.7524390243902439,\n",
      "                                               0.8074324324324325],\n",
      "                  'IWLS Logistic Regression': [0.8636853448275862,\n",
      "                                               0.8105555555555556,\n",
      "                                               0.8701508620689655,\n",
      "                                               0.7939189189189189,\n",
      "                                               0.7413419913419914,\n",
      "                                               0.8885281385281385,\n",
      "                                               0.8073593073593073,\n",
      "                                               0.8175824175824176,\n",
      "                                               0.7526939655172413,\n",
      "                                               0.7860215053763441],\n",
      "                  'SGD Logistic Regression': [0.8384146341463414,\n",
      "                                              0.7483766233766234,\n",
      "                                              0.7815315315315315,\n",
      "                                              0.7699353448275862,\n",
      "                                              0.7870967741935484,\n",
      "                                              0.8060344827586207,\n",
      "                                              0.7646396396396397,\n",
      "                                              0.7807112068965517,\n",
      "                                              0.7248283752860412,\n",
      "                                              0.7881720430107527]},\n",
      " 'Ionosphere': {'ADAM Logistic Regression': [0.7455197132616487,\n",
      "                                             0.8799283154121864,\n",
      "                                             0.5802238805970149,\n",
      "                                             0.5763888888888888,\n",
      "                                             0.7181818181818183,\n",
      "                                             0.8324372759856631,\n",
      "                                             0.8091397849462365,\n",
      "                                             0.9621212121212122,\n",
      "                                             0.8258928571428572,\n",
      "                                             0.8090163934426229],\n",
      "                'IWLS Logistic Regression': [0.5323660714285714,\n",
      "                                             0.6980286738351255,\n",
      "                                             0.6586021505376344,\n",
      "                                             0.5848484848484848,\n",
      "                                             0.5,\n",
      "                                             0.6752232142857143,\n",
      "                                             0.5307539682539683,\n",
      "                                             0.7779017857142857,\n",
      "                                             0.6512820512820513,\n",
      "                                             0.7103174603174602],\n",
      "                'SGD Logistic Regression': [0.6080508474576272,\n",
      "                                            0.5773809523809523,\n",
      "                                            0.7455197132616487,\n",
      "                                            0.5756410256410257,\n",
      "                                            0.6977611940298507,\n",
      "                                            0.6795634920634921,\n",
      "                                            0.7420634920634921,\n",
      "                                            0.6091269841269842,\n",
      "                                            0.5247175141242938,\n",
      "                                            0.6030465949820789]},\n",
      " 'Japanese Vowels': {'ADAM Logistic Regression': [0.9072026659157044,\n",
      "                                                  0.8946506747711567,\n",
      "                                                  0.9147188646199037,\n",
      "                                                  0.9090502659155091,\n",
      "                                                  0.9021689734277124,\n",
      "                                                  0.9027297592019878,\n",
      "                                                  0.9048395130049807,\n",
      "                                                  0.9121600130188108,\n",
      "                                                  0.9136912008854455,\n",
      "                                                  0.9030726972817475],\n",
      "                     'IWLS Logistic Regression': [0.9188242949265791,\n",
      "                                                  0.9424533867248253,\n",
      "                                                  0.9431935617984202,\n",
      "                                                  0.9137396008391407,\n",
      "                                                  0.9425515196266184,\n",
      "                                                  0.9266369945684974,\n",
      "                                                  0.9275481621516813,\n",
      "                                                  0.9393194399218496,\n",
      "                                                  0.9329676879826341,\n",
      "                                                  0.928106251630293],\n",
      "                     'SGD Logistic Regression': [0.9268164771953584,\n",
      "                                                 0.9199805798356919,\n",
      "                                                 0.9405979281041132,\n",
      "                                                 0.9204980630879911,\n",
      "                                                 0.9194645591581454,\n",
      "                                                 0.937628462169027,\n",
      "                                                 0.9331925693066928,\n",
      "                                                 0.9255028481949542,\n",
      "                                                 0.9258839888756456,\n",
      "                                                 0.9360795955212833]},\n",
      " 'Plates': {'ADAM Logistic Regression': [0.16472868217054262,\n",
      "                                         0.15977443609022557,\n",
      "                                         0.16923076923076924,\n",
      "                                         0.1797520661157025,\n",
      "                                         0.1976284584980237,\n",
      "                                         0.16856060606060605,\n",
      "                                         0.15648854961832062,\n",
      "                                         0.16731517509727625,\n",
      "                                         0.19322709163346613,\n",
      "                                         0.18253968253968253],\n",
      "            'IWLS Logistic Regression': [0.4748201438848921,\n",
      "                                         0.48255813953488375,\n",
      "                                         0.4583333333333333,\n",
      "                                         0.4715909090909091,\n",
      "                                         0.46387832699619774,\n",
      "                                         0.4775510204081633,\n",
      "                                         0.45880149812734083,\n",
      "                                         0.4766536964980545,\n",
      "                                         0.477859778597786,\n",
      "                                         0.4743083003952569],\n",
      "            'SGD Logistic Regression': [0.45610687022900764,\n",
      "                                        0.470703125,\n",
      "                                        0.4685185185185185,\n",
      "                                        0.48155737704918034,\n",
      "                                        0.4749034749034749,\n",
      "                                        0.47843137254901963,\n",
      "                                        0.463855421686747,\n",
      "                                        0.4641434262948207,\n",
      "                                        0.46332046332046334,\n",
      "                                        0.4674329501915709]},\n",
      " 'Water Quality': {'ADAM Logistic Regression': [0.5181949678352556,\n",
      "                                                0.5256526530333616,\n",
      "                                                0.506807183670365,\n",
      "                                                0.5140950129809742,\n",
      "                                                0.5280417621594092,\n",
      "                                                0.5184287989190755,\n",
      "                                                0.5199154688169529,\n",
      "                                                0.5388763738139122,\n",
      "                                                0.49458768735877173,\n",
      "                                                0.5210169624319348],\n",
      "                   'IWLS Logistic Regression': [0.5098039215686274,\n",
      "                                                0.5156958544220474,\n",
      "                                                0.5102284300887531,\n",
      "                                                0.510625,\n",
      "                                                0.5047107873676139,\n",
      "                                                0.5169183998455822,\n",
      "                                                0.504981884057971,\n",
      "                                                0.5088126159554731,\n",
      "                                                0.5086652609687762,\n",
      "                                                0.514224583148886],\n",
      "                   'SGD Logistic Regression': [0.49960651222271407,\n",
      "                                               0.5,\n",
      "                                               0.49928835205416217,\n",
      "                                               0.5126281038603313,\n",
      "                                               0.49740932642487046,\n",
      "                                               0.5254778325123153,\n",
      "                                               0.5012173269448016,\n",
      "                                               0.5052389176741509,\n",
      "                                               0.5044813036519715,\n",
      "                                               0.5380945897318693]}}\n"
     ]
    }
   ],
   "source": [
    "pprint(dataset_performances)\n"
   ]
  },
  {
   "cell_type": "code",
   "execution_count": 6,
   "metadata": {},
   "outputs": [],
   "source": [
    "with open(\"results.jsons\", \"w\") as fp:\n",
    "    json.dump(\n",
    "        dataset_performances,\n",
    "        fp,\n",
    "        sort_keys=True,\n",
    "        indent=4,\n",
    "        separators=(\",\", \": \")\n",
    "        )\n"
   ]
  }
 ],
 "metadata": {
  "kernelspec": {
   "display_name": "mini",
   "language": "python",
   "name": "python3"
  },
  "language_info": {
   "codemirror_mode": {
    "name": "ipython",
    "version": 3
   },
   "file_extension": ".py",
   "mimetype": "text/x-python",
   "name": "python",
   "nbconvert_exporter": "python",
   "pygments_lexer": "ipython3",
   "version": "3.10.8"
  }
 },
 "nbformat": 4,
 "nbformat_minor": 2
}
