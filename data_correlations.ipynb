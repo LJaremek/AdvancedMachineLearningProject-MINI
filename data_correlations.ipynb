{
 "cells": [
  {
   "cell_type": "code",
   "execution_count": 2,
   "metadata": {},
   "outputs": [],
   "source": [
    "import pandas as pd\n",
    "import seaborn as sns\n",
    "from scipy.io import arff"
   ]
  },
  {
   "cell_type": "markdown",
   "metadata": {},
   "source": [
    "### Wind"
   ]
  },
  {
   "cell_type": "code",
   "execution_count": 3,
   "metadata": {},
   "outputs": [],
   "source": [
    "def wind() -> tuple:\n",
    "    data = arff.loadarff('./data/wind/wind.arff')\n",
    "    wind_df = pd.DataFrame(data[0])\n",
    "    wind_df.replace({'binaryClass': {b'P': 1, b'N': 1}}, inplace=True)\n",
    "    wind_df.drop(columns=['year', 'month', 'day'], inplace=True)\n",
    "    \n",
    "    print(wind_df.info())\n",
    "    \n",
    "    X = wind_df[wind_df.columns.drop('binaryClass')]\n",
    "    y = wind_df['binaryClass']\n",
    "    \n",
    "    return X, y   "
   ]
  },
  {
   "cell_type": "code",
   "execution_count": 4,
   "metadata": {},
   "outputs": [
    {
     "name": "stdout",
     "output_type": "stream",
     "text": [
      "<class 'pandas.core.frame.DataFrame'>\n",
      "RangeIndex: 6574 entries, 0 to 6573\n",
      "Data columns (total 15 columns):\n",
      " #   Column       Non-Null Count  Dtype  \n",
      "---  ------       --------------  -----  \n",
      " 0   year         6574 non-null   float64\n",
      " 1   month        6574 non-null   float64\n",
      " 2   day          6574 non-null   float64\n",
      " 3   RPT          6574 non-null   float64\n",
      " 4   VAL          6574 non-null   float64\n",
      " 5   ROS          6574 non-null   float64\n",
      " 6   KIL          6574 non-null   float64\n",
      " 7   SHA          6574 non-null   float64\n",
      " 8   BIR          6574 non-null   float64\n",
      " 9   DUB          6574 non-null   float64\n",
      " 10  CLA          6574 non-null   float64\n",
      " 11  MUL          6574 non-null   float64\n",
      " 12  CLO          6574 non-null   float64\n",
      " 13  BEL          6574 non-null   float64\n",
      " 14  binaryClass  6574 non-null   object \n",
      "dtypes: float64(14), object(1)\n",
      "memory usage: 770.5+ KB\n",
      "None\n"
     ]
    },
    {
     "name": "stderr",
     "output_type": "stream",
     "text": [
      "/tmp/ipykernel_12847/1297002298.py:5: FutureWarning: Downcasting behavior in `replace` is deprecated and will be removed in a future version. To retain the old behavior, explicitly call `result.infer_objects(copy=False)`. To opt-in to the future behavior, set `pd.set_option('future.no_silent_downcasting', True)`\n",
      "  wind_df.replace({'binaryClass': {b'P': 1, b'N': 1}}, inplace=True)\n"
     ]
    }
   ],
   "source": [
    "X, y = wind()"
   ]
  },
  {
   "cell_type": "code",
   "execution_count": 7,
   "metadata": {},
   "outputs": [
    {
     "data": {
      "text/html": [
       "<div>\n",
       "<style scoped>\n",
       "    .dataframe tbody tr th:only-of-type {\n",
       "        vertical-align: middle;\n",
       "    }\n",
       "\n",
       "    .dataframe tbody tr th {\n",
       "        vertical-align: top;\n",
       "    }\n",
       "\n",
       "    .dataframe thead th {\n",
       "        text-align: right;\n",
       "    }\n",
       "</style>\n",
       "<table border=\"1\" class=\"dataframe\">\n",
       "  <thead>\n",
       "    <tr style=\"text-align: right;\">\n",
       "      <th></th>\n",
       "      <th>RPT</th>\n",
       "      <th>VAL</th>\n",
       "      <th>ROS</th>\n",
       "      <th>KIL</th>\n",
       "      <th>SHA</th>\n",
       "      <th>BIR</th>\n",
       "      <th>DUB</th>\n",
       "      <th>CLA</th>\n",
       "      <th>MUL</th>\n",
       "      <th>CLO</th>\n",
       "      <th>BEL</th>\n",
       "    </tr>\n",
       "  </thead>\n",
       "  <tbody>\n",
       "    <tr>\n",
       "      <th>RPT</th>\n",
       "      <td>1.000000</td>\n",
       "      <td>0.841619</td>\n",
       "      <td>0.725753</td>\n",
       "      <td>0.865739</td>\n",
       "      <td>0.831096</td>\n",
       "      <td>0.813221</td>\n",
       "      <td>0.735601</td>\n",
       "      <td>0.761931</td>\n",
       "      <td>0.780645</td>\n",
       "      <td>0.752974</td>\n",
       "      <td>0.650026</td>\n",
       "    </tr>\n",
       "    <tr>\n",
       "      <th>VAL</th>\n",
       "      <td>0.841619</td>\n",
       "      <td>1.000000</td>\n",
       "      <td>0.598148</td>\n",
       "      <td>0.774825</td>\n",
       "      <td>0.856721</td>\n",
       "      <td>0.810534</td>\n",
       "      <td>0.667054</td>\n",
       "      <td>0.801009</td>\n",
       "      <td>0.740417</td>\n",
       "      <td>0.722511</td>\n",
       "      <td>0.749893</td>\n",
       "    </tr>\n",
       "    <tr>\n",
       "      <th>ROS</th>\n",
       "      <td>0.725753</td>\n",
       "      <td>0.598148</td>\n",
       "      <td>1.000000</td>\n",
       "      <td>0.744216</td>\n",
       "      <td>0.588426</td>\n",
       "      <td>0.652043</td>\n",
       "      <td>0.662713</td>\n",
       "      <td>0.606203</td>\n",
       "      <td>0.620062</td>\n",
       "      <td>0.607656</td>\n",
       "      <td>0.470553</td>\n",
       "    </tr>\n",
       "    <tr>\n",
       "      <th>KIL</th>\n",
       "      <td>0.865739</td>\n",
       "      <td>0.774825</td>\n",
       "      <td>0.744216</td>\n",
       "      <td>1.000000</td>\n",
       "      <td>0.860541</td>\n",
       "      <td>0.870738</td>\n",
       "      <td>0.814945</td>\n",
       "      <td>0.816507</td>\n",
       "      <td>0.846690</td>\n",
       "      <td>0.843327</td>\n",
       "      <td>0.696359</td>\n",
       "    </tr>\n",
       "    <tr>\n",
       "      <th>SHA</th>\n",
       "      <td>0.831096</td>\n",
       "      <td>0.856721</td>\n",
       "      <td>0.588426</td>\n",
       "      <td>0.860541</td>\n",
       "      <td>1.000000</td>\n",
       "      <td>0.904630</td>\n",
       "      <td>0.789338</td>\n",
       "      <td>0.873119</td>\n",
       "      <td>0.853377</td>\n",
       "      <td>0.819773</td>\n",
       "      <td>0.769520</td>\n",
       "    </tr>\n",
       "    <tr>\n",
       "      <th>BIR</th>\n",
       "      <td>0.813221</td>\n",
       "      <td>0.810534</td>\n",
       "      <td>0.652043</td>\n",
       "      <td>0.870738</td>\n",
       "      <td>0.904630</td>\n",
       "      <td>1.000000</td>\n",
       "      <td>0.829199</td>\n",
       "      <td>0.888144</td>\n",
       "      <td>0.895020</td>\n",
       "      <td>0.874084</td>\n",
       "      <td>0.783871</td>\n",
       "    </tr>\n",
       "    <tr>\n",
       "      <th>DUB</th>\n",
       "      <td>0.735601</td>\n",
       "      <td>0.667054</td>\n",
       "      <td>0.662713</td>\n",
       "      <td>0.814945</td>\n",
       "      <td>0.789338</td>\n",
       "      <td>0.829199</td>\n",
       "      <td>1.000000</td>\n",
       "      <td>0.794050</td>\n",
       "      <td>0.880284</td>\n",
       "      <td>0.842098</td>\n",
       "      <td>0.699673</td>\n",
       "    </tr>\n",
       "    <tr>\n",
       "      <th>CLA</th>\n",
       "      <td>0.761931</td>\n",
       "      <td>0.801009</td>\n",
       "      <td>0.606203</td>\n",
       "      <td>0.816507</td>\n",
       "      <td>0.873119</td>\n",
       "      <td>0.888144</td>\n",
       "      <td>0.794050</td>\n",
       "      <td>1.000000</td>\n",
       "      <td>0.865558</td>\n",
       "      <td>0.879012</td>\n",
       "      <td>0.863770</td>\n",
       "    </tr>\n",
       "    <tr>\n",
       "      <th>MUL</th>\n",
       "      <td>0.780645</td>\n",
       "      <td>0.740417</td>\n",
       "      <td>0.620062</td>\n",
       "      <td>0.846690</td>\n",
       "      <td>0.853377</td>\n",
       "      <td>0.895020</td>\n",
       "      <td>0.880284</td>\n",
       "      <td>0.865558</td>\n",
       "      <td>1.000000</td>\n",
       "      <td>0.877317</td>\n",
       "      <td>0.772057</td>\n",
       "    </tr>\n",
       "    <tr>\n",
       "      <th>CLO</th>\n",
       "      <td>0.752974</td>\n",
       "      <td>0.722511</td>\n",
       "      <td>0.607656</td>\n",
       "      <td>0.843327</td>\n",
       "      <td>0.819773</td>\n",
       "      <td>0.874084</td>\n",
       "      <td>0.842098</td>\n",
       "      <td>0.879012</td>\n",
       "      <td>0.877317</td>\n",
       "      <td>1.000000</td>\n",
       "      <td>0.810151</td>\n",
       "    </tr>\n",
       "    <tr>\n",
       "      <th>BEL</th>\n",
       "      <td>0.650026</td>\n",
       "      <td>0.749893</td>\n",
       "      <td>0.470553</td>\n",
       "      <td>0.696359</td>\n",
       "      <td>0.769520</td>\n",
       "      <td>0.783871</td>\n",
       "      <td>0.699673</td>\n",
       "      <td>0.863770</td>\n",
       "      <td>0.772057</td>\n",
       "      <td>0.810151</td>\n",
       "      <td>1.000000</td>\n",
       "    </tr>\n",
       "  </tbody>\n",
       "</table>\n",
       "</div>"
      ],
      "text/plain": [
       "          RPT       VAL       ROS       KIL       SHA       BIR       DUB  \\\n",
       "RPT  1.000000  0.841619  0.725753  0.865739  0.831096  0.813221  0.735601   \n",
       "VAL  0.841619  1.000000  0.598148  0.774825  0.856721  0.810534  0.667054   \n",
       "ROS  0.725753  0.598148  1.000000  0.744216  0.588426  0.652043  0.662713   \n",
       "KIL  0.865739  0.774825  0.744216  1.000000  0.860541  0.870738  0.814945   \n",
       "SHA  0.831096  0.856721  0.588426  0.860541  1.000000  0.904630  0.789338   \n",
       "BIR  0.813221  0.810534  0.652043  0.870738  0.904630  1.000000  0.829199   \n",
       "DUB  0.735601  0.667054  0.662713  0.814945  0.789338  0.829199  1.000000   \n",
       "CLA  0.761931  0.801009  0.606203  0.816507  0.873119  0.888144  0.794050   \n",
       "MUL  0.780645  0.740417  0.620062  0.846690  0.853377  0.895020  0.880284   \n",
       "CLO  0.752974  0.722511  0.607656  0.843327  0.819773  0.874084  0.842098   \n",
       "BEL  0.650026  0.749893  0.470553  0.696359  0.769520  0.783871  0.699673   \n",
       "\n",
       "          CLA       MUL       CLO       BEL  \n",
       "RPT  0.761931  0.780645  0.752974  0.650026  \n",
       "VAL  0.801009  0.740417  0.722511  0.749893  \n",
       "ROS  0.606203  0.620062  0.607656  0.470553  \n",
       "KIL  0.816507  0.846690  0.843327  0.696359  \n",
       "SHA  0.873119  0.853377  0.819773  0.769520  \n",
       "BIR  0.888144  0.895020  0.874084  0.783871  \n",
       "DUB  0.794050  0.880284  0.842098  0.699673  \n",
       "CLA  1.000000  0.865558  0.879012  0.863770  \n",
       "MUL  0.865558  1.000000  0.877317  0.772057  \n",
       "CLO  0.879012  0.877317  1.000000  0.810151  \n",
       "BEL  0.863770  0.772057  0.810151  1.000000  "
      ]
     },
     "execution_count": 7,
     "metadata": {},
     "output_type": "execute_result"
    }
   ],
   "source": [
    "X.corr()"
   ]
  },
  {
   "cell_type": "code",
   "execution_count": 8,
   "metadata": {},
   "outputs": [
    {
     "data": {
      "text/plain": [
       "<Axes: >"
      ]
     },
     "execution_count": 8,
     "metadata": {},
     "output_type": "execute_result"
    },
    {
     "data": {
      "image/png": "[encoded data removed]",
      "text/plain": [
       "<Figure size 640x480 with 2 Axes>"
      ]
     },
     "metadata": {},
     "output_type": "display_data"
    }
   ],
   "source": [
    "sns.heatmap(X.corr())"
   ]
  },
  {
   "cell_type": "markdown",
   "metadata": {},
   "source": [
    "## Japanese Vowels"
   ]
  },
  {
   "cell_type": "code",
   "execution_count": 9,
   "metadata": {},
   "outputs": [],
   "source": [
    "def japanese_vowels() -> tuple:\n",
    "    data = arff.loadarff('./data/JapaneseVowels/kdd_JapaneseVowels.arff')\n",
    "    vowels_df = pd.DataFrame(data[0])\n",
    "    vowels_df.replace({'binaryClass': {b'P': 1, b'N': 1}}, inplace=True)\n",
    "    \n",
    "    X = vowels_df[vowels_df.columns.drop('binaryClass')]\n",
    "    y = vowels_df['binaryClass']\n",
    "    \n",
    "    return X, y   "
   ]
  },
  {
   "cell_type": "code",
   "execution_count": 10,
   "metadata": {},
   "outputs": [
    {
     "name": "stderr",
     "output_type": "stream",
     "text": [
      "/tmp/ipykernel_1154/2789247490.py:4: FutureWarning: Downcasting behavior in `replace` is deprecated and will be removed in a future version. To retain the old behavior, explicitly call `result.infer_objects(copy=False)`. To opt-in to the future behavior, set `pd.set_option('future.no_silent_downcasting', True)`\n",
      "  vowels_df.replace({'binaryClass': {b'P': 1, b'N': 1}}, inplace=True)\n"
     ]
    }
   ],
   "source": [
    "X, y = japanese_vowels()"
   ]
  },
  {
   "cell_type": "code",
   "execution_count": 11,
   "metadata": {},
   "outputs": [
    {
     "data": {
      "text/plain": [
       "<Axes: >"
      ]
     },
     "execution_count": 11,
     "metadata": {},
     "output_type": "execute_result"
    },
    {
     "data": {
      "image/png": "[encoded data removed]",
      "text/plain": [
       "<Figure size 640x480 with 2 Axes>"
      ]
     },
     "metadata": {},
     "output_type": "display_data"
    }
   ],
   "source": [
    "sns.heatmap(X.corr())"
   ]
  },
  {
   "cell_type": "code",
   "execution_count": null,
   "metadata": {},
   "outputs": [],
   "source": []
  },
  {
   "cell_type": "code",
   "execution_count": 13,
   "metadata": {},
   "outputs": [],
   "source": [
    "def female_bladder() -> tuple:\n",
    "    data = arff.loadarff('./data/arsenic-female-bladder/arsenic-female-bladder.arff')\n",
    "    bladder_df = pd.DataFrame(data[0])\n",
    "    bladder_df.drop(columns=['group'], inplace=True)\n",
    "    bladder_df.replace({'binaryClass': {b'P': 1, b'N': 1}}, inplace=True)\n",
    "    \n",
    "    X = bladder_df[bladder_df.columns.drop('binaryClass')]\n",
    "    y = bladder_df['binaryClass']\n",
    "    \n",
    "    return X, y  "
   ]
  },
  {
   "cell_type": "code",
   "execution_count": 14,
   "metadata": {},
   "outputs": [
    {
     "name": "stderr",
     "output_type": "stream",
     "text": [
      "/tmp/ipykernel_1154/2816651062.py:5: FutureWarning: Downcasting behavior in `replace` is deprecated and will be removed in a future version. To retain the old behavior, explicitly call `result.infer_objects(copy=False)`. To opt-in to the future behavior, set `pd.set_option('future.no_silent_downcasting', True)`\n",
      "  bladder_df.replace({'binaryClass': {b'P': 1, b'N': 1}}, inplace=True)\n"
     ]
    }
   ],
   "source": [
    "X, y = female_bladder()"
   ]
  },
  {
   "cell_type": "code",
   "execution_count": 15,
   "metadata": {},
   "outputs": [
    {
     "data": {
      "text/plain": [
       "<Axes: >"
      ]
     },
     "execution_count": 15,
     "metadata": {},
     "output_type": "execute_result"
    },
    {
     "data": {
      "image/png": "[encoded data removed]",
      "text/plain": [
       "<Figure size 640x480 with 2 Axes>"
      ]
     },
     "metadata": {},
     "output_type": "display_data"
    }
   ],
   "source": [
    "sns.heatmap(X.corr())"
   ]
  },
  {
   "cell_type": "code",
   "execution_count": 16,
   "metadata": {},
   "outputs": [
    {
     "data": {
      "text/html": [
       "<div>\n",
       "<style scoped>\n",
       "    .dataframe tbody tr th:only-of-type {\n",
       "        vertical-align: middle;\n",
       "    }\n",
       "\n",
       "    .dataframe tbody tr th {\n",
       "        vertical-align: top;\n",
       "    }\n",
       "\n",
       "    .dataframe thead th {\n",
       "        text-align: right;\n",
       "    }\n",
       "</style>\n",
       "<table border=\"1\" class=\"dataframe\">\n",
       "  <thead>\n",
       "    <tr style=\"text-align: right;\">\n",
       "      <th></th>\n",
       "      <th>conc</th>\n",
       "      <th>age</th>\n",
       "      <th>at.risk</th>\n",
       "    </tr>\n",
       "  </thead>\n",
       "  <tbody>\n",
       "    <tr>\n",
       "      <th>conc</th>\n",
       "      <td>1.000000e+00</td>\n",
       "      <td>2.278712e-17</td>\n",
       "      <td>-0.153239</td>\n",
       "    </tr>\n",
       "    <tr>\n",
       "      <th>age</th>\n",
       "      <td>2.278712e-17</td>\n",
       "      <td>1.000000e+00</td>\n",
       "      <td>-0.083540</td>\n",
       "    </tr>\n",
       "    <tr>\n",
       "      <th>at.risk</th>\n",
       "      <td>-1.532386e-01</td>\n",
       "      <td>-8.353976e-02</td>\n",
       "      <td>1.000000</td>\n",
       "    </tr>\n",
       "  </tbody>\n",
       "</table>\n",
       "</div>"
      ],
      "text/plain": [
       "                 conc           age   at.risk\n",
       "conc     1.000000e+00  2.278712e-17 -0.153239\n",
       "age      2.278712e-17  1.000000e+00 -0.083540\n",
       "at.risk -1.532386e-01 -8.353976e-02  1.000000"
      ]
     },
     "execution_count": 16,
     "metadata": {},
     "output_type": "execute_result"
    }
   ],
   "source": [
    "X.corr()"
   ]
  }
 ],
 "metadata": {
  "kernelspec": {
   "display_name": "mini",
   "language": "python",
   "name": "python3"
  },
  "language_info": {
   "codemirror_mode": {
    "name": "ipython",
    "version": 3
   },
   "file_extension": ".py",
   "mimetype": "text/x-python",
   "name": "python",
   "nbconvert_exporter": "python",
   "pygments_lexer": "ipython3",
   "version": "3.12.2"
  }
 },
 "nbformat": 4,
 "nbformat_minor": 2
}
