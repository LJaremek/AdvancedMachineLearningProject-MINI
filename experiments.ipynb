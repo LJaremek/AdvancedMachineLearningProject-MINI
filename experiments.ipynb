{
 "cells": [
  {
   "cell_type": "code",
   "execution_count": 38,
   "metadata": {},
   "outputs": [],
   "source": [
    "import pandas as pd\n",
    "import numpy as np\n",
    "from sklearn.preprocessing import StandardScaler\n",
    "from sklearn.model_selection import train_test_split\n",
    "from sklearn.metrics import balanced_accuracy_score\n",
    "from tqdm import tqdm\n",
    "from statistics import mean\n",
    "\n",
    "from data_readers import (\n",
    "    female_bladder,\n",
    "    japanese_vowels,\n",
    "    wind,\n",
    "    water_quality,\n",
    "    ionosphere,\n",
    ")\n",
    "\n",
    "from classes import (\n",
    "    ADAMLogisticRegression,\n",
    "    IWLSLogisticRegression,\n",
    "    SGDLogisticRegression,\n",
    ")\n",
    "\n",
    "import warnings\n",
    "warnings.filterwarnings(\"ignore\", category=UserWarning)\n",
    "\n",
    "pd.set_option('future.no_silent_downcasting', True)"
   ]
  },
  {
   "cell_type": "code",
   "execution_count": 39,
   "metadata": {},
   "outputs": [],
   "source": [
    "models = {\n",
    "    \"ADAM Logistic Regression\": ADAMLogisticRegression(\n",
    "        learning_rate=0.001,\n",
    "        iterations=500,\n",
    "        beta1=0.9,\n",
    "        beta2=0.999,\n",
    "        epsilon=1e-8,\n",
    "        include_interactions=False,\n",
    "    ),\n",
    "    \"SGD Logistic Regression\": SGDLogisticRegression(\n",
    "        learning_rate=0.01, iterations=500, include_interactions=False\n",
    "    ),\n",
    "    \"IWLS Logistic Regression\": IWLSLogisticRegression(\n",
    "        iterations=500, include_interactions=False\n",
    "    ),\n",
    "}"
   ]
  },
  {
   "cell_type": "code",
   "execution_count": 53,
   "metadata": {},
   "outputs": [],
   "source": [
    "datasets = {\n",
    "    \"Female Bladder\": female_bladder(),\n",
    "    \"Water Quality\": water_quality()\n",
    "    # \"Ionosphere\": ionosphere()\n",
    "    # \"Heart Attack\": heart_attack(),\n",
    "    # \"Japanese Vowels\": japanese_vowels(),\n",
    "    # \"Wind\": wind(),\n",
    "}"
   ]
  },
  {
   "cell_type": "code",
   "execution_count": 54,
   "metadata": {},
   "outputs": [
    {
     "name": "stdout",
     "output_type": "stream",
     "text": [
      "***Female Bladder***\n",
      "\n",
      "\tADAM Logistic Regression\n"
     ]
    },
    {
     "name": "stderr",
     "output_type": "stream",
     "text": [
      "100%|██████████| 5/5 [00:00<00:00, 23.33it/s]\n"
     ]
    },
    {
     "name": "stdout",
     "output_type": "stream",
     "text": [
      "Balanced accuracy: 100.0%\n",
      "\n",
      "\n",
      "\tSGD Logistic Regression\n"
     ]
    },
    {
     "name": "stderr",
     "output_type": "stream",
     "text": [
      "100%|██████████| 5/5 [00:09<00:00,  1.84s/it]\n"
     ]
    },
    {
     "name": "stdout",
     "output_type": "stream",
     "text": [
      "Balanced accuracy: 100.0%\n",
      "\n",
      "\n",
      "\tIWLS Logistic Regression\n"
     ]
    },
    {
     "name": "stderr",
     "output_type": "stream",
     "text": [
      "100%|██████████| 5/5 [00:00<00:00, 27.44it/s]\n"
     ]
    },
    {
     "name": "stdout",
     "output_type": "stream",
     "text": [
      "Optimization converged after 18 iterations.\n",
      "Optimization converged after 18 iterations.\n",
      "Optimization converged after 18 iterations.\n",
      "Optimization converged after 18 iterations.\n",
      "Optimization converged after 18 iterations.\n",
      "Balanced accuracy: 100.0%\n",
      "\n",
      "\n",
      "{'Female Bladder': {'ADAM Logistic Regression': [1.0, 1.0, 1.0, 1.0, 1.0], 'SGD Logistic Regression': [1.0, 1.0, 1.0, 1.0, 1.0], 'IWLS Logistic Regression': [1.0, 1.0, 1.0, 1.0, 1.0]}}\n",
      "***Water Quality***\n",
      "\n",
      "\tADAM Logistic Regression\n"
     ]
    },
    {
     "name": "stderr",
     "output_type": "stream",
     "text": [
      "  0%|          | 0/5 [00:00<?, ?it/s]"
     ]
    },
    {
     "name": "stdout",
     "output_type": "stream",
     "text": [
      "Optimization converged after 3 iterations.\n"
     ]
    },
    {
     "name": "stderr",
     "output_type": "stream",
     "text": [
      "100%|██████████| 5/5 [00:00<00:00, 33.33it/s]\n"
     ]
    },
    {
     "name": "stdout",
     "output_type": "stream",
     "text": [
      "Optimization converged after 3 iterations.\n",
      "Optimization converged after 3 iterations.\n",
      "Optimization converged after 3 iterations.\n",
      "Optimization converged after 3 iterations.\n",
      "Balanced accuracy: 50.0%\n",
      "\n",
      "\n",
      "\tSGD Logistic Regression\n"
     ]
    },
    {
     "name": "stderr",
     "output_type": "stream",
     "text": [
      " 20%|██        | 1/5 [00:00<00:03,  1.21it/s]"
     ]
    },
    {
     "name": "stdout",
     "output_type": "stream",
     "text": [
      "Optimization converged after 2 iterations.\n"
     ]
    },
    {
     "name": "stderr",
     "output_type": "stream",
     "text": [
      " 40%|████      | 2/5 [00:01<00:02,  1.14it/s]"
     ]
    },
    {
     "name": "stdout",
     "output_type": "stream",
     "text": [
      "Optimization converged after 2 iterations.\n"
     ]
    },
    {
     "name": "stderr",
     "output_type": "stream",
     "text": [
      " 60%|██████    | 3/5 [00:02<00:01,  1.12it/s]"
     ]
    },
    {
     "name": "stdout",
     "output_type": "stream",
     "text": [
      "Optimization converged after 2 iterations.\n"
     ]
    },
    {
     "name": "stderr",
     "output_type": "stream",
     "text": [
      " 80%|████████  | 4/5 [00:03<00:00,  1.10it/s]"
     ]
    },
    {
     "name": "stdout",
     "output_type": "stream",
     "text": [
      "Optimization converged after 2 iterations.\n"
     ]
    },
    {
     "name": "stderr",
     "output_type": "stream",
     "text": [
      "100%|██████████| 5/5 [00:04<00:00,  1.11it/s]\n"
     ]
    },
    {
     "name": "stdout",
     "output_type": "stream",
     "text": [
      "Optimization converged after 2 iterations.\n",
      "Balanced accuracy: 50.0%\n",
      "\n",
      "\n",
      "\tIWLS Logistic Regression\n"
     ]
    },
    {
     "name": "stderr",
     "output_type": "stream",
     "text": [
      " 20%|██        | 1/5 [00:00<00:00,  5.85it/s]"
     ]
    },
    {
     "name": "stdout",
     "output_type": "stream",
     "text": [
      "Optimization converged after 3 iterations.\n"
     ]
    },
    {
     "name": "stderr",
     "output_type": "stream",
     "text": [
      " 40%|████      | 2/5 [00:00<00:00,  6.16it/s]"
     ]
    },
    {
     "name": "stdout",
     "output_type": "stream",
     "text": [
      "Optimization converged after 3 iterations.\n"
     ]
    },
    {
     "name": "stderr",
     "output_type": "stream",
     "text": [
      " 60%|██████    | 3/5 [00:00<00:00,  6.19it/s]"
     ]
    },
    {
     "name": "stdout",
     "output_type": "stream",
     "text": [
      "Optimization converged after 3 iterations.\n"
     ]
    },
    {
     "name": "stderr",
     "output_type": "stream",
     "text": [
      " 80%|████████  | 4/5 [00:00<00:00,  5.77it/s]"
     ]
    },
    {
     "name": "stdout",
     "output_type": "stream",
     "text": [
      "Optimization converged after 3 iterations.\n"
     ]
    },
    {
     "name": "stderr",
     "output_type": "stream",
     "text": [
      "100%|██████████| 5/5 [00:00<00:00,  5.39it/s]\n"
     ]
    },
    {
     "name": "stdout",
     "output_type": "stream",
     "text": [
      "Optimization converged after 3 iterations.\n",
      "Balanced accuracy: 50.0%\n",
      "\n",
      "\n",
      "{'Female Bladder': {'ADAM Logistic Regression': [1.0, 1.0, 1.0, 1.0, 1.0], 'SGD Logistic Regression': [1.0, 1.0, 1.0, 1.0, 1.0], 'IWLS Logistic Regression': [1.0, 1.0, 1.0, 1.0, 1.0]}, 'Water Quality': {'ADAM Logistic Regression': [0.5, 0.5, 0.5, 0.5, 0.5], 'SGD Logistic Regression': [0.5, 0.5, 0.5, 0.5, 0.5], 'IWLS Logistic Regression': [0.5, 0.5, 0.5, 0.5, 0.5]}}\n",
      "***Ionosphere***\n",
      "\n",
      "\tADAM Logistic Regression\n"
     ]
    },
    {
     "name": "stderr",
     "output_type": "stream",
     "text": [
      "  0%|          | 0/5 [00:00<?, ?it/s]\n"
     ]
    },
    {
     "ename": "TypeError",
     "evalue": "loop of ufunc does not support argument 0 of type float which has no callable sqrt method",
     "output_type": "error",
     "traceback": [
      "\u001b[0;31m---------------------------------------------------------------------------\u001b[0m",
      "\u001b[0;31mAttributeError\u001b[0m                            Traceback (most recent call last)",
      "\u001b[0;31mAttributeError\u001b[0m: 'float' object has no attribute 'sqrt'",
      "\nThe above exception was the direct cause of the following exception:\n",
      "\u001b[0;31mTypeError\u001b[0m                                 Traceback (most recent call last)",
      "Cell \u001b[0;32mIn[54], line 23\u001b[0m\n\u001b[1;32m     20\u001b[0m X_train_scaled \u001b[38;5;241m=\u001b[39m scaler\u001b[38;5;241m.\u001b[39mfit_transform(X_train)\n\u001b[1;32m     21\u001b[0m X_test_scaled \u001b[38;5;241m=\u001b[39m scaler\u001b[38;5;241m.\u001b[39mtransform(X_test)\n\u001b[0;32m---> 23\u001b[0m \u001b[43mmodel\u001b[49m\u001b[38;5;241;43m.\u001b[39;49m\u001b[43mfit\u001b[49m\u001b[43m(\u001b[49m\u001b[43mX_train_scaled\u001b[49m\u001b[43m,\u001b[49m\u001b[43m \u001b[49m\u001b[43my_train\u001b[49m\u001b[43m)\u001b[49m\n\u001b[1;32m     24\u001b[0m predictions \u001b[38;5;241m=\u001b[39m model\u001b[38;5;241m.\u001b[39mpredict(X_test_scaled)\n\u001b[1;32m     26\u001b[0m accuracy \u001b[38;5;241m=\u001b[39m balanced_accuracy_score(y_test, predictions)\n",
      "File \u001b[0;32m~/mgr/AdvancedMachineLearningProject-MINI/classes.py:209\u001b[0m, in \u001b[0;36mADAMLogisticRegression.fit\u001b[0;34m(self, X, y)\u001b[0m\n\u001b[1;32m    206\u001b[0m m_hat \u001b[38;5;241m=\u001b[39m m \u001b[38;5;241m/\u001b[39m (\u001b[38;5;241m1\u001b[39m \u001b[38;5;241m-\u001b[39m \u001b[38;5;28mself\u001b[39m\u001b[38;5;241m.\u001b[39mbeta1\u001b[38;5;241m*\u001b[39m\u001b[38;5;241m*\u001b[39mt)\n\u001b[1;32m    207\u001b[0m v_hat \u001b[38;5;241m=\u001b[39m v \u001b[38;5;241m/\u001b[39m (\u001b[38;5;241m1\u001b[39m \u001b[38;5;241m-\u001b[39m \u001b[38;5;28mself\u001b[39m\u001b[38;5;241m.\u001b[39mbeta2\u001b[38;5;241m*\u001b[39m\u001b[38;5;241m*\u001b[39mt)\n\u001b[0;32m--> 209\u001b[0m \u001b[38;5;28mself\u001b[39m\u001b[38;5;241m.\u001b[39mweights \u001b[38;5;241m-\u001b[39m\u001b[38;5;241m=\u001b[39m \u001b[38;5;28mself\u001b[39m\u001b[38;5;241m.\u001b[39mlearning_rate \u001b[38;5;241m*\u001b[39m m_hat \u001b[38;5;241m/\u001b[39m (\u001b[43mnp\u001b[49m\u001b[38;5;241;43m.\u001b[39;49m\u001b[43msqrt\u001b[49m\u001b[43m(\u001b[49m\u001b[43mv_hat\u001b[49m\u001b[43m)\u001b[49m \u001b[38;5;241m+\u001b[39m \u001b[38;5;28mself\u001b[39m\u001b[38;5;241m.\u001b[39mepsilon)\n",
      "\u001b[0;31mTypeError\u001b[0m: loop of ufunc does not support argument 0 of type float which has no callable sqrt method"
     ]
    }
   ],
   "source": [
    "n_runs = 5  # at least 5\n",
    "\n",
    "scaler = StandardScaler()\n",
    "dataset_performances = dict()\n",
    "all_performances = []\n",
    "\n",
    "\n",
    "for dataset_name, data in datasets.items():\n",
    "    print(f'***{dataset_name}***\\n')\n",
    "    X, y = data\n",
    "    models_performances = dict()\n",
    "    for name, model in models.items():\n",
    "        print(f'\\t{name}')\n",
    "        models_performances[name] = []\n",
    "        for _ in tqdm(range(n_runs)):\n",
    "            X_train, X_test, y_train, y_test = train_test_split(\n",
    "                X, y, test_size=0.2\n",
    "             )\n",
    "            \n",
    "            X_train_scaled = scaler.fit_transform(X_train)\n",
    "            X_test_scaled = scaler.transform(X_test)\n",
    "\n",
    "            model.fit(X_train_scaled, y_train)\n",
    "            predictions = model.predict(X_test_scaled)\n",
    "\n",
    "            accuracy = balanced_accuracy_score(y_test, predictions)\n",
    "            models_performances[name].append(accuracy)\n",
    "        \n",
    "        \n",
    "        print(f'Balanced accuracy: {round(mean(models_performances[name])*100, 2)}%\\n\\n')\n",
    "    dataset_performances[dataset_name] = models_performances\n",
    "    print(dataset_performances)"
   ]
  },
  {
   "cell_type": "code",
   "execution_count": 50,
   "metadata": {},
   "outputs": [
    {
     "name": "stdout",
     "output_type": "stream",
     "text": [
      "{'Female Bladder': {'ADAM Logistic Regression': [1.0, 1.0, 1.0, 1.0, 1.0], 'SGD Logistic Regression': [1.0, 1.0, 1.0, 1.0, 1.0], 'IWLS Logistic Regression': [1.0, 1.0, 1.0, 1.0, 1.0]}, 'Water Quality': {'ADAM Logistic Regression': [0.5, 0.5, 0.5, 0.5, 0.5], 'SGD Logistic Regression': [0.5, 0.5, 0.5, 0.5, 0.5], 'IWLS Logistic Regression': [0.5, 0.5, 0.5, 0.5, 0.5]}}\n"
     ]
    }
   ],
   "source": [
    "print(dataset_performances)"
   ]
  },
  {
   "cell_type": "code",
   "execution_count": null,
   "metadata": {},
   "outputs": [],
   "source": []
  },
  {
   "cell_type": "code",
   "execution_count": null,
   "metadata": {},
   "outputs": [],
   "source": []
  }
 ],
 "metadata": {
  "kernelspec": {
   "display_name": "mini",
   "language": "python",
   "name": "python3"
  },
  "language_info": {
   "codemirror_mode": {
    "name": "ipython",
    "version": 3
   },
   "file_extension": ".py",
   "mimetype": "text/x-python",
   "name": "python",
   "nbconvert_exporter": "python",
   "pygments_lexer": "ipython3",
   "version": "3.12.2"
  }
 },
 "nbformat": 4,
 "nbformat_minor": 2
}
