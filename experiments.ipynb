{
 "cells": [
  {
   "cell_type": "code",
   "execution_count": 1,
   "metadata": {},
   "outputs": [],
   "source": [
    "import pandas as pd\n",
    "import numpy as np\n",
    "from sklearn.preprocessing import StandardScaler\n",
    "from sklearn.model_selection import train_test_split\n",
    "from sklearn.metrics import balanced_accuracy_score\n",
    "from tqdm import tqdm\n",
    "from statistics import mean\n",
    "\n",
    "from data_readers import (\n",
    "    female_bladder,\n",
    "    japanese_vowels,\n",
    "    wind,\n",
    "    water_quality,\n",
    "    ionosphere,\n",
    "    heart_attack,\n",
    "    banana_quality,\n",
    "    climate\n",
    ")\n",
    "\n",
    "from classes import (\n",
    "    ADAMLogisticRegression,\n",
    "    IWLSLogisticRegression,\n",
    "    SGDLogisticRegression,\n",
    ")\n",
    "\n",
    "import warnings\n",
    "warnings.filterwarnings(\"ignore\", category=UserWarning)\n",
    "\n",
    "pd.set_option('future.no_silent_downcasting', True)"
   ]
  },
  {
   "cell_type": "code",
   "execution_count": 4,
   "metadata": {},
   "outputs": [],
   "source": [
    "models = {\n",
    "    \"ADAM Logistic Regression\": ADAMLogisticRegression(\n",
    "        learning_rate=0.001,\n",
    "        iterations=500,\n",
    "        beta1=0.9,\n",
    "        beta2=0.999,\n",
    "        epsilon=1e-8,\n",
    "        include_interactions=False,\n",
    "    ),\n",
    "    \"SGD Logistic Regression\": SGDLogisticRegression(\n",
    "        learning_rate=0.01, iterations=500, include_interactions=False\n",
    "    ),\n",
    "    \"IWLS Logistic Regression\": IWLSLogisticRegression(\n",
    "        iterations=500, include_interactions=False\n",
    "    ),\n",
    "}"
   ]
  },
  {
   "cell_type": "code",
   "execution_count": 5,
   "metadata": {},
   "outputs": [],
   "source": [
    "datasets = {\n",
    "    # \"Female bladder\": female_bladder(),\n",
    "    # \"Water Quality\": water_quality(),\n",
    "    # \"Ionosphere\": ionosphere(),\n",
    "    # \"Heart Attack\": heart_attack(),\n",
    "    # \"Japanese Vowels\": japanese_vowels(),\n",
    "    # \"Wind\": wind(),\n",
    "    # \"Banana quality\": banana_quality(),\n",
    "    \"Climate\": climate()\n",
    "}\n",
    "\n"
   ]
  },
  {
   "cell_type": "code",
   "execution_count": 6,
   "metadata": {},
   "outputs": [
    {
     "name": "stdout",
     "output_type": "stream",
     "text": [
      "***climate***\n",
      "\n",
      "\tADAM Logistic Regression\n"
     ]
    },
    {
     "name": "stderr",
     "output_type": "stream",
     "text": [
      "100%|██████████| 5/5 [00:00<00:00, 23.99it/s]\n"
     ]
    },
    {
     "name": "stdout",
     "output_type": "stream",
     "text": [
      "Balanced accuracy: 76.79%\n",
      "\n",
      "\n",
      "\tSGD Logistic Regression\n"
     ]
    },
    {
     "name": "stderr",
     "output_type": "stream",
     "text": [
      " 20%|██        | 1/5 [00:00<00:02,  1.88it/s]"
     ]
    },
    {
     "name": "stdout",
     "output_type": "stream",
     "text": [
      "Optimization converged after 144 iterations.\n"
     ]
    },
    {
     "name": "stderr",
     "output_type": "stream",
     "text": [
      " 40%|████      | 2/5 [00:00<00:01,  2.32it/s]"
     ]
    },
    {
     "name": "stdout",
     "output_type": "stream",
     "text": [
      "Optimization converged after 106 iterations.\n"
     ]
    },
    {
     "name": "stderr",
     "output_type": "stream",
     "text": [
      " 60%|██████    | 3/5 [00:01<00:01,  1.68it/s]"
     ]
    },
    {
     "name": "stdout",
     "output_type": "stream",
     "text": [
      "Optimization converged after 211 iterations.\n"
     ]
    },
    {
     "name": "stderr",
     "output_type": "stream",
     "text": [
      " 80%|████████  | 4/5 [00:02<00:00,  1.58it/s]"
     ]
    },
    {
     "name": "stdout",
     "output_type": "stream",
     "text": [
      "Optimization converged after 132 iterations.\n"
     ]
    },
    {
     "name": "stderr",
     "output_type": "stream",
     "text": [
      "100%|██████████| 5/5 [00:02<00:00,  1.70it/s]\n"
     ]
    },
    {
     "name": "stdout",
     "output_type": "stream",
     "text": [
      "Optimization converged after 156 iterations.\n",
      "Balanced accuracy: 67.79%\n",
      "\n",
      "\n",
      "\tIWLS Logistic Regression\n"
     ]
    },
    {
     "name": "stderr",
     "output_type": "stream",
     "text": [
      " 40%|████      | 2/5 [00:00<00:00, 10.33it/s]"
     ]
    },
    {
     "name": "stdout",
     "output_type": "stream",
     "text": [
      "Optimization converged after 8 iterations.\n",
      "Optimization converged after 8 iterations.\n"
     ]
    },
    {
     "name": "stderr",
     "output_type": "stream",
     "text": [
      "100%|██████████| 5/5 [00:00<00:00, 12.53it/s]"
     ]
    },
    {
     "name": "stdout",
     "output_type": "stream",
     "text": [
      "Optimization converged after 8 iterations.\n",
      "Optimization converged after 8 iterations.\n",
      "Optimization converged after 8 iterations.\n",
      "Balanced accuracy: 64.33%\n",
      "\n",
      "\n",
      "{'climate': {'ADAM Logistic Regression': [0.7466019417475729, 0.835, 0.81, 0.7005623242736645, 0.7475], 'SGD Logistic Regression': [0.73, 0.8285714285714285, 0.5404040404040404, 0.75, 0.5404040404040404], 'IWLS Logistic Regression': [0.7352941176470589, 0.6329561527581329, 0.5588235294117647, 0.61, 0.6795918367346938]}}\n"
     ]
    },
    {
     "name": "stderr",
     "output_type": "stream",
     "text": [
      "\n"
     ]
    }
   ],
   "source": [
    "n_runs = 5  # at least 5\n",
    "\n",
    "scaler = StandardScaler()\n",
    "dataset_performances = dict()\n",
    "all_performances = []\n",
    "\n",
    "\n",
    "for dataset_name, data in datasets.items():\n",
    "    print(f'***{dataset_name}***\\n')\n",
    "    X, y = data\n",
    "    models_performances = dict()\n",
    "    for name, model in models.items():\n",
    "        print(f'\\t{name}')\n",
    "        models_performances[name] = []\n",
    "        for _ in tqdm(range(n_runs)):\n",
    "            X_train, X_test, y_train, y_test = train_test_split(\n",
    "                X, y, test_size=0.2\n",
    "             )\n",
    "            \n",
    "            X_train_scaled = scaler.fit_transform(X_train)\n",
    "            X_test_scaled = scaler.transform(X_test)\n",
    "\n",
    "            model.fit(X_train_scaled, y_train)\n",
    "            predictions = model.predict(X_test_scaled)\n",
    "\n",
    "            accuracy = balanced_accuracy_score(y_test, predictions)\n",
    "            models_performances[name].append(accuracy)\n",
    "        \n",
    "        \n",
    "        print(f'Balanced accuracy: {round(mean(models_performances[name])*100, 2)}%\\n\\n')\n",
    "    dataset_performances[dataset_name] = models_performances\n",
    "    print(dataset_performances)"
   ]
  },
  {
   "cell_type": "code",
   "execution_count": 12,
   "metadata": {},
   "outputs": [
    {
     "name": "stdout",
     "output_type": "stream",
     "text": [
      "{'Female bladder': {'ADAM Logistic Regression': [1.0, 1.0, 1.0, 1.0, 1.0],\n",
      "                    'IWLS Logistic Regression': [1.0, 1.0, 1.0, 1.0, 1.0],\n",
      "                    'SGD Logistic Regression': [1.0, 1.0, 1.0, 1.0, 1.0]},\n",
      " 'Heart Attack': {'ADAM Logistic Regression': [0.853763440860215,\n",
      "                                               0.8865591397849462,\n",
      "                                               0.8389008620689655,\n",
      "                                               0.8844086021505376,\n",
      "                                               0.849676724137931],\n",
      "                  'IWLS Logistic Regression': [0.8116883116883117,\n",
      "                                               0.7968409586056644,\n",
      "                                               0.8244444444444444,\n",
      "                                               0.8032258064516129,\n",
      "                                               0.8766666666666667],\n",
      "                  'SGD Logistic Regression': [0.8818082788671024,\n",
      "                                              0.7950549450549451,\n",
      "                                              0.8274725274725274,\n",
      "                                              0.7934065934065935,\n",
      "                                              0.7826797385620915]},\n",
      " 'Ionosphere': {'ADAM Logistic Regression': [0.681060606060606,\n",
      "                                             0.7728174603174602,\n",
      "                                             0.753584229390681,\n",
      "                                             0.7213261648745519,\n",
      "                                             0.8353174603174602],\n",
      "                'IWLS Logistic Regression': [0.5479910714285714,\n",
      "                                             0.7772727272727273,\n",
      "                                             0.6194196428571428,\n",
      "                                             0.6636904761904762,\n",
      "                                             0.6636904761904762],\n",
      "                'SGD Logistic Regression': [0.6557539682539683,\n",
      "                                            0.8600746268656716,\n",
      "                                            0.825268817204301,\n",
      "                                            0.875,\n",
      "                                            0.6344086021505376]},\n",
      " 'Japanese Vowels': {'ADAM Logistic Regression': [1.0, 1.0, 1.0, 1.0, 1.0],\n",
      "                     'IWLS Logistic Regression': [1.0, 1.0, 1.0, 1.0, 1.0],\n",
      "                     'SGD Logistic Regression': [1.0, 1.0, 1.0, 1.0, 1.0]},\n",
      " 'Water Quality': {'ADAM Logistic Regression': [0.522105672105672,\n",
      "                                                0.5333333333333333,\n",
      "                                                0.5246149614961496,\n",
      "                                                0.5176171555451677,\n",
      "                                                0.504375],\n",
      "                   'IWLS Logistic Regression': [0.5067509530473387,\n",
      "                                                0.5184930445228039,\n",
      "                                                0.5096875000000001,\n",
      "                                                0.5049422206852828,\n",
      "                                                0.4995270935960591],\n",
      "                   'SGD Logistic Regression': [0.5049168543633489,\n",
      "                                               0.5359942944272293,\n",
      "                                               0.5041890224657849,\n",
      "                                               0.5073216699722723,\n",
      "                                               0.4934375]},\n",
      " 'Wind': {'ADAM Logistic Regression': [1.0, 1.0, 1.0, 1.0, 1.0],\n",
      "          'IWLS Logistic Regression': [1.0, 1.0, 1.0, 1.0, 1.0],\n",
      "          'SGD Logistic Regression': [1.0, 1.0, 1.0, 1.0, 1.0]}}\n"
     ]
    }
   ],
   "source": [
    "from pprint import pprint\n",
    "\n",
    "pprint(dataset_performances)"
   ]
  },
  {
   "cell_type": "code",
   "execution_count": 14,
   "metadata": {},
   "outputs": [],
   "source": [
    "import json\n",
    "\n",
    "with open('result.jsons', 'w') as fp:\n",
    "    json.dump(dataset_performances, fp, sort_keys=True, indent=4, separators=(',', ': '))"
   ]
  },
  {
   "cell_type": "code",
   "execution_count": null,
   "metadata": {},
   "outputs": [],
   "source": []
  }
 ],
 "metadata": {
  "kernelspec": {
   "display_name": "mini",
   "language": "python",
   "name": "python3"
  },
  "language_info": {
   "codemirror_mode": {
    "name": "ipython",
    "version": 3
   },
   "file_extension": ".py",
   "mimetype": "text/x-python",
   "name": "python",
   "nbconvert_exporter": "python",
   "pygments_lexer": "ipython3",
   "version": "3.12.2"
  }
 },
 "nbformat": 4,
 "nbformat_minor": 2
}
