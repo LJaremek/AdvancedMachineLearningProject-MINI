{
 "cells": [
  {
   "cell_type": "code",
   "execution_count": 5,
   "metadata": {},
   "outputs": [],
   "source": [
    "import pandas as pd\n",
    "import numpy as np\n",
    "from sklearn.preprocessing import StandardScaler\n",
    "from sklearn.model_selection import train_test_split\n",
    "from sklearn.metrics import balanced_accuracy_score\n",
    "from tqdm import tqdm\n",
    "from statistics import mean\n",
    "\n",
    "from data_readers import (\n",
    "    female_bladder,\n",
    "    japanese_vowels,\n",
    "    wind,\n",
    "    water_quality,\n",
    "    ionosphere,\n",
    "    heart_attack\n",
    ")\n",
    "\n",
    "from classes import (\n",
    "    ADAMLogisticRegression,\n",
    "    IWLSLogisticRegression,\n",
    "    SGDLogisticRegression,\n",
    ")\n",
    "\n",
    "import warnings\n",
    "warnings.filterwarnings(\"ignore\", category=UserWarning)\n",
    "\n",
    "pd.set_option('future.no_silent_downcasting', True)"
   ]
  },
  {
   "cell_type": "code",
   "execution_count": 6,
   "metadata": {},
   "outputs": [],
   "source": [
    "models = {\n",
    "    \"ADAM Logistic Regression\": ADAMLogisticRegression(\n",
    "        learning_rate=0.001,\n",
    "        iterations=500,\n",
    "        beta1=0.9,\n",
    "        beta2=0.999,\n",
    "        epsilon=1e-8,\n",
    "        include_interactions=False,\n",
    "    ),\n",
    "    \"SGD Logistic Regression\": SGDLogisticRegression(\n",
    "        learning_rate=0.01, iterations=500, include_interactions=False\n",
    "    ),\n",
    "    \"IWLS Logistic Regression\": IWLSLogisticRegression(\n",
    "        iterations=500, include_interactions=False\n",
    "    ),\n",
    "}"
   ]
  },
  {
   "cell_type": "code",
   "execution_count": 7,
   "metadata": {},
   "outputs": [],
   "source": [
    "datasets = {\n",
    "    \"Female bladder\": female_bladder(),\n",
    "    \"Water Quality\": water_quality(),\n",
    "    \"Ionosphere\": ionosphere(),\n",
    "    \"Heart Attack\": heart_attack(),\n",
    "    \"Japanese Vowels\": japanese_vowels(),\n",
    "    \"Wind\": wind(),\n",
    "}"
   ]
  },
  {
   "cell_type": "code",
   "execution_count": 8,
   "metadata": {},
   "outputs": [
    {
     "name": "stdout",
     "output_type": "stream",
     "text": [
      "***Female bladder***\n",
      "\n",
      "\tADAM Logistic Regression\n"
     ]
    },
    {
     "name": "stderr",
     "output_type": "stream",
     "text": [
      "100%|██████████| 5/5 [00:00<00:00, 24.71it/s]\n"
     ]
    },
    {
     "name": "stdout",
     "output_type": "stream",
     "text": [
      "Balanced accuracy: 100.0%\n",
      "\n",
      "\n",
      "\tSGD Logistic Regression\n"
     ]
    },
    {
     "name": "stderr",
     "output_type": "stream",
     "text": [
      "100%|██████████| 5/5 [00:09<00:00,  1.83s/it]\n"
     ]
    },
    {
     "name": "stdout",
     "output_type": "stream",
     "text": [
      "Balanced accuracy: 100.0%\n",
      "\n",
      "\n",
      "\tIWLS Logistic Regression\n"
     ]
    },
    {
     "name": "stderr",
     "output_type": "stream",
     "text": [
      "100%|██████████| 5/5 [00:00<00:00, 44.05it/s]\n"
     ]
    },
    {
     "name": "stdout",
     "output_type": "stream",
     "text": [
      "Optimization converged after 18 iterations.\n",
      "Optimization converged after 18 iterations.\n",
      "Optimization converged after 18 iterations.\n",
      "Optimization converged after 18 iterations.\n",
      "Optimization converged after 18 iterations.\n",
      "Balanced accuracy: 100.0%\n",
      "\n",
      "\n",
      "{'Female bladder': {'ADAM Logistic Regression': [1.0, 1.0, 1.0, 1.0, 1.0], 'SGD Logistic Regression': [1.0, 1.0, 1.0, 1.0, 1.0], 'IWLS Logistic Regression': [1.0, 1.0, 1.0, 1.0, 1.0]}}\n",
      "***Water Quality***\n",
      "\n",
      "\tADAM Logistic Regression\n"
     ]
    },
    {
     "name": "stderr",
     "output_type": "stream",
     "text": [
      "100%|██████████| 5/5 [00:02<00:00,  2.48it/s]\n"
     ]
    },
    {
     "name": "stdout",
     "output_type": "stream",
     "text": [
      "Balanced accuracy: 52.04%\n",
      "\n",
      "\n",
      "\tSGD Logistic Regression\n"
     ]
    },
    {
     "name": "stderr",
     "output_type": "stream",
     "text": [
      " 20%|██        | 1/5 [00:00<00:01,  3.75it/s]"
     ]
    },
    {
     "name": "stdout",
     "output_type": "stream",
     "text": [
      "Optimization converged after 4 iterations.\n"
     ]
    },
    {
     "name": "stderr",
     "output_type": "stream",
     "text": [
      " 40%|████      | 2/5 [00:00<00:00,  3.83it/s]"
     ]
    },
    {
     "name": "stdout",
     "output_type": "stream",
     "text": [
      "Optimization converged after 4 iterations.\n"
     ]
    },
    {
     "name": "stderr",
     "output_type": "stream",
     "text": [
      " 60%|██████    | 3/5 [00:00<00:00,  3.73it/s]"
     ]
    },
    {
     "name": "stdout",
     "output_type": "stream",
     "text": [
      "Optimization converged after 4 iterations.\n"
     ]
    },
    {
     "name": "stderr",
     "output_type": "stream",
     "text": [
      " 80%|████████  | 4/5 [00:01<00:00,  3.63it/s]"
     ]
    },
    {
     "name": "stdout",
     "output_type": "stream",
     "text": [
      "Optimization converged after 4 iterations.\n"
     ]
    },
    {
     "name": "stderr",
     "output_type": "stream",
     "text": [
      "100%|██████████| 5/5 [00:01<00:00,  3.67it/s]\n"
     ]
    },
    {
     "name": "stdout",
     "output_type": "stream",
     "text": [
      "Optimization converged after 4 iterations.\n",
      "Balanced accuracy: 50.92%\n",
      "\n",
      "\n",
      "\tIWLS Logistic Regression\n"
     ]
    },
    {
     "name": "stderr",
     "output_type": "stream",
     "text": [
      " 20%|██        | 1/5 [00:00<00:00,  6.01it/s]"
     ]
    },
    {
     "name": "stdout",
     "output_type": "stream",
     "text": [
      "Optimization converged after 4 iterations.\n"
     ]
    },
    {
     "name": "stderr",
     "output_type": "stream",
     "text": [
      " 40%|████      | 2/5 [00:00<00:00,  6.17it/s]"
     ]
    },
    {
     "name": "stdout",
     "output_type": "stream",
     "text": [
      "Optimization converged after 4 iterations.\n"
     ]
    },
    {
     "name": "stderr",
     "output_type": "stream",
     "text": [
      " 60%|██████    | 3/5 [00:00<00:00,  5.54it/s]"
     ]
    },
    {
     "name": "stdout",
     "output_type": "stream",
     "text": [
      "Optimization converged after 4 iterations.\n"
     ]
    },
    {
     "name": "stderr",
     "output_type": "stream",
     "text": [
      " 80%|████████  | 4/5 [00:00<00:00,  4.16it/s]"
     ]
    },
    {
     "name": "stdout",
     "output_type": "stream",
     "text": [
      "Optimization converged after 4 iterations.\n"
     ]
    },
    {
     "name": "stderr",
     "output_type": "stream",
     "text": [
      "100%|██████████| 5/5 [00:01<00:00,  4.14it/s]\n"
     ]
    },
    {
     "name": "stdout",
     "output_type": "stream",
     "text": [
      "Optimization converged after 4 iterations.\n",
      "Balanced accuracy: 50.79%\n",
      "\n",
      "\n",
      "{'Female bladder': {'ADAM Logistic Regression': [1.0, 1.0, 1.0, 1.0, 1.0], 'SGD Logistic Regression': [1.0, 1.0, 1.0, 1.0, 1.0], 'IWLS Logistic Regression': [1.0, 1.0, 1.0, 1.0, 1.0]}, 'Water Quality': {'ADAM Logistic Regression': [0.522105672105672, 0.5333333333333333, 0.5246149614961496, 0.5176171555451677, 0.504375], 'SGD Logistic Regression': [0.5049168543633489, 0.5359942944272293, 0.5041890224657849, 0.5073216699722723, 0.4934375], 'IWLS Logistic Regression': [0.5067509530473387, 0.5184930445228039, 0.5096875000000001, 0.5049422206852828, 0.4995270935960591]}}\n",
      "***Ionosphere***\n",
      "\n",
      "\tADAM Logistic Regression\n"
     ]
    },
    {
     "name": "stderr",
     "output_type": "stream",
     "text": [
      "100%|██████████| 5/5 [00:00<00:00, 19.67it/s]\n"
     ]
    },
    {
     "name": "stdout",
     "output_type": "stream",
     "text": [
      "Balanced accuracy: 75.28%\n",
      "\n",
      "\n",
      "\tSGD Logistic Regression\n"
     ]
    },
    {
     "name": "stderr",
     "output_type": "stream",
     "text": [
      "100%|██████████| 5/5 [00:06<00:00,  1.23s/it]\n"
     ]
    },
    {
     "name": "stdout",
     "output_type": "stream",
     "text": [
      "Balanced accuracy: 77.01%\n",
      "\n",
      "\n",
      "\tIWLS Logistic Regression\n"
     ]
    },
    {
     "name": "stderr",
     "output_type": "stream",
     "text": [
      "100%|██████████| 5/5 [00:00<00:00, 41.87it/s]\n"
     ]
    },
    {
     "name": "stdout",
     "output_type": "stream",
     "text": [
      "Optimization converged after 9 iterations.\n",
      "Optimization converged after 9 iterations.\n",
      "Optimization converged after 10 iterations.\n",
      "Optimization converged after 17 iterations.\n",
      "Optimization converged after 9 iterations.\n",
      "Balanced accuracy: 65.44%\n",
      "\n",
      "\n",
      "{'Female bladder': {'ADAM Logistic Regression': [1.0, 1.0, 1.0, 1.0, 1.0], 'SGD Logistic Regression': [1.0, 1.0, 1.0, 1.0, 1.0], 'IWLS Logistic Regression': [1.0, 1.0, 1.0, 1.0, 1.0]}, 'Water Quality': {'ADAM Logistic Regression': [0.522105672105672, 0.5333333333333333, 0.5246149614961496, 0.5176171555451677, 0.504375], 'SGD Logistic Regression': [0.5049168543633489, 0.5359942944272293, 0.5041890224657849, 0.5073216699722723, 0.4934375], 'IWLS Logistic Regression': [0.5067509530473387, 0.5184930445228039, 0.5096875000000001, 0.5049422206852828, 0.4995270935960591]}, 'Ionosphere': {'ADAM Logistic Regression': [0.681060606060606, 0.7728174603174602, 0.753584229390681, 0.7213261648745519, 0.8353174603174602], 'SGD Logistic Regression': [0.6557539682539683, 0.8600746268656716, 0.825268817204301, 0.875, 0.6344086021505376], 'IWLS Logistic Regression': [0.5479910714285714, 0.7772727272727273, 0.6194196428571428, 0.6636904761904762, 0.6636904761904762]}}\n",
      "***Heart Attack***\n",
      "\n",
      "\tADAM Logistic Regression\n"
     ]
    },
    {
     "name": "stderr",
     "output_type": "stream",
     "text": [
      "100%|██████████| 5/5 [00:00<00:00, 24.15it/s]\n"
     ]
    },
    {
     "name": "stdout",
     "output_type": "stream",
     "text": [
      "Balanced accuracy: 86.27%\n",
      "\n",
      "\n",
      "\tSGD Logistic Regression\n"
     ]
    },
    {
     "name": "stderr",
     "output_type": "stream",
     "text": [
      " 20%|██        | 1/5 [00:00<00:00,  6.51it/s]"
     ]
    },
    {
     "name": "stdout",
     "output_type": "stream",
     "text": [
      "Optimization converged after 68 iterations.\n"
     ]
    },
    {
     "name": "stderr",
     "output_type": "stream",
     "text": [
      " 40%|████      | 2/5 [00:00<00:00,  6.23it/s]"
     ]
    },
    {
     "name": "stdout",
     "output_type": "stream",
     "text": [
      "Optimization converged after 67 iterations.\n"
     ]
    },
    {
     "name": "stderr",
     "output_type": "stream",
     "text": [
      " 80%|████████  | 4/5 [00:00<00:00,  5.18it/s]"
     ]
    },
    {
     "name": "stdout",
     "output_type": "stream",
     "text": [
      "Optimization converged after 65 iterations.\n",
      "Optimization converged after 70 iterations.\n"
     ]
    },
    {
     "name": "stderr",
     "output_type": "stream",
     "text": [
      "100%|██████████| 5/5 [00:00<00:00,  5.20it/s]\n"
     ]
    },
    {
     "name": "stdout",
     "output_type": "stream",
     "text": [
      "Optimization converged after 75 iterations.\n",
      "Balanced accuracy: 81.61%\n",
      "\n",
      "\n",
      "\tIWLS Logistic Regression\n"
     ]
    },
    {
     "name": "stderr",
     "output_type": "stream",
     "text": [
      "100%|██████████| 5/5 [00:00<00:00, 46.89it/s]\n"
     ]
    },
    {
     "name": "stdout",
     "output_type": "stream",
     "text": [
      "Optimization converged after 7 iterations.\n",
      "Optimization converged after 7 iterations.\n",
      "Optimization converged after 7 iterations.\n",
      "Optimization converged after 7 iterations.\n",
      "Optimization converged after 7 iterations.\n",
      "Balanced accuracy: 82.26%\n",
      "\n",
      "\n",
      "{'Female bladder': {'ADAM Logistic Regression': [1.0, 1.0, 1.0, 1.0, 1.0], 'SGD Logistic Regression': [1.0, 1.0, 1.0, 1.0, 1.0], 'IWLS Logistic Regression': [1.0, 1.0, 1.0, 1.0, 1.0]}, 'Water Quality': {'ADAM Logistic Regression': [0.522105672105672, 0.5333333333333333, 0.5246149614961496, 0.5176171555451677, 0.504375], 'SGD Logistic Regression': [0.5049168543633489, 0.5359942944272293, 0.5041890224657849, 0.5073216699722723, 0.4934375], 'IWLS Logistic Regression': [0.5067509530473387, 0.5184930445228039, 0.5096875000000001, 0.5049422206852828, 0.4995270935960591]}, 'Ionosphere': {'ADAM Logistic Regression': [0.681060606060606, 0.7728174603174602, 0.753584229390681, 0.7213261648745519, 0.8353174603174602], 'SGD Logistic Regression': [0.6557539682539683, 0.8600746268656716, 0.825268817204301, 0.875, 0.6344086021505376], 'IWLS Logistic Regression': [0.5479910714285714, 0.7772727272727273, 0.6194196428571428, 0.6636904761904762, 0.6636904761904762]}, 'Heart Attack': {'ADAM Logistic Regression': [0.853763440860215, 0.8865591397849462, 0.8389008620689655, 0.8844086021505376, 0.849676724137931], 'SGD Logistic Regression': [0.8818082788671024, 0.7950549450549451, 0.8274725274725274, 0.7934065934065935, 0.7826797385620915], 'IWLS Logistic Regression': [0.8116883116883117, 0.7968409586056644, 0.8244444444444444, 0.8032258064516129, 0.8766666666666667]}}\n",
      "***Japanese Vowels***\n",
      "\n",
      "\tADAM Logistic Regression\n"
     ]
    },
    {
     "name": "stderr",
     "output_type": "stream",
     "text": [
      "100%|██████████| 5/5 [00:03<00:00,  1.42it/s]\n"
     ]
    },
    {
     "name": "stdout",
     "output_type": "stream",
     "text": [
      "Balanced accuracy: 100.0%\n",
      "\n",
      "\n",
      "\tSGD Logistic Regression\n"
     ]
    },
    {
     "name": "stderr",
     "output_type": "stream",
     "text": [
      "100%|██████████| 5/5 [05:28<00:00, 65.67s/it]\n"
     ]
    },
    {
     "name": "stdout",
     "output_type": "stream",
     "text": [
      "Balanced accuracy: 100.0%\n",
      "\n",
      "\n",
      "\tIWLS Logistic Regression\n"
     ]
    },
    {
     "name": "stderr",
     "output_type": "stream",
     "text": [
      " 20%|██        | 1/5 [00:12<00:51, 12.85s/it]"
     ]
    },
    {
     "name": "stdout",
     "output_type": "stream",
     "text": [
      "Optimization converged after 21 iterations.\n"
     ]
    },
    {
     "name": "stderr",
     "output_type": "stream",
     "text": [
      " 40%|████      | 2/5 [00:25<00:39, 13.01s/it]"
     ]
    },
    {
     "name": "stdout",
     "output_type": "stream",
     "text": [
      "Optimization converged after 21 iterations.\n"
     ]
    },
    {
     "name": "stderr",
     "output_type": "stream",
     "text": [
      " 60%|██████    | 3/5 [00:39<00:26, 13.16s/it]"
     ]
    },
    {
     "name": "stdout",
     "output_type": "stream",
     "text": [
      "Optimization converged after 21 iterations.\n"
     ]
    },
    {
     "name": "stderr",
     "output_type": "stream",
     "text": [
      " 80%|████████  | 4/5 [00:51<00:12, 12.78s/it]"
     ]
    },
    {
     "name": "stdout",
     "output_type": "stream",
     "text": [
      "Optimization converged after 21 iterations.\n"
     ]
    },
    {
     "name": "stderr",
     "output_type": "stream",
     "text": [
      "100%|██████████| 5/5 [01:03<00:00, 12.64s/it]\n"
     ]
    },
    {
     "name": "stdout",
     "output_type": "stream",
     "text": [
      "Optimization converged after 21 iterations.\n",
      "Balanced accuracy: 100.0%\n",
      "\n",
      "\n",
      "{'Female bladder': {'ADAM Logistic Regression': [1.0, 1.0, 1.0, 1.0, 1.0], 'SGD Logistic Regression': [1.0, 1.0, 1.0, 1.0, 1.0], 'IWLS Logistic Regression': [1.0, 1.0, 1.0, 1.0, 1.0]}, 'Water Quality': {'ADAM Logistic Regression': [0.522105672105672, 0.5333333333333333, 0.5246149614961496, 0.5176171555451677, 0.504375], 'SGD Logistic Regression': [0.5049168543633489, 0.5359942944272293, 0.5041890224657849, 0.5073216699722723, 0.4934375], 'IWLS Logistic Regression': [0.5067509530473387, 0.5184930445228039, 0.5096875000000001, 0.5049422206852828, 0.4995270935960591]}, 'Ionosphere': {'ADAM Logistic Regression': [0.681060606060606, 0.7728174603174602, 0.753584229390681, 0.7213261648745519, 0.8353174603174602], 'SGD Logistic Regression': [0.6557539682539683, 0.8600746268656716, 0.825268817204301, 0.875, 0.6344086021505376], 'IWLS Logistic Regression': [0.5479910714285714, 0.7772727272727273, 0.6194196428571428, 0.6636904761904762, 0.6636904761904762]}, 'Heart Attack': {'ADAM Logistic Regression': [0.853763440860215, 0.8865591397849462, 0.8389008620689655, 0.8844086021505376, 0.849676724137931], 'SGD Logistic Regression': [0.8818082788671024, 0.7950549450549451, 0.8274725274725274, 0.7934065934065935, 0.7826797385620915], 'IWLS Logistic Regression': [0.8116883116883117, 0.7968409586056644, 0.8244444444444444, 0.8032258064516129, 0.8766666666666667]}, 'Japanese Vowels': {'ADAM Logistic Regression': [1.0, 1.0, 1.0, 1.0, 1.0], 'SGD Logistic Regression': [1.0, 1.0, 1.0, 1.0, 1.0], 'IWLS Logistic Regression': [1.0, 1.0, 1.0, 1.0, 1.0]}}\n",
      "***Wind***\n",
      "\n",
      "\tADAM Logistic Regression\n"
     ]
    },
    {
     "name": "stderr",
     "output_type": "stream",
     "text": [
      "100%|██████████| 5/5 [00:02<00:00,  1.80it/s]\n"
     ]
    },
    {
     "name": "stdout",
     "output_type": "stream",
     "text": [
      "Balanced accuracy: 100.0%\n",
      "\n",
      "\n",
      "\tSGD Logistic Regression\n"
     ]
    },
    {
     "name": "stderr",
     "output_type": "stream",
     "text": [
      "100%|██████████| 5/5 [04:46<00:00, 57.34s/it]\n"
     ]
    },
    {
     "name": "stdout",
     "output_type": "stream",
     "text": [
      "Balanced accuracy: 100.0%\n",
      "\n",
      "\n",
      "\tIWLS Logistic Regression\n"
     ]
    },
    {
     "name": "stderr",
     "output_type": "stream",
     "text": [
      " 20%|██        | 1/5 [00:05<00:20,  5.03s/it]"
     ]
    },
    {
     "name": "stdout",
     "output_type": "stream",
     "text": [
      "Optimization converged after 21 iterations.\n"
     ]
    },
    {
     "name": "stderr",
     "output_type": "stream",
     "text": [
      " 40%|████      | 2/5 [00:09<00:14,  4.79s/it]"
     ]
    },
    {
     "name": "stdout",
     "output_type": "stream",
     "text": [
      "Optimization converged after 21 iterations.\n"
     ]
    },
    {
     "name": "stderr",
     "output_type": "stream",
     "text": [
      " 60%|██████    | 3/5 [00:14<00:09,  4.76s/it]"
     ]
    },
    {
     "name": "stdout",
     "output_type": "stream",
     "text": [
      "Optimization converged after 21 iterations.\n"
     ]
    },
    {
     "name": "stderr",
     "output_type": "stream",
     "text": [
      " 80%|████████  | 4/5 [00:20<00:05,  5.47s/it]"
     ]
    },
    {
     "name": "stdout",
     "output_type": "stream",
     "text": [
      "Optimization converged after 21 iterations.\n"
     ]
    },
    {
     "name": "stderr",
     "output_type": "stream",
     "text": [
      "100%|██████████| 5/5 [00:27<00:00,  5.46s/it]"
     ]
    },
    {
     "name": "stdout",
     "output_type": "stream",
     "text": [
      "Optimization converged after 21 iterations.\n",
      "Balanced accuracy: 100.0%\n",
      "\n",
      "\n",
      "{'Female bladder': {'ADAM Logistic Regression': [1.0, 1.0, 1.0, 1.0, 1.0], 'SGD Logistic Regression': [1.0, 1.0, 1.0, 1.0, 1.0], 'IWLS Logistic Regression': [1.0, 1.0, 1.0, 1.0, 1.0]}, 'Water Quality': {'ADAM Logistic Regression': [0.522105672105672, 0.5333333333333333, 0.5246149614961496, 0.5176171555451677, 0.504375], 'SGD Logistic Regression': [0.5049168543633489, 0.5359942944272293, 0.5041890224657849, 0.5073216699722723, 0.4934375], 'IWLS Logistic Regression': [0.5067509530473387, 0.5184930445228039, 0.5096875000000001, 0.5049422206852828, 0.4995270935960591]}, 'Ionosphere': {'ADAM Logistic Regression': [0.681060606060606, 0.7728174603174602, 0.753584229390681, 0.7213261648745519, 0.8353174603174602], 'SGD Logistic Regression': [0.6557539682539683, 0.8600746268656716, 0.825268817204301, 0.875, 0.6344086021505376], 'IWLS Logistic Regression': [0.5479910714285714, 0.7772727272727273, 0.6194196428571428, 0.6636904761904762, 0.6636904761904762]}, 'Heart Attack': {'ADAM Logistic Regression': [0.853763440860215, 0.8865591397849462, 0.8389008620689655, 0.8844086021505376, 0.849676724137931], 'SGD Logistic Regression': [0.8818082788671024, 0.7950549450549451, 0.8274725274725274, 0.7934065934065935, 0.7826797385620915], 'IWLS Logistic Regression': [0.8116883116883117, 0.7968409586056644, 0.8244444444444444, 0.8032258064516129, 0.8766666666666667]}, 'Japanese Vowels': {'ADAM Logistic Regression': [1.0, 1.0, 1.0, 1.0, 1.0], 'SGD Logistic Regression': [1.0, 1.0, 1.0, 1.0, 1.0], 'IWLS Logistic Regression': [1.0, 1.0, 1.0, 1.0, 1.0]}, 'Wind': {'ADAM Logistic Regression': [1.0, 1.0, 1.0, 1.0, 1.0], 'SGD Logistic Regression': [1.0, 1.0, 1.0, 1.0, 1.0], 'IWLS Logistic Regression': [1.0, 1.0, 1.0, 1.0, 1.0]}}\n"
     ]
    },
    {
     "name": "stderr",
     "output_type": "stream",
     "text": [
      "\n"
     ]
    }
   ],
   "source": [
    "n_runs = 5  # at least 5\n",
    "\n",
    "scaler = StandardScaler()\n",
    "dataset_performances = dict()\n",
    "all_performances = []\n",
    "\n",
    "\n",
    "for dataset_name, data in datasets.items():\n",
    "    print(f'***{dataset_name}***\\n')\n",
    "    X, y = data\n",
    "    models_performances = dict()\n",
    "    for name, model in models.items():\n",
    "        print(f'\\t{name}')\n",
    "        models_performances[name] = []\n",
    "        for _ in tqdm(range(n_runs)):\n",
    "            X_train, X_test, y_train, y_test = train_test_split(\n",
    "                X, y, test_size=0.2\n",
    "             )\n",
    "            \n",
    "            X_train_scaled = scaler.fit_transform(X_train)\n",
    "            X_test_scaled = scaler.transform(X_test)\n",
    "\n",
    "            model.fit(X_train_scaled, y_train)\n",
    "            predictions = model.predict(X_test_scaled)\n",
    "\n",
    "            accuracy = balanced_accuracy_score(y_test, predictions)\n",
    "            models_performances[name].append(accuracy)\n",
    "        \n",
    "        \n",
    "        print(f'Balanced accuracy: {round(mean(models_performances[name])*100, 2)}%\\n\\n')\n",
    "    dataset_performances[dataset_name] = models_performances\n",
    "    print(dataset_performances)"
   ]
  },
  {
   "cell_type": "code",
   "execution_count": 12,
   "metadata": {},
   "outputs": [
    {
     "name": "stdout",
     "output_type": "stream",
     "text": [
      "{'Female bladder': {'ADAM Logistic Regression': [1.0, 1.0, 1.0, 1.0, 1.0],\n",
      "                    'IWLS Logistic Regression': [1.0, 1.0, 1.0, 1.0, 1.0],\n",
      "                    'SGD Logistic Regression': [1.0, 1.0, 1.0, 1.0, 1.0]},\n",
      " 'Heart Attack': {'ADAM Logistic Regression': [0.853763440860215,\n",
      "                                               0.8865591397849462,\n",
      "                                               0.8389008620689655,\n",
      "                                               0.8844086021505376,\n",
      "                                               0.849676724137931],\n",
      "                  'IWLS Logistic Regression': [0.8116883116883117,\n",
      "                                               0.7968409586056644,\n",
      "                                               0.8244444444444444,\n",
      "                                               0.8032258064516129,\n",
      "                                               0.8766666666666667],\n",
      "                  'SGD Logistic Regression': [0.8818082788671024,\n",
      "                                              0.7950549450549451,\n",
      "                                              0.8274725274725274,\n",
      "                                              0.7934065934065935,\n",
      "                                              0.7826797385620915]},\n",
      " 'Ionosphere': {'ADAM Logistic Regression': [0.681060606060606,\n",
      "                                             0.7728174603174602,\n",
      "                                             0.753584229390681,\n",
      "                                             0.7213261648745519,\n",
      "                                             0.8353174603174602],\n",
      "                'IWLS Logistic Regression': [0.5479910714285714,\n",
      "                                             0.7772727272727273,\n",
      "                                             0.6194196428571428,\n",
      "                                             0.6636904761904762,\n",
      "                                             0.6636904761904762],\n",
      "                'SGD Logistic Regression': [0.6557539682539683,\n",
      "                                            0.8600746268656716,\n",
      "                                            0.825268817204301,\n",
      "                                            0.875,\n",
      "                                            0.6344086021505376]},\n",
      " 'Japanese Vowels': {'ADAM Logistic Regression': [1.0, 1.0, 1.0, 1.0, 1.0],\n",
      "                     'IWLS Logistic Regression': [1.0, 1.0, 1.0, 1.0, 1.0],\n",
      "                     'SGD Logistic Regression': [1.0, 1.0, 1.0, 1.0, 1.0]},\n",
      " 'Water Quality': {'ADAM Logistic Regression': [0.522105672105672,\n",
      "                                                0.5333333333333333,\n",
      "                                                0.5246149614961496,\n",
      "                                                0.5176171555451677,\n",
      "                                                0.504375],\n",
      "                   'IWLS Logistic Regression': [0.5067509530473387,\n",
      "                                                0.5184930445228039,\n",
      "                                                0.5096875000000001,\n",
      "                                                0.5049422206852828,\n",
      "                                                0.4995270935960591],\n",
      "                   'SGD Logistic Regression': [0.5049168543633489,\n",
      "                                               0.5359942944272293,\n",
      "                                               0.5041890224657849,\n",
      "                                               0.5073216699722723,\n",
      "                                               0.4934375]},\n",
      " 'Wind': {'ADAM Logistic Regression': [1.0, 1.0, 1.0, 1.0, 1.0],\n",
      "          'IWLS Logistic Regression': [1.0, 1.0, 1.0, 1.0, 1.0],\n",
      "          'SGD Logistic Regression': [1.0, 1.0, 1.0, 1.0, 1.0]}}\n"
     ]
    }
   ],
   "source": [
    "from pprint import pprint\n",
    "\n",
    "pprint(dataset_performances)"
   ]
  },
  {
   "cell_type": "code",
   "execution_count": 14,
   "metadata": {},
   "outputs": [],
   "source": [
    "import json\n",
    "\n",
    "with open('result.jsons', 'w') as fp:\n",
    "    json.dump(dataset_performances, fp, sort_keys=True, indent=4, separators=(',', ': '))"
   ]
  },
  {
   "cell_type": "code",
   "execution_count": null,
   "metadata": {},
   "outputs": [],
   "source": []
  }
 ],
 "metadata": {
  "kernelspec": {
   "display_name": "mini",
   "language": "python",
   "name": "python3"
  },
  "language_info": {
   "codemirror_mode": {
    "name": "ipython",
    "version": 3
   },
   "file_extension": ".py",
   "mimetype": "text/x-python",
   "name": "python",
   "nbconvert_exporter": "python",
   "pygments_lexer": "ipython3",
   "version": "3.12.2"
  }
 },
 "nbformat": 4,
 "nbformat_minor": 2
}
